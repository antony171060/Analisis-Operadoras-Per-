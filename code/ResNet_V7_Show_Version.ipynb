{
  "nbformat": 4,
  "nbformat_minor": 0,
  "metadata": {
    "colab": {
      "provenance": []
    },
    "kernelspec": {
      "name": "python3",
      "display_name": "Python 3"
    },
    "accelerator": "GPU",
    "widgets": {
      "application/vnd.jupyter.widget-state+json": {
        "83baee477b6f4151ba5c11fc0bc7945a": {
          "model_module": "@jupyter-widgets/controls",
          "model_name": "HBoxModel",
          "state": {
            "_view_name": "HBoxView",
            "_dom_classes": [],
            "_model_name": "HBoxModel",
            "_view_module": "@jupyter-widgets/controls",
            "_model_module_version": "1.5.0",
            "_view_count": null,
            "_view_module_version": "1.5.0",
            "box_style": "",
            "layout": "IPY_MODEL_9633c3146eba4953899f97673c96f109",
            "_model_module": "@jupyter-widgets/controls",
            "children": [
              "IPY_MODEL_33b5e9b61e464fa3b969e974c5f3933a",
              "IPY_MODEL_3471e9e13f5f4f81bbbc80c7814b1575"
            ]
          },
          "model_module_version": "1.5.0"
        },
        "9633c3146eba4953899f97673c96f109": {
          "model_module": "@jupyter-widgets/base",
          "model_name": "LayoutModel",
          "state": {
            "_view_name": "LayoutView",
            "grid_template_rows": null,
            "right": null,
            "justify_content": null,
            "_view_module": "@jupyter-widgets/base",
            "overflow": null,
            "_model_module_version": "1.2.0",
            "_view_count": null,
            "flex_flow": null,
            "width": null,
            "min_width": null,
            "border": null,
            "align_items": null,
            "bottom": null,
            "_model_module": "@jupyter-widgets/base",
            "top": null,
            "grid_column": null,
            "overflow_y": null,
            "overflow_x": null,
            "grid_auto_flow": null,
            "grid_area": null,
            "grid_template_columns": null,
            "flex": null,
            "_model_name": "LayoutModel",
            "justify_items": null,
            "grid_row": null,
            "max_height": null,
            "align_content": null,
            "visibility": null,
            "align_self": null,
            "height": null,
            "min_height": null,
            "padding": null,
            "grid_auto_rows": null,
            "grid_gap": null,
            "max_width": null,
            "order": null,
            "_view_module_version": "1.2.0",
            "grid_template_areas": null,
            "object_position": null,
            "object_fit": null,
            "grid_auto_columns": null,
            "margin": null,
            "display": null,
            "left": null
          },
          "model_module_version": "1.2.0"
        },
        "33b5e9b61e464fa3b969e974c5f3933a": {
          "model_module": "@jupyter-widgets/controls",
          "model_name": "FloatProgressModel",
          "state": {
            "_view_name": "ProgressView",
            "style": "IPY_MODEL_d5526c3c1078499bb78fd140e4ae2cec",
            "_dom_classes": [],
            "description": "100%",
            "_model_name": "FloatProgressModel",
            "bar_style": "success",
            "max": 46827520,
            "_view_module": "@jupyter-widgets/controls",
            "_model_module_version": "1.5.0",
            "value": 46827520,
            "_view_count": null,
            "_view_module_version": "1.5.0",
            "orientation": "horizontal",
            "min": 0,
            "description_tooltip": null,
            "_model_module": "@jupyter-widgets/controls",
            "layout": "IPY_MODEL_2704bebd00714c5883745621ec6e2053"
          },
          "model_module_version": "1.5.0"
        },
        "3471e9e13f5f4f81bbbc80c7814b1575": {
          "model_module": "@jupyter-widgets/controls",
          "model_name": "HTMLModel",
          "state": {
            "_view_name": "HTMLView",
            "style": "IPY_MODEL_4b54937ba9974f1ba81fc86b23c292e4",
            "_dom_classes": [],
            "description": "",
            "_model_name": "HTMLModel",
            "placeholder": "​",
            "_view_module": "@jupyter-widgets/controls",
            "_model_module_version": "1.5.0",
            "value": " 44.7M/44.7M [00:00&lt;00:00, 139MB/s]",
            "_view_count": null,
            "_view_module_version": "1.5.0",
            "description_tooltip": null,
            "_model_module": "@jupyter-widgets/controls",
            "layout": "IPY_MODEL_32258d268dfa473795ffaa987693e4ad"
          },
          "model_module_version": "1.5.0"
        },
        "d5526c3c1078499bb78fd140e4ae2cec": {
          "model_module": "@jupyter-widgets/controls",
          "model_name": "ProgressStyleModel",
          "state": {
            "_view_name": "StyleView",
            "_model_name": "ProgressStyleModel",
            "description_width": "initial",
            "_view_module": "@jupyter-widgets/base",
            "_model_module_version": "1.5.0",
            "_view_count": null,
            "_view_module_version": "1.2.0",
            "bar_color": null,
            "_model_module": "@jupyter-widgets/controls"
          },
          "model_module_version": "1.5.0"
        },
        "2704bebd00714c5883745621ec6e2053": {
          "model_module": "@jupyter-widgets/base",
          "model_name": "LayoutModel",
          "state": {
            "_view_name": "LayoutView",
            "grid_template_rows": null,
            "right": null,
            "justify_content": null,
            "_view_module": "@jupyter-widgets/base",
            "overflow": null,
            "_model_module_version": "1.2.0",
            "_view_count": null,
            "flex_flow": null,
            "width": null,
            "min_width": null,
            "border": null,
            "align_items": null,
            "bottom": null,
            "_model_module": "@jupyter-widgets/base",
            "top": null,
            "grid_column": null,
            "overflow_y": null,
            "overflow_x": null,
            "grid_auto_flow": null,
            "grid_area": null,
            "grid_template_columns": null,
            "flex": null,
            "_model_name": "LayoutModel",
            "justify_items": null,
            "grid_row": null,
            "max_height": null,
            "align_content": null,
            "visibility": null,
            "align_self": null,
            "height": null,
            "min_height": null,
            "padding": null,
            "grid_auto_rows": null,
            "grid_gap": null,
            "max_width": null,
            "order": null,
            "_view_module_version": "1.2.0",
            "grid_template_areas": null,
            "object_position": null,
            "object_fit": null,
            "grid_auto_columns": null,
            "margin": null,
            "display": null,
            "left": null
          },
          "model_module_version": "1.2.0"
        },
        "4b54937ba9974f1ba81fc86b23c292e4": {
          "model_module": "@jupyter-widgets/controls",
          "model_name": "DescriptionStyleModel",
          "state": {
            "_view_name": "StyleView",
            "_model_name": "DescriptionStyleModel",
            "description_width": "",
            "_view_module": "@jupyter-widgets/base",
            "_model_module_version": "1.5.0",
            "_view_count": null,
            "_view_module_version": "1.2.0",
            "_model_module": "@jupyter-widgets/controls"
          },
          "model_module_version": "1.5.0"
        },
        "32258d268dfa473795ffaa987693e4ad": {
          "model_module": "@jupyter-widgets/base",
          "model_name": "LayoutModel",
          "state": {
            "_view_name": "LayoutView",
            "grid_template_rows": null,
            "right": null,
            "justify_content": null,
            "_view_module": "@jupyter-widgets/base",
            "overflow": null,
            "_model_module_version": "1.2.0",
            "_view_count": null,
            "flex_flow": null,
            "width": null,
            "min_width": null,
            "border": null,
            "align_items": null,
            "bottom": null,
            "_model_module": "@jupyter-widgets/base",
            "top": null,
            "grid_column": null,
            "overflow_y": null,
            "overflow_x": null,
            "grid_auto_flow": null,
            "grid_area": null,
            "grid_template_columns": null,
            "flex": null,
            "_model_name": "LayoutModel",
            "justify_items": null,
            "grid_row": null,
            "max_height": null,
            "align_content": null,
            "visibility": null,
            "align_self": null,
            "height": null,
            "min_height": null,
            "padding": null,
            "grid_auto_rows": null,
            "grid_gap": null,
            "max_width": null,
            "order": null,
            "_view_module_version": "1.2.0",
            "grid_template_areas": null,
            "object_position": null,
            "object_fit": null,
            "grid_auto_columns": null,
            "margin": null,
            "display": null,
            "left": null
          },
          "model_module_version": "1.2.0"
        }
      }
    }
  },
  "cells": [
    {
      "cell_type": "code",
      "metadata": {
        "id": "b7-alfpXuq3u",
        "outputId": "f76d6b22-d3ca-4828-ce98-bbf20cf95337",
        "colab": {
          "base_uri": "https://localhost:8080/"
        }
      },
      "source": [
        "!pip install \"torch==1.4\" \"torchvision==0.5.0\""
      ],
      "execution_count": null,
      "outputs": [
        {
          "output_type": "stream",
          "text": [
            "Collecting torch==1.4\n",
            "\u001b[?25l  Downloading https://files.pythonhosted.org/packages/24/19/4804aea17cd136f1705a5e98a00618cb8f6ccc375ad8bfa437408e09d058/torch-1.4.0-cp36-cp36m-manylinux1_x86_64.whl (753.4MB)\n",
            "\u001b[K     |████████████████████████████████| 753.4MB 20kB/s \n",
            "\u001b[?25hCollecting torchvision==0.5.0\n",
            "\u001b[?25l  Downloading https://files.pythonhosted.org/packages/7e/90/6141bf41f5655c78e24f40f710fdd4f8a8aff6c8b7c6f0328240f649bdbe/torchvision-0.5.0-cp36-cp36m-manylinux1_x86_64.whl (4.0MB)\n",
            "\u001b[K     |████████████████████████████████| 4.0MB 47.1MB/s \n",
            "\u001b[?25hRequirement already satisfied: pillow>=4.1.1 in /usr/local/lib/python3.6/dist-packages (from torchvision==0.5.0) (7.0.0)\n",
            "Requirement already satisfied: numpy in /usr/local/lib/python3.6/dist-packages (from torchvision==0.5.0) (1.18.5)\n",
            "Requirement already satisfied: six in /usr/local/lib/python3.6/dist-packages (from torchvision==0.5.0) (1.15.0)\n",
            "Installing collected packages: torch, torchvision\n",
            "  Found existing installation: torch 1.7.0+cu101\n",
            "    Uninstalling torch-1.7.0+cu101:\n",
            "      Successfully uninstalled torch-1.7.0+cu101\n",
            "  Found existing installation: torchvision 0.8.1+cu101\n",
            "    Uninstalling torchvision-0.8.1+cu101:\n",
            "      Successfully uninstalled torchvision-0.8.1+cu101\n",
            "Successfully installed torch-1.4.0 torchvision-0.5.0\n"
          ],
          "name": "stdout"
        }
      ]
    },
    {
      "cell_type": "code",
      "metadata": {
        "id": "f-J1KiIzu2ZT"
      },
      "source": [
        "from fastai.vision import *"
      ],
      "execution_count": null,
      "outputs": []
    },
    {
      "cell_type": "code",
      "metadata": {
        "id": "5RmTRrgDCBIn",
        "outputId": "22edb98d-da4f-49f0-f478-192011b422db",
        "colab": {
          "base_uri": "https://localhost:8080/",
          "height": 35
        }
      },
      "source": [
        "import fastai; fastai.__version__"
      ],
      "execution_count": null,
      "outputs": [
        {
          "output_type": "execute_result",
          "data": {
            "application/vnd.google.colaboratory.intrinsic+json": {
              "type": "string"
            },
            "text/plain": [
              "'1.0.61'"
            ]
          },
          "metadata": {
            "tags": []
          },
          "execution_count": 7
        }
      ]
    },
    {
      "cell_type": "code",
      "metadata": {
        "id": "EPbNwpOxHoXA",
        "outputId": "95e529c1-a988-4ae1-e6e8-d12039c15baa",
        "colab": {
          "base_uri": "https://localhost:8080/"
        }
      },
      "source": [
        "from fastai.utils.show_install import *\n",
        "show_install()"
      ],
      "execution_count": null,
      "outputs": [
        {
          "output_type": "stream",
          "text": [
            "\n",
            "\n",
            "```text\n",
            "=== Software === \n",
            "python        : 3.6.9\n",
            "fastai        : 1.0.61\n",
            "fastprogress  : 0.2.7\n",
            "torch         : 1.4.0\n",
            "nvidia driver : 418.67\n",
            "torch cuda    : 10.1 / is available\n",
            "torch cudnn   : 7603 / is enabled\n",
            "\n",
            "=== Hardware === \n",
            "nvidia gpus   : 1\n",
            "torch devices : 1\n",
            "  - gpu0      : 15079MB | Tesla T4\n",
            "\n",
            "=== Environment === \n",
            "platform      : Linux-4.19.112+-x86_64-with-Ubuntu-18.04-bionic\n",
            "distro        : #1 SMP Thu Jul 23 08:00:38 PDT 2020\n",
            "conda env     : Unknown\n",
            "python        : /usr/bin/python3\n",
            "sys.path      : \n",
            "/env/python\n",
            "/usr/lib/python36.zip\n",
            "/usr/lib/python3.6\n",
            "/usr/lib/python3.6/lib-dynload\n",
            "/usr/local/lib/python3.6/dist-packages\n",
            "/usr/lib/python3/dist-packages\n",
            "/usr/local/lib/python3.6/dist-packages/IPython/extensions\n",
            "/root/.ipython\n",
            "```\n",
            "\n",
            "Please make sure to include opening/closing ``` when you paste into forums/github to make the reports appear formatted as code sections.\n",
            "\n",
            "Optional package(s) to enhance the diagnostics can be installed with:\n",
            "pip install distro\n",
            "Once installed, re-run this utility to get the additional information\n"
          ],
          "name": "stdout"
        }
      ]
    },
    {
      "cell_type": "code",
      "metadata": {
        "id": "oE9V_hyiITxV"
      },
      "source": [
        "path=\"/content/drive/My Drive/Clasificacion-Pistas/Version_3/Imagenes_V5/\"\n",
        "np.random.seed(5)\n",
        "data = ImageDataBunch.from_folder(path+'.',\n",
        "                                  train=path+'.',\n",
        "                                  valid_pct=0.2,\n",
        "                                  ds_tfms=get_transforms(),\n",
        "                                  size=224,\n",
        "                                  num_workers=4).normalize(imagenet_stats)"
      ],
      "execution_count": null,
      "outputs": []
    },
    {
      "cell_type": "code",
      "metadata": {
        "id": "7uZ997RkIxwl",
        "outputId": "27fe144f-1ecb-45e9-d3e8-83cb0e7cb188",
        "colab": {
          "base_uri": "https://localhost:8080/",
          "height": 103,
          "referenced_widgets": [
            "83baee477b6f4151ba5c11fc0bc7945a",
            "9633c3146eba4953899f97673c96f109",
            "33b5e9b61e464fa3b969e974c5f3933a",
            "3471e9e13f5f4f81bbbc80c7814b1575",
            "d5526c3c1078499bb78fd140e4ae2cec",
            "2704bebd00714c5883745621ec6e2053",
            "4b54937ba9974f1ba81fc86b23c292e4",
            "32258d268dfa473795ffaa987693e4ad"
          ]
        }
      },
      "source": [
        "from fastai.metrics import error_rate\n",
        "learn = cnn_learner(data, models.resnet18, metrics=accuracy,model_dir=\"/tmp/model/\")"
      ],
      "execution_count": null,
      "outputs": [
        {
          "output_type": "stream",
          "text": [
            "Downloading: \"https://download.pytorch.org/models/resnet18-5c106cde.pth\" to /root/.cache/torch/checkpoints/resnet18-5c106cde.pth\n"
          ],
          "name": "stderr"
        },
        {
          "output_type": "display_data",
          "data": {
            "application/vnd.jupyter.widget-view+json": {
              "model_id": "83baee477b6f4151ba5c11fc0bc7945a",
              "version_minor": 0,
              "version_major": 2
            },
            "text/plain": [
              "HBox(children=(FloatProgress(value=0.0, max=46827520.0), HTML(value='')))"
            ]
          },
          "metadata": {
            "tags": []
          }
        },
        {
          "output_type": "stream",
          "text": [
            "\n"
          ],
          "name": "stdout"
        }
      ]
    },
    {
      "cell_type": "code",
      "metadata": {
        "id": "QmkMln9FI1Kl",
        "outputId": "a21a4aac-e1d6-4b19-c823-cdbac63f0cd3",
        "colab": {
          "base_uri": "https://localhost:8080/",
          "height": 1000
        }
      },
      "source": [
        "learn.summary()"
      ],
      "execution_count": null,
      "outputs": [
        {
          "output_type": "execute_result",
          "data": {
            "application/vnd.google.colaboratory.intrinsic+json": {
              "type": "string"
            },
            "text/plain": [
              "Sequential\n",
              "======================================================================\n",
              "Layer (type)         Output Shape         Param #    Trainable \n",
              "======================================================================\n",
              "Conv2d               [64, 112, 112]       9,408      False     \n",
              "______________________________________________________________________\n",
              "BatchNorm2d          [64, 112, 112]       128        True      \n",
              "______________________________________________________________________\n",
              "ReLU                 [64, 112, 112]       0          False     \n",
              "______________________________________________________________________\n",
              "MaxPool2d            [64, 56, 56]         0          False     \n",
              "______________________________________________________________________\n",
              "Conv2d               [64, 56, 56]         36,864     False     \n",
              "______________________________________________________________________\n",
              "BatchNorm2d          [64, 56, 56]         128        True      \n",
              "______________________________________________________________________\n",
              "ReLU                 [64, 56, 56]         0          False     \n",
              "______________________________________________________________________\n",
              "Conv2d               [64, 56, 56]         36,864     False     \n",
              "______________________________________________________________________\n",
              "BatchNorm2d          [64, 56, 56]         128        True      \n",
              "______________________________________________________________________\n",
              "Conv2d               [64, 56, 56]         36,864     False     \n",
              "______________________________________________________________________\n",
              "BatchNorm2d          [64, 56, 56]         128        True      \n",
              "______________________________________________________________________\n",
              "ReLU                 [64, 56, 56]         0          False     \n",
              "______________________________________________________________________\n",
              "Conv2d               [64, 56, 56]         36,864     False     \n",
              "______________________________________________________________________\n",
              "BatchNorm2d          [64, 56, 56]         128        True      \n",
              "______________________________________________________________________\n",
              "Conv2d               [128, 28, 28]        73,728     False     \n",
              "______________________________________________________________________\n",
              "BatchNorm2d          [128, 28, 28]        256        True      \n",
              "______________________________________________________________________\n",
              "ReLU                 [128, 28, 28]        0          False     \n",
              "______________________________________________________________________\n",
              "Conv2d               [128, 28, 28]        147,456    False     \n",
              "______________________________________________________________________\n",
              "BatchNorm2d          [128, 28, 28]        256        True      \n",
              "______________________________________________________________________\n",
              "Conv2d               [128, 28, 28]        8,192      False     \n",
              "______________________________________________________________________\n",
              "BatchNorm2d          [128, 28, 28]        256        True      \n",
              "______________________________________________________________________\n",
              "Conv2d               [128, 28, 28]        147,456    False     \n",
              "______________________________________________________________________\n",
              "BatchNorm2d          [128, 28, 28]        256        True      \n",
              "______________________________________________________________________\n",
              "ReLU                 [128, 28, 28]        0          False     \n",
              "______________________________________________________________________\n",
              "Conv2d               [128, 28, 28]        147,456    False     \n",
              "______________________________________________________________________\n",
              "BatchNorm2d          [128, 28, 28]        256        True      \n",
              "______________________________________________________________________\n",
              "Conv2d               [256, 14, 14]        294,912    False     \n",
              "______________________________________________________________________\n",
              "BatchNorm2d          [256, 14, 14]        512        True      \n",
              "______________________________________________________________________\n",
              "ReLU                 [256, 14, 14]        0          False     \n",
              "______________________________________________________________________\n",
              "Conv2d               [256, 14, 14]        589,824    False     \n",
              "______________________________________________________________________\n",
              "BatchNorm2d          [256, 14, 14]        512        True      \n",
              "______________________________________________________________________\n",
              "Conv2d               [256, 14, 14]        32,768     False     \n",
              "______________________________________________________________________\n",
              "BatchNorm2d          [256, 14, 14]        512        True      \n",
              "______________________________________________________________________\n",
              "Conv2d               [256, 14, 14]        589,824    False     \n",
              "______________________________________________________________________\n",
              "BatchNorm2d          [256, 14, 14]        512        True      \n",
              "______________________________________________________________________\n",
              "ReLU                 [256, 14, 14]        0          False     \n",
              "______________________________________________________________________\n",
              "Conv2d               [256, 14, 14]        589,824    False     \n",
              "______________________________________________________________________\n",
              "BatchNorm2d          [256, 14, 14]        512        True      \n",
              "______________________________________________________________________\n",
              "Conv2d               [512, 7, 7]          1,179,648  False     \n",
              "______________________________________________________________________\n",
              "BatchNorm2d          [512, 7, 7]          1,024      True      \n",
              "______________________________________________________________________\n",
              "ReLU                 [512, 7, 7]          0          False     \n",
              "______________________________________________________________________\n",
              "Conv2d               [512, 7, 7]          2,359,296  False     \n",
              "______________________________________________________________________\n",
              "BatchNorm2d          [512, 7, 7]          1,024      True      \n",
              "______________________________________________________________________\n",
              "Conv2d               [512, 7, 7]          131,072    False     \n",
              "______________________________________________________________________\n",
              "BatchNorm2d          [512, 7, 7]          1,024      True      \n",
              "______________________________________________________________________\n",
              "Conv2d               [512, 7, 7]          2,359,296  False     \n",
              "______________________________________________________________________\n",
              "BatchNorm2d          [512, 7, 7]          1,024      True      \n",
              "______________________________________________________________________\n",
              "ReLU                 [512, 7, 7]          0          False     \n",
              "______________________________________________________________________\n",
              "Conv2d               [512, 7, 7]          2,359,296  False     \n",
              "______________________________________________________________________\n",
              "BatchNorm2d          [512, 7, 7]          1,024      True      \n",
              "______________________________________________________________________\n",
              "AdaptiveAvgPool2d    [512, 1, 1]          0          False     \n",
              "______________________________________________________________________\n",
              "AdaptiveMaxPool2d    [512, 1, 1]          0          False     \n",
              "______________________________________________________________________\n",
              "Flatten              [1024]               0          False     \n",
              "______________________________________________________________________\n",
              "BatchNorm1d          [1024]               2,048      True      \n",
              "______________________________________________________________________\n",
              "Dropout              [1024]               0          False     \n",
              "______________________________________________________________________\n",
              "Linear               [512]                524,800    True      \n",
              "______________________________________________________________________\n",
              "ReLU                 [512]                0          False     \n",
              "______________________________________________________________________\n",
              "BatchNorm1d          [512]                1,024      True      \n",
              "______________________________________________________________________\n",
              "Dropout              [512]                0          False     \n",
              "______________________________________________________________________\n",
              "Linear               [3]                  1,539      True      \n",
              "______________________________________________________________________\n",
              "\n",
              "Total params: 11,705,923\n",
              "Total trainable params: 539,011\n",
              "Total non-trainable params: 11,166,912\n",
              "Optimized with 'torch.optim.adam.Adam', betas=(0.9, 0.99)\n",
              "Using true weight decay as discussed in https://www.fast.ai/2018/07/02/adam-weight-decay/ \n",
              "Loss function : FlattenedLoss\n",
              "======================================================================\n",
              "Callbacks functions applied "
            ]
          },
          "metadata": {
            "tags": []
          },
          "execution_count": 14
        }
      ]
    }
  ]
}