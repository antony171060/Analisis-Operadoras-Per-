{
  "nbformat": 4,
  "nbformat_minor": 0,
  "metadata": {
    "colab": {
      "provenance": [],
      "collapsed_sections": [
        "0y_d1Z1Crh-9",
        "dOpdvU-BrmaX",
        "hOO4ovtH-XiS",
        "2JiKXgP-_03C",
        "OtLWu_HYEj5R",
        "Ll-kceNLE8tL",
        "vo-QjqbhFg8T",
        "bnq4a3BCFn6l",
        "vputlx9eFg8U",
        "Nph0cwlbFg8W",
        "sNPVIU9MFg8Y",
        "zTWkQqX9Fg8a"
      ]
    },
    "kernelspec": {
      "name": "python3",
      "display_name": "Python 3"
    },
    "language_info": {
      "name": "python"
    }
  },
  "cells": [
    {
      "cell_type": "code",
      "source": [
        "!pip uninstall scikit-learn\n",
        "!pip install scikit-learn==0.24.2"
      ],
      "metadata": {
        "colab": {
          "base_uri": "https://localhost:8080/"
        },
        "id": "FO2uvusXDFxm",
        "outputId": "28914ce9-463d-4f59-e866-4b3340f971f9"
      },
      "execution_count": null,
      "outputs": [
        {
          "output_type": "stream",
          "name": "stdout",
          "text": [
            "Found existing installation: scikit-learn 1.0.2\n",
            "Uninstalling scikit-learn-1.0.2:\n",
            "  Would remove:\n",
            "    /usr/local/lib/python3.7/dist-packages/scikit_learn-1.0.2.dist-info/*\n",
            "    /usr/local/lib/python3.7/dist-packages/scikit_learn.libs/libgomp-a34b3233.so.1.0.0\n",
            "    /usr/local/lib/python3.7/dist-packages/sklearn/*\n",
            "Proceed (y/n)? y\n",
            "  Successfully uninstalled scikit-learn-1.0.2\n",
            "Looking in indexes: https://pypi.org/simple, https://us-python.pkg.dev/colab-wheels/public/simple/\n",
            "Collecting scikit-learn==0.24.2\n",
            "  Downloading scikit_learn-0.24.2-cp37-cp37m-manylinux2010_x86_64.whl (22.3 MB)\n",
            "\u001b[K     |████████████████████████████████| 22.3 MB 1.9 MB/s \n",
            "\u001b[?25hRequirement already satisfied: scipy>=0.19.1 in /usr/local/lib/python3.7/dist-packages (from scikit-learn==0.24.2) (1.4.1)\n",
            "Requirement already satisfied: threadpoolctl>=2.0.0 in /usr/local/lib/python3.7/dist-packages (from scikit-learn==0.24.2) (3.1.0)\n",
            "Requirement already satisfied: numpy>=1.13.3 in /usr/local/lib/python3.7/dist-packages (from scikit-learn==0.24.2) (1.21.6)\n",
            "Requirement already satisfied: joblib>=0.11 in /usr/local/lib/python3.7/dist-packages (from scikit-learn==0.24.2) (1.1.0)\n",
            "Installing collected packages: scikit-learn\n",
            "\u001b[31mERROR: pip's dependency resolver does not currently take into account all the packages that are installed. This behaviour is the source of the following dependency conflicts.\n",
            "yellowbrick 1.4 requires scikit-learn>=1.0.0, but you have scikit-learn 0.24.2 which is incompatible.\u001b[0m\n",
            "Successfully installed scikit-learn-0.24.2\n"
          ]
        }
      ]
    },
    {
      "cell_type": "markdown",
      "metadata": {
        "id": "0y_d1Z1Crh-9"
      },
      "source": [
        "##Preprocesamiento - Data"
      ]
    },
    {
      "cell_type": "code",
      "metadata": {
        "id": "dAQRjiJ9Afdo"
      },
      "source": [
        "#Descargar excel desde link de Drive\n",
        "!gdown --id 1s9jAV8BDz3eUo8sV9R0pmXEQbTurf-gd"
      ],
      "execution_count": null,
      "outputs": []
    },
    {
      "cell_type": "code",
      "metadata": {
        "id": "PZkdY8RHJBVn"
      },
      "source": [
        "import pandas as pd"
      ],
      "execution_count": null,
      "outputs": []
    },
    {
      "cell_type": "code",
      "metadata": {
        "colab": {
          "base_uri": "https://localhost:8080/"
        },
        "id": "XA3gyFfbJPjO",
        "outputId": "237530c6-966a-412d-a397-0d59cd77a05a"
      },
      "source": [
        "data = pd.read_excel(\"Data-Osiptel.xlsx\", sheet_name=\"Telefonica\")\n",
        "data.head(5)"
      ],
      "execution_count": null,
      "outputs": [
        {
          "output_type": "execute_result",
          "data": {
            "text/plain": [
              "   AÑO  Mes  N° de horas sin sistema de atención al mes    \\\n",
              "0    1    9                                          0.00   \n",
              "1    1   10                                          0.00   \n",
              "2    1   11                                          0.00   \n",
              "3    1   12                                         10.56   \n",
              "4    1    1                                          0.00   \n",
              "\n",
              "   N° total de horas de atención al mes    CSA%  \\\n",
              "0                                8529.0  0.0000   \n",
              "1                               26209.5  0.0000   \n",
              "2                               25691.0  0.0000   \n",
              "3                               26503.0  0.0004   \n",
              "4                               26881.0  0.0000   \n",
              "\n",
              "   Nº DE USUARIOS QUE DESISTIERON DE LA ATENCIÓN AL MES  \\\n",
              "0                                               4370      \n",
              "1                                              26101      \n",
              "2                                              29482      \n",
              "3                                              32598      \n",
              "4                                              29384      \n",
              "\n",
              "   Nº TOTAL DE USUARIOS ATENDIDOS AL MES   DAP (%)  \\\n",
              "0                                  99252  0.044029   \n",
              "1                                 596323  0.043770   \n",
              "2                                 585633  0.050342   \n",
              "3                                 607136  0.053691   \n",
              "4                                 613609  0.047887   \n",
              "\n",
              "   Nº DE LLAMADAS NO FINALIZADAS POR EL USUARIO  \\\n",
              "0                                         88128   \n",
              "1                                        326554   \n",
              "2                                        249708   \n",
              "3                                        308521   \n",
              "4                                        347867   \n",
              "\n",
              "   Nº TOTAL DE LLAMADAS ATENDIDAS  CAT (%)  Reclamos  Bajas  Consultas  Altas  \n",
              "0                         1677328   0.0525      0.76   0.79       0.78   0.95  \n",
              "1                         5340026   0.0612      0.74   0.76       0.78   0.94  \n",
              "2                         4016975   0.0622      0.72   0.70       0.74   0.92  \n",
              "3                         4263226   0.0724      0.69   0.67       0.71   0.93  \n",
              "4                         4100981   0.0848      0.67   0.69       0.74   0.91  "
            ],
            "text/html": [
              "\n",
              "  <div id=\"df-ea795404-262c-4b94-85a0-88516740fe5a\">\n",
              "    <div class=\"colab-df-container\">\n",
              "      <div>\n",
              "<style scoped>\n",
              "    .dataframe tbody tr th:only-of-type {\n",
              "        vertical-align: middle;\n",
              "    }\n",
              "\n",
              "    .dataframe tbody tr th {\n",
              "        vertical-align: top;\n",
              "    }\n",
              "\n",
              "    .dataframe thead th {\n",
              "        text-align: right;\n",
              "    }\n",
              "</style>\n",
              "<table border=\"1\" class=\"dataframe\">\n",
              "  <thead>\n",
              "    <tr style=\"text-align: right;\">\n",
              "      <th></th>\n",
              "      <th>AÑO</th>\n",
              "      <th>Mes</th>\n",
              "      <th>N° de horas sin sistema de atención al mes</th>\n",
              "      <th>N° total de horas de atención al mes</th>\n",
              "      <th>CSA%</th>\n",
              "      <th>Nº DE USUARIOS QUE DESISTIERON DE LA ATENCIÓN AL MES</th>\n",
              "      <th>Nº TOTAL DE USUARIOS ATENDIDOS AL MES</th>\n",
              "      <th>DAP (%)</th>\n",
              "      <th>Nº DE LLAMADAS NO FINALIZADAS POR EL USUARIO</th>\n",
              "      <th>Nº TOTAL DE LLAMADAS ATENDIDAS</th>\n",
              "      <th>CAT (%)</th>\n",
              "      <th>Reclamos</th>\n",
              "      <th>Bajas</th>\n",
              "      <th>Consultas</th>\n",
              "      <th>Altas</th>\n",
              "    </tr>\n",
              "  </thead>\n",
              "  <tbody>\n",
              "    <tr>\n",
              "      <th>0</th>\n",
              "      <td>1</td>\n",
              "      <td>9</td>\n",
              "      <td>0.00</td>\n",
              "      <td>8529.0</td>\n",
              "      <td>0.0000</td>\n",
              "      <td>4370</td>\n",
              "      <td>99252</td>\n",
              "      <td>0.044029</td>\n",
              "      <td>88128</td>\n",
              "      <td>1677328</td>\n",
              "      <td>0.0525</td>\n",
              "      <td>0.76</td>\n",
              "      <td>0.79</td>\n",
              "      <td>0.78</td>\n",
              "      <td>0.95</td>\n",
              "    </tr>\n",
              "    <tr>\n",
              "      <th>1</th>\n",
              "      <td>1</td>\n",
              "      <td>10</td>\n",
              "      <td>0.00</td>\n",
              "      <td>26209.5</td>\n",
              "      <td>0.0000</td>\n",
              "      <td>26101</td>\n",
              "      <td>596323</td>\n",
              "      <td>0.043770</td>\n",
              "      <td>326554</td>\n",
              "      <td>5340026</td>\n",
              "      <td>0.0612</td>\n",
              "      <td>0.74</td>\n",
              "      <td>0.76</td>\n",
              "      <td>0.78</td>\n",
              "      <td>0.94</td>\n",
              "    </tr>\n",
              "    <tr>\n",
              "      <th>2</th>\n",
              "      <td>1</td>\n",
              "      <td>11</td>\n",
              "      <td>0.00</td>\n",
              "      <td>25691.0</td>\n",
              "      <td>0.0000</td>\n",
              "      <td>29482</td>\n",
              "      <td>585633</td>\n",
              "      <td>0.050342</td>\n",
              "      <td>249708</td>\n",
              "      <td>4016975</td>\n",
              "      <td>0.0622</td>\n",
              "      <td>0.72</td>\n",
              "      <td>0.70</td>\n",
              "      <td>0.74</td>\n",
              "      <td>0.92</td>\n",
              "    </tr>\n",
              "    <tr>\n",
              "      <th>3</th>\n",
              "      <td>1</td>\n",
              "      <td>12</td>\n",
              "      <td>10.56</td>\n",
              "      <td>26503.0</td>\n",
              "      <td>0.0004</td>\n",
              "      <td>32598</td>\n",
              "      <td>607136</td>\n",
              "      <td>0.053691</td>\n",
              "      <td>308521</td>\n",
              "      <td>4263226</td>\n",
              "      <td>0.0724</td>\n",
              "      <td>0.69</td>\n",
              "      <td>0.67</td>\n",
              "      <td>0.71</td>\n",
              "      <td>0.93</td>\n",
              "    </tr>\n",
              "    <tr>\n",
              "      <th>4</th>\n",
              "      <td>1</td>\n",
              "      <td>1</td>\n",
              "      <td>0.00</td>\n",
              "      <td>26881.0</td>\n",
              "      <td>0.0000</td>\n",
              "      <td>29384</td>\n",
              "      <td>613609</td>\n",
              "      <td>0.047887</td>\n",
              "      <td>347867</td>\n",
              "      <td>4100981</td>\n",
              "      <td>0.0848</td>\n",
              "      <td>0.67</td>\n",
              "      <td>0.69</td>\n",
              "      <td>0.74</td>\n",
              "      <td>0.91</td>\n",
              "    </tr>\n",
              "  </tbody>\n",
              "</table>\n",
              "</div>\n",
              "      <button class=\"colab-df-convert\" onclick=\"convertToInteractive('df-ea795404-262c-4b94-85a0-88516740fe5a')\"\n",
              "              title=\"Convert this dataframe to an interactive table.\"\n",
              "              style=\"display:none;\">\n",
              "        \n",
              "  <svg xmlns=\"http://www.w3.org/2000/svg\" height=\"24px\"viewBox=\"0 0 24 24\"\n",
              "       width=\"24px\">\n",
              "    <path d=\"M0 0h24v24H0V0z\" fill=\"none\"/>\n",
              "    <path d=\"M18.56 5.44l.94 2.06.94-2.06 2.06-.94-2.06-.94-.94-2.06-.94 2.06-2.06.94zm-11 1L8.5 8.5l.94-2.06 2.06-.94-2.06-.94L8.5 2.5l-.94 2.06-2.06.94zm10 10l.94 2.06.94-2.06 2.06-.94-2.06-.94-.94-2.06-.94 2.06-2.06.94z\"/><path d=\"M17.41 7.96l-1.37-1.37c-.4-.4-.92-.59-1.43-.59-.52 0-1.04.2-1.43.59L10.3 9.45l-7.72 7.72c-.78.78-.78 2.05 0 2.83L4 21.41c.39.39.9.59 1.41.59.51 0 1.02-.2 1.41-.59l7.78-7.78 2.81-2.81c.8-.78.8-2.07 0-2.86zM5.41 20L4 18.59l7.72-7.72 1.47 1.35L5.41 20z\"/>\n",
              "  </svg>\n",
              "      </button>\n",
              "      \n",
              "  <style>\n",
              "    .colab-df-container {\n",
              "      display:flex;\n",
              "      flex-wrap:wrap;\n",
              "      gap: 12px;\n",
              "    }\n",
              "\n",
              "    .colab-df-convert {\n",
              "      background-color: #E8F0FE;\n",
              "      border: none;\n",
              "      border-radius: 50%;\n",
              "      cursor: pointer;\n",
              "      display: none;\n",
              "      fill: #1967D2;\n",
              "      height: 32px;\n",
              "      padding: 0 0 0 0;\n",
              "      width: 32px;\n",
              "    }\n",
              "\n",
              "    .colab-df-convert:hover {\n",
              "      background-color: #E2EBFA;\n",
              "      box-shadow: 0px 1px 2px rgba(60, 64, 67, 0.3), 0px 1px 3px 1px rgba(60, 64, 67, 0.15);\n",
              "      fill: #174EA6;\n",
              "    }\n",
              "\n",
              "    [theme=dark] .colab-df-convert {\n",
              "      background-color: #3B4455;\n",
              "      fill: #D2E3FC;\n",
              "    }\n",
              "\n",
              "    [theme=dark] .colab-df-convert:hover {\n",
              "      background-color: #434B5C;\n",
              "      box-shadow: 0px 1px 3px 1px rgba(0, 0, 0, 0.15);\n",
              "      filter: drop-shadow(0px 1px 2px rgba(0, 0, 0, 0.3));\n",
              "      fill: #FFFFFF;\n",
              "    }\n",
              "  </style>\n",
              "\n",
              "      <script>\n",
              "        const buttonEl =\n",
              "          document.querySelector('#df-ea795404-262c-4b94-85a0-88516740fe5a button.colab-df-convert');\n",
              "        buttonEl.style.display =\n",
              "          google.colab.kernel.accessAllowed ? 'block' : 'none';\n",
              "\n",
              "        async function convertToInteractive(key) {\n",
              "          const element = document.querySelector('#df-ea795404-262c-4b94-85a0-88516740fe5a');\n",
              "          const dataTable =\n",
              "            await google.colab.kernel.invokeFunction('convertToInteractive',\n",
              "                                                     [key], {});\n",
              "          if (!dataTable) return;\n",
              "\n",
              "          const docLinkHtml = 'Like what you see? Visit the ' +\n",
              "            '<a target=\"_blank\" href=https://colab.research.google.com/notebooks/data_table.ipynb>data table notebook</a>'\n",
              "            + ' to learn more about interactive tables.';\n",
              "          element.innerHTML = '';\n",
              "          dataTable['output_type'] = 'display_data';\n",
              "          await google.colab.output.renderOutput(dataTable, element);\n",
              "          const docLink = document.createElement('div');\n",
              "          docLink.innerHTML = docLinkHtml;\n",
              "          element.appendChild(docLink);\n",
              "        }\n",
              "      </script>\n",
              "    </div>\n",
              "  </div>\n",
              "  "
            ]
          },
          "metadata": {},
          "execution_count": 4
        }
      ]
    },
    {
      "cell_type": "code",
      "metadata": {
        "colab": {
          "base_uri": "https://localhost:8080/"
        },
        "id": "A4ZsQuCvLqUX",
        "outputId": "b40add9d-ad9b-4f79-aa31-7a649f373a1b"
      },
      "source": [
        "data[\"Reclamos\"]"
      ],
      "execution_count": null,
      "outputs": [
        {
          "output_type": "execute_result",
          "data": {
            "text/plain": [
              "0     0.76\n",
              "1     0.74\n",
              "2     0.72\n",
              "3     0.69\n",
              "4     0.67\n",
              "5     0.72\n",
              "6     0.72\n",
              "7     0.67\n",
              "8     0.77\n",
              "9     0.78\n",
              "10    0.77\n",
              "11    0.76\n",
              "12    0.81\n",
              "13    0.83\n",
              "14    0.82\n",
              "15    0.74\n",
              "16    0.79\n",
              "17    0.77\n",
              "18    0.80\n",
              "19    0.81\n",
              "20    0.84\n",
              "21    0.78\n",
              "22    0.75\n",
              "23    0.56\n",
              "24    0.65\n",
              "25    0.82\n",
              "26    0.83\n",
              "27    0.84\n",
              "28    0.69\n",
              "29    0.73\n",
              "30    0.81\n",
              "31    0.70\n",
              "32    0.81\n",
              "33    0.87\n",
              "34    0.86\n",
              "35    0.80\n",
              "36    0.86\n",
              "37    0.88\n",
              "38    0.79\n",
              "39    0.80\n",
              "40    0.80\n",
              "41    0.80\n",
              "42    0.71\n",
              "43    0.70\n",
              "Name: Reclamos, dtype: float64"
            ]
          },
          "metadata": {},
          "execution_count": 5
        }
      ]
    },
    {
      "cell_type": "code",
      "metadata": {
        "id": "rmPPG7AaLhJG"
      },
      "source": [
        "bins = [0.00, 0.20, 0.40, 0.60, 0.80, 1.0]\n",
        "names = [\"1\", \"2\", \"3\", \"4\", \"5\"]"
      ],
      "execution_count": null,
      "outputs": []
    },
    {
      "cell_type": "code",
      "metadata": {
        "colab": {
          "base_uri": "https://localhost:8080/"
        },
        "id": "rkO18PphLjAQ",
        "outputId": "857aa12a-7cdf-43e8-c204-31a7710fbae3"
      },
      "source": [
        "data[\"Reclamos-Cat\"] = pd.cut(data[\"Reclamos\"], bins, labels = names)\n",
        "data[[\"Reclamos\", \"Reclamos-Cat\"]].head(5)"
      ],
      "execution_count": null,
      "outputs": [
        {
          "output_type": "execute_result",
          "data": {
            "text/plain": [
              "   Reclamos Reclamos-Cat\n",
              "0      0.76            4\n",
              "1      0.74            4\n",
              "2      0.72            4\n",
              "3      0.69            4\n",
              "4      0.67            4"
            ],
            "text/html": [
              "\n",
              "  <div id=\"df-802719ab-879b-4099-953d-9e8befef89ca\">\n",
              "    <div class=\"colab-df-container\">\n",
              "      <div>\n",
              "<style scoped>\n",
              "    .dataframe tbody tr th:only-of-type {\n",
              "        vertical-align: middle;\n",
              "    }\n",
              "\n",
              "    .dataframe tbody tr th {\n",
              "        vertical-align: top;\n",
              "    }\n",
              "\n",
              "    .dataframe thead th {\n",
              "        text-align: right;\n",
              "    }\n",
              "</style>\n",
              "<table border=\"1\" class=\"dataframe\">\n",
              "  <thead>\n",
              "    <tr style=\"text-align: right;\">\n",
              "      <th></th>\n",
              "      <th>Reclamos</th>\n",
              "      <th>Reclamos-Cat</th>\n",
              "    </tr>\n",
              "  </thead>\n",
              "  <tbody>\n",
              "    <tr>\n",
              "      <th>0</th>\n",
              "      <td>0.76</td>\n",
              "      <td>4</td>\n",
              "    </tr>\n",
              "    <tr>\n",
              "      <th>1</th>\n",
              "      <td>0.74</td>\n",
              "      <td>4</td>\n",
              "    </tr>\n",
              "    <tr>\n",
              "      <th>2</th>\n",
              "      <td>0.72</td>\n",
              "      <td>4</td>\n",
              "    </tr>\n",
              "    <tr>\n",
              "      <th>3</th>\n",
              "      <td>0.69</td>\n",
              "      <td>4</td>\n",
              "    </tr>\n",
              "    <tr>\n",
              "      <th>4</th>\n",
              "      <td>0.67</td>\n",
              "      <td>4</td>\n",
              "    </tr>\n",
              "  </tbody>\n",
              "</table>\n",
              "</div>\n",
              "      <button class=\"colab-df-convert\" onclick=\"convertToInteractive('df-802719ab-879b-4099-953d-9e8befef89ca')\"\n",
              "              title=\"Convert this dataframe to an interactive table.\"\n",
              "              style=\"display:none;\">\n",
              "        \n",
              "  <svg xmlns=\"http://www.w3.org/2000/svg\" height=\"24px\"viewBox=\"0 0 24 24\"\n",
              "       width=\"24px\">\n",
              "    <path d=\"M0 0h24v24H0V0z\" fill=\"none\"/>\n",
              "    <path d=\"M18.56 5.44l.94 2.06.94-2.06 2.06-.94-2.06-.94-.94-2.06-.94 2.06-2.06.94zm-11 1L8.5 8.5l.94-2.06 2.06-.94-2.06-.94L8.5 2.5l-.94 2.06-2.06.94zm10 10l.94 2.06.94-2.06 2.06-.94-2.06-.94-.94-2.06-.94 2.06-2.06.94z\"/><path d=\"M17.41 7.96l-1.37-1.37c-.4-.4-.92-.59-1.43-.59-.52 0-1.04.2-1.43.59L10.3 9.45l-7.72 7.72c-.78.78-.78 2.05 0 2.83L4 21.41c.39.39.9.59 1.41.59.51 0 1.02-.2 1.41-.59l7.78-7.78 2.81-2.81c.8-.78.8-2.07 0-2.86zM5.41 20L4 18.59l7.72-7.72 1.47 1.35L5.41 20z\"/>\n",
              "  </svg>\n",
              "      </button>\n",
              "      \n",
              "  <style>\n",
              "    .colab-df-container {\n",
              "      display:flex;\n",
              "      flex-wrap:wrap;\n",
              "      gap: 12px;\n",
              "    }\n",
              "\n",
              "    .colab-df-convert {\n",
              "      background-color: #E8F0FE;\n",
              "      border: none;\n",
              "      border-radius: 50%;\n",
              "      cursor: pointer;\n",
              "      display: none;\n",
              "      fill: #1967D2;\n",
              "      height: 32px;\n",
              "      padding: 0 0 0 0;\n",
              "      width: 32px;\n",
              "    }\n",
              "\n",
              "    .colab-df-convert:hover {\n",
              "      background-color: #E2EBFA;\n",
              "      box-shadow: 0px 1px 2px rgba(60, 64, 67, 0.3), 0px 1px 3px 1px rgba(60, 64, 67, 0.15);\n",
              "      fill: #174EA6;\n",
              "    }\n",
              "\n",
              "    [theme=dark] .colab-df-convert {\n",
              "      background-color: #3B4455;\n",
              "      fill: #D2E3FC;\n",
              "    }\n",
              "\n",
              "    [theme=dark] .colab-df-convert:hover {\n",
              "      background-color: #434B5C;\n",
              "      box-shadow: 0px 1px 3px 1px rgba(0, 0, 0, 0.15);\n",
              "      filter: drop-shadow(0px 1px 2px rgba(0, 0, 0, 0.3));\n",
              "      fill: #FFFFFF;\n",
              "    }\n",
              "  </style>\n",
              "\n",
              "      <script>\n",
              "        const buttonEl =\n",
              "          document.querySelector('#df-802719ab-879b-4099-953d-9e8befef89ca button.colab-df-convert');\n",
              "        buttonEl.style.display =\n",
              "          google.colab.kernel.accessAllowed ? 'block' : 'none';\n",
              "\n",
              "        async function convertToInteractive(key) {\n",
              "          const element = document.querySelector('#df-802719ab-879b-4099-953d-9e8befef89ca');\n",
              "          const dataTable =\n",
              "            await google.colab.kernel.invokeFunction('convertToInteractive',\n",
              "                                                     [key], {});\n",
              "          if (!dataTable) return;\n",
              "\n",
              "          const docLinkHtml = 'Like what you see? Visit the ' +\n",
              "            '<a target=\"_blank\" href=https://colab.research.google.com/notebooks/data_table.ipynb>data table notebook</a>'\n",
              "            + ' to learn more about interactive tables.';\n",
              "          element.innerHTML = '';\n",
              "          dataTable['output_type'] = 'display_data';\n",
              "          await google.colab.output.renderOutput(dataTable, element);\n",
              "          const docLink = document.createElement('div');\n",
              "          docLink.innerHTML = docLinkHtml;\n",
              "          element.appendChild(docLink);\n",
              "        }\n",
              "      </script>\n",
              "    </div>\n",
              "  </div>\n",
              "  "
            ]
          },
          "metadata": {},
          "execution_count": 7
        }
      ]
    },
    {
      "cell_type": "code",
      "metadata": {
        "colab": {
          "base_uri": "https://localhost:8080/"
        },
        "id": "rKxdKTO-rt2s",
        "outputId": "398ac166-60f1-468c-9e24-11cf64ac955f"
      },
      "source": [
        "data = data.drop(['Reclamos'], axis=1)\n",
        "data.head(5)"
      ],
      "execution_count": null,
      "outputs": [
        {
          "output_type": "execute_result",
          "data": {
            "text/plain": [
              "   AÑO  Mes  N° de horas sin sistema de atención al mes    \\\n",
              "0    1    9                                          0.00   \n",
              "1    1   10                                          0.00   \n",
              "2    1   11                                          0.00   \n",
              "3    1   12                                         10.56   \n",
              "4    1    1                                          0.00   \n",
              "\n",
              "   N° total de horas de atención al mes    CSA%  \\\n",
              "0                                8529.0  0.0000   \n",
              "1                               26209.5  0.0000   \n",
              "2                               25691.0  0.0000   \n",
              "3                               26503.0  0.0004   \n",
              "4                               26881.0  0.0000   \n",
              "\n",
              "   Nº DE USUARIOS QUE DESISTIERON DE LA ATENCIÓN AL MES  \\\n",
              "0                                               4370      \n",
              "1                                              26101      \n",
              "2                                              29482      \n",
              "3                                              32598      \n",
              "4                                              29384      \n",
              "\n",
              "   Nº TOTAL DE USUARIOS ATENDIDOS AL MES   DAP (%)  \\\n",
              "0                                  99252  0.044029   \n",
              "1                                 596323  0.043770   \n",
              "2                                 585633  0.050342   \n",
              "3                                 607136  0.053691   \n",
              "4                                 613609  0.047887   \n",
              "\n",
              "   Nº DE LLAMADAS NO FINALIZADAS POR EL USUARIO  \\\n",
              "0                                         88128   \n",
              "1                                        326554   \n",
              "2                                        249708   \n",
              "3                                        308521   \n",
              "4                                        347867   \n",
              "\n",
              "   Nº TOTAL DE LLAMADAS ATENDIDAS  CAT (%)  Bajas  Consultas  Altas  \\\n",
              "0                         1677328   0.0525   0.79       0.78   0.95   \n",
              "1                         5340026   0.0612   0.76       0.78   0.94   \n",
              "2                         4016975   0.0622   0.70       0.74   0.92   \n",
              "3                         4263226   0.0724   0.67       0.71   0.93   \n",
              "4                         4100981   0.0848   0.69       0.74   0.91   \n",
              "\n",
              "  Reclamos-Cat  \n",
              "0            4  \n",
              "1            4  \n",
              "2            4  \n",
              "3            4  \n",
              "4            4  "
            ],
            "text/html": [
              "\n",
              "  <div id=\"df-f60144fe-ecee-40f6-94fe-abdb270864c9\">\n",
              "    <div class=\"colab-df-container\">\n",
              "      <div>\n",
              "<style scoped>\n",
              "    .dataframe tbody tr th:only-of-type {\n",
              "        vertical-align: middle;\n",
              "    }\n",
              "\n",
              "    .dataframe tbody tr th {\n",
              "        vertical-align: top;\n",
              "    }\n",
              "\n",
              "    .dataframe thead th {\n",
              "        text-align: right;\n",
              "    }\n",
              "</style>\n",
              "<table border=\"1\" class=\"dataframe\">\n",
              "  <thead>\n",
              "    <tr style=\"text-align: right;\">\n",
              "      <th></th>\n",
              "      <th>AÑO</th>\n",
              "      <th>Mes</th>\n",
              "      <th>N° de horas sin sistema de atención al mes</th>\n",
              "      <th>N° total de horas de atención al mes</th>\n",
              "      <th>CSA%</th>\n",
              "      <th>Nº DE USUARIOS QUE DESISTIERON DE LA ATENCIÓN AL MES</th>\n",
              "      <th>Nº TOTAL DE USUARIOS ATENDIDOS AL MES</th>\n",
              "      <th>DAP (%)</th>\n",
              "      <th>Nº DE LLAMADAS NO FINALIZADAS POR EL USUARIO</th>\n",
              "      <th>Nº TOTAL DE LLAMADAS ATENDIDAS</th>\n",
              "      <th>CAT (%)</th>\n",
              "      <th>Bajas</th>\n",
              "      <th>Consultas</th>\n",
              "      <th>Altas</th>\n",
              "      <th>Reclamos-Cat</th>\n",
              "    </tr>\n",
              "  </thead>\n",
              "  <tbody>\n",
              "    <tr>\n",
              "      <th>0</th>\n",
              "      <td>1</td>\n",
              "      <td>9</td>\n",
              "      <td>0.00</td>\n",
              "      <td>8529.0</td>\n",
              "      <td>0.0000</td>\n",
              "      <td>4370</td>\n",
              "      <td>99252</td>\n",
              "      <td>0.044029</td>\n",
              "      <td>88128</td>\n",
              "      <td>1677328</td>\n",
              "      <td>0.0525</td>\n",
              "      <td>0.79</td>\n",
              "      <td>0.78</td>\n",
              "      <td>0.95</td>\n",
              "      <td>4</td>\n",
              "    </tr>\n",
              "    <tr>\n",
              "      <th>1</th>\n",
              "      <td>1</td>\n",
              "      <td>10</td>\n",
              "      <td>0.00</td>\n",
              "      <td>26209.5</td>\n",
              "      <td>0.0000</td>\n",
              "      <td>26101</td>\n",
              "      <td>596323</td>\n",
              "      <td>0.043770</td>\n",
              "      <td>326554</td>\n",
              "      <td>5340026</td>\n",
              "      <td>0.0612</td>\n",
              "      <td>0.76</td>\n",
              "      <td>0.78</td>\n",
              "      <td>0.94</td>\n",
              "      <td>4</td>\n",
              "    </tr>\n",
              "    <tr>\n",
              "      <th>2</th>\n",
              "      <td>1</td>\n",
              "      <td>11</td>\n",
              "      <td>0.00</td>\n",
              "      <td>25691.0</td>\n",
              "      <td>0.0000</td>\n",
              "      <td>29482</td>\n",
              "      <td>585633</td>\n",
              "      <td>0.050342</td>\n",
              "      <td>249708</td>\n",
              "      <td>4016975</td>\n",
              "      <td>0.0622</td>\n",
              "      <td>0.70</td>\n",
              "      <td>0.74</td>\n",
              "      <td>0.92</td>\n",
              "      <td>4</td>\n",
              "    </tr>\n",
              "    <tr>\n",
              "      <th>3</th>\n",
              "      <td>1</td>\n",
              "      <td>12</td>\n",
              "      <td>10.56</td>\n",
              "      <td>26503.0</td>\n",
              "      <td>0.0004</td>\n",
              "      <td>32598</td>\n",
              "      <td>607136</td>\n",
              "      <td>0.053691</td>\n",
              "      <td>308521</td>\n",
              "      <td>4263226</td>\n",
              "      <td>0.0724</td>\n",
              "      <td>0.67</td>\n",
              "      <td>0.71</td>\n",
              "      <td>0.93</td>\n",
              "      <td>4</td>\n",
              "    </tr>\n",
              "    <tr>\n",
              "      <th>4</th>\n",
              "      <td>1</td>\n",
              "      <td>1</td>\n",
              "      <td>0.00</td>\n",
              "      <td>26881.0</td>\n",
              "      <td>0.0000</td>\n",
              "      <td>29384</td>\n",
              "      <td>613609</td>\n",
              "      <td>0.047887</td>\n",
              "      <td>347867</td>\n",
              "      <td>4100981</td>\n",
              "      <td>0.0848</td>\n",
              "      <td>0.69</td>\n",
              "      <td>0.74</td>\n",
              "      <td>0.91</td>\n",
              "      <td>4</td>\n",
              "    </tr>\n",
              "  </tbody>\n",
              "</table>\n",
              "</div>\n",
              "      <button class=\"colab-df-convert\" onclick=\"convertToInteractive('df-f60144fe-ecee-40f6-94fe-abdb270864c9')\"\n",
              "              title=\"Convert this dataframe to an interactive table.\"\n",
              "              style=\"display:none;\">\n",
              "        \n",
              "  <svg xmlns=\"http://www.w3.org/2000/svg\" height=\"24px\"viewBox=\"0 0 24 24\"\n",
              "       width=\"24px\">\n",
              "    <path d=\"M0 0h24v24H0V0z\" fill=\"none\"/>\n",
              "    <path d=\"M18.56 5.44l.94 2.06.94-2.06 2.06-.94-2.06-.94-.94-2.06-.94 2.06-2.06.94zm-11 1L8.5 8.5l.94-2.06 2.06-.94-2.06-.94L8.5 2.5l-.94 2.06-2.06.94zm10 10l.94 2.06.94-2.06 2.06-.94-2.06-.94-.94-2.06-.94 2.06-2.06.94z\"/><path d=\"M17.41 7.96l-1.37-1.37c-.4-.4-.92-.59-1.43-.59-.52 0-1.04.2-1.43.59L10.3 9.45l-7.72 7.72c-.78.78-.78 2.05 0 2.83L4 21.41c.39.39.9.59 1.41.59.51 0 1.02-.2 1.41-.59l7.78-7.78 2.81-2.81c.8-.78.8-2.07 0-2.86zM5.41 20L4 18.59l7.72-7.72 1.47 1.35L5.41 20z\"/>\n",
              "  </svg>\n",
              "      </button>\n",
              "      \n",
              "  <style>\n",
              "    .colab-df-container {\n",
              "      display:flex;\n",
              "      flex-wrap:wrap;\n",
              "      gap: 12px;\n",
              "    }\n",
              "\n",
              "    .colab-df-convert {\n",
              "      background-color: #E8F0FE;\n",
              "      border: none;\n",
              "      border-radius: 50%;\n",
              "      cursor: pointer;\n",
              "      display: none;\n",
              "      fill: #1967D2;\n",
              "      height: 32px;\n",
              "      padding: 0 0 0 0;\n",
              "      width: 32px;\n",
              "    }\n",
              "\n",
              "    .colab-df-convert:hover {\n",
              "      background-color: #E2EBFA;\n",
              "      box-shadow: 0px 1px 2px rgba(60, 64, 67, 0.3), 0px 1px 3px 1px rgba(60, 64, 67, 0.15);\n",
              "      fill: #174EA6;\n",
              "    }\n",
              "\n",
              "    [theme=dark] .colab-df-convert {\n",
              "      background-color: #3B4455;\n",
              "      fill: #D2E3FC;\n",
              "    }\n",
              "\n",
              "    [theme=dark] .colab-df-convert:hover {\n",
              "      background-color: #434B5C;\n",
              "      box-shadow: 0px 1px 3px 1px rgba(0, 0, 0, 0.15);\n",
              "      filter: drop-shadow(0px 1px 2px rgba(0, 0, 0, 0.3));\n",
              "      fill: #FFFFFF;\n",
              "    }\n",
              "  </style>\n",
              "\n",
              "      <script>\n",
              "        const buttonEl =\n",
              "          document.querySelector('#df-f60144fe-ecee-40f6-94fe-abdb270864c9 button.colab-df-convert');\n",
              "        buttonEl.style.display =\n",
              "          google.colab.kernel.accessAllowed ? 'block' : 'none';\n",
              "\n",
              "        async function convertToInteractive(key) {\n",
              "          const element = document.querySelector('#df-f60144fe-ecee-40f6-94fe-abdb270864c9');\n",
              "          const dataTable =\n",
              "            await google.colab.kernel.invokeFunction('convertToInteractive',\n",
              "                                                     [key], {});\n",
              "          if (!dataTable) return;\n",
              "\n",
              "          const docLinkHtml = 'Like what you see? Visit the ' +\n",
              "            '<a target=\"_blank\" href=https://colab.research.google.com/notebooks/data_table.ipynb>data table notebook</a>'\n",
              "            + ' to learn more about interactive tables.';\n",
              "          element.innerHTML = '';\n",
              "          dataTable['output_type'] = 'display_data';\n",
              "          await google.colab.output.renderOutput(dataTable, element);\n",
              "          const docLink = document.createElement('div');\n",
              "          docLink.innerHTML = docLinkHtml;\n",
              "          element.appendChild(docLink);\n",
              "        }\n",
              "      </script>\n",
              "    </div>\n",
              "  </div>\n",
              "  "
            ]
          },
          "metadata": {},
          "execution_count": 8
        }
      ]
    },
    {
      "cell_type": "code",
      "metadata": {
        "colab": {
          "base_uri": "https://localhost:8080/"
        },
        "id": "DrQmV2zI4lsS",
        "outputId": "33ed591c-8171-479a-dbeb-348a464829ac"
      },
      "source": [
        "data[\"Reclamos-Cat\"].value_counts().sort_index()"
      ],
      "execution_count": null,
      "outputs": [
        {
          "output_type": "execute_result",
          "data": {
            "text/plain": [
              "1     0\n",
              "2     0\n",
              "3     1\n",
              "4    29\n",
              "5    14\n",
              "Name: Reclamos-Cat, dtype: int64"
            ]
          },
          "metadata": {},
          "execution_count": 9
        }
      ]
    },
    {
      "cell_type": "markdown",
      "metadata": {
        "id": "dOpdvU-BrmaX"
      },
      "source": [
        "#XGboost - Shrinkage (alpha - lambda)"
      ]
    },
    {
      "cell_type": "markdown",
      "metadata": {
        "id": "hOO4ovtH-XiS"
      },
      "source": [
        "##XGBoost - Solo"
      ]
    },
    {
      "cell_type": "code",
      "metadata": {
        "id": "PGsBB2N_tR9S"
      },
      "source": [
        "import pandas as pd\n",
        "from xgboost import XGBClassifier\n",
        "from sklearn.model_selection import train_test_split\n",
        "from sklearn.metrics import accuracy_score"
      ],
      "execution_count": null,
      "outputs": []
    },
    {
      "cell_type": "code",
      "metadata": {
        "id": "Xgq0P-YYzzjd"
      },
      "source": [
        "df = data.dropna()"
      ],
      "execution_count": null,
      "outputs": []
    },
    {
      "cell_type": "code",
      "metadata": {
        "id": "vePPx37Atnrn"
      },
      "source": [
        "X = df.drop(['Reclamos-Cat'], axis=1)\n",
        "Y = df['Reclamos-Cat']"
      ],
      "execution_count": null,
      "outputs": []
    },
    {
      "cell_type": "code",
      "metadata": {
        "colab": {
          "base_uri": "https://localhost:8080/"
        },
        "id": "DwXI1oOFwr3F",
        "outputId": "e8c02f12-d015-4e21-a13d-bf2ce287e055"
      },
      "source": [
        "X.head(1)"
      ],
      "execution_count": null,
      "outputs": [
        {
          "output_type": "execute_result",
          "data": {
            "text/plain": [
              "   AÑO  Mes  N° de horas sin sistema de atención al mes    \\\n",
              "0    1    9                                           0.0   \n",
              "\n",
              "   N° total de horas de atención al mes  CSA%  \\\n",
              "0                                8529.0   0.0   \n",
              "\n",
              "   Nº DE USUARIOS QUE DESISTIERON DE LA ATENCIÓN AL MES  \\\n",
              "0                                               4370      \n",
              "\n",
              "   Nº TOTAL DE USUARIOS ATENDIDOS AL MES   DAP (%)  \\\n",
              "0                                  99252  0.044029   \n",
              "\n",
              "   Nº DE LLAMADAS NO FINALIZADAS POR EL USUARIO  \\\n",
              "0                                         88128   \n",
              "\n",
              "   Nº TOTAL DE LLAMADAS ATENDIDAS  CAT (%)  Bajas  Consultas  Altas  \n",
              "0                         1677328   0.0525   0.79       0.78   0.95  "
            ],
            "text/html": [
              "\n",
              "  <div id=\"df-865b726e-0545-4412-b7ea-d8ee9c285e66\">\n",
              "    <div class=\"colab-df-container\">\n",
              "      <div>\n",
              "<style scoped>\n",
              "    .dataframe tbody tr th:only-of-type {\n",
              "        vertical-align: middle;\n",
              "    }\n",
              "\n",
              "    .dataframe tbody tr th {\n",
              "        vertical-align: top;\n",
              "    }\n",
              "\n",
              "    .dataframe thead th {\n",
              "        text-align: right;\n",
              "    }\n",
              "</style>\n",
              "<table border=\"1\" class=\"dataframe\">\n",
              "  <thead>\n",
              "    <tr style=\"text-align: right;\">\n",
              "      <th></th>\n",
              "      <th>AÑO</th>\n",
              "      <th>Mes</th>\n",
              "      <th>N° de horas sin sistema de atención al mes</th>\n",
              "      <th>N° total de horas de atención al mes</th>\n",
              "      <th>CSA%</th>\n",
              "      <th>Nº DE USUARIOS QUE DESISTIERON DE LA ATENCIÓN AL MES</th>\n",
              "      <th>Nº TOTAL DE USUARIOS ATENDIDOS AL MES</th>\n",
              "      <th>DAP (%)</th>\n",
              "      <th>Nº DE LLAMADAS NO FINALIZADAS POR EL USUARIO</th>\n",
              "      <th>Nº TOTAL DE LLAMADAS ATENDIDAS</th>\n",
              "      <th>CAT (%)</th>\n",
              "      <th>Bajas</th>\n",
              "      <th>Consultas</th>\n",
              "      <th>Altas</th>\n",
              "    </tr>\n",
              "  </thead>\n",
              "  <tbody>\n",
              "    <tr>\n",
              "      <th>0</th>\n",
              "      <td>1</td>\n",
              "      <td>9</td>\n",
              "      <td>0.0</td>\n",
              "      <td>8529.0</td>\n",
              "      <td>0.0</td>\n",
              "      <td>4370</td>\n",
              "      <td>99252</td>\n",
              "      <td>0.044029</td>\n",
              "      <td>88128</td>\n",
              "      <td>1677328</td>\n",
              "      <td>0.0525</td>\n",
              "      <td>0.79</td>\n",
              "      <td>0.78</td>\n",
              "      <td>0.95</td>\n",
              "    </tr>\n",
              "  </tbody>\n",
              "</table>\n",
              "</div>\n",
              "      <button class=\"colab-df-convert\" onclick=\"convertToInteractive('df-865b726e-0545-4412-b7ea-d8ee9c285e66')\"\n",
              "              title=\"Convert this dataframe to an interactive table.\"\n",
              "              style=\"display:none;\">\n",
              "        \n",
              "  <svg xmlns=\"http://www.w3.org/2000/svg\" height=\"24px\"viewBox=\"0 0 24 24\"\n",
              "       width=\"24px\">\n",
              "    <path d=\"M0 0h24v24H0V0z\" fill=\"none\"/>\n",
              "    <path d=\"M18.56 5.44l.94 2.06.94-2.06 2.06-.94-2.06-.94-.94-2.06-.94 2.06-2.06.94zm-11 1L8.5 8.5l.94-2.06 2.06-.94-2.06-.94L8.5 2.5l-.94 2.06-2.06.94zm10 10l.94 2.06.94-2.06 2.06-.94-2.06-.94-.94-2.06-.94 2.06-2.06.94z\"/><path d=\"M17.41 7.96l-1.37-1.37c-.4-.4-.92-.59-1.43-.59-.52 0-1.04.2-1.43.59L10.3 9.45l-7.72 7.72c-.78.78-.78 2.05 0 2.83L4 21.41c.39.39.9.59 1.41.59.51 0 1.02-.2 1.41-.59l7.78-7.78 2.81-2.81c.8-.78.8-2.07 0-2.86zM5.41 20L4 18.59l7.72-7.72 1.47 1.35L5.41 20z\"/>\n",
              "  </svg>\n",
              "      </button>\n",
              "      \n",
              "  <style>\n",
              "    .colab-df-container {\n",
              "      display:flex;\n",
              "      flex-wrap:wrap;\n",
              "      gap: 12px;\n",
              "    }\n",
              "\n",
              "    .colab-df-convert {\n",
              "      background-color: #E8F0FE;\n",
              "      border: none;\n",
              "      border-radius: 50%;\n",
              "      cursor: pointer;\n",
              "      display: none;\n",
              "      fill: #1967D2;\n",
              "      height: 32px;\n",
              "      padding: 0 0 0 0;\n",
              "      width: 32px;\n",
              "    }\n",
              "\n",
              "    .colab-df-convert:hover {\n",
              "      background-color: #E2EBFA;\n",
              "      box-shadow: 0px 1px 2px rgba(60, 64, 67, 0.3), 0px 1px 3px 1px rgba(60, 64, 67, 0.15);\n",
              "      fill: #174EA6;\n",
              "    }\n",
              "\n",
              "    [theme=dark] .colab-df-convert {\n",
              "      background-color: #3B4455;\n",
              "      fill: #D2E3FC;\n",
              "    }\n",
              "\n",
              "    [theme=dark] .colab-df-convert:hover {\n",
              "      background-color: #434B5C;\n",
              "      box-shadow: 0px 1px 3px 1px rgba(0, 0, 0, 0.15);\n",
              "      filter: drop-shadow(0px 1px 2px rgba(0, 0, 0, 0.3));\n",
              "      fill: #FFFFFF;\n",
              "    }\n",
              "  </style>\n",
              "\n",
              "      <script>\n",
              "        const buttonEl =\n",
              "          document.querySelector('#df-865b726e-0545-4412-b7ea-d8ee9c285e66 button.colab-df-convert');\n",
              "        buttonEl.style.display =\n",
              "          google.colab.kernel.accessAllowed ? 'block' : 'none';\n",
              "\n",
              "        async function convertToInteractive(key) {\n",
              "          const element = document.querySelector('#df-865b726e-0545-4412-b7ea-d8ee9c285e66');\n",
              "          const dataTable =\n",
              "            await google.colab.kernel.invokeFunction('convertToInteractive',\n",
              "                                                     [key], {});\n",
              "          if (!dataTable) return;\n",
              "\n",
              "          const docLinkHtml = 'Like what you see? Visit the ' +\n",
              "            '<a target=\"_blank\" href=https://colab.research.google.com/notebooks/data_table.ipynb>data table notebook</a>'\n",
              "            + ' to learn more about interactive tables.';\n",
              "          element.innerHTML = '';\n",
              "          dataTable['output_type'] = 'display_data';\n",
              "          await google.colab.output.renderOutput(dataTable, element);\n",
              "          const docLink = document.createElement('div');\n",
              "          docLink.innerHTML = docLinkHtml;\n",
              "          element.appendChild(docLink);\n",
              "        }\n",
              "      </script>\n",
              "    </div>\n",
              "  </div>\n",
              "  "
            ]
          },
          "metadata": {},
          "execution_count": 13
        }
      ]
    },
    {
      "cell_type": "code",
      "metadata": {
        "colab": {
          "base_uri": "https://localhost:8080/"
        },
        "id": "6ZhDfcYpwwm2",
        "outputId": "9dea61cf-2e9e-4342-beb5-5e962b16861a"
      },
      "source": [
        "Y.head(2)"
      ],
      "execution_count": null,
      "outputs": [
        {
          "output_type": "execute_result",
          "data": {
            "text/plain": [
              "0    4\n",
              "1    4\n",
              "Name: Reclamos-Cat, dtype: category\n",
              "Categories (5, object): ['1' < '2' < '3' < '4' < '5']"
            ]
          },
          "metadata": {},
          "execution_count": 14
        }
      ]
    },
    {
      "cell_type": "code",
      "metadata": {
        "id": "ztLkvsyIw4LB"
      },
      "source": [
        "seed = 7\n",
        "test_size = 0.2\n",
        "X_train, X_test, y_train, y_test = train_test_split(X, Y, test_size=test_size, random_state=seed)"
      ],
      "execution_count": null,
      "outputs": []
    },
    {
      "cell_type": "code",
      "metadata": {
        "colab": {
          "base_uri": "https://localhost:8080/"
        },
        "id": "BkVA34gnw-om",
        "outputId": "8ec7ba2d-4954-4040-a402-872a9b5911b0"
      },
      "source": [
        "model = XGBClassifier(reg_alpha=0, reg_lambda=0)\n",
        "model.fit(X_train, y_train)"
      ],
      "execution_count": null,
      "outputs": [
        {
          "output_type": "execute_result",
          "data": {
            "text/plain": [
              "XGBClassifier(objective='multi:softprob', reg_lambda=0)"
            ]
          },
          "metadata": {},
          "execution_count": 16
        }
      ]
    },
    {
      "cell_type": "code",
      "metadata": {
        "colab": {
          "base_uri": "https://localhost:8080/"
        },
        "id": "xCp7gGCE5jpP",
        "outputId": "83c2c835-2d84-46bc-b567-dec9a6b13ff0"
      },
      "source": [
        "from sklearn import metrics\n",
        "from sklearn.metrics import *\n",
        "\n",
        "#Realizo la predicción\n",
        "y_pred = model.predict(X_test)\n",
        "#Verifico la matriz de Confusión\n",
        "matriz = confusion_matrix(y_test, y_pred)\n",
        "#Calculo la precisión del modelo\n",
        "precision = precision_score(y_test, y_pred, average=\"macro\")\n",
        "#Calculo la exactitud del modelo\n",
        "exactitud = accuracy_score(y_test, y_pred)\n",
        "#Calculo la sensibilidad del modelo\n",
        "sensibilidad = recall_score(y_test, y_pred, average=\"macro\")\n",
        "#Calculo el Puntaje F1 del modelo\n",
        "puntajef1 = f1_score(y_test, y_pred, average=\"macro\")\n",
        "#Calculo la curva ROC - AUC del modelo\n",
        "roc_auc = roc_auc_score(y_test, y_pred)\n",
        "\n",
        "print('Matriz de Confusión:')\n",
        "print(matriz)\n",
        "print('Precisión del modelo:', precision)\n",
        "print('Exactitud del modelo:', exactitud)\n",
        "print('Sensibilidad del modelo:', sensibilidad)\n",
        "print('Puntaje F1 del modelo:', puntajef1)\n",
        "print('Curva ROC - AUC del modelo:', roc_auc)"
      ],
      "execution_count": null,
      "outputs": [
        {
          "output_type": "stream",
          "name": "stdout",
          "text": [
            "Matriz de Confusión:\n",
            "[[6 1]\n",
            " [0 2]]\n",
            "Precisión del modelo: 0.8333333333333333\n",
            "Exactitud del modelo: 0.8888888888888888\n",
            "Sensibilidad del modelo: 0.9285714285714286\n",
            "Puntaje F1 del modelo: 0.8615384615384616\n",
            "Curva ROC - AUC del modelo: 0.9285714285714286\n"
          ]
        }
      ]
    },
    {
      "cell_type": "markdown",
      "metadata": {
        "id": "2JiKXgP-_03C"
      },
      "source": [
        "##XGBoost - Lasso"
      ]
    },
    {
      "cell_type": "code",
      "metadata": {
        "id": "AapHNZHP_03C"
      },
      "source": [
        "import pandas as pd\n",
        "from xgboost import XGBClassifier\n",
        "from sklearn.model_selection import train_test_split\n",
        "from sklearn.metrics import accuracy_score"
      ],
      "execution_count": null,
      "outputs": []
    },
    {
      "cell_type": "code",
      "metadata": {
        "id": "HnsE2bvR_03E"
      },
      "source": [
        "df = data.dropna()"
      ],
      "execution_count": null,
      "outputs": []
    },
    {
      "cell_type": "code",
      "metadata": {
        "id": "w09tMT2I_03E"
      },
      "source": [
        "X = df.drop(['Reclamos-Cat'], axis=1)\n",
        "Y = df['Reclamos-Cat']"
      ],
      "execution_count": null,
      "outputs": []
    },
    {
      "cell_type": "code",
      "metadata": {
        "colab": {
          "base_uri": "https://localhost:8080/"
        },
        "id": "QZeCl_GA_03F",
        "outputId": "48ad7462-c15f-4b0c-c8c3-0c3e667de1d7"
      },
      "source": [
        "X.head(1)"
      ],
      "execution_count": null,
      "outputs": [
        {
          "output_type": "execute_result",
          "data": {
            "text/plain": [
              "   AÑO  Mes  N° de horas sin sistema de atención al mes    \\\n",
              "0    1    9                                           0.0   \n",
              "\n",
              "   N° total de horas de atención al mes  CSA%  \\\n",
              "0                                8529.0   0.0   \n",
              "\n",
              "   Nº DE USUARIOS QUE DESISTIERON DE LA ATENCIÓN AL MES  \\\n",
              "0                                               4370      \n",
              "\n",
              "   Nº TOTAL DE USUARIOS ATENDIDOS AL MES   DAP (%)  \\\n",
              "0                                  99252  0.044029   \n",
              "\n",
              "   Nº DE LLAMADAS NO FINALIZADAS POR EL USUARIO  \\\n",
              "0                                         88128   \n",
              "\n",
              "   Nº TOTAL DE LLAMADAS ATENDIDAS  CAT (%)  Bajas  Consultas  Altas  \n",
              "0                         1677328   0.0525   0.79       0.78   0.95  "
            ],
            "text/html": [
              "\n",
              "  <div id=\"df-686f330d-4ba5-4cd7-ab8e-d7ed798c9578\">\n",
              "    <div class=\"colab-df-container\">\n",
              "      <div>\n",
              "<style scoped>\n",
              "    .dataframe tbody tr th:only-of-type {\n",
              "        vertical-align: middle;\n",
              "    }\n",
              "\n",
              "    .dataframe tbody tr th {\n",
              "        vertical-align: top;\n",
              "    }\n",
              "\n",
              "    .dataframe thead th {\n",
              "        text-align: right;\n",
              "    }\n",
              "</style>\n",
              "<table border=\"1\" class=\"dataframe\">\n",
              "  <thead>\n",
              "    <tr style=\"text-align: right;\">\n",
              "      <th></th>\n",
              "      <th>AÑO</th>\n",
              "      <th>Mes</th>\n",
              "      <th>N° de horas sin sistema de atención al mes</th>\n",
              "      <th>N° total de horas de atención al mes</th>\n",
              "      <th>CSA%</th>\n",
              "      <th>Nº DE USUARIOS QUE DESISTIERON DE LA ATENCIÓN AL MES</th>\n",
              "      <th>Nº TOTAL DE USUARIOS ATENDIDOS AL MES</th>\n",
              "      <th>DAP (%)</th>\n",
              "      <th>Nº DE LLAMADAS NO FINALIZADAS POR EL USUARIO</th>\n",
              "      <th>Nº TOTAL DE LLAMADAS ATENDIDAS</th>\n",
              "      <th>CAT (%)</th>\n",
              "      <th>Bajas</th>\n",
              "      <th>Consultas</th>\n",
              "      <th>Altas</th>\n",
              "    </tr>\n",
              "  </thead>\n",
              "  <tbody>\n",
              "    <tr>\n",
              "      <th>0</th>\n",
              "      <td>1</td>\n",
              "      <td>9</td>\n",
              "      <td>0.0</td>\n",
              "      <td>8529.0</td>\n",
              "      <td>0.0</td>\n",
              "      <td>4370</td>\n",
              "      <td>99252</td>\n",
              "      <td>0.044029</td>\n",
              "      <td>88128</td>\n",
              "      <td>1677328</td>\n",
              "      <td>0.0525</td>\n",
              "      <td>0.79</td>\n",
              "      <td>0.78</td>\n",
              "      <td>0.95</td>\n",
              "    </tr>\n",
              "  </tbody>\n",
              "</table>\n",
              "</div>\n",
              "      <button class=\"colab-df-convert\" onclick=\"convertToInteractive('df-686f330d-4ba5-4cd7-ab8e-d7ed798c9578')\"\n",
              "              title=\"Convert this dataframe to an interactive table.\"\n",
              "              style=\"display:none;\">\n",
              "        \n",
              "  <svg xmlns=\"http://www.w3.org/2000/svg\" height=\"24px\"viewBox=\"0 0 24 24\"\n",
              "       width=\"24px\">\n",
              "    <path d=\"M0 0h24v24H0V0z\" fill=\"none\"/>\n",
              "    <path d=\"M18.56 5.44l.94 2.06.94-2.06 2.06-.94-2.06-.94-.94-2.06-.94 2.06-2.06.94zm-11 1L8.5 8.5l.94-2.06 2.06-.94-2.06-.94L8.5 2.5l-.94 2.06-2.06.94zm10 10l.94 2.06.94-2.06 2.06-.94-2.06-.94-.94-2.06-.94 2.06-2.06.94z\"/><path d=\"M17.41 7.96l-1.37-1.37c-.4-.4-.92-.59-1.43-.59-.52 0-1.04.2-1.43.59L10.3 9.45l-7.72 7.72c-.78.78-.78 2.05 0 2.83L4 21.41c.39.39.9.59 1.41.59.51 0 1.02-.2 1.41-.59l7.78-7.78 2.81-2.81c.8-.78.8-2.07 0-2.86zM5.41 20L4 18.59l7.72-7.72 1.47 1.35L5.41 20z\"/>\n",
              "  </svg>\n",
              "      </button>\n",
              "      \n",
              "  <style>\n",
              "    .colab-df-container {\n",
              "      display:flex;\n",
              "      flex-wrap:wrap;\n",
              "      gap: 12px;\n",
              "    }\n",
              "\n",
              "    .colab-df-convert {\n",
              "      background-color: #E8F0FE;\n",
              "      border: none;\n",
              "      border-radius: 50%;\n",
              "      cursor: pointer;\n",
              "      display: none;\n",
              "      fill: #1967D2;\n",
              "      height: 32px;\n",
              "      padding: 0 0 0 0;\n",
              "      width: 32px;\n",
              "    }\n",
              "\n",
              "    .colab-df-convert:hover {\n",
              "      background-color: #E2EBFA;\n",
              "      box-shadow: 0px 1px 2px rgba(60, 64, 67, 0.3), 0px 1px 3px 1px rgba(60, 64, 67, 0.15);\n",
              "      fill: #174EA6;\n",
              "    }\n",
              "\n",
              "    [theme=dark] .colab-df-convert {\n",
              "      background-color: #3B4455;\n",
              "      fill: #D2E3FC;\n",
              "    }\n",
              "\n",
              "    [theme=dark] .colab-df-convert:hover {\n",
              "      background-color: #434B5C;\n",
              "      box-shadow: 0px 1px 3px 1px rgba(0, 0, 0, 0.15);\n",
              "      filter: drop-shadow(0px 1px 2px rgba(0, 0, 0, 0.3));\n",
              "      fill: #FFFFFF;\n",
              "    }\n",
              "  </style>\n",
              "\n",
              "      <script>\n",
              "        const buttonEl =\n",
              "          document.querySelector('#df-686f330d-4ba5-4cd7-ab8e-d7ed798c9578 button.colab-df-convert');\n",
              "        buttonEl.style.display =\n",
              "          google.colab.kernel.accessAllowed ? 'block' : 'none';\n",
              "\n",
              "        async function convertToInteractive(key) {\n",
              "          const element = document.querySelector('#df-686f330d-4ba5-4cd7-ab8e-d7ed798c9578');\n",
              "          const dataTable =\n",
              "            await google.colab.kernel.invokeFunction('convertToInteractive',\n",
              "                                                     [key], {});\n",
              "          if (!dataTable) return;\n",
              "\n",
              "          const docLinkHtml = 'Like what you see? Visit the ' +\n",
              "            '<a target=\"_blank\" href=https://colab.research.google.com/notebooks/data_table.ipynb>data table notebook</a>'\n",
              "            + ' to learn more about interactive tables.';\n",
              "          element.innerHTML = '';\n",
              "          dataTable['output_type'] = 'display_data';\n",
              "          await google.colab.output.renderOutput(dataTable, element);\n",
              "          const docLink = document.createElement('div');\n",
              "          docLink.innerHTML = docLinkHtml;\n",
              "          element.appendChild(docLink);\n",
              "        }\n",
              "      </script>\n",
              "    </div>\n",
              "  </div>\n",
              "  "
            ]
          },
          "metadata": {},
          "execution_count": 21
        }
      ]
    },
    {
      "cell_type": "code",
      "metadata": {
        "colab": {
          "base_uri": "https://localhost:8080/"
        },
        "id": "_LVGdD7n_03G",
        "outputId": "344a9813-dc8f-406c-a569-9d22b318ba45"
      },
      "source": [
        "Y.head(2)"
      ],
      "execution_count": null,
      "outputs": [
        {
          "output_type": "execute_result",
          "data": {
            "text/plain": [
              "0    4\n",
              "1    4\n",
              "Name: Reclamos-Cat, dtype: category\n",
              "Categories (5, object): ['1' < '2' < '3' < '4' < '5']"
            ]
          },
          "metadata": {},
          "execution_count": 22
        }
      ]
    },
    {
      "cell_type": "code",
      "metadata": {
        "id": "4E07X7uc_03G"
      },
      "source": [
        "seed = 7\n",
        "test_size = 0.2\n",
        "X_train, X_test, y_train, y_test = train_test_split(X, Y, test_size=test_size, random_state=seed)"
      ],
      "execution_count": null,
      "outputs": []
    },
    {
      "cell_type": "code",
      "metadata": {
        "colab": {
          "base_uri": "https://localhost:8080/"
        },
        "id": "nD6MjqVg_03H",
        "outputId": "51207733-fee6-4ec2-8dfe-2a8908876daf"
      },
      "source": [
        "model = XGBClassifier(reg_alpha=1, reg_lambda=0)\n",
        "model.fit(X_train, y_train)"
      ],
      "execution_count": null,
      "outputs": [
        {
          "output_type": "execute_result",
          "data": {
            "text/plain": [
              "XGBClassifier(objective='multi:softprob', reg_alpha=1, reg_lambda=0)"
            ]
          },
          "metadata": {},
          "execution_count": 24
        }
      ]
    },
    {
      "cell_type": "code",
      "metadata": {
        "colab": {
          "base_uri": "https://localhost:8080/"
        },
        "id": "eW6nFB4N_03I",
        "outputId": "a0146940-ca94-4bbf-9470-5e82255ec32c"
      },
      "source": [
        "from sklearn import metrics\n",
        "from sklearn.metrics import *\n",
        "\n",
        "#Realizo la predicción\n",
        "y_pred = model.predict(X_test)\n",
        "#Verifico la matriz de Confusión\n",
        "matriz = confusion_matrix(y_test, y_pred)\n",
        "#Calculo la precisión del modelo\n",
        "precision = precision_score(y_test, y_pred, average=\"macro\")\n",
        "#Calculo la exactitud del modelo\n",
        "exactitud = accuracy_score(y_test, y_pred)\n",
        "#Calculo la sensibilidad del modelo\n",
        "sensibilidad = recall_score(y_test, y_pred, average=\"macro\")\n",
        "#Calculo el Puntaje F1 del modelo\n",
        "puntajef1 = f1_score(y_test, y_pred, average=\"macro\")\n",
        "#Calculo la curva ROC - AUC del modelo\n",
        "roc_auc = roc_auc_score(y_test, y_pred)\n",
        "\n",
        "print('Matriz de Confusión:')\n",
        "print(matriz)\n",
        "print('Precisión del modelo:', precision)\n",
        "print('Exactitud del modelo:', exactitud)\n",
        "print('Sensibilidad del modelo:', sensibilidad)\n",
        "print('Puntaje F1 del modelo:', puntajef1)\n",
        "print('Curva ROC - AUC del modelo:', roc_auc)"
      ],
      "execution_count": null,
      "outputs": [
        {
          "output_type": "stream",
          "name": "stdout",
          "text": [
            "Matriz de Confusión:\n",
            "[[6 1]\n",
            " [1 1]]\n",
            "Precisión del modelo: 0.6785714285714286\n",
            "Exactitud del modelo: 0.7777777777777778\n",
            "Sensibilidad del modelo: 0.6785714285714286\n",
            "Puntaje F1 del modelo: 0.6785714285714286\n",
            "Curva ROC - AUC del modelo: 0.6785714285714286\n"
          ]
        }
      ]
    },
    {
      "cell_type": "markdown",
      "metadata": {
        "id": "OtLWu_HYEj5R"
      },
      "source": [
        "##XGBoost - Ridge"
      ]
    },
    {
      "cell_type": "code",
      "metadata": {
        "id": "bvQN8X6cEj5S"
      },
      "source": [
        "import pandas as pd\n",
        "from xgboost import XGBClassifier\n",
        "from sklearn.model_selection import train_test_split\n",
        "from sklearn.metrics import accuracy_score"
      ],
      "execution_count": null,
      "outputs": []
    },
    {
      "cell_type": "code",
      "metadata": {
        "id": "DKfJJQ-CEj5T"
      },
      "source": [
        "df = data.dropna()"
      ],
      "execution_count": null,
      "outputs": []
    },
    {
      "cell_type": "code",
      "metadata": {
        "id": "JT4ZRcFFEj5U"
      },
      "source": [
        "X = df.drop(['Reclamos-Cat'], axis=1)\n",
        "Y = df['Reclamos-Cat']"
      ],
      "execution_count": null,
      "outputs": []
    },
    {
      "cell_type": "code",
      "metadata": {
        "colab": {
          "base_uri": "https://localhost:8080/"
        },
        "id": "p1jl5gwUEj5U",
        "outputId": "dbb2ba75-cfe2-4d2f-c005-bb863aea72df"
      },
      "source": [
        "X.head(1)"
      ],
      "execution_count": null,
      "outputs": [
        {
          "output_type": "execute_result",
          "data": {
            "text/plain": [
              "   AÑO  Mes  N° de horas sin sistema de atención al mes    \\\n",
              "0    1    9                                           0.0   \n",
              "\n",
              "   N° total de horas de atención al mes  CSA%  \\\n",
              "0                                8529.0   0.0   \n",
              "\n",
              "   Nº DE USUARIOS QUE DESISTIERON DE LA ATENCIÓN AL MES  \\\n",
              "0                                               4370      \n",
              "\n",
              "   Nº TOTAL DE USUARIOS ATENDIDOS AL MES   DAP (%)  \\\n",
              "0                                  99252  0.044029   \n",
              "\n",
              "   Nº DE LLAMADAS NO FINALIZADAS POR EL USUARIO  \\\n",
              "0                                         88128   \n",
              "\n",
              "   Nº TOTAL DE LLAMADAS ATENDIDAS  CAT (%)  Bajas  Consultas  Altas  \n",
              "0                         1677328   0.0525   0.79       0.78   0.95  "
            ],
            "text/html": [
              "\n",
              "  <div id=\"df-7f300181-734e-4031-a90b-a535bce73ab6\">\n",
              "    <div class=\"colab-df-container\">\n",
              "      <div>\n",
              "<style scoped>\n",
              "    .dataframe tbody tr th:only-of-type {\n",
              "        vertical-align: middle;\n",
              "    }\n",
              "\n",
              "    .dataframe tbody tr th {\n",
              "        vertical-align: top;\n",
              "    }\n",
              "\n",
              "    .dataframe thead th {\n",
              "        text-align: right;\n",
              "    }\n",
              "</style>\n",
              "<table border=\"1\" class=\"dataframe\">\n",
              "  <thead>\n",
              "    <tr style=\"text-align: right;\">\n",
              "      <th></th>\n",
              "      <th>AÑO</th>\n",
              "      <th>Mes</th>\n",
              "      <th>N° de horas sin sistema de atención al mes</th>\n",
              "      <th>N° total de horas de atención al mes</th>\n",
              "      <th>CSA%</th>\n",
              "      <th>Nº DE USUARIOS QUE DESISTIERON DE LA ATENCIÓN AL MES</th>\n",
              "      <th>Nº TOTAL DE USUARIOS ATENDIDOS AL MES</th>\n",
              "      <th>DAP (%)</th>\n",
              "      <th>Nº DE LLAMADAS NO FINALIZADAS POR EL USUARIO</th>\n",
              "      <th>Nº TOTAL DE LLAMADAS ATENDIDAS</th>\n",
              "      <th>CAT (%)</th>\n",
              "      <th>Bajas</th>\n",
              "      <th>Consultas</th>\n",
              "      <th>Altas</th>\n",
              "    </tr>\n",
              "  </thead>\n",
              "  <tbody>\n",
              "    <tr>\n",
              "      <th>0</th>\n",
              "      <td>1</td>\n",
              "      <td>9</td>\n",
              "      <td>0.0</td>\n",
              "      <td>8529.0</td>\n",
              "      <td>0.0</td>\n",
              "      <td>4370</td>\n",
              "      <td>99252</td>\n",
              "      <td>0.044029</td>\n",
              "      <td>88128</td>\n",
              "      <td>1677328</td>\n",
              "      <td>0.0525</td>\n",
              "      <td>0.79</td>\n",
              "      <td>0.78</td>\n",
              "      <td>0.95</td>\n",
              "    </tr>\n",
              "  </tbody>\n",
              "</table>\n",
              "</div>\n",
              "      <button class=\"colab-df-convert\" onclick=\"convertToInteractive('df-7f300181-734e-4031-a90b-a535bce73ab6')\"\n",
              "              title=\"Convert this dataframe to an interactive table.\"\n",
              "              style=\"display:none;\">\n",
              "        \n",
              "  <svg xmlns=\"http://www.w3.org/2000/svg\" height=\"24px\"viewBox=\"0 0 24 24\"\n",
              "       width=\"24px\">\n",
              "    <path d=\"M0 0h24v24H0V0z\" fill=\"none\"/>\n",
              "    <path d=\"M18.56 5.44l.94 2.06.94-2.06 2.06-.94-2.06-.94-.94-2.06-.94 2.06-2.06.94zm-11 1L8.5 8.5l.94-2.06 2.06-.94-2.06-.94L8.5 2.5l-.94 2.06-2.06.94zm10 10l.94 2.06.94-2.06 2.06-.94-2.06-.94-.94-2.06-.94 2.06-2.06.94z\"/><path d=\"M17.41 7.96l-1.37-1.37c-.4-.4-.92-.59-1.43-.59-.52 0-1.04.2-1.43.59L10.3 9.45l-7.72 7.72c-.78.78-.78 2.05 0 2.83L4 21.41c.39.39.9.59 1.41.59.51 0 1.02-.2 1.41-.59l7.78-7.78 2.81-2.81c.8-.78.8-2.07 0-2.86zM5.41 20L4 18.59l7.72-7.72 1.47 1.35L5.41 20z\"/>\n",
              "  </svg>\n",
              "      </button>\n",
              "      \n",
              "  <style>\n",
              "    .colab-df-container {\n",
              "      display:flex;\n",
              "      flex-wrap:wrap;\n",
              "      gap: 12px;\n",
              "    }\n",
              "\n",
              "    .colab-df-convert {\n",
              "      background-color: #E8F0FE;\n",
              "      border: none;\n",
              "      border-radius: 50%;\n",
              "      cursor: pointer;\n",
              "      display: none;\n",
              "      fill: #1967D2;\n",
              "      height: 32px;\n",
              "      padding: 0 0 0 0;\n",
              "      width: 32px;\n",
              "    }\n",
              "\n",
              "    .colab-df-convert:hover {\n",
              "      background-color: #E2EBFA;\n",
              "      box-shadow: 0px 1px 2px rgba(60, 64, 67, 0.3), 0px 1px 3px 1px rgba(60, 64, 67, 0.15);\n",
              "      fill: #174EA6;\n",
              "    }\n",
              "\n",
              "    [theme=dark] .colab-df-convert {\n",
              "      background-color: #3B4455;\n",
              "      fill: #D2E3FC;\n",
              "    }\n",
              "\n",
              "    [theme=dark] .colab-df-convert:hover {\n",
              "      background-color: #434B5C;\n",
              "      box-shadow: 0px 1px 3px 1px rgba(0, 0, 0, 0.15);\n",
              "      filter: drop-shadow(0px 1px 2px rgba(0, 0, 0, 0.3));\n",
              "      fill: #FFFFFF;\n",
              "    }\n",
              "  </style>\n",
              "\n",
              "      <script>\n",
              "        const buttonEl =\n",
              "          document.querySelector('#df-7f300181-734e-4031-a90b-a535bce73ab6 button.colab-df-convert');\n",
              "        buttonEl.style.display =\n",
              "          google.colab.kernel.accessAllowed ? 'block' : 'none';\n",
              "\n",
              "        async function convertToInteractive(key) {\n",
              "          const element = document.querySelector('#df-7f300181-734e-4031-a90b-a535bce73ab6');\n",
              "          const dataTable =\n",
              "            await google.colab.kernel.invokeFunction('convertToInteractive',\n",
              "                                                     [key], {});\n",
              "          if (!dataTable) return;\n",
              "\n",
              "          const docLinkHtml = 'Like what you see? Visit the ' +\n",
              "            '<a target=\"_blank\" href=https://colab.research.google.com/notebooks/data_table.ipynb>data table notebook</a>'\n",
              "            + ' to learn more about interactive tables.';\n",
              "          element.innerHTML = '';\n",
              "          dataTable['output_type'] = 'display_data';\n",
              "          await google.colab.output.renderOutput(dataTable, element);\n",
              "          const docLink = document.createElement('div');\n",
              "          docLink.innerHTML = docLinkHtml;\n",
              "          element.appendChild(docLink);\n",
              "        }\n",
              "      </script>\n",
              "    </div>\n",
              "  </div>\n",
              "  "
            ]
          },
          "metadata": {},
          "execution_count": 29
        }
      ]
    },
    {
      "cell_type": "code",
      "metadata": {
        "colab": {
          "base_uri": "https://localhost:8080/"
        },
        "id": "UcEi_nEMEj5W",
        "outputId": "5881a0f2-fe4f-487b-b264-afdc57ab2a93"
      },
      "source": [
        "Y.head(2)"
      ],
      "execution_count": null,
      "outputs": [
        {
          "output_type": "execute_result",
          "data": {
            "text/plain": [
              "0    4\n",
              "1    4\n",
              "Name: Reclamos-Cat, dtype: category\n",
              "Categories (5, object): ['1' < '2' < '3' < '4' < '5']"
            ]
          },
          "metadata": {},
          "execution_count": 30
        }
      ]
    },
    {
      "cell_type": "code",
      "metadata": {
        "id": "mxMP_bsmEj5X"
      },
      "source": [
        "seed = 7\n",
        "test_size = 0.2\n",
        "X_train, X_test, y_train, y_test = train_test_split(X, Y, test_size=test_size, random_state=seed)"
      ],
      "execution_count": null,
      "outputs": []
    },
    {
      "cell_type": "code",
      "metadata": {
        "colab": {
          "base_uri": "https://localhost:8080/"
        },
        "id": "yD0wQK0sEj5Y",
        "outputId": "fc34496f-e19b-45b1-a2ef-689a9cacb698"
      },
      "source": [
        "model = XGBClassifier(reg_alpha=0, reg_lambda=1)\n",
        "model.fit(X_train, y_train)"
      ],
      "execution_count": null,
      "outputs": [
        {
          "output_type": "execute_result",
          "data": {
            "text/plain": [
              "XGBClassifier(objective='multi:softprob')"
            ]
          },
          "metadata": {},
          "execution_count": 32
        }
      ]
    },
    {
      "cell_type": "code",
      "metadata": {
        "colab": {
          "base_uri": "https://localhost:8080/"
        },
        "id": "ichiRTkeEj5Z",
        "outputId": "d683c5c4-91eb-48b0-875b-9b59dc122118"
      },
      "source": [
        "from sklearn import metrics\n",
        "from sklearn.metrics import *\n",
        "\n",
        "#Realizo la predicción\n",
        "y_pred = model.predict(X_test)\n",
        "#Verifico la matriz de Confusión\n",
        "matriz = confusion_matrix(y_test, y_pred)\n",
        "#Calculo la precisión del modelo\n",
        "precision = precision_score(y_test, y_pred, average=\"macro\")\n",
        "#Calculo la exactitud del modelo\n",
        "exactitud = accuracy_score(y_test, y_pred)\n",
        "#Calculo la sensibilidad del modelo\n",
        "sensibilidad = recall_score(y_test, y_pred, average=\"macro\")\n",
        "#Calculo el Puntaje F1 del modelo\n",
        "puntajef1 = f1_score(y_test, y_pred, average=\"macro\")\n",
        "#Calculo la curva ROC - AUC del modelo\n",
        "roc_auc = roc_auc_score(y_test, y_pred)\n",
        "\n",
        "print('Matriz de Confusión:')\n",
        "print(matriz)\n",
        "print('Precisión del modelo:', precision)\n",
        "print('Exactitud del modelo:', exactitud)\n",
        "print('Sensibilidad del modelo:', sensibilidad)\n",
        "print('Puntaje F1 del modelo:', puntajef1)\n",
        "print('Curva ROC - AUC del modelo:', roc_auc)"
      ],
      "execution_count": null,
      "outputs": [
        {
          "output_type": "stream",
          "name": "stdout",
          "text": [
            "Matriz de Confusión:\n",
            "[[6 1]\n",
            " [1 1]]\n",
            "Precisión del modelo: 0.6785714285714286\n",
            "Exactitud del modelo: 0.7777777777777778\n",
            "Sensibilidad del modelo: 0.6785714285714286\n",
            "Puntaje F1 del modelo: 0.6785714285714286\n",
            "Curva ROC - AUC del modelo: 0.6785714285714286\n"
          ]
        }
      ]
    },
    {
      "cell_type": "markdown",
      "metadata": {
        "id": "Ll-kceNLE8tL"
      },
      "source": [
        "##XGBoost - Elasticnet"
      ]
    },
    {
      "cell_type": "code",
      "metadata": {
        "id": "ms0yuc2-E8tN"
      },
      "source": [
        "import pandas as pd\n",
        "from xgboost import XGBClassifier\n",
        "from sklearn.model_selection import train_test_split\n",
        "from sklearn.metrics import accuracy_score"
      ],
      "execution_count": null,
      "outputs": []
    },
    {
      "cell_type": "code",
      "metadata": {
        "id": "hFMDEsSyE8tO"
      },
      "source": [
        "df = data.dropna()"
      ],
      "execution_count": null,
      "outputs": []
    },
    {
      "cell_type": "code",
      "metadata": {
        "id": "5tGy562YE8tP"
      },
      "source": [
        "X = df.drop(['Reclamos-Cat'], axis=1)\n",
        "Y = df['Reclamos-Cat']"
      ],
      "execution_count": null,
      "outputs": []
    },
    {
      "cell_type": "code",
      "metadata": {
        "colab": {
          "base_uri": "https://localhost:8080/"
        },
        "id": "YK9GeY6pE8tQ",
        "outputId": "9ee22260-3180-4771-d67e-39cfc79a0d0a"
      },
      "source": [
        "X.head(1)"
      ],
      "execution_count": null,
      "outputs": [
        {
          "output_type": "execute_result",
          "data": {
            "text/plain": [
              "   AÑO  Mes  N° de horas sin sistema de atención al mes    \\\n",
              "0    1    9                                           0.0   \n",
              "\n",
              "   N° total de horas de atención al mes  CSA%  \\\n",
              "0                                8529.0   0.0   \n",
              "\n",
              "   Nº DE USUARIOS QUE DESISTIERON DE LA ATENCIÓN AL MES  \\\n",
              "0                                               4370      \n",
              "\n",
              "   Nº TOTAL DE USUARIOS ATENDIDOS AL MES   DAP (%)  \\\n",
              "0                                  99252  0.044029   \n",
              "\n",
              "   Nº DE LLAMADAS NO FINALIZADAS POR EL USUARIO  \\\n",
              "0                                         88128   \n",
              "\n",
              "   Nº TOTAL DE LLAMADAS ATENDIDAS  CAT (%)  Bajas  Consultas  Altas  \n",
              "0                         1677328   0.0525   0.79       0.78   0.95  "
            ],
            "text/html": [
              "\n",
              "  <div id=\"df-900d8a5f-0fbe-4990-8d33-760e94830d8a\">\n",
              "    <div class=\"colab-df-container\">\n",
              "      <div>\n",
              "<style scoped>\n",
              "    .dataframe tbody tr th:only-of-type {\n",
              "        vertical-align: middle;\n",
              "    }\n",
              "\n",
              "    .dataframe tbody tr th {\n",
              "        vertical-align: top;\n",
              "    }\n",
              "\n",
              "    .dataframe thead th {\n",
              "        text-align: right;\n",
              "    }\n",
              "</style>\n",
              "<table border=\"1\" class=\"dataframe\">\n",
              "  <thead>\n",
              "    <tr style=\"text-align: right;\">\n",
              "      <th></th>\n",
              "      <th>AÑO</th>\n",
              "      <th>Mes</th>\n",
              "      <th>N° de horas sin sistema de atención al mes</th>\n",
              "      <th>N° total de horas de atención al mes</th>\n",
              "      <th>CSA%</th>\n",
              "      <th>Nº DE USUARIOS QUE DESISTIERON DE LA ATENCIÓN AL MES</th>\n",
              "      <th>Nº TOTAL DE USUARIOS ATENDIDOS AL MES</th>\n",
              "      <th>DAP (%)</th>\n",
              "      <th>Nº DE LLAMADAS NO FINALIZADAS POR EL USUARIO</th>\n",
              "      <th>Nº TOTAL DE LLAMADAS ATENDIDAS</th>\n",
              "      <th>CAT (%)</th>\n",
              "      <th>Bajas</th>\n",
              "      <th>Consultas</th>\n",
              "      <th>Altas</th>\n",
              "    </tr>\n",
              "  </thead>\n",
              "  <tbody>\n",
              "    <tr>\n",
              "      <th>0</th>\n",
              "      <td>1</td>\n",
              "      <td>9</td>\n",
              "      <td>0.0</td>\n",
              "      <td>8529.0</td>\n",
              "      <td>0.0</td>\n",
              "      <td>4370</td>\n",
              "      <td>99252</td>\n",
              "      <td>0.044029</td>\n",
              "      <td>88128</td>\n",
              "      <td>1677328</td>\n",
              "      <td>0.0525</td>\n",
              "      <td>0.79</td>\n",
              "      <td>0.78</td>\n",
              "      <td>0.95</td>\n",
              "    </tr>\n",
              "  </tbody>\n",
              "</table>\n",
              "</div>\n",
              "      <button class=\"colab-df-convert\" onclick=\"convertToInteractive('df-900d8a5f-0fbe-4990-8d33-760e94830d8a')\"\n",
              "              title=\"Convert this dataframe to an interactive table.\"\n",
              "              style=\"display:none;\">\n",
              "        \n",
              "  <svg xmlns=\"http://www.w3.org/2000/svg\" height=\"24px\"viewBox=\"0 0 24 24\"\n",
              "       width=\"24px\">\n",
              "    <path d=\"M0 0h24v24H0V0z\" fill=\"none\"/>\n",
              "    <path d=\"M18.56 5.44l.94 2.06.94-2.06 2.06-.94-2.06-.94-.94-2.06-.94 2.06-2.06.94zm-11 1L8.5 8.5l.94-2.06 2.06-.94-2.06-.94L8.5 2.5l-.94 2.06-2.06.94zm10 10l.94 2.06.94-2.06 2.06-.94-2.06-.94-.94-2.06-.94 2.06-2.06.94z\"/><path d=\"M17.41 7.96l-1.37-1.37c-.4-.4-.92-.59-1.43-.59-.52 0-1.04.2-1.43.59L10.3 9.45l-7.72 7.72c-.78.78-.78 2.05 0 2.83L4 21.41c.39.39.9.59 1.41.59.51 0 1.02-.2 1.41-.59l7.78-7.78 2.81-2.81c.8-.78.8-2.07 0-2.86zM5.41 20L4 18.59l7.72-7.72 1.47 1.35L5.41 20z\"/>\n",
              "  </svg>\n",
              "      </button>\n",
              "      \n",
              "  <style>\n",
              "    .colab-df-container {\n",
              "      display:flex;\n",
              "      flex-wrap:wrap;\n",
              "      gap: 12px;\n",
              "    }\n",
              "\n",
              "    .colab-df-convert {\n",
              "      background-color: #E8F0FE;\n",
              "      border: none;\n",
              "      border-radius: 50%;\n",
              "      cursor: pointer;\n",
              "      display: none;\n",
              "      fill: #1967D2;\n",
              "      height: 32px;\n",
              "      padding: 0 0 0 0;\n",
              "      width: 32px;\n",
              "    }\n",
              "\n",
              "    .colab-df-convert:hover {\n",
              "      background-color: #E2EBFA;\n",
              "      box-shadow: 0px 1px 2px rgba(60, 64, 67, 0.3), 0px 1px 3px 1px rgba(60, 64, 67, 0.15);\n",
              "      fill: #174EA6;\n",
              "    }\n",
              "\n",
              "    [theme=dark] .colab-df-convert {\n",
              "      background-color: #3B4455;\n",
              "      fill: #D2E3FC;\n",
              "    }\n",
              "\n",
              "    [theme=dark] .colab-df-convert:hover {\n",
              "      background-color: #434B5C;\n",
              "      box-shadow: 0px 1px 3px 1px rgba(0, 0, 0, 0.15);\n",
              "      filter: drop-shadow(0px 1px 2px rgba(0, 0, 0, 0.3));\n",
              "      fill: #FFFFFF;\n",
              "    }\n",
              "  </style>\n",
              "\n",
              "      <script>\n",
              "        const buttonEl =\n",
              "          document.querySelector('#df-900d8a5f-0fbe-4990-8d33-760e94830d8a button.colab-df-convert');\n",
              "        buttonEl.style.display =\n",
              "          google.colab.kernel.accessAllowed ? 'block' : 'none';\n",
              "\n",
              "        async function convertToInteractive(key) {\n",
              "          const element = document.querySelector('#df-900d8a5f-0fbe-4990-8d33-760e94830d8a');\n",
              "          const dataTable =\n",
              "            await google.colab.kernel.invokeFunction('convertToInteractive',\n",
              "                                                     [key], {});\n",
              "          if (!dataTable) return;\n",
              "\n",
              "          const docLinkHtml = 'Like what you see? Visit the ' +\n",
              "            '<a target=\"_blank\" href=https://colab.research.google.com/notebooks/data_table.ipynb>data table notebook</a>'\n",
              "            + ' to learn more about interactive tables.';\n",
              "          element.innerHTML = '';\n",
              "          dataTable['output_type'] = 'display_data';\n",
              "          await google.colab.output.renderOutput(dataTable, element);\n",
              "          const docLink = document.createElement('div');\n",
              "          docLink.innerHTML = docLinkHtml;\n",
              "          element.appendChild(docLink);\n",
              "        }\n",
              "      </script>\n",
              "    </div>\n",
              "  </div>\n",
              "  "
            ]
          },
          "metadata": {},
          "execution_count": 37
        }
      ]
    },
    {
      "cell_type": "code",
      "metadata": {
        "colab": {
          "base_uri": "https://localhost:8080/"
        },
        "id": "fzcADmHWE8tS",
        "outputId": "f7661e7b-2549-4e94-8d0e-4bff4609b360"
      },
      "source": [
        "Y.head(2)"
      ],
      "execution_count": null,
      "outputs": [
        {
          "output_type": "execute_result",
          "data": {
            "text/plain": [
              "0    4\n",
              "1    4\n",
              "Name: Reclamos-Cat, dtype: category\n",
              "Categories (5, object): ['1' < '2' < '3' < '4' < '5']"
            ]
          },
          "metadata": {},
          "execution_count": 38
        }
      ]
    },
    {
      "cell_type": "code",
      "metadata": {
        "id": "AS1z2HMNE8tT"
      },
      "source": [
        "seed = 7\n",
        "test_size = 0.2\n",
        "X_train, X_test, y_train, y_test = train_test_split(X, Y, test_size=test_size, random_state=seed)"
      ],
      "execution_count": null,
      "outputs": []
    },
    {
      "cell_type": "code",
      "metadata": {
        "colab": {
          "base_uri": "https://localhost:8080/"
        },
        "id": "7ChJfMSdE8tU",
        "outputId": "81eb1ad5-ff96-40df-8637-b3bb4d116a45"
      },
      "source": [
        "model = XGBClassifier(reg_alpha=1, reg_lambda=1)\n",
        "model.fit(X_train, y_train)"
      ],
      "execution_count": null,
      "outputs": [
        {
          "output_type": "execute_result",
          "data": {
            "text/plain": [
              "XGBClassifier(objective='multi:softprob', reg_alpha=1)"
            ]
          },
          "metadata": {},
          "execution_count": 40
        }
      ]
    },
    {
      "cell_type": "code",
      "metadata": {
        "colab": {
          "base_uri": "https://localhost:8080/"
        },
        "id": "SgDC71LlE8tX",
        "outputId": "cc591e67-edad-40f2-9066-12f096fa919c"
      },
      "source": [
        "from sklearn import metrics\n",
        "from sklearn.metrics import *\n",
        "\n",
        "#Realizo la predicción\n",
        "y_pred = model.predict(X_test)\n",
        "#Verifico la matriz de Confusión\n",
        "matriz = confusion_matrix(y_test, y_pred)\n",
        "#Calculo la precisión del modelo\n",
        "precision = precision_score(y_test, y_pred, average=\"macro\")\n",
        "#Calculo la exactitud del modelo\n",
        "exactitud = accuracy_score(y_test, y_pred)\n",
        "#Calculo la sensibilidad del modelo\n",
        "sensibilidad = recall_score(y_test, y_pred, average=\"macro\")\n",
        "#Calculo el Puntaje F1 del modelo\n",
        "puntajef1 = f1_score(y_test, y_pred, average=\"macro\")\n",
        "#Calculo la curva ROC - AUC del modelo\n",
        "roc_auc = roc_auc_score(y_test, y_pred)\n",
        "\n",
        "print('Matriz de Confusión:')\n",
        "print(matriz)\n",
        "print('Precisión del modelo:', precision)\n",
        "print('Exactitud del modelo:', exactitud)\n",
        "print('Sensibilidad del modelo:', sensibilidad)\n",
        "print('Puntaje F1 del modelo:', puntajef1)\n",
        "print('Curva ROC - AUC del modelo:', roc_auc)"
      ],
      "execution_count": null,
      "outputs": [
        {
          "output_type": "stream",
          "name": "stdout",
          "text": [
            "Matriz de Confusión:\n",
            "[[6 1]\n",
            " [1 1]]\n",
            "Precisión del modelo: 0.6785714285714286\n",
            "Exactitud del modelo: 0.7777777777777778\n",
            "Sensibilidad del modelo: 0.6785714285714286\n",
            "Puntaje F1 del modelo: 0.6785714285714286\n",
            "Curva ROC - AUC del modelo: 0.6785714285714286\n"
          ]
        }
      ]
    },
    {
      "cell_type": "markdown",
      "metadata": {
        "id": "vo-QjqbhFg8T"
      },
      "source": [
        "#XGboost - Con RFE"
      ]
    },
    {
      "cell_type": "markdown",
      "metadata": {
        "id": "bnq4a3BCFn6l"
      },
      "source": [
        "##RFE"
      ]
    },
    {
      "cell_type": "code",
      "metadata": {
        "colab": {
          "base_uri": "https://localhost:8080/"
        },
        "id": "QS1HukEQFz-a",
        "outputId": "8afab16a-f71c-4819-9120-6765f1e601f1"
      },
      "source": [
        "from sklearn import linear_model\n",
        "from time import time\n",
        "import numpy as np\n",
        "import seaborn as sns\n",
        "import statsmodels.api as sm\n",
        "from sklearn.linear_model import LinearRegression\n",
        "from sklearn.feature_selection import RFE\n",
        "\n",
        "df = data.dropna()\n",
        "X = df.drop(['Reclamos-Cat'], axis=1)\n",
        "Y = df['Reclamos-Cat']\n",
        "\n",
        "#######################################\n",
        "#no of features\n",
        "nof_list=np.arange(1,14)            \n",
        "high_score=0\n",
        "#Variable to store the optimum features\n",
        "nof=0           \n",
        "score_list =[]\n",
        "for n in range(len(nof_list)):\n",
        "    X_train, X_test, y_train, y_test = train_test_split(X,Y, test_size = 0.2, random_state = 0)\n",
        "    model = LinearRegression()\n",
        "    rfe = RFE(model,nof_list[n])\n",
        "    X_train_rfe = rfe.fit_transform(X_train,y_train)\n",
        "    X_test_rfe = rfe.transform(X_test)\n",
        "    model.fit(X_train_rfe,y_train)\n",
        "    score = model.score(X_test_rfe,y_test)\n",
        "    score_list.append(score)\n",
        "    if(score>high_score):\n",
        "        high_score = score\n",
        "        nof = nof_list[n]\n",
        "print(\"Optimum number of features: %d\" %nof)\n",
        "print(\"Score with %d features: %f\" % (nof, high_score))\n",
        "#########################################\n",
        "cols = list(X.columns)\n",
        "model = LinearRegression()\n",
        "#Initializing RFE model\n",
        "rfe = RFE(model, 7)             \n",
        "#Transforming data using RFE\n",
        "X_rfe = rfe.fit_transform(X,Y)  \n",
        "#Fitting the data to model\n",
        "model.fit(X_rfe,Y)              \n",
        "temp = pd.Series(rfe.support_,index = cols)\n",
        "selected_features_rfe = temp[temp==True].index\n",
        "print(selected_features_rfe)"
      ],
      "execution_count": null,
      "outputs": [
        {
          "output_type": "stream",
          "name": "stderr",
          "text": [
            "/usr/local/lib/python3.7/dist-packages/statsmodels/tools/_testing.py:19: FutureWarning: pandas.util.testing is deprecated. Use the functions in the public API at pandas.testing instead.\n",
            "  import pandas.util.testing as tm\n",
            "/usr/local/lib/python3.7/dist-packages/sklearn/utils/validation.py:72: FutureWarning: Pass n_features_to_select=1 as keyword args. From version 1.0 (renaming of 0.25) passing these as positional arguments will result in an error\n",
            "  \"will result in an error\", FutureWarning)\n",
            "/usr/local/lib/python3.7/dist-packages/sklearn/utils/validation.py:72: FutureWarning: Pass n_features_to_select=2 as keyword args. From version 1.0 (renaming of 0.25) passing these as positional arguments will result in an error\n",
            "  \"will result in an error\", FutureWarning)\n",
            "/usr/local/lib/python3.7/dist-packages/sklearn/utils/validation.py:72: FutureWarning: Pass n_features_to_select=3 as keyword args. From version 1.0 (renaming of 0.25) passing these as positional arguments will result in an error\n",
            "  \"will result in an error\", FutureWarning)\n",
            "/usr/local/lib/python3.7/dist-packages/sklearn/utils/validation.py:72: FutureWarning: Pass n_features_to_select=4 as keyword args. From version 1.0 (renaming of 0.25) passing these as positional arguments will result in an error\n",
            "  \"will result in an error\", FutureWarning)\n",
            "/usr/local/lib/python3.7/dist-packages/sklearn/utils/validation.py:72: FutureWarning: Pass n_features_to_select=5 as keyword args. From version 1.0 (renaming of 0.25) passing these as positional arguments will result in an error\n",
            "  \"will result in an error\", FutureWarning)\n",
            "/usr/local/lib/python3.7/dist-packages/sklearn/utils/validation.py:72: FutureWarning: Pass n_features_to_select=6 as keyword args. From version 1.0 (renaming of 0.25) passing these as positional arguments will result in an error\n",
            "  \"will result in an error\", FutureWarning)\n",
            "/usr/local/lib/python3.7/dist-packages/sklearn/utils/validation.py:72: FutureWarning: Pass n_features_to_select=7 as keyword args. From version 1.0 (renaming of 0.25) passing these as positional arguments will result in an error\n",
            "  \"will result in an error\", FutureWarning)\n",
            "/usr/local/lib/python3.7/dist-packages/sklearn/utils/validation.py:72: FutureWarning: Pass n_features_to_select=8 as keyword args. From version 1.0 (renaming of 0.25) passing these as positional arguments will result in an error\n",
            "  \"will result in an error\", FutureWarning)\n",
            "/usr/local/lib/python3.7/dist-packages/sklearn/utils/validation.py:72: FutureWarning: Pass n_features_to_select=9 as keyword args. From version 1.0 (renaming of 0.25) passing these as positional arguments will result in an error\n",
            "  \"will result in an error\", FutureWarning)\n",
            "/usr/local/lib/python3.7/dist-packages/sklearn/utils/validation.py:72: FutureWarning: Pass n_features_to_select=10 as keyword args. From version 1.0 (renaming of 0.25) passing these as positional arguments will result in an error\n",
            "  \"will result in an error\", FutureWarning)\n",
            "/usr/local/lib/python3.7/dist-packages/sklearn/utils/validation.py:72: FutureWarning: Pass n_features_to_select=11 as keyword args. From version 1.0 (renaming of 0.25) passing these as positional arguments will result in an error\n",
            "  \"will result in an error\", FutureWarning)\n",
            "/usr/local/lib/python3.7/dist-packages/sklearn/utils/validation.py:72: FutureWarning: Pass n_features_to_select=12 as keyword args. From version 1.0 (renaming of 0.25) passing these as positional arguments will result in an error\n",
            "  \"will result in an error\", FutureWarning)\n"
          ]
        },
        {
          "output_type": "stream",
          "name": "stdout",
          "text": [
            "Optimum number of features: 7\n",
            "Score with 7 features: 0.551912\n",
            "Index(['AÑO', 'CSA%', 'DAP (%)', 'CAT (%)', 'Bajas', 'Consultas', 'Altas'], dtype='object')\n"
          ]
        },
        {
          "output_type": "stream",
          "name": "stderr",
          "text": [
            "/usr/local/lib/python3.7/dist-packages/sklearn/utils/validation.py:72: FutureWarning: Pass n_features_to_select=13 as keyword args. From version 1.0 (renaming of 0.25) passing these as positional arguments will result in an error\n",
            "  \"will result in an error\", FutureWarning)\n",
            "/usr/local/lib/python3.7/dist-packages/sklearn/utils/validation.py:72: FutureWarning: Pass n_features_to_select=7 as keyword args. From version 1.0 (renaming of 0.25) passing these as positional arguments will result in an error\n",
            "  \"will result in an error\", FutureWarning)\n"
          ]
        }
      ]
    },
    {
      "cell_type": "markdown",
      "metadata": {
        "id": "vputlx9eFg8U"
      },
      "source": [
        "##XGBoost - Solo"
      ]
    },
    {
      "cell_type": "code",
      "metadata": {
        "id": "BCQ1yNltFg8U"
      },
      "source": [
        "import pandas as pd\n",
        "from xgboost import XGBClassifier\n",
        "from sklearn.model_selection import train_test_split\n",
        "from sklearn.metrics import accuracy_score"
      ],
      "execution_count": null,
      "outputs": []
    },
    {
      "cell_type": "code",
      "metadata": {
        "id": "K8mHYLoUFg8U"
      },
      "source": [
        "df = data.dropna()"
      ],
      "execution_count": null,
      "outputs": []
    },
    {
      "cell_type": "code",
      "metadata": {
        "id": "7mcukIxqFg8U"
      },
      "source": [
        "X = df[['AÑO', 'CSA%', 'DAP (%)', 'CAT (%)', 'Bajas', 'Consultas', 'Altas']]\n",
        "Y = df['Reclamos-Cat']"
      ],
      "execution_count": null,
      "outputs": []
    },
    {
      "cell_type": "code",
      "metadata": {
        "id": "GCXooAxjFg8U",
        "colab": {
          "base_uri": "https://localhost:8080/"
        },
        "outputId": "e8c8b1f4-7efb-45d0-eae6-9659b11efd71"
      },
      "source": [
        "X.head(1)"
      ],
      "execution_count": null,
      "outputs": [
        {
          "output_type": "execute_result",
          "data": {
            "text/plain": [
              "   AÑO  CSA%   DAP (%)  CAT (%)  Bajas  Consultas  Altas\n",
              "0    1   0.0  0.044029   0.0525   0.79       0.78   0.95"
            ],
            "text/html": [
              "\n",
              "  <div id=\"df-9da1dc9c-eac2-46f1-9b00-4e2ed9369cde\">\n",
              "    <div class=\"colab-df-container\">\n",
              "      <div>\n",
              "<style scoped>\n",
              "    .dataframe tbody tr th:only-of-type {\n",
              "        vertical-align: middle;\n",
              "    }\n",
              "\n",
              "    .dataframe tbody tr th {\n",
              "        vertical-align: top;\n",
              "    }\n",
              "\n",
              "    .dataframe thead th {\n",
              "        text-align: right;\n",
              "    }\n",
              "</style>\n",
              "<table border=\"1\" class=\"dataframe\">\n",
              "  <thead>\n",
              "    <tr style=\"text-align: right;\">\n",
              "      <th></th>\n",
              "      <th>AÑO</th>\n",
              "      <th>CSA%</th>\n",
              "      <th>DAP (%)</th>\n",
              "      <th>CAT (%)</th>\n",
              "      <th>Bajas</th>\n",
              "      <th>Consultas</th>\n",
              "      <th>Altas</th>\n",
              "    </tr>\n",
              "  </thead>\n",
              "  <tbody>\n",
              "    <tr>\n",
              "      <th>0</th>\n",
              "      <td>1</td>\n",
              "      <td>0.0</td>\n",
              "      <td>0.044029</td>\n",
              "      <td>0.0525</td>\n",
              "      <td>0.79</td>\n",
              "      <td>0.78</td>\n",
              "      <td>0.95</td>\n",
              "    </tr>\n",
              "  </tbody>\n",
              "</table>\n",
              "</div>\n",
              "      <button class=\"colab-df-convert\" onclick=\"convertToInteractive('df-9da1dc9c-eac2-46f1-9b00-4e2ed9369cde')\"\n",
              "              title=\"Convert this dataframe to an interactive table.\"\n",
              "              style=\"display:none;\">\n",
              "        \n",
              "  <svg xmlns=\"http://www.w3.org/2000/svg\" height=\"24px\"viewBox=\"0 0 24 24\"\n",
              "       width=\"24px\">\n",
              "    <path d=\"M0 0h24v24H0V0z\" fill=\"none\"/>\n",
              "    <path d=\"M18.56 5.44l.94 2.06.94-2.06 2.06-.94-2.06-.94-.94-2.06-.94 2.06-2.06.94zm-11 1L8.5 8.5l.94-2.06 2.06-.94-2.06-.94L8.5 2.5l-.94 2.06-2.06.94zm10 10l.94 2.06.94-2.06 2.06-.94-2.06-.94-.94-2.06-.94 2.06-2.06.94z\"/><path d=\"M17.41 7.96l-1.37-1.37c-.4-.4-.92-.59-1.43-.59-.52 0-1.04.2-1.43.59L10.3 9.45l-7.72 7.72c-.78.78-.78 2.05 0 2.83L4 21.41c.39.39.9.59 1.41.59.51 0 1.02-.2 1.41-.59l7.78-7.78 2.81-2.81c.8-.78.8-2.07 0-2.86zM5.41 20L4 18.59l7.72-7.72 1.47 1.35L5.41 20z\"/>\n",
              "  </svg>\n",
              "      </button>\n",
              "      \n",
              "  <style>\n",
              "    .colab-df-container {\n",
              "      display:flex;\n",
              "      flex-wrap:wrap;\n",
              "      gap: 12px;\n",
              "    }\n",
              "\n",
              "    .colab-df-convert {\n",
              "      background-color: #E8F0FE;\n",
              "      border: none;\n",
              "      border-radius: 50%;\n",
              "      cursor: pointer;\n",
              "      display: none;\n",
              "      fill: #1967D2;\n",
              "      height: 32px;\n",
              "      padding: 0 0 0 0;\n",
              "      width: 32px;\n",
              "    }\n",
              "\n",
              "    .colab-df-convert:hover {\n",
              "      background-color: #E2EBFA;\n",
              "      box-shadow: 0px 1px 2px rgba(60, 64, 67, 0.3), 0px 1px 3px 1px rgba(60, 64, 67, 0.15);\n",
              "      fill: #174EA6;\n",
              "    }\n",
              "\n",
              "    [theme=dark] .colab-df-convert {\n",
              "      background-color: #3B4455;\n",
              "      fill: #D2E3FC;\n",
              "    }\n",
              "\n",
              "    [theme=dark] .colab-df-convert:hover {\n",
              "      background-color: #434B5C;\n",
              "      box-shadow: 0px 1px 3px 1px rgba(0, 0, 0, 0.15);\n",
              "      filter: drop-shadow(0px 1px 2px rgba(0, 0, 0, 0.3));\n",
              "      fill: #FFFFFF;\n",
              "    }\n",
              "  </style>\n",
              "\n",
              "      <script>\n",
              "        const buttonEl =\n",
              "          document.querySelector('#df-9da1dc9c-eac2-46f1-9b00-4e2ed9369cde button.colab-df-convert');\n",
              "        buttonEl.style.display =\n",
              "          google.colab.kernel.accessAllowed ? 'block' : 'none';\n",
              "\n",
              "        async function convertToInteractive(key) {\n",
              "          const element = document.querySelector('#df-9da1dc9c-eac2-46f1-9b00-4e2ed9369cde');\n",
              "          const dataTable =\n",
              "            await google.colab.kernel.invokeFunction('convertToInteractive',\n",
              "                                                     [key], {});\n",
              "          if (!dataTable) return;\n",
              "\n",
              "          const docLinkHtml = 'Like what you see? Visit the ' +\n",
              "            '<a target=\"_blank\" href=https://colab.research.google.com/notebooks/data_table.ipynb>data table notebook</a>'\n",
              "            + ' to learn more about interactive tables.';\n",
              "          element.innerHTML = '';\n",
              "          dataTable['output_type'] = 'display_data';\n",
              "          await google.colab.output.renderOutput(dataTable, element);\n",
              "          const docLink = document.createElement('div');\n",
              "          docLink.innerHTML = docLinkHtml;\n",
              "          element.appendChild(docLink);\n",
              "        }\n",
              "      </script>\n",
              "    </div>\n",
              "  </div>\n",
              "  "
            ]
          },
          "metadata": {},
          "execution_count": 46
        }
      ]
    },
    {
      "cell_type": "code",
      "metadata": {
        "id": "RbxTldXpFg8V",
        "colab": {
          "base_uri": "https://localhost:8080/"
        },
        "outputId": "9763e9f5-f943-4bdd-af12-5c8385dcf8d6"
      },
      "source": [
        "Y.head(2)"
      ],
      "execution_count": null,
      "outputs": [
        {
          "output_type": "execute_result",
          "data": {
            "text/plain": [
              "0    4\n",
              "1    4\n",
              "Name: Reclamos-Cat, dtype: category\n",
              "Categories (5, object): ['1' < '2' < '3' < '4' < '5']"
            ]
          },
          "metadata": {},
          "execution_count": 47
        }
      ]
    },
    {
      "cell_type": "code",
      "metadata": {
        "id": "x1LusAhgFg8V"
      },
      "source": [
        "seed = 7\n",
        "test_size = 0.2\n",
        "X_train, X_test, y_train, y_test = train_test_split(X, Y, test_size=test_size, random_state=seed)"
      ],
      "execution_count": null,
      "outputs": []
    },
    {
      "cell_type": "code",
      "metadata": {
        "id": "wzpelmRCFg8V",
        "colab": {
          "base_uri": "https://localhost:8080/"
        },
        "outputId": "430f4839-9ddb-4c99-8b2a-c42ced0b6987"
      },
      "source": [
        "model = XGBClassifier(reg_alpha=0, reg_lambda=0)\n",
        "model.fit(X_train, y_train)"
      ],
      "execution_count": null,
      "outputs": [
        {
          "output_type": "execute_result",
          "data": {
            "text/plain": [
              "XGBClassifier(objective='multi:softprob', reg_lambda=0)"
            ]
          },
          "metadata": {},
          "execution_count": 49
        }
      ]
    },
    {
      "cell_type": "code",
      "metadata": {
        "id": "NBAWOMFoFg8W",
        "colab": {
          "base_uri": "https://localhost:8080/"
        },
        "outputId": "9d79909f-1003-4446-f0ee-6526a569be48"
      },
      "source": [
        "from sklearn import metrics\n",
        "from sklearn.metrics import *\n",
        "\n",
        "#Realizo la predicción\n",
        "y_pred = model.predict(X_test)\n",
        "#Verifico la matriz de Confusión\n",
        "matriz = confusion_matrix(y_test, y_pred)\n",
        "#Calculo la precisión del modelo\n",
        "precision = precision_score(y_test, y_pred, average=\"macro\")\n",
        "#Calculo la exactitud del modelo\n",
        "exactitud = accuracy_score(y_test, y_pred)\n",
        "#Calculo la sensibilidad del modelo\n",
        "sensibilidad = recall_score(y_test, y_pred, average=\"macro\")\n",
        "#Calculo el Puntaje F1 del modelo\n",
        "puntajef1 = f1_score(y_test, y_pred, average=\"macro\")\n",
        "#Calculo la curva ROC - AUC del modelo\n",
        "roc_auc = roc_auc_score(y_test, y_pred)\n",
        "\n",
        "print('Matriz de Confusión:')\n",
        "print(matriz)\n",
        "print('Precisión del modelo:', precision)\n",
        "print('Exactitud del modelo:', exactitud)\n",
        "print('Sensibilidad del modelo:', sensibilidad)\n",
        "print('Puntaje F1 del modelo:', puntajef1)\n",
        "print('Curva ROC - AUC del modelo:', roc_auc)"
      ],
      "execution_count": null,
      "outputs": [
        {
          "output_type": "stream",
          "name": "stdout",
          "text": [
            "Matriz de Confusión:\n",
            "[[6 1]\n",
            " [0 2]]\n",
            "Precisión del modelo: 0.8333333333333333\n",
            "Exactitud del modelo: 0.8888888888888888\n",
            "Sensibilidad del modelo: 0.9285714285714286\n",
            "Puntaje F1 del modelo: 0.8615384615384616\n",
            "Curva ROC - AUC del modelo: 0.9285714285714286\n"
          ]
        }
      ]
    },
    {
      "cell_type": "markdown",
      "metadata": {
        "id": "Nph0cwlbFg8W"
      },
      "source": [
        "##XGBoost - Lasso"
      ]
    },
    {
      "cell_type": "code",
      "metadata": {
        "id": "tiSSUrzdFg8W"
      },
      "source": [
        "import pandas as pd\n",
        "from xgboost import XGBClassifier\n",
        "from sklearn.model_selection import train_test_split\n",
        "from sklearn.metrics import accuracy_score"
      ],
      "execution_count": null,
      "outputs": []
    },
    {
      "cell_type": "code",
      "metadata": {
        "id": "sSgWKHd7Fg8W"
      },
      "source": [
        "df = data.dropna()"
      ],
      "execution_count": null,
      "outputs": []
    },
    {
      "cell_type": "code",
      "metadata": {
        "id": "GkK_1FuMFg8X"
      },
      "source": [
        "X = df[['AÑO', 'CSA%', 'DAP (%)', 'CAT (%)', 'Bajas', 'Consultas', 'Altas']]\n",
        "Y = df['Reclamos-Cat']"
      ],
      "execution_count": null,
      "outputs": []
    },
    {
      "cell_type": "code",
      "metadata": {
        "id": "qOCtHWK8Fg8X",
        "colab": {
          "base_uri": "https://localhost:8080/"
        },
        "outputId": "31aa4358-25af-4099-d003-a0db46b0c68e"
      },
      "source": [
        "X.head(1)"
      ],
      "execution_count": null,
      "outputs": [
        {
          "output_type": "execute_result",
          "data": {
            "text/plain": [
              "   AÑO  CSA%   DAP (%)  CAT (%)  Bajas  Consultas  Altas\n",
              "0    1   0.0  0.044029   0.0525   0.79       0.78   0.95"
            ],
            "text/html": [
              "\n",
              "  <div id=\"df-a99e309d-ce35-4c19-ba31-0a56a052553d\">\n",
              "    <div class=\"colab-df-container\">\n",
              "      <div>\n",
              "<style scoped>\n",
              "    .dataframe tbody tr th:only-of-type {\n",
              "        vertical-align: middle;\n",
              "    }\n",
              "\n",
              "    .dataframe tbody tr th {\n",
              "        vertical-align: top;\n",
              "    }\n",
              "\n",
              "    .dataframe thead th {\n",
              "        text-align: right;\n",
              "    }\n",
              "</style>\n",
              "<table border=\"1\" class=\"dataframe\">\n",
              "  <thead>\n",
              "    <tr style=\"text-align: right;\">\n",
              "      <th></th>\n",
              "      <th>AÑO</th>\n",
              "      <th>CSA%</th>\n",
              "      <th>DAP (%)</th>\n",
              "      <th>CAT (%)</th>\n",
              "      <th>Bajas</th>\n",
              "      <th>Consultas</th>\n",
              "      <th>Altas</th>\n",
              "    </tr>\n",
              "  </thead>\n",
              "  <tbody>\n",
              "    <tr>\n",
              "      <th>0</th>\n",
              "      <td>1</td>\n",
              "      <td>0.0</td>\n",
              "      <td>0.044029</td>\n",
              "      <td>0.0525</td>\n",
              "      <td>0.79</td>\n",
              "      <td>0.78</td>\n",
              "      <td>0.95</td>\n",
              "    </tr>\n",
              "  </tbody>\n",
              "</table>\n",
              "</div>\n",
              "      <button class=\"colab-df-convert\" onclick=\"convertToInteractive('df-a99e309d-ce35-4c19-ba31-0a56a052553d')\"\n",
              "              title=\"Convert this dataframe to an interactive table.\"\n",
              "              style=\"display:none;\">\n",
              "        \n",
              "  <svg xmlns=\"http://www.w3.org/2000/svg\" height=\"24px\"viewBox=\"0 0 24 24\"\n",
              "       width=\"24px\">\n",
              "    <path d=\"M0 0h24v24H0V0z\" fill=\"none\"/>\n",
              "    <path d=\"M18.56 5.44l.94 2.06.94-2.06 2.06-.94-2.06-.94-.94-2.06-.94 2.06-2.06.94zm-11 1L8.5 8.5l.94-2.06 2.06-.94-2.06-.94L8.5 2.5l-.94 2.06-2.06.94zm10 10l.94 2.06.94-2.06 2.06-.94-2.06-.94-.94-2.06-.94 2.06-2.06.94z\"/><path d=\"M17.41 7.96l-1.37-1.37c-.4-.4-.92-.59-1.43-.59-.52 0-1.04.2-1.43.59L10.3 9.45l-7.72 7.72c-.78.78-.78 2.05 0 2.83L4 21.41c.39.39.9.59 1.41.59.51 0 1.02-.2 1.41-.59l7.78-7.78 2.81-2.81c.8-.78.8-2.07 0-2.86zM5.41 20L4 18.59l7.72-7.72 1.47 1.35L5.41 20z\"/>\n",
              "  </svg>\n",
              "      </button>\n",
              "      \n",
              "  <style>\n",
              "    .colab-df-container {\n",
              "      display:flex;\n",
              "      flex-wrap:wrap;\n",
              "      gap: 12px;\n",
              "    }\n",
              "\n",
              "    .colab-df-convert {\n",
              "      background-color: #E8F0FE;\n",
              "      border: none;\n",
              "      border-radius: 50%;\n",
              "      cursor: pointer;\n",
              "      display: none;\n",
              "      fill: #1967D2;\n",
              "      height: 32px;\n",
              "      padding: 0 0 0 0;\n",
              "      width: 32px;\n",
              "    }\n",
              "\n",
              "    .colab-df-convert:hover {\n",
              "      background-color: #E2EBFA;\n",
              "      box-shadow: 0px 1px 2px rgba(60, 64, 67, 0.3), 0px 1px 3px 1px rgba(60, 64, 67, 0.15);\n",
              "      fill: #174EA6;\n",
              "    }\n",
              "\n",
              "    [theme=dark] .colab-df-convert {\n",
              "      background-color: #3B4455;\n",
              "      fill: #D2E3FC;\n",
              "    }\n",
              "\n",
              "    [theme=dark] .colab-df-convert:hover {\n",
              "      background-color: #434B5C;\n",
              "      box-shadow: 0px 1px 3px 1px rgba(0, 0, 0, 0.15);\n",
              "      filter: drop-shadow(0px 1px 2px rgba(0, 0, 0, 0.3));\n",
              "      fill: #FFFFFF;\n",
              "    }\n",
              "  </style>\n",
              "\n",
              "      <script>\n",
              "        const buttonEl =\n",
              "          document.querySelector('#df-a99e309d-ce35-4c19-ba31-0a56a052553d button.colab-df-convert');\n",
              "        buttonEl.style.display =\n",
              "          google.colab.kernel.accessAllowed ? 'block' : 'none';\n",
              "\n",
              "        async function convertToInteractive(key) {\n",
              "          const element = document.querySelector('#df-a99e309d-ce35-4c19-ba31-0a56a052553d');\n",
              "          const dataTable =\n",
              "            await google.colab.kernel.invokeFunction('convertToInteractive',\n",
              "                                                     [key], {});\n",
              "          if (!dataTable) return;\n",
              "\n",
              "          const docLinkHtml = 'Like what you see? Visit the ' +\n",
              "            '<a target=\"_blank\" href=https://colab.research.google.com/notebooks/data_table.ipynb>data table notebook</a>'\n",
              "            + ' to learn more about interactive tables.';\n",
              "          element.innerHTML = '';\n",
              "          dataTable['output_type'] = 'display_data';\n",
              "          await google.colab.output.renderOutput(dataTable, element);\n",
              "          const docLink = document.createElement('div');\n",
              "          docLink.innerHTML = docLinkHtml;\n",
              "          element.appendChild(docLink);\n",
              "        }\n",
              "      </script>\n",
              "    </div>\n",
              "  </div>\n",
              "  "
            ]
          },
          "metadata": {},
          "execution_count": 54
        }
      ]
    },
    {
      "cell_type": "code",
      "metadata": {
        "id": "6r3-hPm3Fg8X",
        "colab": {
          "base_uri": "https://localhost:8080/"
        },
        "outputId": "af64ced1-54dd-4aa6-df23-9a18dbb909f1"
      },
      "source": [
        "Y.head(2)"
      ],
      "execution_count": null,
      "outputs": [
        {
          "output_type": "execute_result",
          "data": {
            "text/plain": [
              "0    4\n",
              "1    4\n",
              "Name: Reclamos-Cat, dtype: category\n",
              "Categories (5, object): ['1' < '2' < '3' < '4' < '5']"
            ]
          },
          "metadata": {},
          "execution_count": 55
        }
      ]
    },
    {
      "cell_type": "code",
      "metadata": {
        "id": "EUO3e1PJFg8X"
      },
      "source": [
        "seed = 7\n",
        "test_size = 0.2\n",
        "X_train, X_test, y_train, y_test = train_test_split(X, Y, test_size=test_size, random_state=seed)"
      ],
      "execution_count": null,
      "outputs": []
    },
    {
      "cell_type": "code",
      "metadata": {
        "id": "sIjNKYMpFg8Y",
        "colab": {
          "base_uri": "https://localhost:8080/"
        },
        "outputId": "6aeec773-0f40-4a0b-a41b-56656ae9c0f7"
      },
      "source": [
        "model = XGBClassifier(reg_alpha=1, reg_lambda=0)\n",
        "model.fit(X_train, y_train)"
      ],
      "execution_count": null,
      "outputs": [
        {
          "output_type": "execute_result",
          "data": {
            "text/plain": [
              "XGBClassifier(objective='multi:softprob', reg_alpha=1, reg_lambda=0)"
            ]
          },
          "metadata": {},
          "execution_count": 57
        }
      ]
    },
    {
      "cell_type": "code",
      "metadata": {
        "id": "bGwhvphyFg8Y",
        "colab": {
          "base_uri": "https://localhost:8080/"
        },
        "outputId": "5c32a9ff-96f8-4b60-ba81-264fcd5d2179"
      },
      "source": [
        "from sklearn import metrics\n",
        "from sklearn.metrics import *\n",
        "\n",
        "#Realizo la predicción\n",
        "y_pred = model.predict(X_test)\n",
        "#Verifico la matriz de Confusión\n",
        "matriz = confusion_matrix(y_test, y_pred)\n",
        "#Calculo la precisión del modelo\n",
        "precision = precision_score(y_test, y_pred, average=\"macro\")\n",
        "#Calculo la exactitud del modelo\n",
        "exactitud = accuracy_score(y_test, y_pred)\n",
        "#Calculo la sensibilidad del modelo\n",
        "sensibilidad = recall_score(y_test, y_pred, average=\"macro\")\n",
        "#Calculo el Puntaje F1 del modelo\n",
        "puntajef1 = f1_score(y_test, y_pred, average=\"macro\")\n",
        "#Calculo la curva ROC - AUC del modelo\n",
        "roc_auc = roc_auc_score(y_test, y_pred)\n",
        "\n",
        "print('Matriz de Confusión:')\n",
        "print(matriz)\n",
        "print('Precisión del modelo:', precision)\n",
        "print('Exactitud del modelo:', exactitud)\n",
        "print('Sensibilidad del modelo:', sensibilidad)\n",
        "print('Puntaje F1 del modelo:', puntajef1)\n",
        "print('Curva ROC - AUC del modelo:', roc_auc)"
      ],
      "execution_count": null,
      "outputs": [
        {
          "output_type": "stream",
          "name": "stdout",
          "text": [
            "Matriz de Confusión:\n",
            "[[7 0]\n",
            " [1 1]]\n",
            "Precisión del modelo: 0.9375\n",
            "Exactitud del modelo: 0.8888888888888888\n",
            "Sensibilidad del modelo: 0.75\n",
            "Puntaje F1 del modelo: 0.8\n",
            "Curva ROC - AUC del modelo: 0.75\n"
          ]
        }
      ]
    },
    {
      "cell_type": "markdown",
      "metadata": {
        "id": "sNPVIU9MFg8Y"
      },
      "source": [
        "##XGBoost - Ridge"
      ]
    },
    {
      "cell_type": "code",
      "metadata": {
        "id": "xCwf6tVfFg8Y"
      },
      "source": [
        "import pandas as pd\n",
        "from xgboost import XGBClassifier\n",
        "from sklearn.model_selection import train_test_split\n",
        "from sklearn.metrics import accuracy_score"
      ],
      "execution_count": null,
      "outputs": []
    },
    {
      "cell_type": "code",
      "metadata": {
        "id": "n7dC2u8BFg8Z"
      },
      "source": [
        "df = data.dropna()"
      ],
      "execution_count": null,
      "outputs": []
    },
    {
      "cell_type": "code",
      "metadata": {
        "id": "sRPn6ACiFg8Z"
      },
      "source": [
        "X = df[['AÑO', 'CSA%', 'DAP (%)', 'CAT (%)', 'Bajas', 'Consultas', 'Altas']]\n",
        "Y = df['Reclamos-Cat']"
      ],
      "execution_count": null,
      "outputs": []
    },
    {
      "cell_type": "code",
      "metadata": {
        "id": "y_2ymoMRFg8Z",
        "colab": {
          "base_uri": "https://localhost:8080/"
        },
        "outputId": "d2a986d2-2430-4455-b247-822548d30773"
      },
      "source": [
        "X.head(1)"
      ],
      "execution_count": null,
      "outputs": [
        {
          "output_type": "execute_result",
          "data": {
            "text/plain": [
              "   AÑO  CSA%   DAP (%)  CAT (%)  Bajas  Consultas  Altas\n",
              "0    1   0.0  0.044029   0.0525   0.79       0.78   0.95"
            ],
            "text/html": [
              "\n",
              "  <div id=\"df-64c5a1f0-aaa9-4eed-bba3-50083ed552a2\">\n",
              "    <div class=\"colab-df-container\">\n",
              "      <div>\n",
              "<style scoped>\n",
              "    .dataframe tbody tr th:only-of-type {\n",
              "        vertical-align: middle;\n",
              "    }\n",
              "\n",
              "    .dataframe tbody tr th {\n",
              "        vertical-align: top;\n",
              "    }\n",
              "\n",
              "    .dataframe thead th {\n",
              "        text-align: right;\n",
              "    }\n",
              "</style>\n",
              "<table border=\"1\" class=\"dataframe\">\n",
              "  <thead>\n",
              "    <tr style=\"text-align: right;\">\n",
              "      <th></th>\n",
              "      <th>AÑO</th>\n",
              "      <th>CSA%</th>\n",
              "      <th>DAP (%)</th>\n",
              "      <th>CAT (%)</th>\n",
              "      <th>Bajas</th>\n",
              "      <th>Consultas</th>\n",
              "      <th>Altas</th>\n",
              "    </tr>\n",
              "  </thead>\n",
              "  <tbody>\n",
              "    <tr>\n",
              "      <th>0</th>\n",
              "      <td>1</td>\n",
              "      <td>0.0</td>\n",
              "      <td>0.044029</td>\n",
              "      <td>0.0525</td>\n",
              "      <td>0.79</td>\n",
              "      <td>0.78</td>\n",
              "      <td>0.95</td>\n",
              "    </tr>\n",
              "  </tbody>\n",
              "</table>\n",
              "</div>\n",
              "      <button class=\"colab-df-convert\" onclick=\"convertToInteractive('df-64c5a1f0-aaa9-4eed-bba3-50083ed552a2')\"\n",
              "              title=\"Convert this dataframe to an interactive table.\"\n",
              "              style=\"display:none;\">\n",
              "        \n",
              "  <svg xmlns=\"http://www.w3.org/2000/svg\" height=\"24px\"viewBox=\"0 0 24 24\"\n",
              "       width=\"24px\">\n",
              "    <path d=\"M0 0h24v24H0V0z\" fill=\"none\"/>\n",
              "    <path d=\"M18.56 5.44l.94 2.06.94-2.06 2.06-.94-2.06-.94-.94-2.06-.94 2.06-2.06.94zm-11 1L8.5 8.5l.94-2.06 2.06-.94-2.06-.94L8.5 2.5l-.94 2.06-2.06.94zm10 10l.94 2.06.94-2.06 2.06-.94-2.06-.94-.94-2.06-.94 2.06-2.06.94z\"/><path d=\"M17.41 7.96l-1.37-1.37c-.4-.4-.92-.59-1.43-.59-.52 0-1.04.2-1.43.59L10.3 9.45l-7.72 7.72c-.78.78-.78 2.05 0 2.83L4 21.41c.39.39.9.59 1.41.59.51 0 1.02-.2 1.41-.59l7.78-7.78 2.81-2.81c.8-.78.8-2.07 0-2.86zM5.41 20L4 18.59l7.72-7.72 1.47 1.35L5.41 20z\"/>\n",
              "  </svg>\n",
              "      </button>\n",
              "      \n",
              "  <style>\n",
              "    .colab-df-container {\n",
              "      display:flex;\n",
              "      flex-wrap:wrap;\n",
              "      gap: 12px;\n",
              "    }\n",
              "\n",
              "    .colab-df-convert {\n",
              "      background-color: #E8F0FE;\n",
              "      border: none;\n",
              "      border-radius: 50%;\n",
              "      cursor: pointer;\n",
              "      display: none;\n",
              "      fill: #1967D2;\n",
              "      height: 32px;\n",
              "      padding: 0 0 0 0;\n",
              "      width: 32px;\n",
              "    }\n",
              "\n",
              "    .colab-df-convert:hover {\n",
              "      background-color: #E2EBFA;\n",
              "      box-shadow: 0px 1px 2px rgba(60, 64, 67, 0.3), 0px 1px 3px 1px rgba(60, 64, 67, 0.15);\n",
              "      fill: #174EA6;\n",
              "    }\n",
              "\n",
              "    [theme=dark] .colab-df-convert {\n",
              "      background-color: #3B4455;\n",
              "      fill: #D2E3FC;\n",
              "    }\n",
              "\n",
              "    [theme=dark] .colab-df-convert:hover {\n",
              "      background-color: #434B5C;\n",
              "      box-shadow: 0px 1px 3px 1px rgba(0, 0, 0, 0.15);\n",
              "      filter: drop-shadow(0px 1px 2px rgba(0, 0, 0, 0.3));\n",
              "      fill: #FFFFFF;\n",
              "    }\n",
              "  </style>\n",
              "\n",
              "      <script>\n",
              "        const buttonEl =\n",
              "          document.querySelector('#df-64c5a1f0-aaa9-4eed-bba3-50083ed552a2 button.colab-df-convert');\n",
              "        buttonEl.style.display =\n",
              "          google.colab.kernel.accessAllowed ? 'block' : 'none';\n",
              "\n",
              "        async function convertToInteractive(key) {\n",
              "          const element = document.querySelector('#df-64c5a1f0-aaa9-4eed-bba3-50083ed552a2');\n",
              "          const dataTable =\n",
              "            await google.colab.kernel.invokeFunction('convertToInteractive',\n",
              "                                                     [key], {});\n",
              "          if (!dataTable) return;\n",
              "\n",
              "          const docLinkHtml = 'Like what you see? Visit the ' +\n",
              "            '<a target=\"_blank\" href=https://colab.research.google.com/notebooks/data_table.ipynb>data table notebook</a>'\n",
              "            + ' to learn more about interactive tables.';\n",
              "          element.innerHTML = '';\n",
              "          dataTable['output_type'] = 'display_data';\n",
              "          await google.colab.output.renderOutput(dataTable, element);\n",
              "          const docLink = document.createElement('div');\n",
              "          docLink.innerHTML = docLinkHtml;\n",
              "          element.appendChild(docLink);\n",
              "        }\n",
              "      </script>\n",
              "    </div>\n",
              "  </div>\n",
              "  "
            ]
          },
          "metadata": {},
          "execution_count": 62
        }
      ]
    },
    {
      "cell_type": "code",
      "metadata": {
        "id": "gjkHHHcgFg8Z",
        "colab": {
          "base_uri": "https://localhost:8080/"
        },
        "outputId": "8b7eb01f-6abd-403f-99ac-3fcd751403f7"
      },
      "source": [
        "Y.head(2)"
      ],
      "execution_count": null,
      "outputs": [
        {
          "output_type": "execute_result",
          "data": {
            "text/plain": [
              "0    4\n",
              "1    4\n",
              "Name: Reclamos-Cat, dtype: category\n",
              "Categories (5, object): ['1' < '2' < '3' < '4' < '5']"
            ]
          },
          "metadata": {},
          "execution_count": 63
        }
      ]
    },
    {
      "cell_type": "code",
      "metadata": {
        "id": "A0YgvwXWFg8Z"
      },
      "source": [
        "seed = 7\n",
        "test_size = 0.2\n",
        "X_train, X_test, y_train, y_test = train_test_split(X, Y, test_size=test_size, random_state=seed)"
      ],
      "execution_count": null,
      "outputs": []
    },
    {
      "cell_type": "code",
      "metadata": {
        "id": "UN3xM6mLFg8a",
        "colab": {
          "base_uri": "https://localhost:8080/"
        },
        "outputId": "a68e1e14-6ec1-440c-c505-96b047e3c2da"
      },
      "source": [
        "model = XGBClassifier(reg_alpha=0, reg_lambda=1)\n",
        "model.fit(X_train, y_train)"
      ],
      "execution_count": null,
      "outputs": [
        {
          "output_type": "execute_result",
          "data": {
            "text/plain": [
              "XGBClassifier(objective='multi:softprob')"
            ]
          },
          "metadata": {},
          "execution_count": 65
        }
      ]
    },
    {
      "cell_type": "code",
      "metadata": {
        "id": "MxNr7F9YFg8a",
        "colab": {
          "base_uri": "https://localhost:8080/"
        },
        "outputId": "511d926d-ed57-449c-96c9-fa7232f3f9b5"
      },
      "source": [
        "from sklearn import metrics\n",
        "from sklearn.metrics import *\n",
        "\n",
        "#Realizo la predicción\n",
        "y_pred = model.predict(X_test)\n",
        "#Verifico la matriz de Confusión\n",
        "matriz = confusion_matrix(y_test, y_pred)\n",
        "#Calculo la precisión del modelo\n",
        "precision = precision_score(y_test, y_pred, average=\"macro\")\n",
        "#Calculo la exactitud del modelo\n",
        "exactitud = accuracy_score(y_test, y_pred)\n",
        "#Calculo la sensibilidad del modelo\n",
        "sensibilidad = recall_score(y_test, y_pred, average=\"macro\")\n",
        "#Calculo el Puntaje F1 del modelo\n",
        "puntajef1 = f1_score(y_test, y_pred, average=\"macro\")\n",
        "#Calculo la curva ROC - AUC del modelo\n",
        "roc_auc = roc_auc_score(y_test, y_pred)\n",
        "\n",
        "print('Matriz de Confusión:')\n",
        "print(matriz)\n",
        "print('Precisión del modelo:', precision)\n",
        "print('Exactitud del modelo:', exactitud)\n",
        "print('Sensibilidad del modelo:', sensibilidad)\n",
        "print('Puntaje F1 del modelo:', puntajef1)\n",
        "print('Curva ROC - AUC del modelo:', roc_auc)"
      ],
      "execution_count": null,
      "outputs": [
        {
          "output_type": "stream",
          "name": "stdout",
          "text": [
            "Matriz de Confusión:\n",
            "[[6 1]\n",
            " [0 2]]\n",
            "Precisión del modelo: 0.8333333333333333\n",
            "Exactitud del modelo: 0.8888888888888888\n",
            "Sensibilidad del modelo: 0.9285714285714286\n",
            "Puntaje F1 del modelo: 0.8615384615384616\n",
            "Curva ROC - AUC del modelo: 0.9285714285714286\n"
          ]
        }
      ]
    },
    {
      "cell_type": "markdown",
      "metadata": {
        "id": "zTWkQqX9Fg8a"
      },
      "source": [
        "##XGBoost - Elasticnet"
      ]
    },
    {
      "cell_type": "code",
      "metadata": {
        "id": "6f6P0mLfFg8a"
      },
      "source": [
        "import pandas as pd\n",
        "from xgboost import XGBClassifier\n",
        "from sklearn.model_selection import train_test_split\n",
        "from sklearn.metrics import accuracy_score"
      ],
      "execution_count": null,
      "outputs": []
    },
    {
      "cell_type": "code",
      "metadata": {
        "id": "S-y4YeYPFg8b"
      },
      "source": [
        "df = data.dropna()"
      ],
      "execution_count": null,
      "outputs": []
    },
    {
      "cell_type": "code",
      "metadata": {
        "id": "U1M_WAe9Fg8b"
      },
      "source": [
        "X = df[['AÑO', 'CSA%', 'DAP (%)', 'CAT (%)', 'Bajas', 'Consultas', 'Altas']]\n",
        "Y = df['Reclamos-Cat']"
      ],
      "execution_count": null,
      "outputs": []
    },
    {
      "cell_type": "code",
      "metadata": {
        "id": "-E9O6IbOFg8b",
        "colab": {
          "base_uri": "https://localhost:8080/"
        },
        "outputId": "2b2c36b4-0ae6-44bc-828a-d7d314c7e419"
      },
      "source": [
        "X.head(1)"
      ],
      "execution_count": null,
      "outputs": [
        {
          "output_type": "execute_result",
          "data": {
            "text/plain": [
              "   AÑO  CSA%   DAP (%)  CAT (%)  Bajas  Consultas  Altas\n",
              "0    1   0.0  0.044029   0.0525   0.79       0.78   0.95"
            ],
            "text/html": [
              "\n",
              "  <div id=\"df-256c1e12-01c1-4185-ab5b-fd68038a7435\">\n",
              "    <div class=\"colab-df-container\">\n",
              "      <div>\n",
              "<style scoped>\n",
              "    .dataframe tbody tr th:only-of-type {\n",
              "        vertical-align: middle;\n",
              "    }\n",
              "\n",
              "    .dataframe tbody tr th {\n",
              "        vertical-align: top;\n",
              "    }\n",
              "\n",
              "    .dataframe thead th {\n",
              "        text-align: right;\n",
              "    }\n",
              "</style>\n",
              "<table border=\"1\" class=\"dataframe\">\n",
              "  <thead>\n",
              "    <tr style=\"text-align: right;\">\n",
              "      <th></th>\n",
              "      <th>AÑO</th>\n",
              "      <th>CSA%</th>\n",
              "      <th>DAP (%)</th>\n",
              "      <th>CAT (%)</th>\n",
              "      <th>Bajas</th>\n",
              "      <th>Consultas</th>\n",
              "      <th>Altas</th>\n",
              "    </tr>\n",
              "  </thead>\n",
              "  <tbody>\n",
              "    <tr>\n",
              "      <th>0</th>\n",
              "      <td>1</td>\n",
              "      <td>0.0</td>\n",
              "      <td>0.044029</td>\n",
              "      <td>0.0525</td>\n",
              "      <td>0.79</td>\n",
              "      <td>0.78</td>\n",
              "      <td>0.95</td>\n",
              "    </tr>\n",
              "  </tbody>\n",
              "</table>\n",
              "</div>\n",
              "      <button class=\"colab-df-convert\" onclick=\"convertToInteractive('df-256c1e12-01c1-4185-ab5b-fd68038a7435')\"\n",
              "              title=\"Convert this dataframe to an interactive table.\"\n",
              "              style=\"display:none;\">\n",
              "        \n",
              "  <svg xmlns=\"http://www.w3.org/2000/svg\" height=\"24px\"viewBox=\"0 0 24 24\"\n",
              "       width=\"24px\">\n",
              "    <path d=\"M0 0h24v24H0V0z\" fill=\"none\"/>\n",
              "    <path d=\"M18.56 5.44l.94 2.06.94-2.06 2.06-.94-2.06-.94-.94-2.06-.94 2.06-2.06.94zm-11 1L8.5 8.5l.94-2.06 2.06-.94-2.06-.94L8.5 2.5l-.94 2.06-2.06.94zm10 10l.94 2.06.94-2.06 2.06-.94-2.06-.94-.94-2.06-.94 2.06-2.06.94z\"/><path d=\"M17.41 7.96l-1.37-1.37c-.4-.4-.92-.59-1.43-.59-.52 0-1.04.2-1.43.59L10.3 9.45l-7.72 7.72c-.78.78-.78 2.05 0 2.83L4 21.41c.39.39.9.59 1.41.59.51 0 1.02-.2 1.41-.59l7.78-7.78 2.81-2.81c.8-.78.8-2.07 0-2.86zM5.41 20L4 18.59l7.72-7.72 1.47 1.35L5.41 20z\"/>\n",
              "  </svg>\n",
              "      </button>\n",
              "      \n",
              "  <style>\n",
              "    .colab-df-container {\n",
              "      display:flex;\n",
              "      flex-wrap:wrap;\n",
              "      gap: 12px;\n",
              "    }\n",
              "\n",
              "    .colab-df-convert {\n",
              "      background-color: #E8F0FE;\n",
              "      border: none;\n",
              "      border-radius: 50%;\n",
              "      cursor: pointer;\n",
              "      display: none;\n",
              "      fill: #1967D2;\n",
              "      height: 32px;\n",
              "      padding: 0 0 0 0;\n",
              "      width: 32px;\n",
              "    }\n",
              "\n",
              "    .colab-df-convert:hover {\n",
              "      background-color: #E2EBFA;\n",
              "      box-shadow: 0px 1px 2px rgba(60, 64, 67, 0.3), 0px 1px 3px 1px rgba(60, 64, 67, 0.15);\n",
              "      fill: #174EA6;\n",
              "    }\n",
              "\n",
              "    [theme=dark] .colab-df-convert {\n",
              "      background-color: #3B4455;\n",
              "      fill: #D2E3FC;\n",
              "    }\n",
              "\n",
              "    [theme=dark] .colab-df-convert:hover {\n",
              "      background-color: #434B5C;\n",
              "      box-shadow: 0px 1px 3px 1px rgba(0, 0, 0, 0.15);\n",
              "      filter: drop-shadow(0px 1px 2px rgba(0, 0, 0, 0.3));\n",
              "      fill: #FFFFFF;\n",
              "    }\n",
              "  </style>\n",
              "\n",
              "      <script>\n",
              "        const buttonEl =\n",
              "          document.querySelector('#df-256c1e12-01c1-4185-ab5b-fd68038a7435 button.colab-df-convert');\n",
              "        buttonEl.style.display =\n",
              "          google.colab.kernel.accessAllowed ? 'block' : 'none';\n",
              "\n",
              "        async function convertToInteractive(key) {\n",
              "          const element = document.querySelector('#df-256c1e12-01c1-4185-ab5b-fd68038a7435');\n",
              "          const dataTable =\n",
              "            await google.colab.kernel.invokeFunction('convertToInteractive',\n",
              "                                                     [key], {});\n",
              "          if (!dataTable) return;\n",
              "\n",
              "          const docLinkHtml = 'Like what you see? Visit the ' +\n",
              "            '<a target=\"_blank\" href=https://colab.research.google.com/notebooks/data_table.ipynb>data table notebook</a>'\n",
              "            + ' to learn more about interactive tables.';\n",
              "          element.innerHTML = '';\n",
              "          dataTable['output_type'] = 'display_data';\n",
              "          await google.colab.output.renderOutput(dataTable, element);\n",
              "          const docLink = document.createElement('div');\n",
              "          docLink.innerHTML = docLinkHtml;\n",
              "          element.appendChild(docLink);\n",
              "        }\n",
              "      </script>\n",
              "    </div>\n",
              "  </div>\n",
              "  "
            ]
          },
          "metadata": {},
          "execution_count": 70
        }
      ]
    },
    {
      "cell_type": "code",
      "metadata": {
        "id": "AdkGY3T1Fg8b",
        "colab": {
          "base_uri": "https://localhost:8080/"
        },
        "outputId": "f73747ad-b78b-440f-d090-30c2a0979d58"
      },
      "source": [
        "Y.head(2)"
      ],
      "execution_count": null,
      "outputs": [
        {
          "output_type": "execute_result",
          "data": {
            "text/plain": [
              "0    4\n",
              "1    4\n",
              "Name: Reclamos-Cat, dtype: category\n",
              "Categories (5, object): ['1' < '2' < '3' < '4' < '5']"
            ]
          },
          "metadata": {},
          "execution_count": 71
        }
      ]
    },
    {
      "cell_type": "code",
      "metadata": {
        "id": "RPLR9ol-Fg8b"
      },
      "source": [
        "seed = 7\n",
        "test_size = 0.2\n",
        "X_train, X_test, y_train, y_test = train_test_split(X, Y, test_size=test_size, random_state=seed)"
      ],
      "execution_count": null,
      "outputs": []
    },
    {
      "cell_type": "code",
      "metadata": {
        "id": "WZzb8Uo5Fg8c",
        "colab": {
          "base_uri": "https://localhost:8080/"
        },
        "outputId": "284ec566-e1c7-42b3-c8c7-1cc922d696ba"
      },
      "source": [
        "model = XGBClassifier(reg_alpha=1, reg_lambda=1)\n",
        "model.fit(X_train, y_train)"
      ],
      "execution_count": null,
      "outputs": [
        {
          "output_type": "execute_result",
          "data": {
            "text/plain": [
              "XGBClassifier(objective='multi:softprob', reg_alpha=1)"
            ]
          },
          "metadata": {},
          "execution_count": 73
        }
      ]
    },
    {
      "cell_type": "code",
      "metadata": {
        "id": "fklNmrm0Fg8c",
        "colab": {
          "base_uri": "https://localhost:8080/"
        },
        "outputId": "2f54bd5a-43d6-48a8-ef1d-9abd54586915"
      },
      "source": [
        "from sklearn import metrics\n",
        "from sklearn.metrics import *\n",
        "\n",
        "#Realizo la predicción\n",
        "y_pred = model.predict(X_test)\n",
        "#Verifico la matriz de Confusión\n",
        "matriz = confusion_matrix(y_test, y_pred)\n",
        "#Calculo la precisión del modelo\n",
        "precision = precision_score(y_test, y_pred, average=\"macro\")\n",
        "#Calculo la exactitud del modelo\n",
        "exactitud = accuracy_score(y_test, y_pred)\n",
        "#Calculo la sensibilidad del modelo\n",
        "sensibilidad = recall_score(y_test, y_pred, average=\"macro\")\n",
        "#Calculo el Puntaje F1 del modelo\n",
        "puntajef1 = f1_score(y_test, y_pred, average=\"macro\")\n",
        "#Calculo la curva ROC - AUC del modelo\n",
        "roc_auc = roc_auc_score(y_test, y_pred)\n",
        "\n",
        "print('Matriz de Confusión:')\n",
        "print(matriz)\n",
        "print('Precisión del modelo:', precision)\n",
        "print('Exactitud del modelo:', exactitud)\n",
        "print('Sensibilidad del modelo:', sensibilidad)\n",
        "print('Puntaje F1 del modelo:', puntajef1)\n",
        "print('Curva ROC - AUC del modelo:', roc_auc)"
      ],
      "execution_count": null,
      "outputs": [
        {
          "output_type": "stream",
          "name": "stdout",
          "text": [
            "Matriz de Confusión:\n",
            "[[7 0]\n",
            " [0 2]]\n",
            "Precisión del modelo: 1.0\n",
            "Exactitud del modelo: 1.0\n",
            "Sensibilidad del modelo: 1.0\n",
            "Puntaje F1 del modelo: 1.0\n",
            "Curva ROC - AUC del modelo: 1.0\n"
          ]
        }
      ]
    }
  ]
}