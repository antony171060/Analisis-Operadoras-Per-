{
  "nbformat": 4,
  "nbformat_minor": 0,
  "metadata": {
    "colab": {
      "provenance": [],
      "collapsed_sections": [
        "0y_d1Z1Crh-9",
        "dOpdvU-BrmaX",
        "hOO4ovtH-XiS",
        "2JiKXgP-_03C",
        "OtLWu_HYEj5R",
        "Ll-kceNLE8tL",
        "vo-QjqbhFg8T",
        "bnq4a3BCFn6l",
        "vputlx9eFg8U",
        "Nph0cwlbFg8W",
        "sNPVIU9MFg8Y",
        "zTWkQqX9Fg8a"
      ]
    },
    "kernelspec": {
      "name": "python3",
      "display_name": "Python 3"
    },
    "language_info": {
      "name": "python"
    }
  },
  "cells": [
    {
      "cell_type": "code",
      "source": [
        "!pip uninstall scikit-learn\n",
        "!pip install scikit-learn==0.24.2"
      ],
      "metadata": {
        "colab": {
          "base_uri": "https://localhost:8080/"
        },
        "id": "TzXHPXeoCjRY",
        "outputId": "9360e93e-7b7a-421c-d1e3-9f7e2298147f"
      },
      "execution_count": null,
      "outputs": [
        {
          "output_type": "stream",
          "name": "stdout",
          "text": [
            "Found existing installation: scikit-learn 1.0.2\n",
            "Uninstalling scikit-learn-1.0.2:\n",
            "  Would remove:\n",
            "    /usr/local/lib/python3.7/dist-packages/scikit_learn-1.0.2.dist-info/*\n",
            "    /usr/local/lib/python3.7/dist-packages/scikit_learn.libs/libgomp-a34b3233.so.1.0.0\n",
            "    /usr/local/lib/python3.7/dist-packages/sklearn/*\n",
            "Proceed (y/n)? y\n",
            "  Successfully uninstalled scikit-learn-1.0.2\n",
            "Looking in indexes: https://pypi.org/simple, https://us-python.pkg.dev/colab-wheels/public/simple/\n",
            "Collecting scikit-learn==0.24.2\n",
            "  Downloading scikit_learn-0.24.2-cp37-cp37m-manylinux2010_x86_64.whl (22.3 MB)\n",
            "\u001b[K     |████████████████████████████████| 22.3 MB 1.3 MB/s \n",
            "\u001b[?25hRequirement already satisfied: joblib>=0.11 in /usr/local/lib/python3.7/dist-packages (from scikit-learn==0.24.2) (1.1.0)\n",
            "Requirement already satisfied: threadpoolctl>=2.0.0 in /usr/local/lib/python3.7/dist-packages (from scikit-learn==0.24.2) (3.1.0)\n",
            "Requirement already satisfied: numpy>=1.13.3 in /usr/local/lib/python3.7/dist-packages (from scikit-learn==0.24.2) (1.21.6)\n",
            "Requirement already satisfied: scipy>=0.19.1 in /usr/local/lib/python3.7/dist-packages (from scikit-learn==0.24.2) (1.4.1)\n",
            "Installing collected packages: scikit-learn\n",
            "\u001b[31mERROR: pip's dependency resolver does not currently take into account all the packages that are installed. This behaviour is the source of the following dependency conflicts.\n",
            "yellowbrick 1.4 requires scikit-learn>=1.0.0, but you have scikit-learn 0.24.2 which is incompatible.\u001b[0m\n",
            "Successfully installed scikit-learn-0.24.2\n"
          ]
        }
      ]
    },
    {
      "cell_type": "markdown",
      "metadata": {
        "id": "0y_d1Z1Crh-9"
      },
      "source": [
        "##Preprocesamiento - Data"
      ]
    },
    {
      "cell_type": "code",
      "metadata": {
        "id": "dAQRjiJ9Afdo"
      },
      "source": [
        "#Descargar excel desde link de Drive\n",
        "!gdown --id 1s9jAV8BDz3eUo8sV9R0pmXEQbTurf-gd"
      ],
      "execution_count": null,
      "outputs": []
    },
    {
      "cell_type": "markdown",
      "metadata": {
        "id": "fSrgTOvJKodg"
      },
      "source": []
    },
    {
      "cell_type": "code",
      "metadata": {
        "id": "PZkdY8RHJBVn"
      },
      "source": [
        "import pandas as pd"
      ],
      "execution_count": null,
      "outputs": []
    },
    {
      "cell_type": "code",
      "metadata": {
        "colab": {
          "base_uri": "https://localhost:8080/"
        },
        "id": "XA3gyFfbJPjO",
        "outputId": "cb4cf493-71e1-4adc-a748-6ad9e430973e"
      },
      "source": [
        "data = pd.read_excel(\"Data-Osiptel.xlsx\", sheet_name=\"Entel\")\n",
        "data.head(5)"
      ],
      "execution_count": null,
      "outputs": [
        {
          "output_type": "execute_result",
          "data": {
            "text/plain": [
              "   AÑO  Mes  N° de horas sin sistema de atención al mes    \\\n",
              "0    1    9                                      6.433333   \n",
              "1    1   10                                      2.166667   \n",
              "2    1   11                                      3.566667   \n",
              "3    1   12                                      3.500000   \n",
              "4    1    1                                     16.183333   \n",
              "\n",
              "   N° total de horas de atención al mes      CSA%  \\\n",
              "0                                9429.0  0.000682   \n",
              "1                                9807.0  0.000221   \n",
              "2                                9292.5  0.000384   \n",
              "3                                9526.5  0.000367   \n",
              "4                                9680.5  0.001672   \n",
              "\n",
              "   Nº DE USUARIOS QUE DESISTIERON DE LA ATENCIÓN AL MES  \\\n",
              "0                                             4989.0      \n",
              "1                                            16910.0      \n",
              "2                                            16863.0      \n",
              "3                                            11868.0      \n",
              "4                                            10389.0      \n",
              "\n",
              "   Nº TOTAL DE USUARIOS ATENDIDOS AL MES   DAP (%)  \\\n",
              "0                                51894.0  0.096138   \n",
              "1                                84763.0  0.199497   \n",
              "2                                86335.0  0.195321   \n",
              "3                                74383.0  0.159553   \n",
              "4                                72254.0  0.143784   \n",
              "\n",
              "   Nº DE LLAMADAS NO FINALIZADAS POR EL USUARIO  \\\n",
              "0                                       50182.0   \n",
              "1                                       21615.0   \n",
              "2                                       30124.0   \n",
              "3                                       21069.0   \n",
              "4                                       19867.0   \n",
              "\n",
              "   Nº TOTAL DE LLAMADAS ATENDIDAS   CAT (%)  Reclamos     Bajas  Consultas  \\\n",
              "0                        338717.0  0.148153  0.631699  0.715072   0.656096   \n",
              "1                        644556.0  0.033535  0.410101  0.468876   0.448331   \n",
              "2                        539400.0  0.055847  0.377196  0.437500   0.438256   \n",
              "3                        582133.0  0.036193  0.448555  0.541643   0.548162   \n",
              "4                        492719.0  0.040321  0.468233  0.515502   0.563666   \n",
              "\n",
              "      Altas  \n",
              "0  0.808229  \n",
              "1  0.527333  \n",
              "2  0.623783  \n",
              "3  0.750687  \n",
              "4  0.762664  "
            ],
            "text/html": [
              "\n",
              "  <div id=\"df-d909fef7-1156-42a4-8d9e-78e9b8a1ecab\">\n",
              "    <div class=\"colab-df-container\">\n",
              "      <div>\n",
              "<style scoped>\n",
              "    .dataframe tbody tr th:only-of-type {\n",
              "        vertical-align: middle;\n",
              "    }\n",
              "\n",
              "    .dataframe tbody tr th {\n",
              "        vertical-align: top;\n",
              "    }\n",
              "\n",
              "    .dataframe thead th {\n",
              "        text-align: right;\n",
              "    }\n",
              "</style>\n",
              "<table border=\"1\" class=\"dataframe\">\n",
              "  <thead>\n",
              "    <tr style=\"text-align: right;\">\n",
              "      <th></th>\n",
              "      <th>AÑO</th>\n",
              "      <th>Mes</th>\n",
              "      <th>N° de horas sin sistema de atención al mes</th>\n",
              "      <th>N° total de horas de atención al mes</th>\n",
              "      <th>CSA%</th>\n",
              "      <th>Nº DE USUARIOS QUE DESISTIERON DE LA ATENCIÓN AL MES</th>\n",
              "      <th>Nº TOTAL DE USUARIOS ATENDIDOS AL MES</th>\n",
              "      <th>DAP (%)</th>\n",
              "      <th>Nº DE LLAMADAS NO FINALIZADAS POR EL USUARIO</th>\n",
              "      <th>Nº TOTAL DE LLAMADAS ATENDIDAS</th>\n",
              "      <th>CAT (%)</th>\n",
              "      <th>Reclamos</th>\n",
              "      <th>Bajas</th>\n",
              "      <th>Consultas</th>\n",
              "      <th>Altas</th>\n",
              "    </tr>\n",
              "  </thead>\n",
              "  <tbody>\n",
              "    <tr>\n",
              "      <th>0</th>\n",
              "      <td>1</td>\n",
              "      <td>9</td>\n",
              "      <td>6.433333</td>\n",
              "      <td>9429.0</td>\n",
              "      <td>0.000682</td>\n",
              "      <td>4989.0</td>\n",
              "      <td>51894.0</td>\n",
              "      <td>0.096138</td>\n",
              "      <td>50182.0</td>\n",
              "      <td>338717.0</td>\n",
              "      <td>0.148153</td>\n",
              "      <td>0.631699</td>\n",
              "      <td>0.715072</td>\n",
              "      <td>0.656096</td>\n",
              "      <td>0.808229</td>\n",
              "    </tr>\n",
              "    <tr>\n",
              "      <th>1</th>\n",
              "      <td>1</td>\n",
              "      <td>10</td>\n",
              "      <td>2.166667</td>\n",
              "      <td>9807.0</td>\n",
              "      <td>0.000221</td>\n",
              "      <td>16910.0</td>\n",
              "      <td>84763.0</td>\n",
              "      <td>0.199497</td>\n",
              "      <td>21615.0</td>\n",
              "      <td>644556.0</td>\n",
              "      <td>0.033535</td>\n",
              "      <td>0.410101</td>\n",
              "      <td>0.468876</td>\n",
              "      <td>0.448331</td>\n",
              "      <td>0.527333</td>\n",
              "    </tr>\n",
              "    <tr>\n",
              "      <th>2</th>\n",
              "      <td>1</td>\n",
              "      <td>11</td>\n",
              "      <td>3.566667</td>\n",
              "      <td>9292.5</td>\n",
              "      <td>0.000384</td>\n",
              "      <td>16863.0</td>\n",
              "      <td>86335.0</td>\n",
              "      <td>0.195321</td>\n",
              "      <td>30124.0</td>\n",
              "      <td>539400.0</td>\n",
              "      <td>0.055847</td>\n",
              "      <td>0.377196</td>\n",
              "      <td>0.437500</td>\n",
              "      <td>0.438256</td>\n",
              "      <td>0.623783</td>\n",
              "    </tr>\n",
              "    <tr>\n",
              "      <th>3</th>\n",
              "      <td>1</td>\n",
              "      <td>12</td>\n",
              "      <td>3.500000</td>\n",
              "      <td>9526.5</td>\n",
              "      <td>0.000367</td>\n",
              "      <td>11868.0</td>\n",
              "      <td>74383.0</td>\n",
              "      <td>0.159553</td>\n",
              "      <td>21069.0</td>\n",
              "      <td>582133.0</td>\n",
              "      <td>0.036193</td>\n",
              "      <td>0.448555</td>\n",
              "      <td>0.541643</td>\n",
              "      <td>0.548162</td>\n",
              "      <td>0.750687</td>\n",
              "    </tr>\n",
              "    <tr>\n",
              "      <th>4</th>\n",
              "      <td>1</td>\n",
              "      <td>1</td>\n",
              "      <td>16.183333</td>\n",
              "      <td>9680.5</td>\n",
              "      <td>0.001672</td>\n",
              "      <td>10389.0</td>\n",
              "      <td>72254.0</td>\n",
              "      <td>0.143784</td>\n",
              "      <td>19867.0</td>\n",
              "      <td>492719.0</td>\n",
              "      <td>0.040321</td>\n",
              "      <td>0.468233</td>\n",
              "      <td>0.515502</td>\n",
              "      <td>0.563666</td>\n",
              "      <td>0.762664</td>\n",
              "    </tr>\n",
              "  </tbody>\n",
              "</table>\n",
              "</div>\n",
              "      <button class=\"colab-df-convert\" onclick=\"convertToInteractive('df-d909fef7-1156-42a4-8d9e-78e9b8a1ecab')\"\n",
              "              title=\"Convert this dataframe to an interactive table.\"\n",
              "              style=\"display:none;\">\n",
              "        \n",
              "  <svg xmlns=\"http://www.w3.org/2000/svg\" height=\"24px\"viewBox=\"0 0 24 24\"\n",
              "       width=\"24px\">\n",
              "    <path d=\"M0 0h24v24H0V0z\" fill=\"none\"/>\n",
              "    <path d=\"M18.56 5.44l.94 2.06.94-2.06 2.06-.94-2.06-.94-.94-2.06-.94 2.06-2.06.94zm-11 1L8.5 8.5l.94-2.06 2.06-.94-2.06-.94L8.5 2.5l-.94 2.06-2.06.94zm10 10l.94 2.06.94-2.06 2.06-.94-2.06-.94-.94-2.06-.94 2.06-2.06.94z\"/><path d=\"M17.41 7.96l-1.37-1.37c-.4-.4-.92-.59-1.43-.59-.52 0-1.04.2-1.43.59L10.3 9.45l-7.72 7.72c-.78.78-.78 2.05 0 2.83L4 21.41c.39.39.9.59 1.41.59.51 0 1.02-.2 1.41-.59l7.78-7.78 2.81-2.81c.8-.78.8-2.07 0-2.86zM5.41 20L4 18.59l7.72-7.72 1.47 1.35L5.41 20z\"/>\n",
              "  </svg>\n",
              "      </button>\n",
              "      \n",
              "  <style>\n",
              "    .colab-df-container {\n",
              "      display:flex;\n",
              "      flex-wrap:wrap;\n",
              "      gap: 12px;\n",
              "    }\n",
              "\n",
              "    .colab-df-convert {\n",
              "      background-color: #E8F0FE;\n",
              "      border: none;\n",
              "      border-radius: 50%;\n",
              "      cursor: pointer;\n",
              "      display: none;\n",
              "      fill: #1967D2;\n",
              "      height: 32px;\n",
              "      padding: 0 0 0 0;\n",
              "      width: 32px;\n",
              "    }\n",
              "\n",
              "    .colab-df-convert:hover {\n",
              "      background-color: #E2EBFA;\n",
              "      box-shadow: 0px 1px 2px rgba(60, 64, 67, 0.3), 0px 1px 3px 1px rgba(60, 64, 67, 0.15);\n",
              "      fill: #174EA6;\n",
              "    }\n",
              "\n",
              "    [theme=dark] .colab-df-convert {\n",
              "      background-color: #3B4455;\n",
              "      fill: #D2E3FC;\n",
              "    }\n",
              "\n",
              "    [theme=dark] .colab-df-convert:hover {\n",
              "      background-color: #434B5C;\n",
              "      box-shadow: 0px 1px 3px 1px rgba(0, 0, 0, 0.15);\n",
              "      filter: drop-shadow(0px 1px 2px rgba(0, 0, 0, 0.3));\n",
              "      fill: #FFFFFF;\n",
              "    }\n",
              "  </style>\n",
              "\n",
              "      <script>\n",
              "        const buttonEl =\n",
              "          document.querySelector('#df-d909fef7-1156-42a4-8d9e-78e9b8a1ecab button.colab-df-convert');\n",
              "        buttonEl.style.display =\n",
              "          google.colab.kernel.accessAllowed ? 'block' : 'none';\n",
              "\n",
              "        async function convertToInteractive(key) {\n",
              "          const element = document.querySelector('#df-d909fef7-1156-42a4-8d9e-78e9b8a1ecab');\n",
              "          const dataTable =\n",
              "            await google.colab.kernel.invokeFunction('convertToInteractive',\n",
              "                                                     [key], {});\n",
              "          if (!dataTable) return;\n",
              "\n",
              "          const docLinkHtml = 'Like what you see? Visit the ' +\n",
              "            '<a target=\"_blank\" href=https://colab.research.google.com/notebooks/data_table.ipynb>data table notebook</a>'\n",
              "            + ' to learn more about interactive tables.';\n",
              "          element.innerHTML = '';\n",
              "          dataTable['output_type'] = 'display_data';\n",
              "          await google.colab.output.renderOutput(dataTable, element);\n",
              "          const docLink = document.createElement('div');\n",
              "          docLink.innerHTML = docLinkHtml;\n",
              "          element.appendChild(docLink);\n",
              "        }\n",
              "      </script>\n",
              "    </div>\n",
              "  </div>\n",
              "  "
            ]
          },
          "metadata": {},
          "execution_count": 4
        }
      ]
    },
    {
      "cell_type": "code",
      "metadata": {
        "colab": {
          "base_uri": "https://localhost:8080/"
        },
        "id": "A4ZsQuCvLqUX",
        "outputId": "8761aa14-3ddf-4fe1-bd23-42d448ce4c06"
      },
      "source": [
        "data[\"Reclamos\"]"
      ],
      "execution_count": null,
      "outputs": [
        {
          "output_type": "execute_result",
          "data": {
            "text/plain": [
              "0     0.631699\n",
              "1     0.410101\n",
              "2     0.377196\n",
              "3     0.448555\n",
              "4     0.468233\n",
              "5     0.459780\n",
              "6     0.479005\n",
              "7     0.465691\n",
              "8     0.502797\n",
              "9     0.534981\n",
              "10    0.615804\n",
              "11    0.563170\n",
              "12    0.495330\n",
              "13    0.543193\n",
              "14    0.529268\n",
              "15    0.495330\n",
              "16    0.555169\n",
              "17    0.554207\n",
              "18    0.627927\n",
              "19    0.589407\n",
              "20    0.601727\n",
              "21    0.582836\n",
              "22    0.568421\n",
              "23    0.547166\n",
              "24    0.634547\n",
              "25    0.716680\n",
              "26    0.787015\n",
              "27    0.720719\n",
              "28    0.733620\n",
              "29    0.832352\n",
              "30    0.758600\n",
              "31    0.773094\n",
              "32    0.761682\n",
              "33    0.752563\n",
              "34    0.693252\n",
              "35    0.767544\n",
              "36    0.820102\n",
              "37         NaN\n",
              "38         NaN\n",
              "39    0.749471\n",
              "40    0.794816\n",
              "41    0.775907\n",
              "42    0.811104\n",
              "43    0.758904\n",
              "Name: Reclamos, dtype: float64"
            ]
          },
          "metadata": {},
          "execution_count": 5
        }
      ]
    },
    {
      "cell_type": "code",
      "metadata": {
        "id": "rmPPG7AaLhJG"
      },
      "source": [
        "bins = [0.00, 0.20, 0.40, 0.60, 0.80, 1.0]\n",
        "names = [\"1\", \"2\", \"3\", \"4\", \"5\"]"
      ],
      "execution_count": null,
      "outputs": []
    },
    {
      "cell_type": "code",
      "metadata": {
        "colab": {
          "base_uri": "https://localhost:8080/"
        },
        "id": "rkO18PphLjAQ",
        "outputId": "5535807d-f97b-4375-aab1-fc8aef47d528"
      },
      "source": [
        "data[\"Reclamos-Cat\"] = pd.cut(data[\"Reclamos\"], bins, labels = names)\n",
        "data[[\"Reclamos\", \"Reclamos-Cat\"]].head(5)"
      ],
      "execution_count": null,
      "outputs": [
        {
          "output_type": "execute_result",
          "data": {
            "text/plain": [
              "   Reclamos Reclamos-Cat\n",
              "0  0.631699            4\n",
              "1  0.410101            3\n",
              "2  0.377196            2\n",
              "3  0.448555            3\n",
              "4  0.468233            3"
            ],
            "text/html": [
              "\n",
              "  <div id=\"df-bab36e67-b696-4230-98ee-d730a0733a71\">\n",
              "    <div class=\"colab-df-container\">\n",
              "      <div>\n",
              "<style scoped>\n",
              "    .dataframe tbody tr th:only-of-type {\n",
              "        vertical-align: middle;\n",
              "    }\n",
              "\n",
              "    .dataframe tbody tr th {\n",
              "        vertical-align: top;\n",
              "    }\n",
              "\n",
              "    .dataframe thead th {\n",
              "        text-align: right;\n",
              "    }\n",
              "</style>\n",
              "<table border=\"1\" class=\"dataframe\">\n",
              "  <thead>\n",
              "    <tr style=\"text-align: right;\">\n",
              "      <th></th>\n",
              "      <th>Reclamos</th>\n",
              "      <th>Reclamos-Cat</th>\n",
              "    </tr>\n",
              "  </thead>\n",
              "  <tbody>\n",
              "    <tr>\n",
              "      <th>0</th>\n",
              "      <td>0.631699</td>\n",
              "      <td>4</td>\n",
              "    </tr>\n",
              "    <tr>\n",
              "      <th>1</th>\n",
              "      <td>0.410101</td>\n",
              "      <td>3</td>\n",
              "    </tr>\n",
              "    <tr>\n",
              "      <th>2</th>\n",
              "      <td>0.377196</td>\n",
              "      <td>2</td>\n",
              "    </tr>\n",
              "    <tr>\n",
              "      <th>3</th>\n",
              "      <td>0.448555</td>\n",
              "      <td>3</td>\n",
              "    </tr>\n",
              "    <tr>\n",
              "      <th>4</th>\n",
              "      <td>0.468233</td>\n",
              "      <td>3</td>\n",
              "    </tr>\n",
              "  </tbody>\n",
              "</table>\n",
              "</div>\n",
              "      <button class=\"colab-df-convert\" onclick=\"convertToInteractive('df-bab36e67-b696-4230-98ee-d730a0733a71')\"\n",
              "              title=\"Convert this dataframe to an interactive table.\"\n",
              "              style=\"display:none;\">\n",
              "        \n",
              "  <svg xmlns=\"http://www.w3.org/2000/svg\" height=\"24px\"viewBox=\"0 0 24 24\"\n",
              "       width=\"24px\">\n",
              "    <path d=\"M0 0h24v24H0V0z\" fill=\"none\"/>\n",
              "    <path d=\"M18.56 5.44l.94 2.06.94-2.06 2.06-.94-2.06-.94-.94-2.06-.94 2.06-2.06.94zm-11 1L8.5 8.5l.94-2.06 2.06-.94-2.06-.94L8.5 2.5l-.94 2.06-2.06.94zm10 10l.94 2.06.94-2.06 2.06-.94-2.06-.94-.94-2.06-.94 2.06-2.06.94z\"/><path d=\"M17.41 7.96l-1.37-1.37c-.4-.4-.92-.59-1.43-.59-.52 0-1.04.2-1.43.59L10.3 9.45l-7.72 7.72c-.78.78-.78 2.05 0 2.83L4 21.41c.39.39.9.59 1.41.59.51 0 1.02-.2 1.41-.59l7.78-7.78 2.81-2.81c.8-.78.8-2.07 0-2.86zM5.41 20L4 18.59l7.72-7.72 1.47 1.35L5.41 20z\"/>\n",
              "  </svg>\n",
              "      </button>\n",
              "      \n",
              "  <style>\n",
              "    .colab-df-container {\n",
              "      display:flex;\n",
              "      flex-wrap:wrap;\n",
              "      gap: 12px;\n",
              "    }\n",
              "\n",
              "    .colab-df-convert {\n",
              "      background-color: #E8F0FE;\n",
              "      border: none;\n",
              "      border-radius: 50%;\n",
              "      cursor: pointer;\n",
              "      display: none;\n",
              "      fill: #1967D2;\n",
              "      height: 32px;\n",
              "      padding: 0 0 0 0;\n",
              "      width: 32px;\n",
              "    }\n",
              "\n",
              "    .colab-df-convert:hover {\n",
              "      background-color: #E2EBFA;\n",
              "      box-shadow: 0px 1px 2px rgba(60, 64, 67, 0.3), 0px 1px 3px 1px rgba(60, 64, 67, 0.15);\n",
              "      fill: #174EA6;\n",
              "    }\n",
              "\n",
              "    [theme=dark] .colab-df-convert {\n",
              "      background-color: #3B4455;\n",
              "      fill: #D2E3FC;\n",
              "    }\n",
              "\n",
              "    [theme=dark] .colab-df-convert:hover {\n",
              "      background-color: #434B5C;\n",
              "      box-shadow: 0px 1px 3px 1px rgba(0, 0, 0, 0.15);\n",
              "      filter: drop-shadow(0px 1px 2px rgba(0, 0, 0, 0.3));\n",
              "      fill: #FFFFFF;\n",
              "    }\n",
              "  </style>\n",
              "\n",
              "      <script>\n",
              "        const buttonEl =\n",
              "          document.querySelector('#df-bab36e67-b696-4230-98ee-d730a0733a71 button.colab-df-convert');\n",
              "        buttonEl.style.display =\n",
              "          google.colab.kernel.accessAllowed ? 'block' : 'none';\n",
              "\n",
              "        async function convertToInteractive(key) {\n",
              "          const element = document.querySelector('#df-bab36e67-b696-4230-98ee-d730a0733a71');\n",
              "          const dataTable =\n",
              "            await google.colab.kernel.invokeFunction('convertToInteractive',\n",
              "                                                     [key], {});\n",
              "          if (!dataTable) return;\n",
              "\n",
              "          const docLinkHtml = 'Like what you see? Visit the ' +\n",
              "            '<a target=\"_blank\" href=https://colab.research.google.com/notebooks/data_table.ipynb>data table notebook</a>'\n",
              "            + ' to learn more about interactive tables.';\n",
              "          element.innerHTML = '';\n",
              "          dataTable['output_type'] = 'display_data';\n",
              "          await google.colab.output.renderOutput(dataTable, element);\n",
              "          const docLink = document.createElement('div');\n",
              "          docLink.innerHTML = docLinkHtml;\n",
              "          element.appendChild(docLink);\n",
              "        }\n",
              "      </script>\n",
              "    </div>\n",
              "  </div>\n",
              "  "
            ]
          },
          "metadata": {},
          "execution_count": 7
        }
      ]
    },
    {
      "cell_type": "code",
      "metadata": {
        "colab": {
          "base_uri": "https://localhost:8080/"
        },
        "id": "rKxdKTO-rt2s",
        "outputId": "ca4634f9-3156-4bac-b426-08f055bfc9a3"
      },
      "source": [
        "data = data.drop(['Reclamos'], axis=1)\n",
        "data.head(5)"
      ],
      "execution_count": null,
      "outputs": [
        {
          "output_type": "execute_result",
          "data": {
            "text/plain": [
              "   AÑO  Mes  N° de horas sin sistema de atención al mes    \\\n",
              "0    1    9                                      6.433333   \n",
              "1    1   10                                      2.166667   \n",
              "2    1   11                                      3.566667   \n",
              "3    1   12                                      3.500000   \n",
              "4    1    1                                     16.183333   \n",
              "\n",
              "   N° total de horas de atención al mes      CSA%  \\\n",
              "0                                9429.0  0.000682   \n",
              "1                                9807.0  0.000221   \n",
              "2                                9292.5  0.000384   \n",
              "3                                9526.5  0.000367   \n",
              "4                                9680.5  0.001672   \n",
              "\n",
              "   Nº DE USUARIOS QUE DESISTIERON DE LA ATENCIÓN AL MES  \\\n",
              "0                                             4989.0      \n",
              "1                                            16910.0      \n",
              "2                                            16863.0      \n",
              "3                                            11868.0      \n",
              "4                                            10389.0      \n",
              "\n",
              "   Nº TOTAL DE USUARIOS ATENDIDOS AL MES   DAP (%)  \\\n",
              "0                                51894.0  0.096138   \n",
              "1                                84763.0  0.199497   \n",
              "2                                86335.0  0.195321   \n",
              "3                                74383.0  0.159553   \n",
              "4                                72254.0  0.143784   \n",
              "\n",
              "   Nº DE LLAMADAS NO FINALIZADAS POR EL USUARIO  \\\n",
              "0                                       50182.0   \n",
              "1                                       21615.0   \n",
              "2                                       30124.0   \n",
              "3                                       21069.0   \n",
              "4                                       19867.0   \n",
              "\n",
              "   Nº TOTAL DE LLAMADAS ATENDIDAS   CAT (%)     Bajas  Consultas     Altas  \\\n",
              "0                        338717.0  0.148153  0.715072   0.656096  0.808229   \n",
              "1                        644556.0  0.033535  0.468876   0.448331  0.527333   \n",
              "2                        539400.0  0.055847  0.437500   0.438256  0.623783   \n",
              "3                        582133.0  0.036193  0.541643   0.548162  0.750687   \n",
              "4                        492719.0  0.040321  0.515502   0.563666  0.762664   \n",
              "\n",
              "  Reclamos-Cat  \n",
              "0            4  \n",
              "1            3  \n",
              "2            2  \n",
              "3            3  \n",
              "4            3  "
            ],
            "text/html": [
              "\n",
              "  <div id=\"df-30c13ec0-3f9a-4d46-b21e-616de073b1d9\">\n",
              "    <div class=\"colab-df-container\">\n",
              "      <div>\n",
              "<style scoped>\n",
              "    .dataframe tbody tr th:only-of-type {\n",
              "        vertical-align: middle;\n",
              "    }\n",
              "\n",
              "    .dataframe tbody tr th {\n",
              "        vertical-align: top;\n",
              "    }\n",
              "\n",
              "    .dataframe thead th {\n",
              "        text-align: right;\n",
              "    }\n",
              "</style>\n",
              "<table border=\"1\" class=\"dataframe\">\n",
              "  <thead>\n",
              "    <tr style=\"text-align: right;\">\n",
              "      <th></th>\n",
              "      <th>AÑO</th>\n",
              "      <th>Mes</th>\n",
              "      <th>N° de horas sin sistema de atención al mes</th>\n",
              "      <th>N° total de horas de atención al mes</th>\n",
              "      <th>CSA%</th>\n",
              "      <th>Nº DE USUARIOS QUE DESISTIERON DE LA ATENCIÓN AL MES</th>\n",
              "      <th>Nº TOTAL DE USUARIOS ATENDIDOS AL MES</th>\n",
              "      <th>DAP (%)</th>\n",
              "      <th>Nº DE LLAMADAS NO FINALIZADAS POR EL USUARIO</th>\n",
              "      <th>Nº TOTAL DE LLAMADAS ATENDIDAS</th>\n",
              "      <th>CAT (%)</th>\n",
              "      <th>Bajas</th>\n",
              "      <th>Consultas</th>\n",
              "      <th>Altas</th>\n",
              "      <th>Reclamos-Cat</th>\n",
              "    </tr>\n",
              "  </thead>\n",
              "  <tbody>\n",
              "    <tr>\n",
              "      <th>0</th>\n",
              "      <td>1</td>\n",
              "      <td>9</td>\n",
              "      <td>6.433333</td>\n",
              "      <td>9429.0</td>\n",
              "      <td>0.000682</td>\n",
              "      <td>4989.0</td>\n",
              "      <td>51894.0</td>\n",
              "      <td>0.096138</td>\n",
              "      <td>50182.0</td>\n",
              "      <td>338717.0</td>\n",
              "      <td>0.148153</td>\n",
              "      <td>0.715072</td>\n",
              "      <td>0.656096</td>\n",
              "      <td>0.808229</td>\n",
              "      <td>4</td>\n",
              "    </tr>\n",
              "    <tr>\n",
              "      <th>1</th>\n",
              "      <td>1</td>\n",
              "      <td>10</td>\n",
              "      <td>2.166667</td>\n",
              "      <td>9807.0</td>\n",
              "      <td>0.000221</td>\n",
              "      <td>16910.0</td>\n",
              "      <td>84763.0</td>\n",
              "      <td>0.199497</td>\n",
              "      <td>21615.0</td>\n",
              "      <td>644556.0</td>\n",
              "      <td>0.033535</td>\n",
              "      <td>0.468876</td>\n",
              "      <td>0.448331</td>\n",
              "      <td>0.527333</td>\n",
              "      <td>3</td>\n",
              "    </tr>\n",
              "    <tr>\n",
              "      <th>2</th>\n",
              "      <td>1</td>\n",
              "      <td>11</td>\n",
              "      <td>3.566667</td>\n",
              "      <td>9292.5</td>\n",
              "      <td>0.000384</td>\n",
              "      <td>16863.0</td>\n",
              "      <td>86335.0</td>\n",
              "      <td>0.195321</td>\n",
              "      <td>30124.0</td>\n",
              "      <td>539400.0</td>\n",
              "      <td>0.055847</td>\n",
              "      <td>0.437500</td>\n",
              "      <td>0.438256</td>\n",
              "      <td>0.623783</td>\n",
              "      <td>2</td>\n",
              "    </tr>\n",
              "    <tr>\n",
              "      <th>3</th>\n",
              "      <td>1</td>\n",
              "      <td>12</td>\n",
              "      <td>3.500000</td>\n",
              "      <td>9526.5</td>\n",
              "      <td>0.000367</td>\n",
              "      <td>11868.0</td>\n",
              "      <td>74383.0</td>\n",
              "      <td>0.159553</td>\n",
              "      <td>21069.0</td>\n",
              "      <td>582133.0</td>\n",
              "      <td>0.036193</td>\n",
              "      <td>0.541643</td>\n",
              "      <td>0.548162</td>\n",
              "      <td>0.750687</td>\n",
              "      <td>3</td>\n",
              "    </tr>\n",
              "    <tr>\n",
              "      <th>4</th>\n",
              "      <td>1</td>\n",
              "      <td>1</td>\n",
              "      <td>16.183333</td>\n",
              "      <td>9680.5</td>\n",
              "      <td>0.001672</td>\n",
              "      <td>10389.0</td>\n",
              "      <td>72254.0</td>\n",
              "      <td>0.143784</td>\n",
              "      <td>19867.0</td>\n",
              "      <td>492719.0</td>\n",
              "      <td>0.040321</td>\n",
              "      <td>0.515502</td>\n",
              "      <td>0.563666</td>\n",
              "      <td>0.762664</td>\n",
              "      <td>3</td>\n",
              "    </tr>\n",
              "  </tbody>\n",
              "</table>\n",
              "</div>\n",
              "      <button class=\"colab-df-convert\" onclick=\"convertToInteractive('df-30c13ec0-3f9a-4d46-b21e-616de073b1d9')\"\n",
              "              title=\"Convert this dataframe to an interactive table.\"\n",
              "              style=\"display:none;\">\n",
              "        \n",
              "  <svg xmlns=\"http://www.w3.org/2000/svg\" height=\"24px\"viewBox=\"0 0 24 24\"\n",
              "       width=\"24px\">\n",
              "    <path d=\"M0 0h24v24H0V0z\" fill=\"none\"/>\n",
              "    <path d=\"M18.56 5.44l.94 2.06.94-2.06 2.06-.94-2.06-.94-.94-2.06-.94 2.06-2.06.94zm-11 1L8.5 8.5l.94-2.06 2.06-.94-2.06-.94L8.5 2.5l-.94 2.06-2.06.94zm10 10l.94 2.06.94-2.06 2.06-.94-2.06-.94-.94-2.06-.94 2.06-2.06.94z\"/><path d=\"M17.41 7.96l-1.37-1.37c-.4-.4-.92-.59-1.43-.59-.52 0-1.04.2-1.43.59L10.3 9.45l-7.72 7.72c-.78.78-.78 2.05 0 2.83L4 21.41c.39.39.9.59 1.41.59.51 0 1.02-.2 1.41-.59l7.78-7.78 2.81-2.81c.8-.78.8-2.07 0-2.86zM5.41 20L4 18.59l7.72-7.72 1.47 1.35L5.41 20z\"/>\n",
              "  </svg>\n",
              "      </button>\n",
              "      \n",
              "  <style>\n",
              "    .colab-df-container {\n",
              "      display:flex;\n",
              "      flex-wrap:wrap;\n",
              "      gap: 12px;\n",
              "    }\n",
              "\n",
              "    .colab-df-convert {\n",
              "      background-color: #E8F0FE;\n",
              "      border: none;\n",
              "      border-radius: 50%;\n",
              "      cursor: pointer;\n",
              "      display: none;\n",
              "      fill: #1967D2;\n",
              "      height: 32px;\n",
              "      padding: 0 0 0 0;\n",
              "      width: 32px;\n",
              "    }\n",
              "\n",
              "    .colab-df-convert:hover {\n",
              "      background-color: #E2EBFA;\n",
              "      box-shadow: 0px 1px 2px rgba(60, 64, 67, 0.3), 0px 1px 3px 1px rgba(60, 64, 67, 0.15);\n",
              "      fill: #174EA6;\n",
              "    }\n",
              "\n",
              "    [theme=dark] .colab-df-convert {\n",
              "      background-color: #3B4455;\n",
              "      fill: #D2E3FC;\n",
              "    }\n",
              "\n",
              "    [theme=dark] .colab-df-convert:hover {\n",
              "      background-color: #434B5C;\n",
              "      box-shadow: 0px 1px 3px 1px rgba(0, 0, 0, 0.15);\n",
              "      filter: drop-shadow(0px 1px 2px rgba(0, 0, 0, 0.3));\n",
              "      fill: #FFFFFF;\n",
              "    }\n",
              "  </style>\n",
              "\n",
              "      <script>\n",
              "        const buttonEl =\n",
              "          document.querySelector('#df-30c13ec0-3f9a-4d46-b21e-616de073b1d9 button.colab-df-convert');\n",
              "        buttonEl.style.display =\n",
              "          google.colab.kernel.accessAllowed ? 'block' : 'none';\n",
              "\n",
              "        async function convertToInteractive(key) {\n",
              "          const element = document.querySelector('#df-30c13ec0-3f9a-4d46-b21e-616de073b1d9');\n",
              "          const dataTable =\n",
              "            await google.colab.kernel.invokeFunction('convertToInteractive',\n",
              "                                                     [key], {});\n",
              "          if (!dataTable) return;\n",
              "\n",
              "          const docLinkHtml = 'Like what you see? Visit the ' +\n",
              "            '<a target=\"_blank\" href=https://colab.research.google.com/notebooks/data_table.ipynb>data table notebook</a>'\n",
              "            + ' to learn more about interactive tables.';\n",
              "          element.innerHTML = '';\n",
              "          dataTable['output_type'] = 'display_data';\n",
              "          await google.colab.output.renderOutput(dataTable, element);\n",
              "          const docLink = document.createElement('div');\n",
              "          docLink.innerHTML = docLinkHtml;\n",
              "          element.appendChild(docLink);\n",
              "        }\n",
              "      </script>\n",
              "    </div>\n",
              "  </div>\n",
              "  "
            ]
          },
          "metadata": {},
          "execution_count": 8
        }
      ]
    },
    {
      "cell_type": "code",
      "metadata": {
        "colab": {
          "base_uri": "https://localhost:8080/"
        },
        "id": "DrQmV2zI4lsS",
        "outputId": "9a248651-106e-42ec-ac0b-ce11365edbc4"
      },
      "source": [
        "data[\"Reclamos-Cat\"].value_counts().sort_index()"
      ],
      "execution_count": null,
      "outputs": [
        {
          "output_type": "execute_result",
          "data": {
            "text/plain": [
              "1     0\n",
              "2     1\n",
              "3    19\n",
              "4    19\n",
              "5     3\n",
              "Name: Reclamos-Cat, dtype: int64"
            ]
          },
          "metadata": {},
          "execution_count": 9
        }
      ]
    },
    {
      "cell_type": "markdown",
      "metadata": {
        "id": "dOpdvU-BrmaX"
      },
      "source": [
        "#XGboost - Shrinkage (alpha - lambda)"
      ]
    },
    {
      "cell_type": "markdown",
      "metadata": {
        "id": "hOO4ovtH-XiS"
      },
      "source": [
        "##XGBoost - Solo"
      ]
    },
    {
      "cell_type": "code",
      "metadata": {
        "id": "PGsBB2N_tR9S"
      },
      "source": [
        "import pandas as pd\n",
        "from xgboost import XGBClassifier\n",
        "from sklearn.model_selection import train_test_split\n",
        "from sklearn.metrics import accuracy_score"
      ],
      "execution_count": null,
      "outputs": []
    },
    {
      "cell_type": "code",
      "metadata": {
        "id": "Xgq0P-YYzzjd"
      },
      "source": [
        "df = data.dropna()"
      ],
      "execution_count": null,
      "outputs": []
    },
    {
      "cell_type": "code",
      "metadata": {
        "id": "vePPx37Atnrn"
      },
      "source": [
        "X = df.drop(['Reclamos-Cat'], axis=1)\n",
        "Y = df['Reclamos-Cat']"
      ],
      "execution_count": null,
      "outputs": []
    },
    {
      "cell_type": "code",
      "metadata": {
        "colab": {
          "base_uri": "https://localhost:8080/"
        },
        "id": "DwXI1oOFwr3F",
        "outputId": "b5ca12d3-7549-4317-acb6-9636d498882e"
      },
      "source": [
        "X.head(1)"
      ],
      "execution_count": null,
      "outputs": [
        {
          "output_type": "execute_result",
          "data": {
            "text/plain": [
              "   AÑO  Mes  N° de horas sin sistema de atención al mes    \\\n",
              "0    1    9                                      6.433333   \n",
              "\n",
              "   N° total de horas de atención al mes      CSA%  \\\n",
              "0                                9429.0  0.000682   \n",
              "\n",
              "   Nº DE USUARIOS QUE DESISTIERON DE LA ATENCIÓN AL MES  \\\n",
              "0                                             4989.0      \n",
              "\n",
              "   Nº TOTAL DE USUARIOS ATENDIDOS AL MES   DAP (%)  \\\n",
              "0                                51894.0  0.096138   \n",
              "\n",
              "   Nº DE LLAMADAS NO FINALIZADAS POR EL USUARIO  \\\n",
              "0                                       50182.0   \n",
              "\n",
              "   Nº TOTAL DE LLAMADAS ATENDIDAS   CAT (%)     Bajas  Consultas     Altas  \n",
              "0                        338717.0  0.148153  0.715072   0.656096  0.808229  "
            ],
            "text/html": [
              "\n",
              "  <div id=\"df-ffb39854-6c52-4066-b55f-7bcbc210c7e4\">\n",
              "    <div class=\"colab-df-container\">\n",
              "      <div>\n",
              "<style scoped>\n",
              "    .dataframe tbody tr th:only-of-type {\n",
              "        vertical-align: middle;\n",
              "    }\n",
              "\n",
              "    .dataframe tbody tr th {\n",
              "        vertical-align: top;\n",
              "    }\n",
              "\n",
              "    .dataframe thead th {\n",
              "        text-align: right;\n",
              "    }\n",
              "</style>\n",
              "<table border=\"1\" class=\"dataframe\">\n",
              "  <thead>\n",
              "    <tr style=\"text-align: right;\">\n",
              "      <th></th>\n",
              "      <th>AÑO</th>\n",
              "      <th>Mes</th>\n",
              "      <th>N° de horas sin sistema de atención al mes</th>\n",
              "      <th>N° total de horas de atención al mes</th>\n",
              "      <th>CSA%</th>\n",
              "      <th>Nº DE USUARIOS QUE DESISTIERON DE LA ATENCIÓN AL MES</th>\n",
              "      <th>Nº TOTAL DE USUARIOS ATENDIDOS AL MES</th>\n",
              "      <th>DAP (%)</th>\n",
              "      <th>Nº DE LLAMADAS NO FINALIZADAS POR EL USUARIO</th>\n",
              "      <th>Nº TOTAL DE LLAMADAS ATENDIDAS</th>\n",
              "      <th>CAT (%)</th>\n",
              "      <th>Bajas</th>\n",
              "      <th>Consultas</th>\n",
              "      <th>Altas</th>\n",
              "    </tr>\n",
              "  </thead>\n",
              "  <tbody>\n",
              "    <tr>\n",
              "      <th>0</th>\n",
              "      <td>1</td>\n",
              "      <td>9</td>\n",
              "      <td>6.433333</td>\n",
              "      <td>9429.0</td>\n",
              "      <td>0.000682</td>\n",
              "      <td>4989.0</td>\n",
              "      <td>51894.0</td>\n",
              "      <td>0.096138</td>\n",
              "      <td>50182.0</td>\n",
              "      <td>338717.0</td>\n",
              "      <td>0.148153</td>\n",
              "      <td>0.715072</td>\n",
              "      <td>0.656096</td>\n",
              "      <td>0.808229</td>\n",
              "    </tr>\n",
              "  </tbody>\n",
              "</table>\n",
              "</div>\n",
              "      <button class=\"colab-df-convert\" onclick=\"convertToInteractive('df-ffb39854-6c52-4066-b55f-7bcbc210c7e4')\"\n",
              "              title=\"Convert this dataframe to an interactive table.\"\n",
              "              style=\"display:none;\">\n",
              "        \n",
              "  <svg xmlns=\"http://www.w3.org/2000/svg\" height=\"24px\"viewBox=\"0 0 24 24\"\n",
              "       width=\"24px\">\n",
              "    <path d=\"M0 0h24v24H0V0z\" fill=\"none\"/>\n",
              "    <path d=\"M18.56 5.44l.94 2.06.94-2.06 2.06-.94-2.06-.94-.94-2.06-.94 2.06-2.06.94zm-11 1L8.5 8.5l.94-2.06 2.06-.94-2.06-.94L8.5 2.5l-.94 2.06-2.06.94zm10 10l.94 2.06.94-2.06 2.06-.94-2.06-.94-.94-2.06-.94 2.06-2.06.94z\"/><path d=\"M17.41 7.96l-1.37-1.37c-.4-.4-.92-.59-1.43-.59-.52 0-1.04.2-1.43.59L10.3 9.45l-7.72 7.72c-.78.78-.78 2.05 0 2.83L4 21.41c.39.39.9.59 1.41.59.51 0 1.02-.2 1.41-.59l7.78-7.78 2.81-2.81c.8-.78.8-2.07 0-2.86zM5.41 20L4 18.59l7.72-7.72 1.47 1.35L5.41 20z\"/>\n",
              "  </svg>\n",
              "      </button>\n",
              "      \n",
              "  <style>\n",
              "    .colab-df-container {\n",
              "      display:flex;\n",
              "      flex-wrap:wrap;\n",
              "      gap: 12px;\n",
              "    }\n",
              "\n",
              "    .colab-df-convert {\n",
              "      background-color: #E8F0FE;\n",
              "      border: none;\n",
              "      border-radius: 50%;\n",
              "      cursor: pointer;\n",
              "      display: none;\n",
              "      fill: #1967D2;\n",
              "      height: 32px;\n",
              "      padding: 0 0 0 0;\n",
              "      width: 32px;\n",
              "    }\n",
              "\n",
              "    .colab-df-convert:hover {\n",
              "      background-color: #E2EBFA;\n",
              "      box-shadow: 0px 1px 2px rgba(60, 64, 67, 0.3), 0px 1px 3px 1px rgba(60, 64, 67, 0.15);\n",
              "      fill: #174EA6;\n",
              "    }\n",
              "\n",
              "    [theme=dark] .colab-df-convert {\n",
              "      background-color: #3B4455;\n",
              "      fill: #D2E3FC;\n",
              "    }\n",
              "\n",
              "    [theme=dark] .colab-df-convert:hover {\n",
              "      background-color: #434B5C;\n",
              "      box-shadow: 0px 1px 3px 1px rgba(0, 0, 0, 0.15);\n",
              "      filter: drop-shadow(0px 1px 2px rgba(0, 0, 0, 0.3));\n",
              "      fill: #FFFFFF;\n",
              "    }\n",
              "  </style>\n",
              "\n",
              "      <script>\n",
              "        const buttonEl =\n",
              "          document.querySelector('#df-ffb39854-6c52-4066-b55f-7bcbc210c7e4 button.colab-df-convert');\n",
              "        buttonEl.style.display =\n",
              "          google.colab.kernel.accessAllowed ? 'block' : 'none';\n",
              "\n",
              "        async function convertToInteractive(key) {\n",
              "          const element = document.querySelector('#df-ffb39854-6c52-4066-b55f-7bcbc210c7e4');\n",
              "          const dataTable =\n",
              "            await google.colab.kernel.invokeFunction('convertToInteractive',\n",
              "                                                     [key], {});\n",
              "          if (!dataTable) return;\n",
              "\n",
              "          const docLinkHtml = 'Like what you see? Visit the ' +\n",
              "            '<a target=\"_blank\" href=https://colab.research.google.com/notebooks/data_table.ipynb>data table notebook</a>'\n",
              "            + ' to learn more about interactive tables.';\n",
              "          element.innerHTML = '';\n",
              "          dataTable['output_type'] = 'display_data';\n",
              "          await google.colab.output.renderOutput(dataTable, element);\n",
              "          const docLink = document.createElement('div');\n",
              "          docLink.innerHTML = docLinkHtml;\n",
              "          element.appendChild(docLink);\n",
              "        }\n",
              "      </script>\n",
              "    </div>\n",
              "  </div>\n",
              "  "
            ]
          },
          "metadata": {},
          "execution_count": 13
        }
      ]
    },
    {
      "cell_type": "code",
      "metadata": {
        "colab": {
          "base_uri": "https://localhost:8080/"
        },
        "id": "6ZhDfcYpwwm2",
        "outputId": "1ffa06ff-9c6f-4e96-c529-7291c542fba9"
      },
      "source": [
        "Y.head(2)"
      ],
      "execution_count": null,
      "outputs": [
        {
          "output_type": "execute_result",
          "data": {
            "text/plain": [
              "0    4\n",
              "1    3\n",
              "Name: Reclamos-Cat, dtype: category\n",
              "Categories (5, object): ['1' < '2' < '3' < '4' < '5']"
            ]
          },
          "metadata": {},
          "execution_count": 14
        }
      ]
    },
    {
      "cell_type": "code",
      "metadata": {
        "id": "ztLkvsyIw4LB"
      },
      "source": [
        "seed = 7\n",
        "test_size = 0.2\n",
        "X_train, X_test, y_train, y_test = train_test_split(X, Y, test_size=test_size, random_state=seed)"
      ],
      "execution_count": null,
      "outputs": []
    },
    {
      "cell_type": "code",
      "metadata": {
        "colab": {
          "base_uri": "https://localhost:8080/"
        },
        "id": "BkVA34gnw-om",
        "outputId": "b17d0d0a-bc5e-4a98-a8a1-72b152a695fe"
      },
      "source": [
        "model = XGBClassifier(reg_alpha=0, reg_lambda=0)\n",
        "model.fit(X_train, y_train)"
      ],
      "execution_count": null,
      "outputs": [
        {
          "output_type": "execute_result",
          "data": {
            "text/plain": [
              "XGBClassifier(objective='multi:softprob', reg_lambda=0)"
            ]
          },
          "metadata": {},
          "execution_count": 16
        }
      ]
    },
    {
      "cell_type": "code",
      "metadata": {
        "colab": {
          "base_uri": "https://localhost:8080/"
        },
        "id": "xCp7gGCE5jpP",
        "outputId": "c2e20df4-0600-4068-dd0e-daa2dc77c6ec"
      },
      "source": [
        "from sklearn import metrics\n",
        "from sklearn.metrics import *\n",
        "\n",
        "#Realizo la predicción\n",
        "y_pred = model.predict(X_test)\n",
        "#Verifico la matriz de Confusión\n",
        "matriz = confusion_matrix(y_test, y_pred)\n",
        "#Calculo la precisión del modelo\n",
        "precision = precision_score(y_test, y_pred, average=\"macro\")\n",
        "#Calculo la exactitud del modelo\n",
        "exactitud = accuracy_score(y_test, y_pred)\n",
        "#Calculo la sensibilidad del modelo\n",
        "sensibilidad = recall_score(y_test, y_pred, average=\"macro\")\n",
        "#Calculo el Puntaje F1 del modelo\n",
        "puntajef1 = f1_score(y_test, y_pred, average=\"macro\")\n",
        "#Calculo la curva ROC - AUC del modelo\n",
        "roc_auc = roc_auc_score(y_test, y_pred)\n",
        "\n",
        "print('Matriz de Confusión:')\n",
        "print(matriz)\n",
        "print('Precisión del modelo:', precision)\n",
        "print('Exactitud del modelo:', exactitud)\n",
        "print('Sensibilidad del modelo:', sensibilidad)\n",
        "print('Puntaje F1 del modelo:', puntajef1)\n",
        "print('Curva ROC - AUC del modelo:', roc_auc)"
      ],
      "execution_count": null,
      "outputs": [
        {
          "output_type": "stream",
          "name": "stdout",
          "text": [
            "Matriz de Confusión:\n",
            "[[3 0]\n",
            " [1 5]]\n",
            "Precisión del modelo: 0.875\n",
            "Exactitud del modelo: 0.8888888888888888\n",
            "Sensibilidad del modelo: 0.9166666666666667\n",
            "Puntaje F1 del modelo: 0.8831168831168831\n",
            "Curva ROC - AUC del modelo: 0.9166666666666667\n"
          ]
        }
      ]
    },
    {
      "cell_type": "markdown",
      "metadata": {
        "id": "2JiKXgP-_03C"
      },
      "source": [
        "##XGBoost - Lasso"
      ]
    },
    {
      "cell_type": "code",
      "metadata": {
        "id": "AapHNZHP_03C"
      },
      "source": [
        "import pandas as pd\n",
        "from xgboost import XGBClassifier\n",
        "from sklearn.model_selection import train_test_split\n",
        "from sklearn.metrics import accuracy_score"
      ],
      "execution_count": null,
      "outputs": []
    },
    {
      "cell_type": "code",
      "metadata": {
        "id": "HnsE2bvR_03E"
      },
      "source": [
        "df = data.dropna()"
      ],
      "execution_count": null,
      "outputs": []
    },
    {
      "cell_type": "code",
      "metadata": {
        "id": "w09tMT2I_03E"
      },
      "source": [
        "X = df.drop(['Reclamos-Cat'], axis=1)\n",
        "Y = df['Reclamos-Cat']"
      ],
      "execution_count": null,
      "outputs": []
    },
    {
      "cell_type": "code",
      "metadata": {
        "colab": {
          "base_uri": "https://localhost:8080/"
        },
        "id": "QZeCl_GA_03F",
        "outputId": "83dfeb1b-bdba-4c74-8d1b-72dcb6caa768"
      },
      "source": [
        "X.head(1)"
      ],
      "execution_count": null,
      "outputs": [
        {
          "output_type": "execute_result",
          "data": {
            "text/plain": [
              "   AÑO  Mes  N° de horas sin sistema de atención al mes    \\\n",
              "0    1    9                                      6.433333   \n",
              "\n",
              "   N° total de horas de atención al mes      CSA%  \\\n",
              "0                                9429.0  0.000682   \n",
              "\n",
              "   Nº DE USUARIOS QUE DESISTIERON DE LA ATENCIÓN AL MES  \\\n",
              "0                                             4989.0      \n",
              "\n",
              "   Nº TOTAL DE USUARIOS ATENDIDOS AL MES   DAP (%)  \\\n",
              "0                                51894.0  0.096138   \n",
              "\n",
              "   Nº DE LLAMADAS NO FINALIZADAS POR EL USUARIO  \\\n",
              "0                                       50182.0   \n",
              "\n",
              "   Nº TOTAL DE LLAMADAS ATENDIDAS   CAT (%)     Bajas  Consultas     Altas  \n",
              "0                        338717.0  0.148153  0.715072   0.656096  0.808229  "
            ],
            "text/html": [
              "\n",
              "  <div id=\"df-1605fd5e-7c13-42a4-9ea6-bf0f0b78ef61\">\n",
              "    <div class=\"colab-df-container\">\n",
              "      <div>\n",
              "<style scoped>\n",
              "    .dataframe tbody tr th:only-of-type {\n",
              "        vertical-align: middle;\n",
              "    }\n",
              "\n",
              "    .dataframe tbody tr th {\n",
              "        vertical-align: top;\n",
              "    }\n",
              "\n",
              "    .dataframe thead th {\n",
              "        text-align: right;\n",
              "    }\n",
              "</style>\n",
              "<table border=\"1\" class=\"dataframe\">\n",
              "  <thead>\n",
              "    <tr style=\"text-align: right;\">\n",
              "      <th></th>\n",
              "      <th>AÑO</th>\n",
              "      <th>Mes</th>\n",
              "      <th>N° de horas sin sistema de atención al mes</th>\n",
              "      <th>N° total de horas de atención al mes</th>\n",
              "      <th>CSA%</th>\n",
              "      <th>Nº DE USUARIOS QUE DESISTIERON DE LA ATENCIÓN AL MES</th>\n",
              "      <th>Nº TOTAL DE USUARIOS ATENDIDOS AL MES</th>\n",
              "      <th>DAP (%)</th>\n",
              "      <th>Nº DE LLAMADAS NO FINALIZADAS POR EL USUARIO</th>\n",
              "      <th>Nº TOTAL DE LLAMADAS ATENDIDAS</th>\n",
              "      <th>CAT (%)</th>\n",
              "      <th>Bajas</th>\n",
              "      <th>Consultas</th>\n",
              "      <th>Altas</th>\n",
              "    </tr>\n",
              "  </thead>\n",
              "  <tbody>\n",
              "    <tr>\n",
              "      <th>0</th>\n",
              "      <td>1</td>\n",
              "      <td>9</td>\n",
              "      <td>6.433333</td>\n",
              "      <td>9429.0</td>\n",
              "      <td>0.000682</td>\n",
              "      <td>4989.0</td>\n",
              "      <td>51894.0</td>\n",
              "      <td>0.096138</td>\n",
              "      <td>50182.0</td>\n",
              "      <td>338717.0</td>\n",
              "      <td>0.148153</td>\n",
              "      <td>0.715072</td>\n",
              "      <td>0.656096</td>\n",
              "      <td>0.808229</td>\n",
              "    </tr>\n",
              "  </tbody>\n",
              "</table>\n",
              "</div>\n",
              "      <button class=\"colab-df-convert\" onclick=\"convertToInteractive('df-1605fd5e-7c13-42a4-9ea6-bf0f0b78ef61')\"\n",
              "              title=\"Convert this dataframe to an interactive table.\"\n",
              "              style=\"display:none;\">\n",
              "        \n",
              "  <svg xmlns=\"http://www.w3.org/2000/svg\" height=\"24px\"viewBox=\"0 0 24 24\"\n",
              "       width=\"24px\">\n",
              "    <path d=\"M0 0h24v24H0V0z\" fill=\"none\"/>\n",
              "    <path d=\"M18.56 5.44l.94 2.06.94-2.06 2.06-.94-2.06-.94-.94-2.06-.94 2.06-2.06.94zm-11 1L8.5 8.5l.94-2.06 2.06-.94-2.06-.94L8.5 2.5l-.94 2.06-2.06.94zm10 10l.94 2.06.94-2.06 2.06-.94-2.06-.94-.94-2.06-.94 2.06-2.06.94z\"/><path d=\"M17.41 7.96l-1.37-1.37c-.4-.4-.92-.59-1.43-.59-.52 0-1.04.2-1.43.59L10.3 9.45l-7.72 7.72c-.78.78-.78 2.05 0 2.83L4 21.41c.39.39.9.59 1.41.59.51 0 1.02-.2 1.41-.59l7.78-7.78 2.81-2.81c.8-.78.8-2.07 0-2.86zM5.41 20L4 18.59l7.72-7.72 1.47 1.35L5.41 20z\"/>\n",
              "  </svg>\n",
              "      </button>\n",
              "      \n",
              "  <style>\n",
              "    .colab-df-container {\n",
              "      display:flex;\n",
              "      flex-wrap:wrap;\n",
              "      gap: 12px;\n",
              "    }\n",
              "\n",
              "    .colab-df-convert {\n",
              "      background-color: #E8F0FE;\n",
              "      border: none;\n",
              "      border-radius: 50%;\n",
              "      cursor: pointer;\n",
              "      display: none;\n",
              "      fill: #1967D2;\n",
              "      height: 32px;\n",
              "      padding: 0 0 0 0;\n",
              "      width: 32px;\n",
              "    }\n",
              "\n",
              "    .colab-df-convert:hover {\n",
              "      background-color: #E2EBFA;\n",
              "      box-shadow: 0px 1px 2px rgba(60, 64, 67, 0.3), 0px 1px 3px 1px rgba(60, 64, 67, 0.15);\n",
              "      fill: #174EA6;\n",
              "    }\n",
              "\n",
              "    [theme=dark] .colab-df-convert {\n",
              "      background-color: #3B4455;\n",
              "      fill: #D2E3FC;\n",
              "    }\n",
              "\n",
              "    [theme=dark] .colab-df-convert:hover {\n",
              "      background-color: #434B5C;\n",
              "      box-shadow: 0px 1px 3px 1px rgba(0, 0, 0, 0.15);\n",
              "      filter: drop-shadow(0px 1px 2px rgba(0, 0, 0, 0.3));\n",
              "      fill: #FFFFFF;\n",
              "    }\n",
              "  </style>\n",
              "\n",
              "      <script>\n",
              "        const buttonEl =\n",
              "          document.querySelector('#df-1605fd5e-7c13-42a4-9ea6-bf0f0b78ef61 button.colab-df-convert');\n",
              "        buttonEl.style.display =\n",
              "          google.colab.kernel.accessAllowed ? 'block' : 'none';\n",
              "\n",
              "        async function convertToInteractive(key) {\n",
              "          const element = document.querySelector('#df-1605fd5e-7c13-42a4-9ea6-bf0f0b78ef61');\n",
              "          const dataTable =\n",
              "            await google.colab.kernel.invokeFunction('convertToInteractive',\n",
              "                                                     [key], {});\n",
              "          if (!dataTable) return;\n",
              "\n",
              "          const docLinkHtml = 'Like what you see? Visit the ' +\n",
              "            '<a target=\"_blank\" href=https://colab.research.google.com/notebooks/data_table.ipynb>data table notebook</a>'\n",
              "            + ' to learn more about interactive tables.';\n",
              "          element.innerHTML = '';\n",
              "          dataTable['output_type'] = 'display_data';\n",
              "          await google.colab.output.renderOutput(dataTable, element);\n",
              "          const docLink = document.createElement('div');\n",
              "          docLink.innerHTML = docLinkHtml;\n",
              "          element.appendChild(docLink);\n",
              "        }\n",
              "      </script>\n",
              "    </div>\n",
              "  </div>\n",
              "  "
            ]
          },
          "metadata": {},
          "execution_count": 21
        }
      ]
    },
    {
      "cell_type": "code",
      "metadata": {
        "colab": {
          "base_uri": "https://localhost:8080/"
        },
        "id": "_LVGdD7n_03G",
        "outputId": "62dbb069-63ff-46a7-e17d-b36cb0ed6f7e"
      },
      "source": [
        "Y.head(2)"
      ],
      "execution_count": null,
      "outputs": [
        {
          "output_type": "execute_result",
          "data": {
            "text/plain": [
              "0    4\n",
              "1    3\n",
              "Name: Reclamos-Cat, dtype: category\n",
              "Categories (5, object): ['1' < '2' < '3' < '4' < '5']"
            ]
          },
          "metadata": {},
          "execution_count": 22
        }
      ]
    },
    {
      "cell_type": "code",
      "metadata": {
        "id": "4E07X7uc_03G"
      },
      "source": [
        "seed = 7\n",
        "test_size = 0.2\n",
        "X_train, X_test, y_train, y_test = train_test_split(X, Y, test_size=test_size, random_state=seed)"
      ],
      "execution_count": null,
      "outputs": []
    },
    {
      "cell_type": "code",
      "metadata": {
        "colab": {
          "base_uri": "https://localhost:8080/"
        },
        "id": "nD6MjqVg_03H",
        "outputId": "6b214395-99c1-4289-e59a-046ab1f654af"
      },
      "source": [
        "model = XGBClassifier(reg_alpha=1, reg_lambda=0)\n",
        "model.fit(X_train, y_train)"
      ],
      "execution_count": null,
      "outputs": [
        {
          "output_type": "execute_result",
          "data": {
            "text/plain": [
              "XGBClassifier(objective='multi:softprob', reg_alpha=1, reg_lambda=0)"
            ]
          },
          "metadata": {},
          "execution_count": 24
        }
      ]
    },
    {
      "cell_type": "code",
      "metadata": {
        "colab": {
          "base_uri": "https://localhost:8080/"
        },
        "id": "eW6nFB4N_03I",
        "outputId": "2a335dea-0b73-4683-a961-5399095996e4"
      },
      "source": [
        "from sklearn import metrics\n",
        "from sklearn.metrics import *\n",
        "\n",
        "#Realizo la predicción\n",
        "y_pred = model.predict(X_test)\n",
        "#Verifico la matriz de Confusión\n",
        "matriz = confusion_matrix(y_test, y_pred)\n",
        "#Calculo la precisión del modelo\n",
        "precision = precision_score(y_test, y_pred, average=\"macro\")\n",
        "#Calculo la exactitud del modelo\n",
        "exactitud = accuracy_score(y_test, y_pred)\n",
        "#Calculo la sensibilidad del modelo\n",
        "sensibilidad = recall_score(y_test, y_pred, average=\"macro\")\n",
        "#Calculo el Puntaje F1 del modelo\n",
        "puntajef1 = f1_score(y_test, y_pred, average=\"macro\")\n",
        "#Calculo la curva ROC - AUC del modelo\n",
        "roc_auc = roc_auc_score(y_test, y_pred)\n",
        "\n",
        "print('Matriz de Confusión:')\n",
        "print(matriz)\n",
        "print('Precisión del modelo:', precision)\n",
        "print('Exactitud del modelo:', exactitud)\n",
        "print('Sensibilidad del modelo:', sensibilidad)\n",
        "print('Puntaje F1 del modelo:', puntajef1)\n",
        "print('Curva ROC - AUC del modelo:', roc_auc)"
      ],
      "execution_count": null,
      "outputs": [
        {
          "output_type": "stream",
          "name": "stdout",
          "text": [
            "Matriz de Confusión:\n",
            "[[3 0]\n",
            " [1 5]]\n",
            "Precisión del modelo: 0.875\n",
            "Exactitud del modelo: 0.8888888888888888\n",
            "Sensibilidad del modelo: 0.9166666666666667\n",
            "Puntaje F1 del modelo: 0.8831168831168831\n",
            "Curva ROC - AUC del modelo: 0.9166666666666667\n"
          ]
        }
      ]
    },
    {
      "cell_type": "markdown",
      "metadata": {
        "id": "OtLWu_HYEj5R"
      },
      "source": [
        "##XGBoost - Ridge"
      ]
    },
    {
      "cell_type": "code",
      "metadata": {
        "id": "bvQN8X6cEj5S"
      },
      "source": [
        "import pandas as pd\n",
        "from xgboost import XGBClassifier\n",
        "from sklearn.model_selection import train_test_split\n",
        "from sklearn.metrics import accuracy_score"
      ],
      "execution_count": null,
      "outputs": []
    },
    {
      "cell_type": "code",
      "metadata": {
        "id": "DKfJJQ-CEj5T"
      },
      "source": [
        "df = data.dropna()"
      ],
      "execution_count": null,
      "outputs": []
    },
    {
      "cell_type": "code",
      "metadata": {
        "id": "JT4ZRcFFEj5U"
      },
      "source": [
        "X = df.drop(['Reclamos-Cat'], axis=1)\n",
        "Y = df['Reclamos-Cat']"
      ],
      "execution_count": null,
      "outputs": []
    },
    {
      "cell_type": "code",
      "metadata": {
        "colab": {
          "base_uri": "https://localhost:8080/"
        },
        "id": "p1jl5gwUEj5U",
        "outputId": "de5c6da1-581a-4d72-c458-db9d4f0cad0e"
      },
      "source": [
        "X.head(1)"
      ],
      "execution_count": null,
      "outputs": [
        {
          "output_type": "execute_result",
          "data": {
            "text/plain": [
              "   AÑO  Mes  N° de horas sin sistema de atención al mes    \\\n",
              "0    1    9                                      6.433333   \n",
              "\n",
              "   N° total de horas de atención al mes      CSA%  \\\n",
              "0                                9429.0  0.000682   \n",
              "\n",
              "   Nº DE USUARIOS QUE DESISTIERON DE LA ATENCIÓN AL MES  \\\n",
              "0                                             4989.0      \n",
              "\n",
              "   Nº TOTAL DE USUARIOS ATENDIDOS AL MES   DAP (%)  \\\n",
              "0                                51894.0  0.096138   \n",
              "\n",
              "   Nº DE LLAMADAS NO FINALIZADAS POR EL USUARIO  \\\n",
              "0                                       50182.0   \n",
              "\n",
              "   Nº TOTAL DE LLAMADAS ATENDIDAS   CAT (%)     Bajas  Consultas     Altas  \n",
              "0                        338717.0  0.148153  0.715072   0.656096  0.808229  "
            ],
            "text/html": [
              "\n",
              "  <div id=\"df-00802283-a945-484b-9d77-d9ac478e72d5\">\n",
              "    <div class=\"colab-df-container\">\n",
              "      <div>\n",
              "<style scoped>\n",
              "    .dataframe tbody tr th:only-of-type {\n",
              "        vertical-align: middle;\n",
              "    }\n",
              "\n",
              "    .dataframe tbody tr th {\n",
              "        vertical-align: top;\n",
              "    }\n",
              "\n",
              "    .dataframe thead th {\n",
              "        text-align: right;\n",
              "    }\n",
              "</style>\n",
              "<table border=\"1\" class=\"dataframe\">\n",
              "  <thead>\n",
              "    <tr style=\"text-align: right;\">\n",
              "      <th></th>\n",
              "      <th>AÑO</th>\n",
              "      <th>Mes</th>\n",
              "      <th>N° de horas sin sistema de atención al mes</th>\n",
              "      <th>N° total de horas de atención al mes</th>\n",
              "      <th>CSA%</th>\n",
              "      <th>Nº DE USUARIOS QUE DESISTIERON DE LA ATENCIÓN AL MES</th>\n",
              "      <th>Nº TOTAL DE USUARIOS ATENDIDOS AL MES</th>\n",
              "      <th>DAP (%)</th>\n",
              "      <th>Nº DE LLAMADAS NO FINALIZADAS POR EL USUARIO</th>\n",
              "      <th>Nº TOTAL DE LLAMADAS ATENDIDAS</th>\n",
              "      <th>CAT (%)</th>\n",
              "      <th>Bajas</th>\n",
              "      <th>Consultas</th>\n",
              "      <th>Altas</th>\n",
              "    </tr>\n",
              "  </thead>\n",
              "  <tbody>\n",
              "    <tr>\n",
              "      <th>0</th>\n",
              "      <td>1</td>\n",
              "      <td>9</td>\n",
              "      <td>6.433333</td>\n",
              "      <td>9429.0</td>\n",
              "      <td>0.000682</td>\n",
              "      <td>4989.0</td>\n",
              "      <td>51894.0</td>\n",
              "      <td>0.096138</td>\n",
              "      <td>50182.0</td>\n",
              "      <td>338717.0</td>\n",
              "      <td>0.148153</td>\n",
              "      <td>0.715072</td>\n",
              "      <td>0.656096</td>\n",
              "      <td>0.808229</td>\n",
              "    </tr>\n",
              "  </tbody>\n",
              "</table>\n",
              "</div>\n",
              "      <button class=\"colab-df-convert\" onclick=\"convertToInteractive('df-00802283-a945-484b-9d77-d9ac478e72d5')\"\n",
              "              title=\"Convert this dataframe to an interactive table.\"\n",
              "              style=\"display:none;\">\n",
              "        \n",
              "  <svg xmlns=\"http://www.w3.org/2000/svg\" height=\"24px\"viewBox=\"0 0 24 24\"\n",
              "       width=\"24px\">\n",
              "    <path d=\"M0 0h24v24H0V0z\" fill=\"none\"/>\n",
              "    <path d=\"M18.56 5.44l.94 2.06.94-2.06 2.06-.94-2.06-.94-.94-2.06-.94 2.06-2.06.94zm-11 1L8.5 8.5l.94-2.06 2.06-.94-2.06-.94L8.5 2.5l-.94 2.06-2.06.94zm10 10l.94 2.06.94-2.06 2.06-.94-2.06-.94-.94-2.06-.94 2.06-2.06.94z\"/><path d=\"M17.41 7.96l-1.37-1.37c-.4-.4-.92-.59-1.43-.59-.52 0-1.04.2-1.43.59L10.3 9.45l-7.72 7.72c-.78.78-.78 2.05 0 2.83L4 21.41c.39.39.9.59 1.41.59.51 0 1.02-.2 1.41-.59l7.78-7.78 2.81-2.81c.8-.78.8-2.07 0-2.86zM5.41 20L4 18.59l7.72-7.72 1.47 1.35L5.41 20z\"/>\n",
              "  </svg>\n",
              "      </button>\n",
              "      \n",
              "  <style>\n",
              "    .colab-df-container {\n",
              "      display:flex;\n",
              "      flex-wrap:wrap;\n",
              "      gap: 12px;\n",
              "    }\n",
              "\n",
              "    .colab-df-convert {\n",
              "      background-color: #E8F0FE;\n",
              "      border: none;\n",
              "      border-radius: 50%;\n",
              "      cursor: pointer;\n",
              "      display: none;\n",
              "      fill: #1967D2;\n",
              "      height: 32px;\n",
              "      padding: 0 0 0 0;\n",
              "      width: 32px;\n",
              "    }\n",
              "\n",
              "    .colab-df-convert:hover {\n",
              "      background-color: #E2EBFA;\n",
              "      box-shadow: 0px 1px 2px rgba(60, 64, 67, 0.3), 0px 1px 3px 1px rgba(60, 64, 67, 0.15);\n",
              "      fill: #174EA6;\n",
              "    }\n",
              "\n",
              "    [theme=dark] .colab-df-convert {\n",
              "      background-color: #3B4455;\n",
              "      fill: #D2E3FC;\n",
              "    }\n",
              "\n",
              "    [theme=dark] .colab-df-convert:hover {\n",
              "      background-color: #434B5C;\n",
              "      box-shadow: 0px 1px 3px 1px rgba(0, 0, 0, 0.15);\n",
              "      filter: drop-shadow(0px 1px 2px rgba(0, 0, 0, 0.3));\n",
              "      fill: #FFFFFF;\n",
              "    }\n",
              "  </style>\n",
              "\n",
              "      <script>\n",
              "        const buttonEl =\n",
              "          document.querySelector('#df-00802283-a945-484b-9d77-d9ac478e72d5 button.colab-df-convert');\n",
              "        buttonEl.style.display =\n",
              "          google.colab.kernel.accessAllowed ? 'block' : 'none';\n",
              "\n",
              "        async function convertToInteractive(key) {\n",
              "          const element = document.querySelector('#df-00802283-a945-484b-9d77-d9ac478e72d5');\n",
              "          const dataTable =\n",
              "            await google.colab.kernel.invokeFunction('convertToInteractive',\n",
              "                                                     [key], {});\n",
              "          if (!dataTable) return;\n",
              "\n",
              "          const docLinkHtml = 'Like what you see? Visit the ' +\n",
              "            '<a target=\"_blank\" href=https://colab.research.google.com/notebooks/data_table.ipynb>data table notebook</a>'\n",
              "            + ' to learn more about interactive tables.';\n",
              "          element.innerHTML = '';\n",
              "          dataTable['output_type'] = 'display_data';\n",
              "          await google.colab.output.renderOutput(dataTable, element);\n",
              "          const docLink = document.createElement('div');\n",
              "          docLink.innerHTML = docLinkHtml;\n",
              "          element.appendChild(docLink);\n",
              "        }\n",
              "      </script>\n",
              "    </div>\n",
              "  </div>\n",
              "  "
            ]
          },
          "metadata": {},
          "execution_count": 29
        }
      ]
    },
    {
      "cell_type": "code",
      "metadata": {
        "colab": {
          "base_uri": "https://localhost:8080/"
        },
        "id": "UcEi_nEMEj5W",
        "outputId": "a452407f-a27d-4a0f-cbc9-45b65f574d49"
      },
      "source": [
        "Y.head(2)"
      ],
      "execution_count": null,
      "outputs": [
        {
          "output_type": "execute_result",
          "data": {
            "text/plain": [
              "0    4\n",
              "1    3\n",
              "Name: Reclamos-Cat, dtype: category\n",
              "Categories (5, object): ['1' < '2' < '3' < '4' < '5']"
            ]
          },
          "metadata": {},
          "execution_count": 30
        }
      ]
    },
    {
      "cell_type": "code",
      "metadata": {
        "id": "mxMP_bsmEj5X"
      },
      "source": [
        "seed = 7\n",
        "test_size = 0.2\n",
        "X_train, X_test, y_train, y_test = train_test_split(X, Y, test_size=test_size, random_state=seed)"
      ],
      "execution_count": null,
      "outputs": []
    },
    {
      "cell_type": "code",
      "metadata": {
        "colab": {
          "base_uri": "https://localhost:8080/"
        },
        "id": "yD0wQK0sEj5Y",
        "outputId": "437ae445-4ae2-4bdd-8444-8c9c3e913063"
      },
      "source": [
        "model = XGBClassifier(reg_alpha=0, reg_lambda=1)\n",
        "model.fit(X_train, y_train)"
      ],
      "execution_count": null,
      "outputs": [
        {
          "output_type": "execute_result",
          "data": {
            "text/plain": [
              "XGBClassifier(objective='multi:softprob')"
            ]
          },
          "metadata": {},
          "execution_count": 32
        }
      ]
    },
    {
      "cell_type": "code",
      "metadata": {
        "colab": {
          "base_uri": "https://localhost:8080/"
        },
        "id": "ichiRTkeEj5Z",
        "outputId": "36bf0adf-f2f8-4e97-e661-768781c903ba"
      },
      "source": [
        "from sklearn import metrics\n",
        "from sklearn.metrics import *\n",
        "\n",
        "#Realizo la predicción\n",
        "y_pred = model.predict(X_test)\n",
        "#Verifico la matriz de Confusión\n",
        "matriz = confusion_matrix(y_test, y_pred)\n",
        "#Calculo la precisión del modelo\n",
        "precision = precision_score(y_test, y_pred, average=\"macro\")\n",
        "#Calculo la exactitud del modelo\n",
        "exactitud = accuracy_score(y_test, y_pred)\n",
        "#Calculo la sensibilidad del modelo\n",
        "sensibilidad = recall_score(y_test, y_pred, average=\"macro\")\n",
        "#Calculo el Puntaje F1 del modelo\n",
        "puntajef1 = f1_score(y_test, y_pred, average=\"macro\")\n",
        "#Calculo la curva ROC - AUC del modelo\n",
        "roc_auc = roc_auc_score(y_test, y_pred)\n",
        "\n",
        "print('Matriz de Confusión:')\n",
        "print(matriz)\n",
        "print('Precisión del modelo:', precision)\n",
        "print('Exactitud del modelo:', exactitud)\n",
        "print('Sensibilidad del modelo:', sensibilidad)\n",
        "print('Puntaje F1 del modelo:', puntajef1)\n",
        "print('Curva ROC - AUC del modelo:', roc_auc)"
      ],
      "execution_count": null,
      "outputs": [
        {
          "output_type": "stream",
          "name": "stdout",
          "text": [
            "Matriz de Confusión:\n",
            "[[3 0]\n",
            " [1 5]]\n",
            "Precisión del modelo: 0.875\n",
            "Exactitud del modelo: 0.8888888888888888\n",
            "Sensibilidad del modelo: 0.9166666666666667\n",
            "Puntaje F1 del modelo: 0.8831168831168831\n",
            "Curva ROC - AUC del modelo: 0.9166666666666667\n"
          ]
        }
      ]
    },
    {
      "cell_type": "markdown",
      "metadata": {
        "id": "Ll-kceNLE8tL"
      },
      "source": [
        "##XGBoost - Elasticnet"
      ]
    },
    {
      "cell_type": "code",
      "metadata": {
        "id": "ms0yuc2-E8tN"
      },
      "source": [
        "import pandas as pd\n",
        "from xgboost import XGBClassifier\n",
        "from sklearn.model_selection import train_test_split\n",
        "from sklearn.metrics import accuracy_score"
      ],
      "execution_count": null,
      "outputs": []
    },
    {
      "cell_type": "code",
      "metadata": {
        "id": "hFMDEsSyE8tO"
      },
      "source": [
        "df = data.dropna()"
      ],
      "execution_count": null,
      "outputs": []
    },
    {
      "cell_type": "code",
      "metadata": {
        "id": "5tGy562YE8tP"
      },
      "source": [
        "X = df.drop(['Reclamos-Cat'], axis=1)\n",
        "Y = df['Reclamos-Cat']"
      ],
      "execution_count": null,
      "outputs": []
    },
    {
      "cell_type": "code",
      "metadata": {
        "colab": {
          "base_uri": "https://localhost:8080/"
        },
        "id": "YK9GeY6pE8tQ",
        "outputId": "47d65ad3-4da3-42fa-bf8d-ab2d37ab2866"
      },
      "source": [
        "X.head(1)"
      ],
      "execution_count": null,
      "outputs": [
        {
          "output_type": "execute_result",
          "data": {
            "text/plain": [
              "   AÑO  Mes  N° de horas sin sistema de atención al mes    \\\n",
              "0    1    9                                      6.433333   \n",
              "\n",
              "   N° total de horas de atención al mes      CSA%  \\\n",
              "0                                9429.0  0.000682   \n",
              "\n",
              "   Nº DE USUARIOS QUE DESISTIERON DE LA ATENCIÓN AL MES  \\\n",
              "0                                             4989.0      \n",
              "\n",
              "   Nº TOTAL DE USUARIOS ATENDIDOS AL MES   DAP (%)  \\\n",
              "0                                51894.0  0.096138   \n",
              "\n",
              "   Nº DE LLAMADAS NO FINALIZADAS POR EL USUARIO  \\\n",
              "0                                       50182.0   \n",
              "\n",
              "   Nº TOTAL DE LLAMADAS ATENDIDAS   CAT (%)     Bajas  Consultas     Altas  \n",
              "0                        338717.0  0.148153  0.715072   0.656096  0.808229  "
            ],
            "text/html": [
              "\n",
              "  <div id=\"df-77536822-92fa-4fe7-abd8-e8fff6ea3276\">\n",
              "    <div class=\"colab-df-container\">\n",
              "      <div>\n",
              "<style scoped>\n",
              "    .dataframe tbody tr th:only-of-type {\n",
              "        vertical-align: middle;\n",
              "    }\n",
              "\n",
              "    .dataframe tbody tr th {\n",
              "        vertical-align: top;\n",
              "    }\n",
              "\n",
              "    .dataframe thead th {\n",
              "        text-align: right;\n",
              "    }\n",
              "</style>\n",
              "<table border=\"1\" class=\"dataframe\">\n",
              "  <thead>\n",
              "    <tr style=\"text-align: right;\">\n",
              "      <th></th>\n",
              "      <th>AÑO</th>\n",
              "      <th>Mes</th>\n",
              "      <th>N° de horas sin sistema de atención al mes</th>\n",
              "      <th>N° total de horas de atención al mes</th>\n",
              "      <th>CSA%</th>\n",
              "      <th>Nº DE USUARIOS QUE DESISTIERON DE LA ATENCIÓN AL MES</th>\n",
              "      <th>Nº TOTAL DE USUARIOS ATENDIDOS AL MES</th>\n",
              "      <th>DAP (%)</th>\n",
              "      <th>Nº DE LLAMADAS NO FINALIZADAS POR EL USUARIO</th>\n",
              "      <th>Nº TOTAL DE LLAMADAS ATENDIDAS</th>\n",
              "      <th>CAT (%)</th>\n",
              "      <th>Bajas</th>\n",
              "      <th>Consultas</th>\n",
              "      <th>Altas</th>\n",
              "    </tr>\n",
              "  </thead>\n",
              "  <tbody>\n",
              "    <tr>\n",
              "      <th>0</th>\n",
              "      <td>1</td>\n",
              "      <td>9</td>\n",
              "      <td>6.433333</td>\n",
              "      <td>9429.0</td>\n",
              "      <td>0.000682</td>\n",
              "      <td>4989.0</td>\n",
              "      <td>51894.0</td>\n",
              "      <td>0.096138</td>\n",
              "      <td>50182.0</td>\n",
              "      <td>338717.0</td>\n",
              "      <td>0.148153</td>\n",
              "      <td>0.715072</td>\n",
              "      <td>0.656096</td>\n",
              "      <td>0.808229</td>\n",
              "    </tr>\n",
              "  </tbody>\n",
              "</table>\n",
              "</div>\n",
              "      <button class=\"colab-df-convert\" onclick=\"convertToInteractive('df-77536822-92fa-4fe7-abd8-e8fff6ea3276')\"\n",
              "              title=\"Convert this dataframe to an interactive table.\"\n",
              "              style=\"display:none;\">\n",
              "        \n",
              "  <svg xmlns=\"http://www.w3.org/2000/svg\" height=\"24px\"viewBox=\"0 0 24 24\"\n",
              "       width=\"24px\">\n",
              "    <path d=\"M0 0h24v24H0V0z\" fill=\"none\"/>\n",
              "    <path d=\"M18.56 5.44l.94 2.06.94-2.06 2.06-.94-2.06-.94-.94-2.06-.94 2.06-2.06.94zm-11 1L8.5 8.5l.94-2.06 2.06-.94-2.06-.94L8.5 2.5l-.94 2.06-2.06.94zm10 10l.94 2.06.94-2.06 2.06-.94-2.06-.94-.94-2.06-.94 2.06-2.06.94z\"/><path d=\"M17.41 7.96l-1.37-1.37c-.4-.4-.92-.59-1.43-.59-.52 0-1.04.2-1.43.59L10.3 9.45l-7.72 7.72c-.78.78-.78 2.05 0 2.83L4 21.41c.39.39.9.59 1.41.59.51 0 1.02-.2 1.41-.59l7.78-7.78 2.81-2.81c.8-.78.8-2.07 0-2.86zM5.41 20L4 18.59l7.72-7.72 1.47 1.35L5.41 20z\"/>\n",
              "  </svg>\n",
              "      </button>\n",
              "      \n",
              "  <style>\n",
              "    .colab-df-container {\n",
              "      display:flex;\n",
              "      flex-wrap:wrap;\n",
              "      gap: 12px;\n",
              "    }\n",
              "\n",
              "    .colab-df-convert {\n",
              "      background-color: #E8F0FE;\n",
              "      border: none;\n",
              "      border-radius: 50%;\n",
              "      cursor: pointer;\n",
              "      display: none;\n",
              "      fill: #1967D2;\n",
              "      height: 32px;\n",
              "      padding: 0 0 0 0;\n",
              "      width: 32px;\n",
              "    }\n",
              "\n",
              "    .colab-df-convert:hover {\n",
              "      background-color: #E2EBFA;\n",
              "      box-shadow: 0px 1px 2px rgba(60, 64, 67, 0.3), 0px 1px 3px 1px rgba(60, 64, 67, 0.15);\n",
              "      fill: #174EA6;\n",
              "    }\n",
              "\n",
              "    [theme=dark] .colab-df-convert {\n",
              "      background-color: #3B4455;\n",
              "      fill: #D2E3FC;\n",
              "    }\n",
              "\n",
              "    [theme=dark] .colab-df-convert:hover {\n",
              "      background-color: #434B5C;\n",
              "      box-shadow: 0px 1px 3px 1px rgba(0, 0, 0, 0.15);\n",
              "      filter: drop-shadow(0px 1px 2px rgba(0, 0, 0, 0.3));\n",
              "      fill: #FFFFFF;\n",
              "    }\n",
              "  </style>\n",
              "\n",
              "      <script>\n",
              "        const buttonEl =\n",
              "          document.querySelector('#df-77536822-92fa-4fe7-abd8-e8fff6ea3276 button.colab-df-convert');\n",
              "        buttonEl.style.display =\n",
              "          google.colab.kernel.accessAllowed ? 'block' : 'none';\n",
              "\n",
              "        async function convertToInteractive(key) {\n",
              "          const element = document.querySelector('#df-77536822-92fa-4fe7-abd8-e8fff6ea3276');\n",
              "          const dataTable =\n",
              "            await google.colab.kernel.invokeFunction('convertToInteractive',\n",
              "                                                     [key], {});\n",
              "          if (!dataTable) return;\n",
              "\n",
              "          const docLinkHtml = 'Like what you see? Visit the ' +\n",
              "            '<a target=\"_blank\" href=https://colab.research.google.com/notebooks/data_table.ipynb>data table notebook</a>'\n",
              "            + ' to learn more about interactive tables.';\n",
              "          element.innerHTML = '';\n",
              "          dataTable['output_type'] = 'display_data';\n",
              "          await google.colab.output.renderOutput(dataTable, element);\n",
              "          const docLink = document.createElement('div');\n",
              "          docLink.innerHTML = docLinkHtml;\n",
              "          element.appendChild(docLink);\n",
              "        }\n",
              "      </script>\n",
              "    </div>\n",
              "  </div>\n",
              "  "
            ]
          },
          "metadata": {},
          "execution_count": 37
        }
      ]
    },
    {
      "cell_type": "code",
      "metadata": {
        "colab": {
          "base_uri": "https://localhost:8080/"
        },
        "id": "fzcADmHWE8tS",
        "outputId": "d0b43e90-c1c8-4c5f-f0a4-76446e0f3bca"
      },
      "source": [
        "Y.head(2)"
      ],
      "execution_count": null,
      "outputs": [
        {
          "output_type": "execute_result",
          "data": {
            "text/plain": [
              "0    4\n",
              "1    3\n",
              "Name: Reclamos-Cat, dtype: category\n",
              "Categories (5, object): ['1' < '2' < '3' < '4' < '5']"
            ]
          },
          "metadata": {},
          "execution_count": 38
        }
      ]
    },
    {
      "cell_type": "code",
      "metadata": {
        "id": "AS1z2HMNE8tT"
      },
      "source": [
        "seed = 7\n",
        "test_size = 0.2\n",
        "X_train, X_test, y_train, y_test = train_test_split(X, Y, test_size=test_size, random_state=seed)"
      ],
      "execution_count": null,
      "outputs": []
    },
    {
      "cell_type": "code",
      "metadata": {
        "colab": {
          "base_uri": "https://localhost:8080/"
        },
        "id": "7ChJfMSdE8tU",
        "outputId": "bf390238-cfb5-4647-e79e-86478f933b79"
      },
      "source": [
        "model = XGBClassifier(reg_alpha=1, reg_lambda=1)\n",
        "model.fit(X_train, y_train)"
      ],
      "execution_count": null,
      "outputs": [
        {
          "output_type": "execute_result",
          "data": {
            "text/plain": [
              "XGBClassifier(objective='multi:softprob', reg_alpha=1)"
            ]
          },
          "metadata": {},
          "execution_count": 40
        }
      ]
    },
    {
      "cell_type": "code",
      "metadata": {
        "colab": {
          "base_uri": "https://localhost:8080/"
        },
        "id": "SgDC71LlE8tX",
        "outputId": "12f45461-6265-4144-9195-605b3122cd99"
      },
      "source": [
        "from sklearn import metrics\n",
        "from sklearn.metrics import *\n",
        "\n",
        "#Realizo la predicción\n",
        "y_pred = model.predict(X_test)\n",
        "#Verifico la matriz de Confusión\n",
        "matriz = confusion_matrix(y_test, y_pred)\n",
        "#Calculo la precisión del modelo\n",
        "precision = precision_score(y_test, y_pred, average=\"macro\")\n",
        "#Calculo la exactitud del modelo\n",
        "exactitud = accuracy_score(y_test, y_pred)\n",
        "#Calculo la sensibilidad del modelo\n",
        "sensibilidad = recall_score(y_test, y_pred, average=\"macro\")\n",
        "#Calculo el Puntaje F1 del modelo\n",
        "puntajef1 = f1_score(y_test, y_pred, average=\"macro\")\n",
        "#Calculo la curva ROC - AUC del modelo\n",
        "roc_auc = roc_auc_score(y_test, y_pred)\n",
        "\n",
        "print('Matriz de Confusión:')\n",
        "print(matriz)\n",
        "print('Precisión del modelo:', precision)\n",
        "print('Exactitud del modelo:', exactitud)\n",
        "print('Sensibilidad del modelo:', sensibilidad)\n",
        "print('Puntaje F1 del modelo:', puntajef1)\n",
        "print('Curva ROC - AUC del modelo:', roc_auc)"
      ],
      "execution_count": null,
      "outputs": [
        {
          "output_type": "stream",
          "name": "stdout",
          "text": [
            "Matriz de Confusión:\n",
            "[[3 0]\n",
            " [1 5]]\n",
            "Precisión del modelo: 0.875\n",
            "Exactitud del modelo: 0.8888888888888888\n",
            "Sensibilidad del modelo: 0.9166666666666667\n",
            "Puntaje F1 del modelo: 0.8831168831168831\n",
            "Curva ROC - AUC del modelo: 0.9166666666666667\n"
          ]
        }
      ]
    },
    {
      "cell_type": "markdown",
      "metadata": {
        "id": "vo-QjqbhFg8T"
      },
      "source": [
        "#XGboost - Con RFE"
      ]
    },
    {
      "cell_type": "markdown",
      "metadata": {
        "id": "bnq4a3BCFn6l"
      },
      "source": [
        "##RFE"
      ]
    },
    {
      "cell_type": "code",
      "metadata": {
        "colab": {
          "base_uri": "https://localhost:8080/"
        },
        "id": "QS1HukEQFz-a",
        "outputId": "d073060d-528a-48e6-c3c7-57f2fb2c530f"
      },
      "source": [
        "from sklearn import linear_model\n",
        "from time import time\n",
        "import numpy as np\n",
        "import seaborn as sns\n",
        "import statsmodels.api as sm\n",
        "from sklearn.linear_model import LinearRegression\n",
        "from sklearn.feature_selection import RFE\n",
        "\n",
        "df = data.dropna()\n",
        "X = df.drop(['Reclamos-Cat'], axis=1)\n",
        "Y = df['Reclamos-Cat']\n",
        "\n",
        "#######################################\n",
        "#no of features\n",
        "nof_list=np.arange(1,14)            \n",
        "high_score=0\n",
        "#Variable to store the optimum features\n",
        "nof=0           \n",
        "score_list =[]\n",
        "for n in range(len(nof_list)):\n",
        "    X_train, X_test, y_train, y_test = train_test_split(X,Y, test_size = 0.2, random_state = 0)\n",
        "    model = LinearRegression()\n",
        "    rfe = RFE(model,nof_list[n])\n",
        "    X_train_rfe = rfe.fit_transform(X_train,y_train)\n",
        "    X_test_rfe = rfe.transform(X_test)\n",
        "    model.fit(X_train_rfe,y_train)\n",
        "    score = model.score(X_test_rfe,y_test)\n",
        "    score_list.append(score)\n",
        "    if(score>high_score):\n",
        "        high_score = score\n",
        "        nof = nof_list[n]\n",
        "print(\"Optimum number of features: %d\" %nof)\n",
        "print(\"Score with %d features: %f\" % (nof, high_score))\n",
        "#########################################\n",
        "cols = list(X.columns)\n",
        "model = LinearRegression()\n",
        "#Initializing RFE model\n",
        "rfe = RFE(model, 2)             \n",
        "#Transforming data using RFE\n",
        "X_rfe = rfe.fit_transform(X,Y)  \n",
        "#Fitting the data to model\n",
        "model.fit(X_rfe,Y)              \n",
        "temp = pd.Series(rfe.support_,index = cols)\n",
        "selected_features_rfe = temp[temp==True].index\n",
        "print(selected_features_rfe)"
      ],
      "execution_count": null,
      "outputs": [
        {
          "output_type": "stream",
          "name": "stderr",
          "text": [
            "/usr/local/lib/python3.7/dist-packages/statsmodels/tools/_testing.py:19: FutureWarning: pandas.util.testing is deprecated. Use the functions in the public API at pandas.testing instead.\n",
            "  import pandas.util.testing as tm\n",
            "/usr/local/lib/python3.7/dist-packages/sklearn/utils/validation.py:72: FutureWarning: Pass n_features_to_select=1 as keyword args. From version 1.0 (renaming of 0.25) passing these as positional arguments will result in an error\n",
            "  \"will result in an error\", FutureWarning)\n",
            "/usr/local/lib/python3.7/dist-packages/sklearn/utils/validation.py:72: FutureWarning: Pass n_features_to_select=2 as keyword args. From version 1.0 (renaming of 0.25) passing these as positional arguments will result in an error\n",
            "  \"will result in an error\", FutureWarning)\n",
            "/usr/local/lib/python3.7/dist-packages/sklearn/utils/validation.py:72: FutureWarning: Pass n_features_to_select=3 as keyword args. From version 1.0 (renaming of 0.25) passing these as positional arguments will result in an error\n",
            "  \"will result in an error\", FutureWarning)\n",
            "/usr/local/lib/python3.7/dist-packages/sklearn/utils/validation.py:72: FutureWarning: Pass n_features_to_select=4 as keyword args. From version 1.0 (renaming of 0.25) passing these as positional arguments will result in an error\n",
            "  \"will result in an error\", FutureWarning)\n",
            "/usr/local/lib/python3.7/dist-packages/sklearn/utils/validation.py:72: FutureWarning: Pass n_features_to_select=5 as keyword args. From version 1.0 (renaming of 0.25) passing these as positional arguments will result in an error\n",
            "  \"will result in an error\", FutureWarning)\n",
            "/usr/local/lib/python3.7/dist-packages/sklearn/utils/validation.py:72: FutureWarning: Pass n_features_to_select=6 as keyword args. From version 1.0 (renaming of 0.25) passing these as positional arguments will result in an error\n",
            "  \"will result in an error\", FutureWarning)\n",
            "/usr/local/lib/python3.7/dist-packages/sklearn/utils/validation.py:72: FutureWarning: Pass n_features_to_select=7 as keyword args. From version 1.0 (renaming of 0.25) passing these as positional arguments will result in an error\n",
            "  \"will result in an error\", FutureWarning)\n",
            "/usr/local/lib/python3.7/dist-packages/sklearn/utils/validation.py:72: FutureWarning: Pass n_features_to_select=8 as keyword args. From version 1.0 (renaming of 0.25) passing these as positional arguments will result in an error\n",
            "  \"will result in an error\", FutureWarning)\n",
            "/usr/local/lib/python3.7/dist-packages/sklearn/utils/validation.py:72: FutureWarning: Pass n_features_to_select=9 as keyword args. From version 1.0 (renaming of 0.25) passing these as positional arguments will result in an error\n",
            "  \"will result in an error\", FutureWarning)\n",
            "/usr/local/lib/python3.7/dist-packages/sklearn/utils/validation.py:72: FutureWarning: Pass n_features_to_select=10 as keyword args. From version 1.0 (renaming of 0.25) passing these as positional arguments will result in an error\n",
            "  \"will result in an error\", FutureWarning)\n",
            "/usr/local/lib/python3.7/dist-packages/sklearn/utils/validation.py:72: FutureWarning: Pass n_features_to_select=11 as keyword args. From version 1.0 (renaming of 0.25) passing these as positional arguments will result in an error\n",
            "  \"will result in an error\", FutureWarning)\n",
            "/usr/local/lib/python3.7/dist-packages/sklearn/utils/validation.py:72: FutureWarning: Pass n_features_to_select=12 as keyword args. From version 1.0 (renaming of 0.25) passing these as positional arguments will result in an error\n",
            "  \"will result in an error\", FutureWarning)\n"
          ]
        },
        {
          "output_type": "stream",
          "name": "stdout",
          "text": [
            "Optimum number of features: 2\n",
            "Score with 2 features: 0.726037\n",
            "Index(['CSA%', 'Consultas'], dtype='object')\n"
          ]
        },
        {
          "output_type": "stream",
          "name": "stderr",
          "text": [
            "/usr/local/lib/python3.7/dist-packages/sklearn/utils/validation.py:72: FutureWarning: Pass n_features_to_select=13 as keyword args. From version 1.0 (renaming of 0.25) passing these as positional arguments will result in an error\n",
            "  \"will result in an error\", FutureWarning)\n",
            "/usr/local/lib/python3.7/dist-packages/sklearn/utils/validation.py:72: FutureWarning: Pass n_features_to_select=2 as keyword args. From version 1.0 (renaming of 0.25) passing these as positional arguments will result in an error\n",
            "  \"will result in an error\", FutureWarning)\n"
          ]
        }
      ]
    },
    {
      "cell_type": "markdown",
      "metadata": {
        "id": "vputlx9eFg8U"
      },
      "source": [
        "##XGBoost - Solo"
      ]
    },
    {
      "cell_type": "code",
      "metadata": {
        "id": "BCQ1yNltFg8U"
      },
      "source": [
        "import pandas as pd\n",
        "from xgboost import XGBClassifier\n",
        "from sklearn.model_selection import train_test_split\n",
        "from sklearn.metrics import accuracy_score"
      ],
      "execution_count": null,
      "outputs": []
    },
    {
      "cell_type": "code",
      "metadata": {
        "id": "K8mHYLoUFg8U"
      },
      "source": [
        "df = data.dropna()"
      ],
      "execution_count": null,
      "outputs": []
    },
    {
      "cell_type": "code",
      "metadata": {
        "id": "7mcukIxqFg8U"
      },
      "source": [
        "X = df[['CSA%', 'Consultas']]\n",
        "Y = df['Reclamos-Cat']"
      ],
      "execution_count": null,
      "outputs": []
    },
    {
      "cell_type": "code",
      "metadata": {
        "colab": {
          "base_uri": "https://localhost:8080/"
        },
        "id": "GCXooAxjFg8U",
        "outputId": "8b4defca-e83e-4586-c0ac-5b51a9cde17b"
      },
      "source": [
        "X.head(1)"
      ],
      "execution_count": null,
      "outputs": [
        {
          "output_type": "execute_result",
          "data": {
            "text/plain": [
              "       CSA%  Consultas\n",
              "0  0.000682   0.656096"
            ],
            "text/html": [
              "\n",
              "  <div id=\"df-ca2de55a-82fe-4030-9b8f-ef31cc191510\">\n",
              "    <div class=\"colab-df-container\">\n",
              "      <div>\n",
              "<style scoped>\n",
              "    .dataframe tbody tr th:only-of-type {\n",
              "        vertical-align: middle;\n",
              "    }\n",
              "\n",
              "    .dataframe tbody tr th {\n",
              "        vertical-align: top;\n",
              "    }\n",
              "\n",
              "    .dataframe thead th {\n",
              "        text-align: right;\n",
              "    }\n",
              "</style>\n",
              "<table border=\"1\" class=\"dataframe\">\n",
              "  <thead>\n",
              "    <tr style=\"text-align: right;\">\n",
              "      <th></th>\n",
              "      <th>CSA%</th>\n",
              "      <th>Consultas</th>\n",
              "    </tr>\n",
              "  </thead>\n",
              "  <tbody>\n",
              "    <tr>\n",
              "      <th>0</th>\n",
              "      <td>0.000682</td>\n",
              "      <td>0.656096</td>\n",
              "    </tr>\n",
              "  </tbody>\n",
              "</table>\n",
              "</div>\n",
              "      <button class=\"colab-df-convert\" onclick=\"convertToInteractive('df-ca2de55a-82fe-4030-9b8f-ef31cc191510')\"\n",
              "              title=\"Convert this dataframe to an interactive table.\"\n",
              "              style=\"display:none;\">\n",
              "        \n",
              "  <svg xmlns=\"http://www.w3.org/2000/svg\" height=\"24px\"viewBox=\"0 0 24 24\"\n",
              "       width=\"24px\">\n",
              "    <path d=\"M0 0h24v24H0V0z\" fill=\"none\"/>\n",
              "    <path d=\"M18.56 5.44l.94 2.06.94-2.06 2.06-.94-2.06-.94-.94-2.06-.94 2.06-2.06.94zm-11 1L8.5 8.5l.94-2.06 2.06-.94-2.06-.94L8.5 2.5l-.94 2.06-2.06.94zm10 10l.94 2.06.94-2.06 2.06-.94-2.06-.94-.94-2.06-.94 2.06-2.06.94z\"/><path d=\"M17.41 7.96l-1.37-1.37c-.4-.4-.92-.59-1.43-.59-.52 0-1.04.2-1.43.59L10.3 9.45l-7.72 7.72c-.78.78-.78 2.05 0 2.83L4 21.41c.39.39.9.59 1.41.59.51 0 1.02-.2 1.41-.59l7.78-7.78 2.81-2.81c.8-.78.8-2.07 0-2.86zM5.41 20L4 18.59l7.72-7.72 1.47 1.35L5.41 20z\"/>\n",
              "  </svg>\n",
              "      </button>\n",
              "      \n",
              "  <style>\n",
              "    .colab-df-container {\n",
              "      display:flex;\n",
              "      flex-wrap:wrap;\n",
              "      gap: 12px;\n",
              "    }\n",
              "\n",
              "    .colab-df-convert {\n",
              "      background-color: #E8F0FE;\n",
              "      border: none;\n",
              "      border-radius: 50%;\n",
              "      cursor: pointer;\n",
              "      display: none;\n",
              "      fill: #1967D2;\n",
              "      height: 32px;\n",
              "      padding: 0 0 0 0;\n",
              "      width: 32px;\n",
              "    }\n",
              "\n",
              "    .colab-df-convert:hover {\n",
              "      background-color: #E2EBFA;\n",
              "      box-shadow: 0px 1px 2px rgba(60, 64, 67, 0.3), 0px 1px 3px 1px rgba(60, 64, 67, 0.15);\n",
              "      fill: #174EA6;\n",
              "    }\n",
              "\n",
              "    [theme=dark] .colab-df-convert {\n",
              "      background-color: #3B4455;\n",
              "      fill: #D2E3FC;\n",
              "    }\n",
              "\n",
              "    [theme=dark] .colab-df-convert:hover {\n",
              "      background-color: #434B5C;\n",
              "      box-shadow: 0px 1px 3px 1px rgba(0, 0, 0, 0.15);\n",
              "      filter: drop-shadow(0px 1px 2px rgba(0, 0, 0, 0.3));\n",
              "      fill: #FFFFFF;\n",
              "    }\n",
              "  </style>\n",
              "\n",
              "      <script>\n",
              "        const buttonEl =\n",
              "          document.querySelector('#df-ca2de55a-82fe-4030-9b8f-ef31cc191510 button.colab-df-convert');\n",
              "        buttonEl.style.display =\n",
              "          google.colab.kernel.accessAllowed ? 'block' : 'none';\n",
              "\n",
              "        async function convertToInteractive(key) {\n",
              "          const element = document.querySelector('#df-ca2de55a-82fe-4030-9b8f-ef31cc191510');\n",
              "          const dataTable =\n",
              "            await google.colab.kernel.invokeFunction('convertToInteractive',\n",
              "                                                     [key], {});\n",
              "          if (!dataTable) return;\n",
              "\n",
              "          const docLinkHtml = 'Like what you see? Visit the ' +\n",
              "            '<a target=\"_blank\" href=https://colab.research.google.com/notebooks/data_table.ipynb>data table notebook</a>'\n",
              "            + ' to learn more about interactive tables.';\n",
              "          element.innerHTML = '';\n",
              "          dataTable['output_type'] = 'display_data';\n",
              "          await google.colab.output.renderOutput(dataTable, element);\n",
              "          const docLink = document.createElement('div');\n",
              "          docLink.innerHTML = docLinkHtml;\n",
              "          element.appendChild(docLink);\n",
              "        }\n",
              "      </script>\n",
              "    </div>\n",
              "  </div>\n",
              "  "
            ]
          },
          "metadata": {},
          "execution_count": 46
        }
      ]
    },
    {
      "cell_type": "code",
      "metadata": {
        "colab": {
          "base_uri": "https://localhost:8080/"
        },
        "id": "RbxTldXpFg8V",
        "outputId": "86deccec-c9ea-4f18-fce9-ac251a560dc7"
      },
      "source": [
        "Y.head(2)"
      ],
      "execution_count": null,
      "outputs": [
        {
          "output_type": "execute_result",
          "data": {
            "text/plain": [
              "0    4\n",
              "1    3\n",
              "Name: Reclamos-Cat, dtype: category\n",
              "Categories (5, object): ['1' < '2' < '3' < '4' < '5']"
            ]
          },
          "metadata": {},
          "execution_count": 47
        }
      ]
    },
    {
      "cell_type": "code",
      "metadata": {
        "id": "x1LusAhgFg8V"
      },
      "source": [
        "seed = 7\n",
        "test_size = 0.2\n",
        "X_train, X_test, y_train, y_test = train_test_split(X, Y, test_size=test_size, random_state=seed)"
      ],
      "execution_count": null,
      "outputs": []
    },
    {
      "cell_type": "code",
      "metadata": {
        "colab": {
          "base_uri": "https://localhost:8080/"
        },
        "id": "wzpelmRCFg8V",
        "outputId": "57c024e3-a758-41a9-d8d0-287f0220118c"
      },
      "source": [
        "model = XGBClassifier(reg_alpha=0, reg_lambda=0)\n",
        "model.fit(X_train, y_train)"
      ],
      "execution_count": null,
      "outputs": [
        {
          "output_type": "execute_result",
          "data": {
            "text/plain": [
              "XGBClassifier(objective='multi:softprob', reg_lambda=0)"
            ]
          },
          "metadata": {},
          "execution_count": 49
        }
      ]
    },
    {
      "cell_type": "code",
      "metadata": {
        "colab": {
          "base_uri": "https://localhost:8080/"
        },
        "id": "NBAWOMFoFg8W",
        "outputId": "5e1814b4-9ee1-4581-d951-3d183c565d49"
      },
      "source": [
        "from sklearn import metrics\n",
        "from sklearn.metrics import *\n",
        "\n",
        "#Realizo la predicción\n",
        "y_pred = model.predict(X_test)\n",
        "#Verifico la matriz de Confusión\n",
        "matriz = confusion_matrix(y_test, y_pred)\n",
        "#Calculo la precisión del modelo\n",
        "precision = precision_score(y_test, y_pred, average=\"macro\")\n",
        "#Calculo la exactitud del modelo\n",
        "exactitud = accuracy_score(y_test, y_pred)\n",
        "#Calculo la sensibilidad del modelo\n",
        "sensibilidad = recall_score(y_test, y_pred, average=\"macro\")\n",
        "#Calculo el Puntaje F1 del modelo\n",
        "puntajef1 = f1_score(y_test, y_pred, average=\"macro\")\n",
        "#Calculo la curva ROC - AUC del modelo\n",
        "roc_auc = roc_auc_score(y_test, y_pred)\n",
        "\n",
        "print('Matriz de Confusión:')\n",
        "print(matriz)\n",
        "print('Precisión del modelo:', precision)\n",
        "print('Exactitud del modelo:', exactitud)\n",
        "print('Sensibilidad del modelo:', sensibilidad)\n",
        "print('Puntaje F1 del modelo:', puntajef1)\n",
        "print('Curva ROC - AUC del modelo:', roc_auc)"
      ],
      "execution_count": null,
      "outputs": [
        {
          "output_type": "stream",
          "name": "stdout",
          "text": [
            "Matriz de Confusión:\n",
            "[[3 0]\n",
            " [0 6]]\n",
            "Precisión del modelo: 1.0\n",
            "Exactitud del modelo: 1.0\n",
            "Sensibilidad del modelo: 1.0\n",
            "Puntaje F1 del modelo: 1.0\n",
            "Curva ROC - AUC del modelo: 1.0\n"
          ]
        }
      ]
    },
    {
      "cell_type": "markdown",
      "metadata": {
        "id": "Nph0cwlbFg8W"
      },
      "source": [
        "##XGBoost - Lasso"
      ]
    },
    {
      "cell_type": "code",
      "metadata": {
        "id": "tiSSUrzdFg8W"
      },
      "source": [
        "import pandas as pd\n",
        "from xgboost import XGBClassifier\n",
        "from sklearn.model_selection import train_test_split\n",
        "from sklearn.metrics import accuracy_score"
      ],
      "execution_count": null,
      "outputs": []
    },
    {
      "cell_type": "code",
      "metadata": {
        "id": "sSgWKHd7Fg8W"
      },
      "source": [
        "df = data.dropna()"
      ],
      "execution_count": null,
      "outputs": []
    },
    {
      "cell_type": "code",
      "metadata": {
        "id": "GkK_1FuMFg8X"
      },
      "source": [
        "X = df[['CSA%', 'Consultas']]\n",
        "Y = df['Reclamos-Cat']"
      ],
      "execution_count": null,
      "outputs": []
    },
    {
      "cell_type": "code",
      "metadata": {
        "colab": {
          "base_uri": "https://localhost:8080/"
        },
        "id": "qOCtHWK8Fg8X",
        "outputId": "cfe4dfc9-e9c9-4bbe-c457-5be863f2ce0d"
      },
      "source": [
        "X.head(1)"
      ],
      "execution_count": null,
      "outputs": [
        {
          "output_type": "execute_result",
          "data": {
            "text/plain": [
              "       CSA%  Consultas\n",
              "0  0.000682   0.656096"
            ],
            "text/html": [
              "\n",
              "  <div id=\"df-8eb3f20e-3014-44ae-9660-8235f9bb3ad0\">\n",
              "    <div class=\"colab-df-container\">\n",
              "      <div>\n",
              "<style scoped>\n",
              "    .dataframe tbody tr th:only-of-type {\n",
              "        vertical-align: middle;\n",
              "    }\n",
              "\n",
              "    .dataframe tbody tr th {\n",
              "        vertical-align: top;\n",
              "    }\n",
              "\n",
              "    .dataframe thead th {\n",
              "        text-align: right;\n",
              "    }\n",
              "</style>\n",
              "<table border=\"1\" class=\"dataframe\">\n",
              "  <thead>\n",
              "    <tr style=\"text-align: right;\">\n",
              "      <th></th>\n",
              "      <th>CSA%</th>\n",
              "      <th>Consultas</th>\n",
              "    </tr>\n",
              "  </thead>\n",
              "  <tbody>\n",
              "    <tr>\n",
              "      <th>0</th>\n",
              "      <td>0.000682</td>\n",
              "      <td>0.656096</td>\n",
              "    </tr>\n",
              "  </tbody>\n",
              "</table>\n",
              "</div>\n",
              "      <button class=\"colab-df-convert\" onclick=\"convertToInteractive('df-8eb3f20e-3014-44ae-9660-8235f9bb3ad0')\"\n",
              "              title=\"Convert this dataframe to an interactive table.\"\n",
              "              style=\"display:none;\">\n",
              "        \n",
              "  <svg xmlns=\"http://www.w3.org/2000/svg\" height=\"24px\"viewBox=\"0 0 24 24\"\n",
              "       width=\"24px\">\n",
              "    <path d=\"M0 0h24v24H0V0z\" fill=\"none\"/>\n",
              "    <path d=\"M18.56 5.44l.94 2.06.94-2.06 2.06-.94-2.06-.94-.94-2.06-.94 2.06-2.06.94zm-11 1L8.5 8.5l.94-2.06 2.06-.94-2.06-.94L8.5 2.5l-.94 2.06-2.06.94zm10 10l.94 2.06.94-2.06 2.06-.94-2.06-.94-.94-2.06-.94 2.06-2.06.94z\"/><path d=\"M17.41 7.96l-1.37-1.37c-.4-.4-.92-.59-1.43-.59-.52 0-1.04.2-1.43.59L10.3 9.45l-7.72 7.72c-.78.78-.78 2.05 0 2.83L4 21.41c.39.39.9.59 1.41.59.51 0 1.02-.2 1.41-.59l7.78-7.78 2.81-2.81c.8-.78.8-2.07 0-2.86zM5.41 20L4 18.59l7.72-7.72 1.47 1.35L5.41 20z\"/>\n",
              "  </svg>\n",
              "      </button>\n",
              "      \n",
              "  <style>\n",
              "    .colab-df-container {\n",
              "      display:flex;\n",
              "      flex-wrap:wrap;\n",
              "      gap: 12px;\n",
              "    }\n",
              "\n",
              "    .colab-df-convert {\n",
              "      background-color: #E8F0FE;\n",
              "      border: none;\n",
              "      border-radius: 50%;\n",
              "      cursor: pointer;\n",
              "      display: none;\n",
              "      fill: #1967D2;\n",
              "      height: 32px;\n",
              "      padding: 0 0 0 0;\n",
              "      width: 32px;\n",
              "    }\n",
              "\n",
              "    .colab-df-convert:hover {\n",
              "      background-color: #E2EBFA;\n",
              "      box-shadow: 0px 1px 2px rgba(60, 64, 67, 0.3), 0px 1px 3px 1px rgba(60, 64, 67, 0.15);\n",
              "      fill: #174EA6;\n",
              "    }\n",
              "\n",
              "    [theme=dark] .colab-df-convert {\n",
              "      background-color: #3B4455;\n",
              "      fill: #D2E3FC;\n",
              "    }\n",
              "\n",
              "    [theme=dark] .colab-df-convert:hover {\n",
              "      background-color: #434B5C;\n",
              "      box-shadow: 0px 1px 3px 1px rgba(0, 0, 0, 0.15);\n",
              "      filter: drop-shadow(0px 1px 2px rgba(0, 0, 0, 0.3));\n",
              "      fill: #FFFFFF;\n",
              "    }\n",
              "  </style>\n",
              "\n",
              "      <script>\n",
              "        const buttonEl =\n",
              "          document.querySelector('#df-8eb3f20e-3014-44ae-9660-8235f9bb3ad0 button.colab-df-convert');\n",
              "        buttonEl.style.display =\n",
              "          google.colab.kernel.accessAllowed ? 'block' : 'none';\n",
              "\n",
              "        async function convertToInteractive(key) {\n",
              "          const element = document.querySelector('#df-8eb3f20e-3014-44ae-9660-8235f9bb3ad0');\n",
              "          const dataTable =\n",
              "            await google.colab.kernel.invokeFunction('convertToInteractive',\n",
              "                                                     [key], {});\n",
              "          if (!dataTable) return;\n",
              "\n",
              "          const docLinkHtml = 'Like what you see? Visit the ' +\n",
              "            '<a target=\"_blank\" href=https://colab.research.google.com/notebooks/data_table.ipynb>data table notebook</a>'\n",
              "            + ' to learn more about interactive tables.';\n",
              "          element.innerHTML = '';\n",
              "          dataTable['output_type'] = 'display_data';\n",
              "          await google.colab.output.renderOutput(dataTable, element);\n",
              "          const docLink = document.createElement('div');\n",
              "          docLink.innerHTML = docLinkHtml;\n",
              "          element.appendChild(docLink);\n",
              "        }\n",
              "      </script>\n",
              "    </div>\n",
              "  </div>\n",
              "  "
            ]
          },
          "metadata": {},
          "execution_count": 54
        }
      ]
    },
    {
      "cell_type": "code",
      "metadata": {
        "colab": {
          "base_uri": "https://localhost:8080/"
        },
        "id": "6r3-hPm3Fg8X",
        "outputId": "95f7f781-0ca2-4c25-87d9-f319aa0adf06"
      },
      "source": [
        "Y.head(2)"
      ],
      "execution_count": null,
      "outputs": [
        {
          "output_type": "execute_result",
          "data": {
            "text/plain": [
              "0    4\n",
              "1    3\n",
              "Name: Reclamos-Cat, dtype: category\n",
              "Categories (5, object): ['1' < '2' < '3' < '4' < '5']"
            ]
          },
          "metadata": {},
          "execution_count": 55
        }
      ]
    },
    {
      "cell_type": "code",
      "metadata": {
        "id": "EUO3e1PJFg8X"
      },
      "source": [
        "seed = 7\n",
        "test_size = 0.2\n",
        "X_train, X_test, y_train, y_test = train_test_split(X, Y, test_size=test_size, random_state=seed)"
      ],
      "execution_count": null,
      "outputs": []
    },
    {
      "cell_type": "code",
      "metadata": {
        "colab": {
          "base_uri": "https://localhost:8080/"
        },
        "id": "sIjNKYMpFg8Y",
        "outputId": "64126a93-9f58-445f-bffa-f50b775cac5b"
      },
      "source": [
        "model = XGBClassifier(reg_alpha=1, reg_lambda=0)\n",
        "model.fit(X_train, y_train)"
      ],
      "execution_count": null,
      "outputs": [
        {
          "output_type": "execute_result",
          "data": {
            "text/plain": [
              "XGBClassifier(objective='multi:softprob', reg_alpha=1, reg_lambda=0)"
            ]
          },
          "metadata": {},
          "execution_count": 57
        }
      ]
    },
    {
      "cell_type": "code",
      "metadata": {
        "colab": {
          "base_uri": "https://localhost:8080/"
        },
        "id": "bGwhvphyFg8Y",
        "outputId": "e34e74b8-8899-4b05-802d-3d8d6e9819d2"
      },
      "source": [
        "from sklearn import metrics\n",
        "from sklearn.metrics import *\n",
        "\n",
        "#Realizo la predicción\n",
        "y_pred = model.predict(X_test)\n",
        "#Verifico la matriz de Confusión\n",
        "matriz = confusion_matrix(y_test, y_pred)\n",
        "#Calculo la precisión del modelo\n",
        "precision = precision_score(y_test, y_pred, average=\"macro\")\n",
        "#Calculo la exactitud del modelo\n",
        "exactitud = accuracy_score(y_test, y_pred)\n",
        "#Calculo la sensibilidad del modelo\n",
        "sensibilidad = recall_score(y_test, y_pred, average=\"macro\")\n",
        "#Calculo el Puntaje F1 del modelo\n",
        "puntajef1 = f1_score(y_test, y_pred, average=\"macro\")\n",
        "#Calculo la curva ROC - AUC del modelo\n",
        "roc_auc = roc_auc_score(y_test, y_pred)\n",
        "\n",
        "print('Matriz de Confusión:')\n",
        "print(matriz)\n",
        "print('Precisión del modelo:', precision)\n",
        "print('Exactitud del modelo:', exactitud)\n",
        "print('Sensibilidad del modelo:', sensibilidad)\n",
        "print('Puntaje F1 del modelo:', puntajef1)\n",
        "print('Curva ROC - AUC del modelo:', roc_auc)"
      ],
      "execution_count": null,
      "outputs": [
        {
          "output_type": "stream",
          "name": "stdout",
          "text": [
            "Matriz de Confusión:\n",
            "[[3 0]\n",
            " [0 6]]\n",
            "Precisión del modelo: 1.0\n",
            "Exactitud del modelo: 1.0\n",
            "Sensibilidad del modelo: 1.0\n",
            "Puntaje F1 del modelo: 1.0\n",
            "Curva ROC - AUC del modelo: 1.0\n"
          ]
        }
      ]
    },
    {
      "cell_type": "markdown",
      "metadata": {
        "id": "sNPVIU9MFg8Y"
      },
      "source": [
        "##XGBoost - Ridge"
      ]
    },
    {
      "cell_type": "code",
      "metadata": {
        "id": "xCwf6tVfFg8Y"
      },
      "source": [
        "import pandas as pd\n",
        "from xgboost import XGBClassifier\n",
        "from sklearn.model_selection import train_test_split\n",
        "from sklearn.metrics import accuracy_score"
      ],
      "execution_count": null,
      "outputs": []
    },
    {
      "cell_type": "code",
      "metadata": {
        "id": "n7dC2u8BFg8Z"
      },
      "source": [
        "df = data.dropna()"
      ],
      "execution_count": null,
      "outputs": []
    },
    {
      "cell_type": "code",
      "metadata": {
        "id": "sRPn6ACiFg8Z"
      },
      "source": [
        "X = df[['CSA%', 'Consultas']]\n",
        "Y = df['Reclamos-Cat']"
      ],
      "execution_count": null,
      "outputs": []
    },
    {
      "cell_type": "code",
      "metadata": {
        "colab": {
          "base_uri": "https://localhost:8080/"
        },
        "id": "y_2ymoMRFg8Z",
        "outputId": "1eba9518-a5f7-4dd0-faab-0e8a4cfb22ca"
      },
      "source": [
        "X.head(1)"
      ],
      "execution_count": null,
      "outputs": [
        {
          "output_type": "execute_result",
          "data": {
            "text/plain": [
              "       CSA%  Consultas\n",
              "0  0.000682   0.656096"
            ],
            "text/html": [
              "\n",
              "  <div id=\"df-d103b8be-f77d-4f72-aa39-49144b6ed648\">\n",
              "    <div class=\"colab-df-container\">\n",
              "      <div>\n",
              "<style scoped>\n",
              "    .dataframe tbody tr th:only-of-type {\n",
              "        vertical-align: middle;\n",
              "    }\n",
              "\n",
              "    .dataframe tbody tr th {\n",
              "        vertical-align: top;\n",
              "    }\n",
              "\n",
              "    .dataframe thead th {\n",
              "        text-align: right;\n",
              "    }\n",
              "</style>\n",
              "<table border=\"1\" class=\"dataframe\">\n",
              "  <thead>\n",
              "    <tr style=\"text-align: right;\">\n",
              "      <th></th>\n",
              "      <th>CSA%</th>\n",
              "      <th>Consultas</th>\n",
              "    </tr>\n",
              "  </thead>\n",
              "  <tbody>\n",
              "    <tr>\n",
              "      <th>0</th>\n",
              "      <td>0.000682</td>\n",
              "      <td>0.656096</td>\n",
              "    </tr>\n",
              "  </tbody>\n",
              "</table>\n",
              "</div>\n",
              "      <button class=\"colab-df-convert\" onclick=\"convertToInteractive('df-d103b8be-f77d-4f72-aa39-49144b6ed648')\"\n",
              "              title=\"Convert this dataframe to an interactive table.\"\n",
              "              style=\"display:none;\">\n",
              "        \n",
              "  <svg xmlns=\"http://www.w3.org/2000/svg\" height=\"24px\"viewBox=\"0 0 24 24\"\n",
              "       width=\"24px\">\n",
              "    <path d=\"M0 0h24v24H0V0z\" fill=\"none\"/>\n",
              "    <path d=\"M18.56 5.44l.94 2.06.94-2.06 2.06-.94-2.06-.94-.94-2.06-.94 2.06-2.06.94zm-11 1L8.5 8.5l.94-2.06 2.06-.94-2.06-.94L8.5 2.5l-.94 2.06-2.06.94zm10 10l.94 2.06.94-2.06 2.06-.94-2.06-.94-.94-2.06-.94 2.06-2.06.94z\"/><path d=\"M17.41 7.96l-1.37-1.37c-.4-.4-.92-.59-1.43-.59-.52 0-1.04.2-1.43.59L10.3 9.45l-7.72 7.72c-.78.78-.78 2.05 0 2.83L4 21.41c.39.39.9.59 1.41.59.51 0 1.02-.2 1.41-.59l7.78-7.78 2.81-2.81c.8-.78.8-2.07 0-2.86zM5.41 20L4 18.59l7.72-7.72 1.47 1.35L5.41 20z\"/>\n",
              "  </svg>\n",
              "      </button>\n",
              "      \n",
              "  <style>\n",
              "    .colab-df-container {\n",
              "      display:flex;\n",
              "      flex-wrap:wrap;\n",
              "      gap: 12px;\n",
              "    }\n",
              "\n",
              "    .colab-df-convert {\n",
              "      background-color: #E8F0FE;\n",
              "      border: none;\n",
              "      border-radius: 50%;\n",
              "      cursor: pointer;\n",
              "      display: none;\n",
              "      fill: #1967D2;\n",
              "      height: 32px;\n",
              "      padding: 0 0 0 0;\n",
              "      width: 32px;\n",
              "    }\n",
              "\n",
              "    .colab-df-convert:hover {\n",
              "      background-color: #E2EBFA;\n",
              "      box-shadow: 0px 1px 2px rgba(60, 64, 67, 0.3), 0px 1px 3px 1px rgba(60, 64, 67, 0.15);\n",
              "      fill: #174EA6;\n",
              "    }\n",
              "\n",
              "    [theme=dark] .colab-df-convert {\n",
              "      background-color: #3B4455;\n",
              "      fill: #D2E3FC;\n",
              "    }\n",
              "\n",
              "    [theme=dark] .colab-df-convert:hover {\n",
              "      background-color: #434B5C;\n",
              "      box-shadow: 0px 1px 3px 1px rgba(0, 0, 0, 0.15);\n",
              "      filter: drop-shadow(0px 1px 2px rgba(0, 0, 0, 0.3));\n",
              "      fill: #FFFFFF;\n",
              "    }\n",
              "  </style>\n",
              "\n",
              "      <script>\n",
              "        const buttonEl =\n",
              "          document.querySelector('#df-d103b8be-f77d-4f72-aa39-49144b6ed648 button.colab-df-convert');\n",
              "        buttonEl.style.display =\n",
              "          google.colab.kernel.accessAllowed ? 'block' : 'none';\n",
              "\n",
              "        async function convertToInteractive(key) {\n",
              "          const element = document.querySelector('#df-d103b8be-f77d-4f72-aa39-49144b6ed648');\n",
              "          const dataTable =\n",
              "            await google.colab.kernel.invokeFunction('convertToInteractive',\n",
              "                                                     [key], {});\n",
              "          if (!dataTable) return;\n",
              "\n",
              "          const docLinkHtml = 'Like what you see? Visit the ' +\n",
              "            '<a target=\"_blank\" href=https://colab.research.google.com/notebooks/data_table.ipynb>data table notebook</a>'\n",
              "            + ' to learn more about interactive tables.';\n",
              "          element.innerHTML = '';\n",
              "          dataTable['output_type'] = 'display_data';\n",
              "          await google.colab.output.renderOutput(dataTable, element);\n",
              "          const docLink = document.createElement('div');\n",
              "          docLink.innerHTML = docLinkHtml;\n",
              "          element.appendChild(docLink);\n",
              "        }\n",
              "      </script>\n",
              "    </div>\n",
              "  </div>\n",
              "  "
            ]
          },
          "metadata": {},
          "execution_count": 62
        }
      ]
    },
    {
      "cell_type": "code",
      "metadata": {
        "colab": {
          "base_uri": "https://localhost:8080/"
        },
        "id": "gjkHHHcgFg8Z",
        "outputId": "7c4ee8dd-e645-41ce-b9a8-cd6a51c99969"
      },
      "source": [
        "Y.head(2)"
      ],
      "execution_count": null,
      "outputs": [
        {
          "output_type": "execute_result",
          "data": {
            "text/plain": [
              "0    4\n",
              "1    3\n",
              "Name: Reclamos-Cat, dtype: category\n",
              "Categories (5, object): ['1' < '2' < '3' < '4' < '5']"
            ]
          },
          "metadata": {},
          "execution_count": 63
        }
      ]
    },
    {
      "cell_type": "code",
      "metadata": {
        "id": "A0YgvwXWFg8Z"
      },
      "source": [
        "seed = 7\n",
        "test_size = 0.2\n",
        "X_train, X_test, y_train, y_test = train_test_split(X, Y, test_size=test_size, random_state=seed)"
      ],
      "execution_count": null,
      "outputs": []
    },
    {
      "cell_type": "code",
      "metadata": {
        "colab": {
          "base_uri": "https://localhost:8080/"
        },
        "id": "UN3xM6mLFg8a",
        "outputId": "66ce2659-3e40-4c28-877e-b3ccc117dcdd"
      },
      "source": [
        "model = XGBClassifier(reg_alpha=0, reg_lambda=1)\n",
        "model.fit(X_train, y_train)"
      ],
      "execution_count": null,
      "outputs": [
        {
          "output_type": "execute_result",
          "data": {
            "text/plain": [
              "XGBClassifier(objective='multi:softprob')"
            ]
          },
          "metadata": {},
          "execution_count": 65
        }
      ]
    },
    {
      "cell_type": "code",
      "metadata": {
        "colab": {
          "base_uri": "https://localhost:8080/"
        },
        "id": "MxNr7F9YFg8a",
        "outputId": "86654deb-c69d-4d72-b38a-075ceecc24fa"
      },
      "source": [
        "from sklearn import metrics\n",
        "from sklearn.metrics import *\n",
        "\n",
        "#Realizo la predicción\n",
        "y_pred = model.predict(X_test)\n",
        "#Verifico la matriz de Confusión\n",
        "matriz = confusion_matrix(y_test, y_pred)\n",
        "#Calculo la precisión del modelo\n",
        "precision = precision_score(y_test, y_pred, average=\"macro\")\n",
        "#Calculo la exactitud del modelo\n",
        "exactitud = accuracy_score(y_test, y_pred)\n",
        "#Calculo la sensibilidad del modelo\n",
        "sensibilidad = recall_score(y_test, y_pred, average=\"macro\")\n",
        "#Calculo el Puntaje F1 del modelo\n",
        "puntajef1 = f1_score(y_test, y_pred, average=\"macro\")\n",
        "#Calculo la curva ROC - AUC del modelo\n",
        "roc_auc = roc_auc_score(y_test, y_pred)\n",
        "\n",
        "print('Matriz de Confusión:')\n",
        "print(matriz)\n",
        "print('Precisión del modelo:', precision)\n",
        "print('Exactitud del modelo:', exactitud)\n",
        "print('Sensibilidad del modelo:', sensibilidad)\n",
        "print('Puntaje F1 del modelo:', puntajef1)\n",
        "print('Curva ROC - AUC del modelo:', roc_auc)"
      ],
      "execution_count": null,
      "outputs": [
        {
          "output_type": "stream",
          "name": "stdout",
          "text": [
            "Matriz de Confusión:\n",
            "[[3 0]\n",
            " [0 6]]\n",
            "Precisión del modelo: 1.0\n",
            "Exactitud del modelo: 1.0\n",
            "Sensibilidad del modelo: 1.0\n",
            "Puntaje F1 del modelo: 1.0\n",
            "Curva ROC - AUC del modelo: 1.0\n"
          ]
        }
      ]
    },
    {
      "cell_type": "markdown",
      "metadata": {
        "id": "zTWkQqX9Fg8a"
      },
      "source": [
        "##XGBoost - Elasticnet"
      ]
    },
    {
      "cell_type": "code",
      "metadata": {
        "id": "6f6P0mLfFg8a"
      },
      "source": [
        "import pandas as pd\n",
        "from xgboost import XGBClassifier\n",
        "from sklearn.model_selection import train_test_split\n",
        "from sklearn.metrics import accuracy_score"
      ],
      "execution_count": null,
      "outputs": []
    },
    {
      "cell_type": "code",
      "metadata": {
        "id": "S-y4YeYPFg8b"
      },
      "source": [
        "df = data.dropna()"
      ],
      "execution_count": null,
      "outputs": []
    },
    {
      "cell_type": "code",
      "metadata": {
        "id": "U1M_WAe9Fg8b"
      },
      "source": [
        "X = df[['CSA%', 'Consultas']]\n",
        "Y = df['Reclamos-Cat']"
      ],
      "execution_count": null,
      "outputs": []
    },
    {
      "cell_type": "code",
      "metadata": {
        "colab": {
          "base_uri": "https://localhost:8080/"
        },
        "id": "-E9O6IbOFg8b",
        "outputId": "e113473b-220a-436a-859d-d780c4ca9cab"
      },
      "source": [
        "X.head(1)"
      ],
      "execution_count": null,
      "outputs": [
        {
          "output_type": "execute_result",
          "data": {
            "text/plain": [
              "       CSA%  Consultas\n",
              "0  0.000682   0.656096"
            ],
            "text/html": [
              "\n",
              "  <div id=\"df-d1f2c1cc-232b-410c-80b6-7329ec2db075\">\n",
              "    <div class=\"colab-df-container\">\n",
              "      <div>\n",
              "<style scoped>\n",
              "    .dataframe tbody tr th:only-of-type {\n",
              "        vertical-align: middle;\n",
              "    }\n",
              "\n",
              "    .dataframe tbody tr th {\n",
              "        vertical-align: top;\n",
              "    }\n",
              "\n",
              "    .dataframe thead th {\n",
              "        text-align: right;\n",
              "    }\n",
              "</style>\n",
              "<table border=\"1\" class=\"dataframe\">\n",
              "  <thead>\n",
              "    <tr style=\"text-align: right;\">\n",
              "      <th></th>\n",
              "      <th>CSA%</th>\n",
              "      <th>Consultas</th>\n",
              "    </tr>\n",
              "  </thead>\n",
              "  <tbody>\n",
              "    <tr>\n",
              "      <th>0</th>\n",
              "      <td>0.000682</td>\n",
              "      <td>0.656096</td>\n",
              "    </tr>\n",
              "  </tbody>\n",
              "</table>\n",
              "</div>\n",
              "      <button class=\"colab-df-convert\" onclick=\"convertToInteractive('df-d1f2c1cc-232b-410c-80b6-7329ec2db075')\"\n",
              "              title=\"Convert this dataframe to an interactive table.\"\n",
              "              style=\"display:none;\">\n",
              "        \n",
              "  <svg xmlns=\"http://www.w3.org/2000/svg\" height=\"24px\"viewBox=\"0 0 24 24\"\n",
              "       width=\"24px\">\n",
              "    <path d=\"M0 0h24v24H0V0z\" fill=\"none\"/>\n",
              "    <path d=\"M18.56 5.44l.94 2.06.94-2.06 2.06-.94-2.06-.94-.94-2.06-.94 2.06-2.06.94zm-11 1L8.5 8.5l.94-2.06 2.06-.94-2.06-.94L8.5 2.5l-.94 2.06-2.06.94zm10 10l.94 2.06.94-2.06 2.06-.94-2.06-.94-.94-2.06-.94 2.06-2.06.94z\"/><path d=\"M17.41 7.96l-1.37-1.37c-.4-.4-.92-.59-1.43-.59-.52 0-1.04.2-1.43.59L10.3 9.45l-7.72 7.72c-.78.78-.78 2.05 0 2.83L4 21.41c.39.39.9.59 1.41.59.51 0 1.02-.2 1.41-.59l7.78-7.78 2.81-2.81c.8-.78.8-2.07 0-2.86zM5.41 20L4 18.59l7.72-7.72 1.47 1.35L5.41 20z\"/>\n",
              "  </svg>\n",
              "      </button>\n",
              "      \n",
              "  <style>\n",
              "    .colab-df-container {\n",
              "      display:flex;\n",
              "      flex-wrap:wrap;\n",
              "      gap: 12px;\n",
              "    }\n",
              "\n",
              "    .colab-df-convert {\n",
              "      background-color: #E8F0FE;\n",
              "      border: none;\n",
              "      border-radius: 50%;\n",
              "      cursor: pointer;\n",
              "      display: none;\n",
              "      fill: #1967D2;\n",
              "      height: 32px;\n",
              "      padding: 0 0 0 0;\n",
              "      width: 32px;\n",
              "    }\n",
              "\n",
              "    .colab-df-convert:hover {\n",
              "      background-color: #E2EBFA;\n",
              "      box-shadow: 0px 1px 2px rgba(60, 64, 67, 0.3), 0px 1px 3px 1px rgba(60, 64, 67, 0.15);\n",
              "      fill: #174EA6;\n",
              "    }\n",
              "\n",
              "    [theme=dark] .colab-df-convert {\n",
              "      background-color: #3B4455;\n",
              "      fill: #D2E3FC;\n",
              "    }\n",
              "\n",
              "    [theme=dark] .colab-df-convert:hover {\n",
              "      background-color: #434B5C;\n",
              "      box-shadow: 0px 1px 3px 1px rgba(0, 0, 0, 0.15);\n",
              "      filter: drop-shadow(0px 1px 2px rgba(0, 0, 0, 0.3));\n",
              "      fill: #FFFFFF;\n",
              "    }\n",
              "  </style>\n",
              "\n",
              "      <script>\n",
              "        const buttonEl =\n",
              "          document.querySelector('#df-d1f2c1cc-232b-410c-80b6-7329ec2db075 button.colab-df-convert');\n",
              "        buttonEl.style.display =\n",
              "          google.colab.kernel.accessAllowed ? 'block' : 'none';\n",
              "\n",
              "        async function convertToInteractive(key) {\n",
              "          const element = document.querySelector('#df-d1f2c1cc-232b-410c-80b6-7329ec2db075');\n",
              "          const dataTable =\n",
              "            await google.colab.kernel.invokeFunction('convertToInteractive',\n",
              "                                                     [key], {});\n",
              "          if (!dataTable) return;\n",
              "\n",
              "          const docLinkHtml = 'Like what you see? Visit the ' +\n",
              "            '<a target=\"_blank\" href=https://colab.research.google.com/notebooks/data_table.ipynb>data table notebook</a>'\n",
              "            + ' to learn more about interactive tables.';\n",
              "          element.innerHTML = '';\n",
              "          dataTable['output_type'] = 'display_data';\n",
              "          await google.colab.output.renderOutput(dataTable, element);\n",
              "          const docLink = document.createElement('div');\n",
              "          docLink.innerHTML = docLinkHtml;\n",
              "          element.appendChild(docLink);\n",
              "        }\n",
              "      </script>\n",
              "    </div>\n",
              "  </div>\n",
              "  "
            ]
          },
          "metadata": {},
          "execution_count": 70
        }
      ]
    },
    {
      "cell_type": "code",
      "metadata": {
        "colab": {
          "base_uri": "https://localhost:8080/"
        },
        "id": "AdkGY3T1Fg8b",
        "outputId": "1838aebf-47ef-4974-ebdd-444ab4cbce33"
      },
      "source": [
        "Y.head(2)"
      ],
      "execution_count": null,
      "outputs": [
        {
          "output_type": "execute_result",
          "data": {
            "text/plain": [
              "0    4\n",
              "1    3\n",
              "Name: Reclamos-Cat, dtype: category\n",
              "Categories (5, object): ['1' < '2' < '3' < '4' < '5']"
            ]
          },
          "metadata": {},
          "execution_count": 71
        }
      ]
    },
    {
      "cell_type": "code",
      "metadata": {
        "id": "RPLR9ol-Fg8b"
      },
      "source": [
        "seed = 7\n",
        "test_size = 0.2\n",
        "X_train, X_test, y_train, y_test = train_test_split(X, Y, test_size=test_size, random_state=seed)"
      ],
      "execution_count": null,
      "outputs": []
    },
    {
      "cell_type": "code",
      "metadata": {
        "colab": {
          "base_uri": "https://localhost:8080/"
        },
        "id": "WZzb8Uo5Fg8c",
        "outputId": "80f6f141-d46c-4dd7-fb43-2b84aa6d57d5"
      },
      "source": [
        "model = XGBClassifier(reg_alpha=1, reg_lambda=1)\n",
        "model.fit(X_train, y_train)"
      ],
      "execution_count": null,
      "outputs": [
        {
          "output_type": "execute_result",
          "data": {
            "text/plain": [
              "XGBClassifier(objective='multi:softprob', reg_alpha=1)"
            ]
          },
          "metadata": {},
          "execution_count": 73
        }
      ]
    },
    {
      "cell_type": "code",
      "metadata": {
        "colab": {
          "base_uri": "https://localhost:8080/"
        },
        "id": "fklNmrm0Fg8c",
        "outputId": "4ab77783-3629-427f-c525-db01917474b7"
      },
      "source": [
        "from sklearn import metrics\n",
        "from sklearn.metrics import *\n",
        "\n",
        "#Realizo la predicción\n",
        "y_pred = model.predict(X_test)\n",
        "#Verifico la matriz de Confusión\n",
        "matriz = confusion_matrix(y_test, y_pred)\n",
        "#Calculo la precisión del modelo\n",
        "precision = precision_score(y_test, y_pred, average=\"macro\")\n",
        "#Calculo la exactitud del modelo\n",
        "exactitud = accuracy_score(y_test, y_pred)\n",
        "#Calculo la sensibilidad del modelo\n",
        "sensibilidad = recall_score(y_test, y_pred, average=\"macro\")\n",
        "#Calculo el Puntaje F1 del modelo\n",
        "puntajef1 = f1_score(y_test, y_pred, average=\"macro\")\n",
        "#Calculo la curva ROC - AUC del modelo\n",
        "roc_auc = roc_auc_score(y_test, y_pred)\n",
        "\n",
        "print('Matriz de Confusión:')\n",
        "print(matriz)\n",
        "print('Precisión del modelo:', precision)\n",
        "print('Exactitud del modelo:', exactitud)\n",
        "print('Sensibilidad del modelo:', sensibilidad)\n",
        "print('Puntaje F1 del modelo:', puntajef1)\n",
        "print('Curva ROC - AUC del modelo:', roc_auc)"
      ],
      "execution_count": null,
      "outputs": [
        {
          "output_type": "stream",
          "name": "stdout",
          "text": [
            "Matriz de Confusión:\n",
            "[[3 0]\n",
            " [0 6]]\n",
            "Precisión del modelo: 1.0\n",
            "Exactitud del modelo: 1.0\n",
            "Sensibilidad del modelo: 1.0\n",
            "Puntaje F1 del modelo: 1.0\n",
            "Curva ROC - AUC del modelo: 1.0\n"
          ]
        }
      ]
    }
  ]
}