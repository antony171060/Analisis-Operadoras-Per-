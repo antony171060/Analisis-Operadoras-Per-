{
  "nbformat": 4,
  "nbformat_minor": 0,
  "metadata": {
    "colab": {
      "provenance": [],
      "collapsed_sections": [
        "0y_d1Z1Crh-9",
        "dOpdvU-BrmaX",
        "hOO4ovtH-XiS",
        "2JiKXgP-_03C",
        "OtLWu_HYEj5R",
        "vo-QjqbhFg8T",
        "bnq4a3BCFn6l",
        "vputlx9eFg8U",
        "Nph0cwlbFg8W",
        "sNPVIU9MFg8Y",
        "zTWkQqX9Fg8a"
      ]
    },
    "kernelspec": {
      "name": "python3",
      "display_name": "Python 3"
    },
    "language_info": {
      "name": "python"
    }
  },
  "cells": [
    {
      "cell_type": "code",
      "source": [
        "!pip uninstall scikit-learn\n",
        "!pip install scikit-learn==0.24.2"
      ],
      "metadata": {
        "colab": {
          "base_uri": "https://localhost:8080/"
        },
        "id": "X7kfxgMNAulJ",
        "outputId": "c9dfc61a-a082-479a-aa6b-ee9f5b661480"
      },
      "execution_count": null,
      "outputs": [
        {
          "output_type": "stream",
          "name": "stdout",
          "text": [
            "Found existing installation: scikit-learn 1.0.2\n",
            "Uninstalling scikit-learn-1.0.2:\n",
            "  Would remove:\n",
            "    /usr/local/lib/python3.7/dist-packages/scikit_learn-1.0.2.dist-info/*\n",
            "    /usr/local/lib/python3.7/dist-packages/scikit_learn.libs/libgomp-a34b3233.so.1.0.0\n",
            "    /usr/local/lib/python3.7/dist-packages/sklearn/*\n",
            "Proceed (y/n)? y\n",
            "  Successfully uninstalled scikit-learn-1.0.2\n",
            "Looking in indexes: https://pypi.org/simple, https://us-python.pkg.dev/colab-wheels/public/simple/\n",
            "Collecting scikit-learn==0.24.2\n",
            "  Downloading scikit_learn-0.24.2-cp37-cp37m-manylinux2010_x86_64.whl (22.3 MB)\n",
            "\u001b[K     |████████████████████████████████| 22.3 MB 1.6 MB/s \n",
            "\u001b[?25hRequirement already satisfied: numpy>=1.13.3 in /usr/local/lib/python3.7/dist-packages (from scikit-learn==0.24.2) (1.21.6)\n",
            "Requirement already satisfied: scipy>=0.19.1 in /usr/local/lib/python3.7/dist-packages (from scikit-learn==0.24.2) (1.4.1)\n",
            "Requirement already satisfied: threadpoolctl>=2.0.0 in /usr/local/lib/python3.7/dist-packages (from scikit-learn==0.24.2) (3.1.0)\n",
            "Requirement already satisfied: joblib>=0.11 in /usr/local/lib/python3.7/dist-packages (from scikit-learn==0.24.2) (1.1.0)\n",
            "Installing collected packages: scikit-learn\n",
            "\u001b[31mERROR: pip's dependency resolver does not currently take into account all the packages that are installed. This behaviour is the source of the following dependency conflicts.\n",
            "yellowbrick 1.4 requires scikit-learn>=1.0.0, but you have scikit-learn 0.24.2 which is incompatible.\u001b[0m\n",
            "Successfully installed scikit-learn-0.24.2\n"
          ]
        }
      ]
    },
    {
      "cell_type": "markdown",
      "metadata": {
        "id": "0y_d1Z1Crh-9"
      },
      "source": [
        "##Preprocesamiento - Data"
      ]
    },
    {
      "cell_type": "code",
      "metadata": {
        "colab": {
          "base_uri": "https://localhost:8080/"
        },
        "id": "dAQRjiJ9Afdo",
        "outputId": "8679b1ec-2c7c-4766-93f8-49ba99355115"
      },
      "source": [
        "#Descargar excel desde link de Drive\n",
        "!gdown --id 1s9jAV8BDz3eUo8sV9R0pmXEQbTurf-gd"
      ],
      "execution_count": null,
      "outputs": [
        {
          "output_type": "stream",
          "name": "stdout",
          "text": [
            "/usr/local/lib/python3.7/dist-packages/gdown/cli.py:131: FutureWarning: Option `--id` was deprecated in version 4.3.1 and will be removed in 5.0. You don't need to pass it anymore to use a file ID.\n",
            "  category=FutureWarning,\n",
            "Downloading...\n",
            "From: https://drive.google.com/uc?id=1s9jAV8BDz3eUo8sV9R0pmXEQbTurf-gd\n",
            "To: /content/Data-Osiptel.xlsx\n",
            "100% 31.6k/31.6k [00:00<00:00, 39.3MB/s]\n"
          ]
        }
      ]
    },
    {
      "cell_type": "code",
      "metadata": {
        "id": "PZkdY8RHJBVn"
      },
      "source": [
        "import pandas as pd"
      ],
      "execution_count": null,
      "outputs": []
    },
    {
      "cell_type": "code",
      "metadata": {
        "colab": {
          "base_uri": "https://localhost:8080/",
          "height": 320
        },
        "id": "XA3gyFfbJPjO",
        "outputId": "ec40bd5e-a01a-46b3-9306-1c0d3980bdcb"
      },
      "source": [
        "data = pd.read_excel(\"Data-Osiptel.xlsx\", sheet_name=\"Claro\")\n",
        "data.head(5)"
      ],
      "execution_count": null,
      "outputs": [
        {
          "output_type": "execute_result",
          "data": {
            "text/plain": [
              "   AÑO  Mes  N° de horas sin sistema de atención al mes    \\\n",
              "0    1    9                                         15.12   \n",
              "1    1   10                                         26.37   \n",
              "2    1   11                                          3.58   \n",
              "3    1   12                                          0.62   \n",
              "4    1    1                                          0.83   \n",
              "\n",
              "   N° total de horas de atención al mes      CSA%  \\\n",
              "0                              18518.00  0.000817   \n",
              "1                              18591.50  0.001418   \n",
              "2                              18637.25  0.000192   \n",
              "3                              21049.75  0.000029   \n",
              "4                              19743.50  0.000042   \n",
              "\n",
              "   Nº DE USUARIOS QUE DESISTIERON DE LA ATENCIÓN AL MES  \\\n",
              "0                                            41584.0      \n",
              "1                                            37908.0      \n",
              "2                                            37922.0      \n",
              "3                                            39301.0      \n",
              "4                                            35969.0      \n",
              "\n",
              "   Nº TOTAL DE USUARIOS ATENDIDOS AL MES  DAP (%)  \\\n",
              "0                               493360.0   0.0843   \n",
              "1                               506790.0   0.0748   \n",
              "2                               508222.0   0.0746   \n",
              "3                               518982.0   0.0757   \n",
              "4                               506900.0   0.0710   \n",
              "\n",
              "   Nº DE LLAMADAS NO FINALIZADAS POR EL USUARIO  \\\n",
              "0                                      118385.0   \n",
              "1                                      123382.0   \n",
              "2                                      117383.0   \n",
              "3                                       11756.0   \n",
              "4                                      100277.0   \n",
              "\n",
              "   Nº TOTAL DE LLAMADAS ATENDIDAS  CAT (%)  Reclamos   Bajas  Consultas  \\\n",
              "0                       3124089.0   0.0379    0.6390  0.6217     0.6588   \n",
              "1                       3391270.0   0.0364    0.7334  0.6642     0.6597   \n",
              "2                       3246056.0   0.0362    0.7112  0.6466     0.6270   \n",
              "3                       3382625.0   0.0348    0.7378  0.6847     0.6490   \n",
              "4                       3505628.0   0.0286    0.7641  0.7229     0.7189   \n",
              "\n",
              "    Altas  \n",
              "0  0.7507  \n",
              "1  0.6445  \n",
              "2  0.6292  \n",
              "3  0.6697  \n",
              "4  0.7044  "
            ],
            "text/html": [
              "\n",
              "  <div id=\"df-3a5b3664-1698-46c1-a474-0c5bb04b149b\">\n",
              "    <div class=\"colab-df-container\">\n",
              "      <div>\n",
              "<style scoped>\n",
              "    .dataframe tbody tr th:only-of-type {\n",
              "        vertical-align: middle;\n",
              "    }\n",
              "\n",
              "    .dataframe tbody tr th {\n",
              "        vertical-align: top;\n",
              "    }\n",
              "\n",
              "    .dataframe thead th {\n",
              "        text-align: right;\n",
              "    }\n",
              "</style>\n",
              "<table border=\"1\" class=\"dataframe\">\n",
              "  <thead>\n",
              "    <tr style=\"text-align: right;\">\n",
              "      <th></th>\n",
              "      <th>AÑO</th>\n",
              "      <th>Mes</th>\n",
              "      <th>N° de horas sin sistema de atención al mes</th>\n",
              "      <th>N° total de horas de atención al mes</th>\n",
              "      <th>CSA%</th>\n",
              "      <th>Nº DE USUARIOS QUE DESISTIERON DE LA ATENCIÓN AL MES</th>\n",
              "      <th>Nº TOTAL DE USUARIOS ATENDIDOS AL MES</th>\n",
              "      <th>DAP (%)</th>\n",
              "      <th>Nº DE LLAMADAS NO FINALIZADAS POR EL USUARIO</th>\n",
              "      <th>Nº TOTAL DE LLAMADAS ATENDIDAS</th>\n",
              "      <th>CAT (%)</th>\n",
              "      <th>Reclamos</th>\n",
              "      <th>Bajas</th>\n",
              "      <th>Consultas</th>\n",
              "      <th>Altas</th>\n",
              "    </tr>\n",
              "  </thead>\n",
              "  <tbody>\n",
              "    <tr>\n",
              "      <th>0</th>\n",
              "      <td>1</td>\n",
              "      <td>9</td>\n",
              "      <td>15.12</td>\n",
              "      <td>18518.00</td>\n",
              "      <td>0.000817</td>\n",
              "      <td>41584.0</td>\n",
              "      <td>493360.0</td>\n",
              "      <td>0.0843</td>\n",
              "      <td>118385.0</td>\n",
              "      <td>3124089.0</td>\n",
              "      <td>0.0379</td>\n",
              "      <td>0.6390</td>\n",
              "      <td>0.6217</td>\n",
              "      <td>0.6588</td>\n",
              "      <td>0.7507</td>\n",
              "    </tr>\n",
              "    <tr>\n",
              "      <th>1</th>\n",
              "      <td>1</td>\n",
              "      <td>10</td>\n",
              "      <td>26.37</td>\n",
              "      <td>18591.50</td>\n",
              "      <td>0.001418</td>\n",
              "      <td>37908.0</td>\n",
              "      <td>506790.0</td>\n",
              "      <td>0.0748</td>\n",
              "      <td>123382.0</td>\n",
              "      <td>3391270.0</td>\n",
              "      <td>0.0364</td>\n",
              "      <td>0.7334</td>\n",
              "      <td>0.6642</td>\n",
              "      <td>0.6597</td>\n",
              "      <td>0.6445</td>\n",
              "    </tr>\n",
              "    <tr>\n",
              "      <th>2</th>\n",
              "      <td>1</td>\n",
              "      <td>11</td>\n",
              "      <td>3.58</td>\n",
              "      <td>18637.25</td>\n",
              "      <td>0.000192</td>\n",
              "      <td>37922.0</td>\n",
              "      <td>508222.0</td>\n",
              "      <td>0.0746</td>\n",
              "      <td>117383.0</td>\n",
              "      <td>3246056.0</td>\n",
              "      <td>0.0362</td>\n",
              "      <td>0.7112</td>\n",
              "      <td>0.6466</td>\n",
              "      <td>0.6270</td>\n",
              "      <td>0.6292</td>\n",
              "    </tr>\n",
              "    <tr>\n",
              "      <th>3</th>\n",
              "      <td>1</td>\n",
              "      <td>12</td>\n",
              "      <td>0.62</td>\n",
              "      <td>21049.75</td>\n",
              "      <td>0.000029</td>\n",
              "      <td>39301.0</td>\n",
              "      <td>518982.0</td>\n",
              "      <td>0.0757</td>\n",
              "      <td>11756.0</td>\n",
              "      <td>3382625.0</td>\n",
              "      <td>0.0348</td>\n",
              "      <td>0.7378</td>\n",
              "      <td>0.6847</td>\n",
              "      <td>0.6490</td>\n",
              "      <td>0.6697</td>\n",
              "    </tr>\n",
              "    <tr>\n",
              "      <th>4</th>\n",
              "      <td>1</td>\n",
              "      <td>1</td>\n",
              "      <td>0.83</td>\n",
              "      <td>19743.50</td>\n",
              "      <td>0.000042</td>\n",
              "      <td>35969.0</td>\n",
              "      <td>506900.0</td>\n",
              "      <td>0.0710</td>\n",
              "      <td>100277.0</td>\n",
              "      <td>3505628.0</td>\n",
              "      <td>0.0286</td>\n",
              "      <td>0.7641</td>\n",
              "      <td>0.7229</td>\n",
              "      <td>0.7189</td>\n",
              "      <td>0.7044</td>\n",
              "    </tr>\n",
              "  </tbody>\n",
              "</table>\n",
              "</div>\n",
              "      <button class=\"colab-df-convert\" onclick=\"convertToInteractive('df-3a5b3664-1698-46c1-a474-0c5bb04b149b')\"\n",
              "              title=\"Convert this dataframe to an interactive table.\"\n",
              "              style=\"display:none;\">\n",
              "        \n",
              "  <svg xmlns=\"http://www.w3.org/2000/svg\" height=\"24px\"viewBox=\"0 0 24 24\"\n",
              "       width=\"24px\">\n",
              "    <path d=\"M0 0h24v24H0V0z\" fill=\"none\"/>\n",
              "    <path d=\"M18.56 5.44l.94 2.06.94-2.06 2.06-.94-2.06-.94-.94-2.06-.94 2.06-2.06.94zm-11 1L8.5 8.5l.94-2.06 2.06-.94-2.06-.94L8.5 2.5l-.94 2.06-2.06.94zm10 10l.94 2.06.94-2.06 2.06-.94-2.06-.94-.94-2.06-.94 2.06-2.06.94z\"/><path d=\"M17.41 7.96l-1.37-1.37c-.4-.4-.92-.59-1.43-.59-.52 0-1.04.2-1.43.59L10.3 9.45l-7.72 7.72c-.78.78-.78 2.05 0 2.83L4 21.41c.39.39.9.59 1.41.59.51 0 1.02-.2 1.41-.59l7.78-7.78 2.81-2.81c.8-.78.8-2.07 0-2.86zM5.41 20L4 18.59l7.72-7.72 1.47 1.35L5.41 20z\"/>\n",
              "  </svg>\n",
              "      </button>\n",
              "      \n",
              "  <style>\n",
              "    .colab-df-container {\n",
              "      display:flex;\n",
              "      flex-wrap:wrap;\n",
              "      gap: 12px;\n",
              "    }\n",
              "\n",
              "    .colab-df-convert {\n",
              "      background-color: #E8F0FE;\n",
              "      border: none;\n",
              "      border-radius: 50%;\n",
              "      cursor: pointer;\n",
              "      display: none;\n",
              "      fill: #1967D2;\n",
              "      height: 32px;\n",
              "      padding: 0 0 0 0;\n",
              "      width: 32px;\n",
              "    }\n",
              "\n",
              "    .colab-df-convert:hover {\n",
              "      background-color: #E2EBFA;\n",
              "      box-shadow: 0px 1px 2px rgba(60, 64, 67, 0.3), 0px 1px 3px 1px rgba(60, 64, 67, 0.15);\n",
              "      fill: #174EA6;\n",
              "    }\n",
              "\n",
              "    [theme=dark] .colab-df-convert {\n",
              "      background-color: #3B4455;\n",
              "      fill: #D2E3FC;\n",
              "    }\n",
              "\n",
              "    [theme=dark] .colab-df-convert:hover {\n",
              "      background-color: #434B5C;\n",
              "      box-shadow: 0px 1px 3px 1px rgba(0, 0, 0, 0.15);\n",
              "      filter: drop-shadow(0px 1px 2px rgba(0, 0, 0, 0.3));\n",
              "      fill: #FFFFFF;\n",
              "    }\n",
              "  </style>\n",
              "\n",
              "      <script>\n",
              "        const buttonEl =\n",
              "          document.querySelector('#df-3a5b3664-1698-46c1-a474-0c5bb04b149b button.colab-df-convert');\n",
              "        buttonEl.style.display =\n",
              "          google.colab.kernel.accessAllowed ? 'block' : 'none';\n",
              "\n",
              "        async function convertToInteractive(key) {\n",
              "          const element = document.querySelector('#df-3a5b3664-1698-46c1-a474-0c5bb04b149b');\n",
              "          const dataTable =\n",
              "            await google.colab.kernel.invokeFunction('convertToInteractive',\n",
              "                                                     [key], {});\n",
              "          if (!dataTable) return;\n",
              "\n",
              "          const docLinkHtml = 'Like what you see? Visit the ' +\n",
              "            '<a target=\"_blank\" href=https://colab.research.google.com/notebooks/data_table.ipynb>data table notebook</a>'\n",
              "            + ' to learn more about interactive tables.';\n",
              "          element.innerHTML = '';\n",
              "          dataTable['output_type'] = 'display_data';\n",
              "          await google.colab.output.renderOutput(dataTable, element);\n",
              "          const docLink = document.createElement('div');\n",
              "          docLink.innerHTML = docLinkHtml;\n",
              "          element.appendChild(docLink);\n",
              "        }\n",
              "      </script>\n",
              "    </div>\n",
              "  </div>\n",
              "  "
            ]
          },
          "metadata": {},
          "execution_count": 4
        }
      ]
    },
    {
      "cell_type": "code",
      "metadata": {
        "colab": {
          "base_uri": "https://localhost:8080/"
        },
        "id": "A4ZsQuCvLqUX",
        "outputId": "2efab790-7510-44b3-8e96-8d30d6d08659"
      },
      "source": [
        "data[\"Reclamos\"]"
      ],
      "execution_count": null,
      "outputs": [
        {
          "output_type": "execute_result",
          "data": {
            "text/plain": [
              "0     0.639000\n",
              "1     0.733400\n",
              "2     0.711200\n",
              "3     0.737800\n",
              "4     0.764100\n",
              "5     0.797000\n",
              "6     0.787200\n",
              "7     0.808400\n",
              "8     0.789900\n",
              "9          NaN\n",
              "10    0.813900\n",
              "11    0.792700\n",
              "12    0.836672\n",
              "13    0.804647\n",
              "14    0.787831\n",
              "15    0.762627\n",
              "16    0.793281\n",
              "17    0.710258\n",
              "18    0.731498\n",
              "19    0.762041\n",
              "20    0.790722\n",
              "21    0.834782\n",
              "22    0.796516\n",
              "23    0.773877\n",
              "24    0.763500\n",
              "25    0.816100\n",
              "26    0.857000\n",
              "27    0.798800\n",
              "28    0.830000\n",
              "29    0.836900\n",
              "30    0.873200\n",
              "31    0.883900\n",
              "32    0.827600\n",
              "33    0.806100\n",
              "34    0.790200\n",
              "35    0.792100\n",
              "36    0.827000\n",
              "37    0.836100\n",
              "38    0.850600\n",
              "39    0.775200\n",
              "40    0.788100\n",
              "41    0.796500\n",
              "42    0.785100\n",
              "43    0.809200\n",
              "Name: Reclamos, dtype: float64"
            ]
          },
          "metadata": {},
          "execution_count": 5
        }
      ]
    },
    {
      "cell_type": "code",
      "metadata": {
        "id": "rmPPG7AaLhJG"
      },
      "source": [
        "bins = [0.00, 0.20, 0.40, 0.60, 0.80, 1.0]\n",
        "names = [\"1\", \"2\", \"3\", \"4\", \"5\"]"
      ],
      "execution_count": null,
      "outputs": []
    },
    {
      "cell_type": "code",
      "metadata": {
        "colab": {
          "base_uri": "https://localhost:8080/",
          "height": 206
        },
        "id": "rkO18PphLjAQ",
        "outputId": "d0a47667-9dfe-4c8d-92d3-294fd81ad402"
      },
      "source": [
        "data[\"Reclamos-Cat\"] = pd.cut(data[\"Reclamos\"], bins, labels = names)\n",
        "data[[\"Reclamos\", \"Reclamos-Cat\"]].head(5)"
      ],
      "execution_count": null,
      "outputs": [
        {
          "output_type": "execute_result",
          "data": {
            "text/plain": [
              "   Reclamos Reclamos-Cat\n",
              "0    0.6390            4\n",
              "1    0.7334            4\n",
              "2    0.7112            4\n",
              "3    0.7378            4\n",
              "4    0.7641            4"
            ],
            "text/html": [
              "\n",
              "  <div id=\"df-0141c55f-0aeb-4689-90da-f5a6ded3e2e9\">\n",
              "    <div class=\"colab-df-container\">\n",
              "      <div>\n",
              "<style scoped>\n",
              "    .dataframe tbody tr th:only-of-type {\n",
              "        vertical-align: middle;\n",
              "    }\n",
              "\n",
              "    .dataframe tbody tr th {\n",
              "        vertical-align: top;\n",
              "    }\n",
              "\n",
              "    .dataframe thead th {\n",
              "        text-align: right;\n",
              "    }\n",
              "</style>\n",
              "<table border=\"1\" class=\"dataframe\">\n",
              "  <thead>\n",
              "    <tr style=\"text-align: right;\">\n",
              "      <th></th>\n",
              "      <th>Reclamos</th>\n",
              "      <th>Reclamos-Cat</th>\n",
              "    </tr>\n",
              "  </thead>\n",
              "  <tbody>\n",
              "    <tr>\n",
              "      <th>0</th>\n",
              "      <td>0.6390</td>\n",
              "      <td>4</td>\n",
              "    </tr>\n",
              "    <tr>\n",
              "      <th>1</th>\n",
              "      <td>0.7334</td>\n",
              "      <td>4</td>\n",
              "    </tr>\n",
              "    <tr>\n",
              "      <th>2</th>\n",
              "      <td>0.7112</td>\n",
              "      <td>4</td>\n",
              "    </tr>\n",
              "    <tr>\n",
              "      <th>3</th>\n",
              "      <td>0.7378</td>\n",
              "      <td>4</td>\n",
              "    </tr>\n",
              "    <tr>\n",
              "      <th>4</th>\n",
              "      <td>0.7641</td>\n",
              "      <td>4</td>\n",
              "    </tr>\n",
              "  </tbody>\n",
              "</table>\n",
              "</div>\n",
              "      <button class=\"colab-df-convert\" onclick=\"convertToInteractive('df-0141c55f-0aeb-4689-90da-f5a6ded3e2e9')\"\n",
              "              title=\"Convert this dataframe to an interactive table.\"\n",
              "              style=\"display:none;\">\n",
              "        \n",
              "  <svg xmlns=\"http://www.w3.org/2000/svg\" height=\"24px\"viewBox=\"0 0 24 24\"\n",
              "       width=\"24px\">\n",
              "    <path d=\"M0 0h24v24H0V0z\" fill=\"none\"/>\n",
              "    <path d=\"M18.56 5.44l.94 2.06.94-2.06 2.06-.94-2.06-.94-.94-2.06-.94 2.06-2.06.94zm-11 1L8.5 8.5l.94-2.06 2.06-.94-2.06-.94L8.5 2.5l-.94 2.06-2.06.94zm10 10l.94 2.06.94-2.06 2.06-.94-2.06-.94-.94-2.06-.94 2.06-2.06.94z\"/><path d=\"M17.41 7.96l-1.37-1.37c-.4-.4-.92-.59-1.43-.59-.52 0-1.04.2-1.43.59L10.3 9.45l-7.72 7.72c-.78.78-.78 2.05 0 2.83L4 21.41c.39.39.9.59 1.41.59.51 0 1.02-.2 1.41-.59l7.78-7.78 2.81-2.81c.8-.78.8-2.07 0-2.86zM5.41 20L4 18.59l7.72-7.72 1.47 1.35L5.41 20z\"/>\n",
              "  </svg>\n",
              "      </button>\n",
              "      \n",
              "  <style>\n",
              "    .colab-df-container {\n",
              "      display:flex;\n",
              "      flex-wrap:wrap;\n",
              "      gap: 12px;\n",
              "    }\n",
              "\n",
              "    .colab-df-convert {\n",
              "      background-color: #E8F0FE;\n",
              "      border: none;\n",
              "      border-radius: 50%;\n",
              "      cursor: pointer;\n",
              "      display: none;\n",
              "      fill: #1967D2;\n",
              "      height: 32px;\n",
              "      padding: 0 0 0 0;\n",
              "      width: 32px;\n",
              "    }\n",
              "\n",
              "    .colab-df-convert:hover {\n",
              "      background-color: #E2EBFA;\n",
              "      box-shadow: 0px 1px 2px rgba(60, 64, 67, 0.3), 0px 1px 3px 1px rgba(60, 64, 67, 0.15);\n",
              "      fill: #174EA6;\n",
              "    }\n",
              "\n",
              "    [theme=dark] .colab-df-convert {\n",
              "      background-color: #3B4455;\n",
              "      fill: #D2E3FC;\n",
              "    }\n",
              "\n",
              "    [theme=dark] .colab-df-convert:hover {\n",
              "      background-color: #434B5C;\n",
              "      box-shadow: 0px 1px 3px 1px rgba(0, 0, 0, 0.15);\n",
              "      filter: drop-shadow(0px 1px 2px rgba(0, 0, 0, 0.3));\n",
              "      fill: #FFFFFF;\n",
              "    }\n",
              "  </style>\n",
              "\n",
              "      <script>\n",
              "        const buttonEl =\n",
              "          document.querySelector('#df-0141c55f-0aeb-4689-90da-f5a6ded3e2e9 button.colab-df-convert');\n",
              "        buttonEl.style.display =\n",
              "          google.colab.kernel.accessAllowed ? 'block' : 'none';\n",
              "\n",
              "        async function convertToInteractive(key) {\n",
              "          const element = document.querySelector('#df-0141c55f-0aeb-4689-90da-f5a6ded3e2e9');\n",
              "          const dataTable =\n",
              "            await google.colab.kernel.invokeFunction('convertToInteractive',\n",
              "                                                     [key], {});\n",
              "          if (!dataTable) return;\n",
              "\n",
              "          const docLinkHtml = 'Like what you see? Visit the ' +\n",
              "            '<a target=\"_blank\" href=https://colab.research.google.com/notebooks/data_table.ipynb>data table notebook</a>'\n",
              "            + ' to learn more about interactive tables.';\n",
              "          element.innerHTML = '';\n",
              "          dataTable['output_type'] = 'display_data';\n",
              "          await google.colab.output.renderOutput(dataTable, element);\n",
              "          const docLink = document.createElement('div');\n",
              "          docLink.innerHTML = docLinkHtml;\n",
              "          element.appendChild(docLink);\n",
              "        }\n",
              "      </script>\n",
              "    </div>\n",
              "  </div>\n",
              "  "
            ]
          },
          "metadata": {},
          "execution_count": 7
        }
      ]
    },
    {
      "cell_type": "code",
      "metadata": {
        "colab": {
          "base_uri": "https://localhost:8080/",
          "height": 337
        },
        "id": "rKxdKTO-rt2s",
        "outputId": "1d7f69b1-c376-4db8-b29f-64c5decc1e97"
      },
      "source": [
        "data = data.drop(['Reclamos'], axis=1)\n",
        "data.head(5)"
      ],
      "execution_count": null,
      "outputs": [
        {
          "output_type": "execute_result",
          "data": {
            "text/plain": [
              "   AÑO  Mes  N° de horas sin sistema de atención al mes    \\\n",
              "0    1    9                                         15.12   \n",
              "1    1   10                                         26.37   \n",
              "2    1   11                                          3.58   \n",
              "3    1   12                                          0.62   \n",
              "4    1    1                                          0.83   \n",
              "\n",
              "   N° total de horas de atención al mes      CSA%  \\\n",
              "0                              18518.00  0.000817   \n",
              "1                              18591.50  0.001418   \n",
              "2                              18637.25  0.000192   \n",
              "3                              21049.75  0.000029   \n",
              "4                              19743.50  0.000042   \n",
              "\n",
              "   Nº DE USUARIOS QUE DESISTIERON DE LA ATENCIÓN AL MES  \\\n",
              "0                                            41584.0      \n",
              "1                                            37908.0      \n",
              "2                                            37922.0      \n",
              "3                                            39301.0      \n",
              "4                                            35969.0      \n",
              "\n",
              "   Nº TOTAL DE USUARIOS ATENDIDOS AL MES  DAP (%)  \\\n",
              "0                               493360.0   0.0843   \n",
              "1                               506790.0   0.0748   \n",
              "2                               508222.0   0.0746   \n",
              "3                               518982.0   0.0757   \n",
              "4                               506900.0   0.0710   \n",
              "\n",
              "   Nº DE LLAMADAS NO FINALIZADAS POR EL USUARIO  \\\n",
              "0                                      118385.0   \n",
              "1                                      123382.0   \n",
              "2                                      117383.0   \n",
              "3                                       11756.0   \n",
              "4                                      100277.0   \n",
              "\n",
              "   Nº TOTAL DE LLAMADAS ATENDIDAS  CAT (%)   Bajas  Consultas   Altas  \\\n",
              "0                       3124089.0   0.0379  0.6217     0.6588  0.7507   \n",
              "1                       3391270.0   0.0364  0.6642     0.6597  0.6445   \n",
              "2                       3246056.0   0.0362  0.6466     0.6270  0.6292   \n",
              "3                       3382625.0   0.0348  0.6847     0.6490  0.6697   \n",
              "4                       3505628.0   0.0286  0.7229     0.7189  0.7044   \n",
              "\n",
              "  Reclamos-Cat  \n",
              "0            4  \n",
              "1            4  \n",
              "2            4  \n",
              "3            4  \n",
              "4            4  "
            ],
            "text/html": [
              "\n",
              "  <div id=\"df-c80ffc59-7452-4541-803f-691ab5c3380f\">\n",
              "    <div class=\"colab-df-container\">\n",
              "      <div>\n",
              "<style scoped>\n",
              "    .dataframe tbody tr th:only-of-type {\n",
              "        vertical-align: middle;\n",
              "    }\n",
              "\n",
              "    .dataframe tbody tr th {\n",
              "        vertical-align: top;\n",
              "    }\n",
              "\n",
              "    .dataframe thead th {\n",
              "        text-align: right;\n",
              "    }\n",
              "</style>\n",
              "<table border=\"1\" class=\"dataframe\">\n",
              "  <thead>\n",
              "    <tr style=\"text-align: right;\">\n",
              "      <th></th>\n",
              "      <th>AÑO</th>\n",
              "      <th>Mes</th>\n",
              "      <th>N° de horas sin sistema de atención al mes</th>\n",
              "      <th>N° total de horas de atención al mes</th>\n",
              "      <th>CSA%</th>\n",
              "      <th>Nº DE USUARIOS QUE DESISTIERON DE LA ATENCIÓN AL MES</th>\n",
              "      <th>Nº TOTAL DE USUARIOS ATENDIDOS AL MES</th>\n",
              "      <th>DAP (%)</th>\n",
              "      <th>Nº DE LLAMADAS NO FINALIZADAS POR EL USUARIO</th>\n",
              "      <th>Nº TOTAL DE LLAMADAS ATENDIDAS</th>\n",
              "      <th>CAT (%)</th>\n",
              "      <th>Bajas</th>\n",
              "      <th>Consultas</th>\n",
              "      <th>Altas</th>\n",
              "      <th>Reclamos-Cat</th>\n",
              "    </tr>\n",
              "  </thead>\n",
              "  <tbody>\n",
              "    <tr>\n",
              "      <th>0</th>\n",
              "      <td>1</td>\n",
              "      <td>9</td>\n",
              "      <td>15.12</td>\n",
              "      <td>18518.00</td>\n",
              "      <td>0.000817</td>\n",
              "      <td>41584.0</td>\n",
              "      <td>493360.0</td>\n",
              "      <td>0.0843</td>\n",
              "      <td>118385.0</td>\n",
              "      <td>3124089.0</td>\n",
              "      <td>0.0379</td>\n",
              "      <td>0.6217</td>\n",
              "      <td>0.6588</td>\n",
              "      <td>0.7507</td>\n",
              "      <td>4</td>\n",
              "    </tr>\n",
              "    <tr>\n",
              "      <th>1</th>\n",
              "      <td>1</td>\n",
              "      <td>10</td>\n",
              "      <td>26.37</td>\n",
              "      <td>18591.50</td>\n",
              "      <td>0.001418</td>\n",
              "      <td>37908.0</td>\n",
              "      <td>506790.0</td>\n",
              "      <td>0.0748</td>\n",
              "      <td>123382.0</td>\n",
              "      <td>3391270.0</td>\n",
              "      <td>0.0364</td>\n",
              "      <td>0.6642</td>\n",
              "      <td>0.6597</td>\n",
              "      <td>0.6445</td>\n",
              "      <td>4</td>\n",
              "    </tr>\n",
              "    <tr>\n",
              "      <th>2</th>\n",
              "      <td>1</td>\n",
              "      <td>11</td>\n",
              "      <td>3.58</td>\n",
              "      <td>18637.25</td>\n",
              "      <td>0.000192</td>\n",
              "      <td>37922.0</td>\n",
              "      <td>508222.0</td>\n",
              "      <td>0.0746</td>\n",
              "      <td>117383.0</td>\n",
              "      <td>3246056.0</td>\n",
              "      <td>0.0362</td>\n",
              "      <td>0.6466</td>\n",
              "      <td>0.6270</td>\n",
              "      <td>0.6292</td>\n",
              "      <td>4</td>\n",
              "    </tr>\n",
              "    <tr>\n",
              "      <th>3</th>\n",
              "      <td>1</td>\n",
              "      <td>12</td>\n",
              "      <td>0.62</td>\n",
              "      <td>21049.75</td>\n",
              "      <td>0.000029</td>\n",
              "      <td>39301.0</td>\n",
              "      <td>518982.0</td>\n",
              "      <td>0.0757</td>\n",
              "      <td>11756.0</td>\n",
              "      <td>3382625.0</td>\n",
              "      <td>0.0348</td>\n",
              "      <td>0.6847</td>\n",
              "      <td>0.6490</td>\n",
              "      <td>0.6697</td>\n",
              "      <td>4</td>\n",
              "    </tr>\n",
              "    <tr>\n",
              "      <th>4</th>\n",
              "      <td>1</td>\n",
              "      <td>1</td>\n",
              "      <td>0.83</td>\n",
              "      <td>19743.50</td>\n",
              "      <td>0.000042</td>\n",
              "      <td>35969.0</td>\n",
              "      <td>506900.0</td>\n",
              "      <td>0.0710</td>\n",
              "      <td>100277.0</td>\n",
              "      <td>3505628.0</td>\n",
              "      <td>0.0286</td>\n",
              "      <td>0.7229</td>\n",
              "      <td>0.7189</td>\n",
              "      <td>0.7044</td>\n",
              "      <td>4</td>\n",
              "    </tr>\n",
              "  </tbody>\n",
              "</table>\n",
              "</div>\n",
              "      <button class=\"colab-df-convert\" onclick=\"convertToInteractive('df-c80ffc59-7452-4541-803f-691ab5c3380f')\"\n",
              "              title=\"Convert this dataframe to an interactive table.\"\n",
              "              style=\"display:none;\">\n",
              "        \n",
              "  <svg xmlns=\"http://www.w3.org/2000/svg\" height=\"24px\"viewBox=\"0 0 24 24\"\n",
              "       width=\"24px\">\n",
              "    <path d=\"M0 0h24v24H0V0z\" fill=\"none\"/>\n",
              "    <path d=\"M18.56 5.44l.94 2.06.94-2.06 2.06-.94-2.06-.94-.94-2.06-.94 2.06-2.06.94zm-11 1L8.5 8.5l.94-2.06 2.06-.94-2.06-.94L8.5 2.5l-.94 2.06-2.06.94zm10 10l.94 2.06.94-2.06 2.06-.94-2.06-.94-.94-2.06-.94 2.06-2.06.94z\"/><path d=\"M17.41 7.96l-1.37-1.37c-.4-.4-.92-.59-1.43-.59-.52 0-1.04.2-1.43.59L10.3 9.45l-7.72 7.72c-.78.78-.78 2.05 0 2.83L4 21.41c.39.39.9.59 1.41.59.51 0 1.02-.2 1.41-.59l7.78-7.78 2.81-2.81c.8-.78.8-2.07 0-2.86zM5.41 20L4 18.59l7.72-7.72 1.47 1.35L5.41 20z\"/>\n",
              "  </svg>\n",
              "      </button>\n",
              "      \n",
              "  <style>\n",
              "    .colab-df-container {\n",
              "      display:flex;\n",
              "      flex-wrap:wrap;\n",
              "      gap: 12px;\n",
              "    }\n",
              "\n",
              "    .colab-df-convert {\n",
              "      background-color: #E8F0FE;\n",
              "      border: none;\n",
              "      border-radius: 50%;\n",
              "      cursor: pointer;\n",
              "      display: none;\n",
              "      fill: #1967D2;\n",
              "      height: 32px;\n",
              "      padding: 0 0 0 0;\n",
              "      width: 32px;\n",
              "    }\n",
              "\n",
              "    .colab-df-convert:hover {\n",
              "      background-color: #E2EBFA;\n",
              "      box-shadow: 0px 1px 2px rgba(60, 64, 67, 0.3), 0px 1px 3px 1px rgba(60, 64, 67, 0.15);\n",
              "      fill: #174EA6;\n",
              "    }\n",
              "\n",
              "    [theme=dark] .colab-df-convert {\n",
              "      background-color: #3B4455;\n",
              "      fill: #D2E3FC;\n",
              "    }\n",
              "\n",
              "    [theme=dark] .colab-df-convert:hover {\n",
              "      background-color: #434B5C;\n",
              "      box-shadow: 0px 1px 3px 1px rgba(0, 0, 0, 0.15);\n",
              "      filter: drop-shadow(0px 1px 2px rgba(0, 0, 0, 0.3));\n",
              "      fill: #FFFFFF;\n",
              "    }\n",
              "  </style>\n",
              "\n",
              "      <script>\n",
              "        const buttonEl =\n",
              "          document.querySelector('#df-c80ffc59-7452-4541-803f-691ab5c3380f button.colab-df-convert');\n",
              "        buttonEl.style.display =\n",
              "          google.colab.kernel.accessAllowed ? 'block' : 'none';\n",
              "\n",
              "        async function convertToInteractive(key) {\n",
              "          const element = document.querySelector('#df-c80ffc59-7452-4541-803f-691ab5c3380f');\n",
              "          const dataTable =\n",
              "            await google.colab.kernel.invokeFunction('convertToInteractive',\n",
              "                                                     [key], {});\n",
              "          if (!dataTable) return;\n",
              "\n",
              "          const docLinkHtml = 'Like what you see? Visit the ' +\n",
              "            '<a target=\"_blank\" href=https://colab.research.google.com/notebooks/data_table.ipynb>data table notebook</a>'\n",
              "            + ' to learn more about interactive tables.';\n",
              "          element.innerHTML = '';\n",
              "          dataTable['output_type'] = 'display_data';\n",
              "          await google.colab.output.renderOutput(dataTable, element);\n",
              "          const docLink = document.createElement('div');\n",
              "          docLink.innerHTML = docLinkHtml;\n",
              "          element.appendChild(docLink);\n",
              "        }\n",
              "      </script>\n",
              "    </div>\n",
              "  </div>\n",
              "  "
            ]
          },
          "metadata": {},
          "execution_count": 8
        }
      ]
    },
    {
      "cell_type": "code",
      "metadata": {
        "colab": {
          "base_uri": "https://localhost:8080/"
        },
        "id": "DrQmV2zI4lsS",
        "outputId": "5692bdd6-47cb-4392-efad-25b9db7f0012"
      },
      "source": [
        "data[\"Reclamos-Cat\"].value_counts().sort_index()"
      ],
      "execution_count": null,
      "outputs": [
        {
          "output_type": "execute_result",
          "data": {
            "text/plain": [
              "1     0\n",
              "2     0\n",
              "3     0\n",
              "4    26\n",
              "5    17\n",
              "Name: Reclamos-Cat, dtype: int64"
            ]
          },
          "metadata": {},
          "execution_count": 9
        }
      ]
    },
    {
      "cell_type": "markdown",
      "metadata": {
        "id": "dOpdvU-BrmaX"
      },
      "source": [
        "#XGboost - Shrinkage (alpha - lambda)"
      ]
    },
    {
      "cell_type": "markdown",
      "metadata": {
        "id": "hOO4ovtH-XiS"
      },
      "source": [
        "##XGBoost - Solo"
      ]
    },
    {
      "cell_type": "code",
      "metadata": {
        "id": "PGsBB2N_tR9S"
      },
      "source": [
        "import pandas as pd\n",
        "from xgboost import XGBClassifier\n",
        "from sklearn.model_selection import train_test_split\n",
        "from sklearn.metrics import accuracy_score"
      ],
      "execution_count": null,
      "outputs": []
    },
    {
      "cell_type": "code",
      "metadata": {
        "id": "Xgq0P-YYzzjd"
      },
      "source": [
        "df = data.dropna()"
      ],
      "execution_count": null,
      "outputs": []
    },
    {
      "cell_type": "code",
      "metadata": {
        "id": "vePPx37Atnrn"
      },
      "source": [
        "X = df.drop(['Reclamos-Cat'], axis=1)\n",
        "Y = df['Reclamos-Cat']"
      ],
      "execution_count": null,
      "outputs": []
    },
    {
      "cell_type": "code",
      "metadata": {
        "colab": {
          "base_uri": "https://localhost:8080/"
        },
        "id": "DwXI1oOFwr3F",
        "outputId": "75e08225-a44d-42a1-bf22-5d74ae5980e1"
      },
      "source": [
        "X.head(1)"
      ],
      "execution_count": null,
      "outputs": [
        {
          "output_type": "execute_result",
          "data": {
            "text/plain": [
              "   AÑO  Mes  N° de horas sin sistema de atención al mes    \\\n",
              "0    1    9                                         15.12   \n",
              "\n",
              "   N° total de horas de atención al mes      CSA%  \\\n",
              "0                               18518.0  0.000817   \n",
              "\n",
              "   Nº DE USUARIOS QUE DESISTIERON DE LA ATENCIÓN AL MES  \\\n",
              "0                                            41584.0      \n",
              "\n",
              "   Nº TOTAL DE USUARIOS ATENDIDOS AL MES  DAP (%)  \\\n",
              "0                               493360.0   0.0843   \n",
              "\n",
              "   Nº DE LLAMADAS NO FINALIZADAS POR EL USUARIO  \\\n",
              "0                                      118385.0   \n",
              "\n",
              "   Nº TOTAL DE LLAMADAS ATENDIDAS  CAT (%)   Bajas  Consultas   Altas  \n",
              "0                       3124089.0   0.0379  0.6217     0.6588  0.7507  "
            ],
            "text/html": [
              "\n",
              "  <div id=\"df-58168288-652b-4931-bc98-991024a49940\">\n",
              "    <div class=\"colab-df-container\">\n",
              "      <div>\n",
              "<style scoped>\n",
              "    .dataframe tbody tr th:only-of-type {\n",
              "        vertical-align: middle;\n",
              "    }\n",
              "\n",
              "    .dataframe tbody tr th {\n",
              "        vertical-align: top;\n",
              "    }\n",
              "\n",
              "    .dataframe thead th {\n",
              "        text-align: right;\n",
              "    }\n",
              "</style>\n",
              "<table border=\"1\" class=\"dataframe\">\n",
              "  <thead>\n",
              "    <tr style=\"text-align: right;\">\n",
              "      <th></th>\n",
              "      <th>AÑO</th>\n",
              "      <th>Mes</th>\n",
              "      <th>N° de horas sin sistema de atención al mes</th>\n",
              "      <th>N° total de horas de atención al mes</th>\n",
              "      <th>CSA%</th>\n",
              "      <th>Nº DE USUARIOS QUE DESISTIERON DE LA ATENCIÓN AL MES</th>\n",
              "      <th>Nº TOTAL DE USUARIOS ATENDIDOS AL MES</th>\n",
              "      <th>DAP (%)</th>\n",
              "      <th>Nº DE LLAMADAS NO FINALIZADAS POR EL USUARIO</th>\n",
              "      <th>Nº TOTAL DE LLAMADAS ATENDIDAS</th>\n",
              "      <th>CAT (%)</th>\n",
              "      <th>Bajas</th>\n",
              "      <th>Consultas</th>\n",
              "      <th>Altas</th>\n",
              "    </tr>\n",
              "  </thead>\n",
              "  <tbody>\n",
              "    <tr>\n",
              "      <th>0</th>\n",
              "      <td>1</td>\n",
              "      <td>9</td>\n",
              "      <td>15.12</td>\n",
              "      <td>18518.0</td>\n",
              "      <td>0.000817</td>\n",
              "      <td>41584.0</td>\n",
              "      <td>493360.0</td>\n",
              "      <td>0.0843</td>\n",
              "      <td>118385.0</td>\n",
              "      <td>3124089.0</td>\n",
              "      <td>0.0379</td>\n",
              "      <td>0.6217</td>\n",
              "      <td>0.6588</td>\n",
              "      <td>0.7507</td>\n",
              "    </tr>\n",
              "  </tbody>\n",
              "</table>\n",
              "</div>\n",
              "      <button class=\"colab-df-convert\" onclick=\"convertToInteractive('df-58168288-652b-4931-bc98-991024a49940')\"\n",
              "              title=\"Convert this dataframe to an interactive table.\"\n",
              "              style=\"display:none;\">\n",
              "        \n",
              "  <svg xmlns=\"http://www.w3.org/2000/svg\" height=\"24px\"viewBox=\"0 0 24 24\"\n",
              "       width=\"24px\">\n",
              "    <path d=\"M0 0h24v24H0V0z\" fill=\"none\"/>\n",
              "    <path d=\"M18.56 5.44l.94 2.06.94-2.06 2.06-.94-2.06-.94-.94-2.06-.94 2.06-2.06.94zm-11 1L8.5 8.5l.94-2.06 2.06-.94-2.06-.94L8.5 2.5l-.94 2.06-2.06.94zm10 10l.94 2.06.94-2.06 2.06-.94-2.06-.94-.94-2.06-.94 2.06-2.06.94z\"/><path d=\"M17.41 7.96l-1.37-1.37c-.4-.4-.92-.59-1.43-.59-.52 0-1.04.2-1.43.59L10.3 9.45l-7.72 7.72c-.78.78-.78 2.05 0 2.83L4 21.41c.39.39.9.59 1.41.59.51 0 1.02-.2 1.41-.59l7.78-7.78 2.81-2.81c.8-.78.8-2.07 0-2.86zM5.41 20L4 18.59l7.72-7.72 1.47 1.35L5.41 20z\"/>\n",
              "  </svg>\n",
              "      </button>\n",
              "      \n",
              "  <style>\n",
              "    .colab-df-container {\n",
              "      display:flex;\n",
              "      flex-wrap:wrap;\n",
              "      gap: 12px;\n",
              "    }\n",
              "\n",
              "    .colab-df-convert {\n",
              "      background-color: #E8F0FE;\n",
              "      border: none;\n",
              "      border-radius: 50%;\n",
              "      cursor: pointer;\n",
              "      display: none;\n",
              "      fill: #1967D2;\n",
              "      height: 32px;\n",
              "      padding: 0 0 0 0;\n",
              "      width: 32px;\n",
              "    }\n",
              "\n",
              "    .colab-df-convert:hover {\n",
              "      background-color: #E2EBFA;\n",
              "      box-shadow: 0px 1px 2px rgba(60, 64, 67, 0.3), 0px 1px 3px 1px rgba(60, 64, 67, 0.15);\n",
              "      fill: #174EA6;\n",
              "    }\n",
              "\n",
              "    [theme=dark] .colab-df-convert {\n",
              "      background-color: #3B4455;\n",
              "      fill: #D2E3FC;\n",
              "    }\n",
              "\n",
              "    [theme=dark] .colab-df-convert:hover {\n",
              "      background-color: #434B5C;\n",
              "      box-shadow: 0px 1px 3px 1px rgba(0, 0, 0, 0.15);\n",
              "      filter: drop-shadow(0px 1px 2px rgba(0, 0, 0, 0.3));\n",
              "      fill: #FFFFFF;\n",
              "    }\n",
              "  </style>\n",
              "\n",
              "      <script>\n",
              "        const buttonEl =\n",
              "          document.querySelector('#df-58168288-652b-4931-bc98-991024a49940 button.colab-df-convert');\n",
              "        buttonEl.style.display =\n",
              "          google.colab.kernel.accessAllowed ? 'block' : 'none';\n",
              "\n",
              "        async function convertToInteractive(key) {\n",
              "          const element = document.querySelector('#df-58168288-652b-4931-bc98-991024a49940');\n",
              "          const dataTable =\n",
              "            await google.colab.kernel.invokeFunction('convertToInteractive',\n",
              "                                                     [key], {});\n",
              "          if (!dataTable) return;\n",
              "\n",
              "          const docLinkHtml = 'Like what you see? Visit the ' +\n",
              "            '<a target=\"_blank\" href=https://colab.research.google.com/notebooks/data_table.ipynb>data table notebook</a>'\n",
              "            + ' to learn more about interactive tables.';\n",
              "          element.innerHTML = '';\n",
              "          dataTable['output_type'] = 'display_data';\n",
              "          await google.colab.output.renderOutput(dataTable, element);\n",
              "          const docLink = document.createElement('div');\n",
              "          docLink.innerHTML = docLinkHtml;\n",
              "          element.appendChild(docLink);\n",
              "        }\n",
              "      </script>\n",
              "    </div>\n",
              "  </div>\n",
              "  "
            ]
          },
          "metadata": {},
          "execution_count": 13
        }
      ]
    },
    {
      "cell_type": "code",
      "metadata": {
        "colab": {
          "base_uri": "https://localhost:8080/"
        },
        "id": "6ZhDfcYpwwm2",
        "outputId": "afd85625-c8d7-4690-b190-d0ae8706c42e"
      },
      "source": [
        "Y.head(2)"
      ],
      "execution_count": null,
      "outputs": [
        {
          "output_type": "execute_result",
          "data": {
            "text/plain": [
              "0    4\n",
              "1    4\n",
              "Name: Reclamos-Cat, dtype: category\n",
              "Categories (5, object): ['1' < '2' < '3' < '4' < '5']"
            ]
          },
          "metadata": {},
          "execution_count": 14
        }
      ]
    },
    {
      "cell_type": "code",
      "metadata": {
        "id": "ztLkvsyIw4LB"
      },
      "source": [
        "seed = 7\n",
        "test_size = 0.2\n",
        "X_train, X_test, y_train, y_test = train_test_split(X, Y, test_size=test_size, random_state=seed)"
      ],
      "execution_count": null,
      "outputs": []
    },
    {
      "cell_type": "code",
      "metadata": {
        "colab": {
          "base_uri": "https://localhost:8080/"
        },
        "id": "BkVA34gnw-om",
        "outputId": "f75cb977-f622-49b0-d32f-ff12fabcd53b"
      },
      "source": [
        "model = XGBClassifier(reg_alpha=0, reg_lambda=0)\n",
        "model.fit(X_train, y_train)"
      ],
      "execution_count": null,
      "outputs": [
        {
          "output_type": "execute_result",
          "data": {
            "text/plain": [
              "XGBClassifier(reg_lambda=0)"
            ]
          },
          "metadata": {},
          "execution_count": 16
        }
      ]
    },
    {
      "cell_type": "code",
      "metadata": {
        "colab": {
          "base_uri": "https://localhost:8080/"
        },
        "id": "xCp7gGCE5jpP",
        "outputId": "d2f2671d-de63-4ce3-e77d-71efa228df82"
      },
      "source": [
        "from sklearn import metrics\n",
        "from sklearn.metrics import *\n",
        "\n",
        "#Realizo la predicción\n",
        "y_pred = model.predict(X_test)\n",
        "#Verifico la matriz de Confusión\n",
        "matriz = confusion_matrix(y_test, y_pred)\n",
        "#Calculo la precisión del modelo\n",
        "precision = precision_score(y_test, y_pred, average=\"macro\")\n",
        "#Calculo la exactitud del modelo\n",
        "exactitud = accuracy_score(y_test, y_pred)\n",
        "#Calculo la sensibilidad del modelo\n",
        "sensibilidad = recall_score(y_test, y_pred, average=\"macro\")\n",
        "#Calculo el Puntaje F1 del modelo\n",
        "puntajef1 = f1_score(y_test, y_pred, average=\"macro\")\n",
        "#Calculo la curva ROC - AUC del modelo\n",
        "roc_auc = roc_auc_score(y_test, y_pred)\n",
        "\n",
        "print('Matriz de Confusión:')\n",
        "print(matriz)\n",
        "print('Precisión del modelo:', precision)\n",
        "print('Exactitud del modelo:', exactitud)\n",
        "print('Sensibilidad del modelo:', sensibilidad)\n",
        "print('Puntaje F1 del modelo:', puntajef1)\n",
        "print('Curva ROC - AUC del modelo:', roc_auc)"
      ],
      "execution_count": null,
      "outputs": [
        {
          "output_type": "stream",
          "name": "stdout",
          "text": [
            "Matriz de Confusión:\n",
            "[[7 0]\n",
            " [0 2]]\n",
            "Precisión del modelo: 1.0\n",
            "Exactitud del modelo: 1.0\n",
            "Sensibilidad del modelo: 1.0\n",
            "Puntaje F1 del modelo: 1.0\n",
            "Curva ROC - AUC del modelo: 1.0\n"
          ]
        }
      ]
    },
    {
      "cell_type": "markdown",
      "metadata": {
        "id": "2JiKXgP-_03C"
      },
      "source": [
        "##XGBoost - Lasso"
      ]
    },
    {
      "cell_type": "code",
      "metadata": {
        "id": "AapHNZHP_03C"
      },
      "source": [
        "import pandas as pd\n",
        "from xgboost import XGBClassifier\n",
        "from sklearn.model_selection import train_test_split\n",
        "from sklearn.metrics import accuracy_score"
      ],
      "execution_count": null,
      "outputs": []
    },
    {
      "cell_type": "code",
      "metadata": {
        "id": "HnsE2bvR_03E"
      },
      "source": [
        "df = data.dropna()"
      ],
      "execution_count": null,
      "outputs": []
    },
    {
      "cell_type": "code",
      "metadata": {
        "id": "w09tMT2I_03E"
      },
      "source": [
        "X = df.drop(['Reclamos-Cat'], axis=1)\n",
        "Y = df['Reclamos-Cat']"
      ],
      "execution_count": null,
      "outputs": []
    },
    {
      "cell_type": "code",
      "metadata": {
        "colab": {
          "base_uri": "https://localhost:8080/"
        },
        "id": "QZeCl_GA_03F",
        "outputId": "ca1234ef-6079-4cd2-b296-3d86bdfafd8f"
      },
      "source": [
        "X.head(1)"
      ],
      "execution_count": null,
      "outputs": [
        {
          "output_type": "execute_result",
          "data": {
            "text/plain": [
              "   AÑO  Mes  N° de horas sin sistema de atención al mes    \\\n",
              "0    1    9                                         15.12   \n",
              "\n",
              "   N° total de horas de atención al mes      CSA%  \\\n",
              "0                               18518.0  0.000817   \n",
              "\n",
              "   Nº DE USUARIOS QUE DESISTIERON DE LA ATENCIÓN AL MES  \\\n",
              "0                                            41584.0      \n",
              "\n",
              "   Nº TOTAL DE USUARIOS ATENDIDOS AL MES  DAP (%)  \\\n",
              "0                               493360.0   0.0843   \n",
              "\n",
              "   Nº DE LLAMADAS NO FINALIZADAS POR EL USUARIO  \\\n",
              "0                                      118385.0   \n",
              "\n",
              "   Nº TOTAL DE LLAMADAS ATENDIDAS  CAT (%)   Bajas  Consultas   Altas  \n",
              "0                       3124089.0   0.0379  0.6217     0.6588  0.7507  "
            ],
            "text/html": [
              "\n",
              "  <div id=\"df-844f89f0-7444-4928-9d5e-c2fdac637139\">\n",
              "    <div class=\"colab-df-container\">\n",
              "      <div>\n",
              "<style scoped>\n",
              "    .dataframe tbody tr th:only-of-type {\n",
              "        vertical-align: middle;\n",
              "    }\n",
              "\n",
              "    .dataframe tbody tr th {\n",
              "        vertical-align: top;\n",
              "    }\n",
              "\n",
              "    .dataframe thead th {\n",
              "        text-align: right;\n",
              "    }\n",
              "</style>\n",
              "<table border=\"1\" class=\"dataframe\">\n",
              "  <thead>\n",
              "    <tr style=\"text-align: right;\">\n",
              "      <th></th>\n",
              "      <th>AÑO</th>\n",
              "      <th>Mes</th>\n",
              "      <th>N° de horas sin sistema de atención al mes</th>\n",
              "      <th>N° total de horas de atención al mes</th>\n",
              "      <th>CSA%</th>\n",
              "      <th>Nº DE USUARIOS QUE DESISTIERON DE LA ATENCIÓN AL MES</th>\n",
              "      <th>Nº TOTAL DE USUARIOS ATENDIDOS AL MES</th>\n",
              "      <th>DAP (%)</th>\n",
              "      <th>Nº DE LLAMADAS NO FINALIZADAS POR EL USUARIO</th>\n",
              "      <th>Nº TOTAL DE LLAMADAS ATENDIDAS</th>\n",
              "      <th>CAT (%)</th>\n",
              "      <th>Bajas</th>\n",
              "      <th>Consultas</th>\n",
              "      <th>Altas</th>\n",
              "    </tr>\n",
              "  </thead>\n",
              "  <tbody>\n",
              "    <tr>\n",
              "      <th>0</th>\n",
              "      <td>1</td>\n",
              "      <td>9</td>\n",
              "      <td>15.12</td>\n",
              "      <td>18518.0</td>\n",
              "      <td>0.000817</td>\n",
              "      <td>41584.0</td>\n",
              "      <td>493360.0</td>\n",
              "      <td>0.0843</td>\n",
              "      <td>118385.0</td>\n",
              "      <td>3124089.0</td>\n",
              "      <td>0.0379</td>\n",
              "      <td>0.6217</td>\n",
              "      <td>0.6588</td>\n",
              "      <td>0.7507</td>\n",
              "    </tr>\n",
              "  </tbody>\n",
              "</table>\n",
              "</div>\n",
              "      <button class=\"colab-df-convert\" onclick=\"convertToInteractive('df-844f89f0-7444-4928-9d5e-c2fdac637139')\"\n",
              "              title=\"Convert this dataframe to an interactive table.\"\n",
              "              style=\"display:none;\">\n",
              "        \n",
              "  <svg xmlns=\"http://www.w3.org/2000/svg\" height=\"24px\"viewBox=\"0 0 24 24\"\n",
              "       width=\"24px\">\n",
              "    <path d=\"M0 0h24v24H0V0z\" fill=\"none\"/>\n",
              "    <path d=\"M18.56 5.44l.94 2.06.94-2.06 2.06-.94-2.06-.94-.94-2.06-.94 2.06-2.06.94zm-11 1L8.5 8.5l.94-2.06 2.06-.94-2.06-.94L8.5 2.5l-.94 2.06-2.06.94zm10 10l.94 2.06.94-2.06 2.06-.94-2.06-.94-.94-2.06-.94 2.06-2.06.94z\"/><path d=\"M17.41 7.96l-1.37-1.37c-.4-.4-.92-.59-1.43-.59-.52 0-1.04.2-1.43.59L10.3 9.45l-7.72 7.72c-.78.78-.78 2.05 0 2.83L4 21.41c.39.39.9.59 1.41.59.51 0 1.02-.2 1.41-.59l7.78-7.78 2.81-2.81c.8-.78.8-2.07 0-2.86zM5.41 20L4 18.59l7.72-7.72 1.47 1.35L5.41 20z\"/>\n",
              "  </svg>\n",
              "      </button>\n",
              "      \n",
              "  <style>\n",
              "    .colab-df-container {\n",
              "      display:flex;\n",
              "      flex-wrap:wrap;\n",
              "      gap: 12px;\n",
              "    }\n",
              "\n",
              "    .colab-df-convert {\n",
              "      background-color: #E8F0FE;\n",
              "      border: none;\n",
              "      border-radius: 50%;\n",
              "      cursor: pointer;\n",
              "      display: none;\n",
              "      fill: #1967D2;\n",
              "      height: 32px;\n",
              "      padding: 0 0 0 0;\n",
              "      width: 32px;\n",
              "    }\n",
              "\n",
              "    .colab-df-convert:hover {\n",
              "      background-color: #E2EBFA;\n",
              "      box-shadow: 0px 1px 2px rgba(60, 64, 67, 0.3), 0px 1px 3px 1px rgba(60, 64, 67, 0.15);\n",
              "      fill: #174EA6;\n",
              "    }\n",
              "\n",
              "    [theme=dark] .colab-df-convert {\n",
              "      background-color: #3B4455;\n",
              "      fill: #D2E3FC;\n",
              "    }\n",
              "\n",
              "    [theme=dark] .colab-df-convert:hover {\n",
              "      background-color: #434B5C;\n",
              "      box-shadow: 0px 1px 3px 1px rgba(0, 0, 0, 0.15);\n",
              "      filter: drop-shadow(0px 1px 2px rgba(0, 0, 0, 0.3));\n",
              "      fill: #FFFFFF;\n",
              "    }\n",
              "  </style>\n",
              "\n",
              "      <script>\n",
              "        const buttonEl =\n",
              "          document.querySelector('#df-844f89f0-7444-4928-9d5e-c2fdac637139 button.colab-df-convert');\n",
              "        buttonEl.style.display =\n",
              "          google.colab.kernel.accessAllowed ? 'block' : 'none';\n",
              "\n",
              "        async function convertToInteractive(key) {\n",
              "          const element = document.querySelector('#df-844f89f0-7444-4928-9d5e-c2fdac637139');\n",
              "          const dataTable =\n",
              "            await google.colab.kernel.invokeFunction('convertToInteractive',\n",
              "                                                     [key], {});\n",
              "          if (!dataTable) return;\n",
              "\n",
              "          const docLinkHtml = 'Like what you see? Visit the ' +\n",
              "            '<a target=\"_blank\" href=https://colab.research.google.com/notebooks/data_table.ipynb>data table notebook</a>'\n",
              "            + ' to learn more about interactive tables.';\n",
              "          element.innerHTML = '';\n",
              "          dataTable['output_type'] = 'display_data';\n",
              "          await google.colab.output.renderOutput(dataTable, element);\n",
              "          const docLink = document.createElement('div');\n",
              "          docLink.innerHTML = docLinkHtml;\n",
              "          element.appendChild(docLink);\n",
              "        }\n",
              "      </script>\n",
              "    </div>\n",
              "  </div>\n",
              "  "
            ]
          },
          "metadata": {},
          "execution_count": 21
        }
      ]
    },
    {
      "cell_type": "code",
      "metadata": {
        "colab": {
          "base_uri": "https://localhost:8080/"
        },
        "id": "_LVGdD7n_03G",
        "outputId": "2032372d-93ca-419b-aced-ce8c2edfe74f"
      },
      "source": [
        "Y.head(2)"
      ],
      "execution_count": null,
      "outputs": [
        {
          "output_type": "execute_result",
          "data": {
            "text/plain": [
              "0    4\n",
              "1    4\n",
              "Name: Reclamos-Cat, dtype: category\n",
              "Categories (5, object): ['1' < '2' < '3' < '4' < '5']"
            ]
          },
          "metadata": {},
          "execution_count": 22
        }
      ]
    },
    {
      "cell_type": "code",
      "metadata": {
        "id": "4E07X7uc_03G"
      },
      "source": [
        "seed = 7\n",
        "test_size = 0.2\n",
        "X_train, X_test, y_train, y_test = train_test_split(X, Y, test_size=test_size, random_state=seed)"
      ],
      "execution_count": null,
      "outputs": []
    },
    {
      "cell_type": "code",
      "metadata": {
        "colab": {
          "base_uri": "https://localhost:8080/"
        },
        "id": "nD6MjqVg_03H",
        "outputId": "8d46a28f-60d1-4cf2-e6bb-1fd8b1937f89"
      },
      "source": [
        "model = XGBClassifier(reg_alpha=1, reg_lambda=0)\n",
        "model.fit(X_train, y_train)"
      ],
      "execution_count": null,
      "outputs": [
        {
          "output_type": "execute_result",
          "data": {
            "text/plain": [
              "XGBClassifier(reg_alpha=1, reg_lambda=0)"
            ]
          },
          "metadata": {},
          "execution_count": 24
        }
      ]
    },
    {
      "cell_type": "code",
      "metadata": {
        "colab": {
          "base_uri": "https://localhost:8080/"
        },
        "id": "eW6nFB4N_03I",
        "outputId": "b07b7c8c-cdd0-4a59-d96e-fb4384ee8a15"
      },
      "source": [
        "from sklearn import metrics\n",
        "from sklearn.metrics import *\n",
        "\n",
        "#Realizo la predicción\n",
        "y_pred = model.predict(X_test)\n",
        "#Verifico la matriz de Confusión\n",
        "matriz = confusion_matrix(y_test, y_pred)\n",
        "#Calculo la precisión del modelo\n",
        "precision = precision_score(y_test, y_pred, average=\"macro\")\n",
        "#Calculo la exactitud del modelo\n",
        "exactitud = accuracy_score(y_test, y_pred)\n",
        "#Calculo la sensibilidad del modelo\n",
        "sensibilidad = recall_score(y_test, y_pred, average=\"macro\")\n",
        "#Calculo el Puntaje F1 del modelo\n",
        "puntajef1 = f1_score(y_test, y_pred, average=\"macro\")\n",
        "#Calculo la curva ROC - AUC del modelo\n",
        "roc_auc = roc_auc_score(y_test, y_pred)\n",
        "\n",
        "print('Matriz de Confusión:')\n",
        "print(matriz)\n",
        "print('Precisión del modelo:', precision)\n",
        "print('Exactitud del modelo:', exactitud)\n",
        "print('Sensibilidad del modelo:', sensibilidad)\n",
        "print('Puntaje F1 del modelo:', puntajef1)\n",
        "print('Curva ROC - AUC del modelo:', roc_auc)"
      ],
      "execution_count": null,
      "outputs": [
        {
          "output_type": "stream",
          "name": "stdout",
          "text": [
            "Matriz de Confusión:\n",
            "[[7 0]\n",
            " [0 2]]\n",
            "Precisión del modelo: 1.0\n",
            "Exactitud del modelo: 1.0\n",
            "Sensibilidad del modelo: 1.0\n",
            "Puntaje F1 del modelo: 1.0\n",
            "Curva ROC - AUC del modelo: 1.0\n"
          ]
        }
      ]
    },
    {
      "cell_type": "markdown",
      "metadata": {
        "id": "OtLWu_HYEj5R"
      },
      "source": [
        "##XGBoost - Ridge"
      ]
    },
    {
      "cell_type": "code",
      "metadata": {
        "id": "bvQN8X6cEj5S"
      },
      "source": [
        "import pandas as pd\n",
        "from xgboost import XGBClassifier\n",
        "from sklearn.model_selection import train_test_split\n",
        "from sklearn.metrics import accuracy_score"
      ],
      "execution_count": null,
      "outputs": []
    },
    {
      "cell_type": "code",
      "metadata": {
        "id": "DKfJJQ-CEj5T"
      },
      "source": [
        "df = data.dropna()"
      ],
      "execution_count": null,
      "outputs": []
    },
    {
      "cell_type": "code",
      "metadata": {
        "id": "JT4ZRcFFEj5U"
      },
      "source": [
        "X = df.drop(['Reclamos-Cat'], axis=1)\n",
        "Y = df['Reclamos-Cat']"
      ],
      "execution_count": null,
      "outputs": []
    },
    {
      "cell_type": "code",
      "metadata": {
        "colab": {
          "base_uri": "https://localhost:8080/"
        },
        "id": "p1jl5gwUEj5U",
        "outputId": "a29385e7-cd41-4b74-82bb-f51be81efafa"
      },
      "source": [
        "X.head(1)"
      ],
      "execution_count": null,
      "outputs": [
        {
          "output_type": "execute_result",
          "data": {
            "text/plain": [
              "   AÑO  Mes  N° de horas sin sistema de atención al mes    \\\n",
              "0    1    9                                         15.12   \n",
              "\n",
              "   N° total de horas de atención al mes      CSA%  \\\n",
              "0                               18518.0  0.000817   \n",
              "\n",
              "   Nº DE USUARIOS QUE DESISTIERON DE LA ATENCIÓN AL MES  \\\n",
              "0                                            41584.0      \n",
              "\n",
              "   Nº TOTAL DE USUARIOS ATENDIDOS AL MES  DAP (%)  \\\n",
              "0                               493360.0   0.0843   \n",
              "\n",
              "   Nº DE LLAMADAS NO FINALIZADAS POR EL USUARIO  \\\n",
              "0                                      118385.0   \n",
              "\n",
              "   Nº TOTAL DE LLAMADAS ATENDIDAS  CAT (%)   Bajas  Consultas   Altas  \n",
              "0                       3124089.0   0.0379  0.6217     0.6588  0.7507  "
            ],
            "text/html": [
              "\n",
              "  <div id=\"df-d13d1d6f-1455-4186-a7a9-68da3892a69a\">\n",
              "    <div class=\"colab-df-container\">\n",
              "      <div>\n",
              "<style scoped>\n",
              "    .dataframe tbody tr th:only-of-type {\n",
              "        vertical-align: middle;\n",
              "    }\n",
              "\n",
              "    .dataframe tbody tr th {\n",
              "        vertical-align: top;\n",
              "    }\n",
              "\n",
              "    .dataframe thead th {\n",
              "        text-align: right;\n",
              "    }\n",
              "</style>\n",
              "<table border=\"1\" class=\"dataframe\">\n",
              "  <thead>\n",
              "    <tr style=\"text-align: right;\">\n",
              "      <th></th>\n",
              "      <th>AÑO</th>\n",
              "      <th>Mes</th>\n",
              "      <th>N° de horas sin sistema de atención al mes</th>\n",
              "      <th>N° total de horas de atención al mes</th>\n",
              "      <th>CSA%</th>\n",
              "      <th>Nº DE USUARIOS QUE DESISTIERON DE LA ATENCIÓN AL MES</th>\n",
              "      <th>Nº TOTAL DE USUARIOS ATENDIDOS AL MES</th>\n",
              "      <th>DAP (%)</th>\n",
              "      <th>Nº DE LLAMADAS NO FINALIZADAS POR EL USUARIO</th>\n",
              "      <th>Nº TOTAL DE LLAMADAS ATENDIDAS</th>\n",
              "      <th>CAT (%)</th>\n",
              "      <th>Bajas</th>\n",
              "      <th>Consultas</th>\n",
              "      <th>Altas</th>\n",
              "    </tr>\n",
              "  </thead>\n",
              "  <tbody>\n",
              "    <tr>\n",
              "      <th>0</th>\n",
              "      <td>1</td>\n",
              "      <td>9</td>\n",
              "      <td>15.12</td>\n",
              "      <td>18518.0</td>\n",
              "      <td>0.000817</td>\n",
              "      <td>41584.0</td>\n",
              "      <td>493360.0</td>\n",
              "      <td>0.0843</td>\n",
              "      <td>118385.0</td>\n",
              "      <td>3124089.0</td>\n",
              "      <td>0.0379</td>\n",
              "      <td>0.6217</td>\n",
              "      <td>0.6588</td>\n",
              "      <td>0.7507</td>\n",
              "    </tr>\n",
              "  </tbody>\n",
              "</table>\n",
              "</div>\n",
              "      <button class=\"colab-df-convert\" onclick=\"convertToInteractive('df-d13d1d6f-1455-4186-a7a9-68da3892a69a')\"\n",
              "              title=\"Convert this dataframe to an interactive table.\"\n",
              "              style=\"display:none;\">\n",
              "        \n",
              "  <svg xmlns=\"http://www.w3.org/2000/svg\" height=\"24px\"viewBox=\"0 0 24 24\"\n",
              "       width=\"24px\">\n",
              "    <path d=\"M0 0h24v24H0V0z\" fill=\"none\"/>\n",
              "    <path d=\"M18.56 5.44l.94 2.06.94-2.06 2.06-.94-2.06-.94-.94-2.06-.94 2.06-2.06.94zm-11 1L8.5 8.5l.94-2.06 2.06-.94-2.06-.94L8.5 2.5l-.94 2.06-2.06.94zm10 10l.94 2.06.94-2.06 2.06-.94-2.06-.94-.94-2.06-.94 2.06-2.06.94z\"/><path d=\"M17.41 7.96l-1.37-1.37c-.4-.4-.92-.59-1.43-.59-.52 0-1.04.2-1.43.59L10.3 9.45l-7.72 7.72c-.78.78-.78 2.05 0 2.83L4 21.41c.39.39.9.59 1.41.59.51 0 1.02-.2 1.41-.59l7.78-7.78 2.81-2.81c.8-.78.8-2.07 0-2.86zM5.41 20L4 18.59l7.72-7.72 1.47 1.35L5.41 20z\"/>\n",
              "  </svg>\n",
              "      </button>\n",
              "      \n",
              "  <style>\n",
              "    .colab-df-container {\n",
              "      display:flex;\n",
              "      flex-wrap:wrap;\n",
              "      gap: 12px;\n",
              "    }\n",
              "\n",
              "    .colab-df-convert {\n",
              "      background-color: #E8F0FE;\n",
              "      border: none;\n",
              "      border-radius: 50%;\n",
              "      cursor: pointer;\n",
              "      display: none;\n",
              "      fill: #1967D2;\n",
              "      height: 32px;\n",
              "      padding: 0 0 0 0;\n",
              "      width: 32px;\n",
              "    }\n",
              "\n",
              "    .colab-df-convert:hover {\n",
              "      background-color: #E2EBFA;\n",
              "      box-shadow: 0px 1px 2px rgba(60, 64, 67, 0.3), 0px 1px 3px 1px rgba(60, 64, 67, 0.15);\n",
              "      fill: #174EA6;\n",
              "    }\n",
              "\n",
              "    [theme=dark] .colab-df-convert {\n",
              "      background-color: #3B4455;\n",
              "      fill: #D2E3FC;\n",
              "    }\n",
              "\n",
              "    [theme=dark] .colab-df-convert:hover {\n",
              "      background-color: #434B5C;\n",
              "      box-shadow: 0px 1px 3px 1px rgba(0, 0, 0, 0.15);\n",
              "      filter: drop-shadow(0px 1px 2px rgba(0, 0, 0, 0.3));\n",
              "      fill: #FFFFFF;\n",
              "    }\n",
              "  </style>\n",
              "\n",
              "      <script>\n",
              "        const buttonEl =\n",
              "          document.querySelector('#df-d13d1d6f-1455-4186-a7a9-68da3892a69a button.colab-df-convert');\n",
              "        buttonEl.style.display =\n",
              "          google.colab.kernel.accessAllowed ? 'block' : 'none';\n",
              "\n",
              "        async function convertToInteractive(key) {\n",
              "          const element = document.querySelector('#df-d13d1d6f-1455-4186-a7a9-68da3892a69a');\n",
              "          const dataTable =\n",
              "            await google.colab.kernel.invokeFunction('convertToInteractive',\n",
              "                                                     [key], {});\n",
              "          if (!dataTable) return;\n",
              "\n",
              "          const docLinkHtml = 'Like what you see? Visit the ' +\n",
              "            '<a target=\"_blank\" href=https://colab.research.google.com/notebooks/data_table.ipynb>data table notebook</a>'\n",
              "            + ' to learn more about interactive tables.';\n",
              "          element.innerHTML = '';\n",
              "          dataTable['output_type'] = 'display_data';\n",
              "          await google.colab.output.renderOutput(dataTable, element);\n",
              "          const docLink = document.createElement('div');\n",
              "          docLink.innerHTML = docLinkHtml;\n",
              "          element.appendChild(docLink);\n",
              "        }\n",
              "      </script>\n",
              "    </div>\n",
              "  </div>\n",
              "  "
            ]
          },
          "metadata": {},
          "execution_count": 29
        }
      ]
    },
    {
      "cell_type": "code",
      "metadata": {
        "colab": {
          "base_uri": "https://localhost:8080/"
        },
        "id": "UcEi_nEMEj5W",
        "outputId": "be4da65b-7714-4f13-de09-f9c93943ce5a"
      },
      "source": [
        "Y.head(2)"
      ],
      "execution_count": null,
      "outputs": [
        {
          "output_type": "execute_result",
          "data": {
            "text/plain": [
              "0    4\n",
              "1    4\n",
              "Name: Reclamos-Cat, dtype: category\n",
              "Categories (5, object): ['1' < '2' < '3' < '4' < '5']"
            ]
          },
          "metadata": {},
          "execution_count": 30
        }
      ]
    },
    {
      "cell_type": "code",
      "metadata": {
        "id": "mxMP_bsmEj5X"
      },
      "source": [
        "seed = 7\n",
        "test_size = 0.2\n",
        "X_train, X_test, y_train, y_test = train_test_split(X, Y, test_size=test_size, random_state=seed)"
      ],
      "execution_count": null,
      "outputs": []
    },
    {
      "cell_type": "code",
      "metadata": {
        "colab": {
          "base_uri": "https://localhost:8080/"
        },
        "id": "yD0wQK0sEj5Y",
        "outputId": "62657de0-7a74-44af-b3f2-1ecbab86cd01"
      },
      "source": [
        "model = XGBClassifier(reg_alpha=0, reg_lambda=1)\n",
        "model.fit(X_train, y_train)"
      ],
      "execution_count": null,
      "outputs": [
        {
          "output_type": "execute_result",
          "data": {
            "text/plain": [
              "XGBClassifier()"
            ]
          },
          "metadata": {},
          "execution_count": 32
        }
      ]
    },
    {
      "cell_type": "code",
      "metadata": {
        "colab": {
          "base_uri": "https://localhost:8080/"
        },
        "id": "ichiRTkeEj5Z",
        "outputId": "2c1f9481-e3fa-4d26-dda6-dec98290e464"
      },
      "source": [
        "from sklearn import metrics\n",
        "from sklearn.metrics import *\n",
        "\n",
        "#Realizo la predicción\n",
        "y_pred = model.predict(X_test)\n",
        "#Verifico la matriz de Confusión\n",
        "matriz = confusion_matrix(y_test, y_pred)\n",
        "#Calculo la precisión del modelo\n",
        "precision = precision_score(y_test, y_pred, average=\"macro\")\n",
        "#Calculo la exactitud del modelo\n",
        "exactitud = accuracy_score(y_test, y_pred)\n",
        "#Calculo la sensibilidad del modelo\n",
        "sensibilidad = recall_score(y_test, y_pred, average=\"macro\")\n",
        "#Calculo el Puntaje F1 del modelo\n",
        "puntajef1 = f1_score(y_test, y_pred, average=\"macro\")\n",
        "#Calculo la curva ROC - AUC del modelo\n",
        "roc_auc = roc_auc_score(y_test, y_pred)\n",
        "\n",
        "print('Matriz de Confusión:')\n",
        "print(matriz)\n",
        "print('Precisión del modelo:', precision)\n",
        "print('Exactitud del modelo:', exactitud)\n",
        "print('Sensibilidad del modelo:', sensibilidad)\n",
        "print('Puntaje F1 del modelo:', puntajef1)\n",
        "print('Curva ROC - AUC del modelo:', roc_auc)"
      ],
      "execution_count": null,
      "outputs": [
        {
          "output_type": "stream",
          "name": "stdout",
          "text": [
            "Matriz de Confusión:\n",
            "[[7 0]\n",
            " [0 2]]\n",
            "Precisión del modelo: 1.0\n",
            "Exactitud del modelo: 1.0\n",
            "Sensibilidad del modelo: 1.0\n",
            "Puntaje F1 del modelo: 1.0\n",
            "Curva ROC - AUC del modelo: 1.0\n"
          ]
        }
      ]
    },
    {
      "cell_type": "markdown",
      "metadata": {
        "id": "Ll-kceNLE8tL"
      },
      "source": [
        "##XGBoost - Elasticnet"
      ]
    },
    {
      "cell_type": "code",
      "metadata": {
        "id": "ms0yuc2-E8tN"
      },
      "source": [
        "import pandas as pd\n",
        "from xgboost import XGBClassifier\n",
        "from sklearn.model_selection import train_test_split\n",
        "from sklearn.metrics import accuracy_score"
      ],
      "execution_count": null,
      "outputs": []
    },
    {
      "cell_type": "code",
      "metadata": {
        "id": "hFMDEsSyE8tO"
      },
      "source": [
        "df = data.dropna()"
      ],
      "execution_count": null,
      "outputs": []
    },
    {
      "cell_type": "code",
      "metadata": {
        "id": "5tGy562YE8tP"
      },
      "source": [
        "X = df.drop(['Reclamos-Cat'], axis=1)\n",
        "Y = df['Reclamos-Cat']"
      ],
      "execution_count": null,
      "outputs": []
    },
    {
      "cell_type": "code",
      "metadata": {
        "colab": {
          "base_uri": "https://localhost:8080/"
        },
        "id": "YK9GeY6pE8tQ",
        "outputId": "113cf3e0-1415-40bd-e5a5-0dcab4ed846f"
      },
      "source": [
        "X.head(1)"
      ],
      "execution_count": null,
      "outputs": [
        {
          "output_type": "execute_result",
          "data": {
            "text/plain": [
              "   AÑO  Mes  N° de horas sin sistema de atención al mes    \\\n",
              "0    1    9                                         15.12   \n",
              "\n",
              "   N° total de horas de atención al mes      CSA%  \\\n",
              "0                               18518.0  0.000817   \n",
              "\n",
              "   Nº DE USUARIOS QUE DESISTIERON DE LA ATENCIÓN AL MES  \\\n",
              "0                                            41584.0      \n",
              "\n",
              "   Nº TOTAL DE USUARIOS ATENDIDOS AL MES  DAP (%)  \\\n",
              "0                               493360.0   0.0843   \n",
              "\n",
              "   Nº DE LLAMADAS NO FINALIZADAS POR EL USUARIO  \\\n",
              "0                                      118385.0   \n",
              "\n",
              "   Nº TOTAL DE LLAMADAS ATENDIDAS  CAT (%)   Bajas  Consultas   Altas  \n",
              "0                       3124089.0   0.0379  0.6217     0.6588  0.7507  "
            ],
            "text/html": [
              "\n",
              "  <div id=\"df-7c9d6d61-14a0-44be-af0b-990d5159aa93\">\n",
              "    <div class=\"colab-df-container\">\n",
              "      <div>\n",
              "<style scoped>\n",
              "    .dataframe tbody tr th:only-of-type {\n",
              "        vertical-align: middle;\n",
              "    }\n",
              "\n",
              "    .dataframe tbody tr th {\n",
              "        vertical-align: top;\n",
              "    }\n",
              "\n",
              "    .dataframe thead th {\n",
              "        text-align: right;\n",
              "    }\n",
              "</style>\n",
              "<table border=\"1\" class=\"dataframe\">\n",
              "  <thead>\n",
              "    <tr style=\"text-align: right;\">\n",
              "      <th></th>\n",
              "      <th>AÑO</th>\n",
              "      <th>Mes</th>\n",
              "      <th>N° de horas sin sistema de atención al mes</th>\n",
              "      <th>N° total de horas de atención al mes</th>\n",
              "      <th>CSA%</th>\n",
              "      <th>Nº DE USUARIOS QUE DESISTIERON DE LA ATENCIÓN AL MES</th>\n",
              "      <th>Nº TOTAL DE USUARIOS ATENDIDOS AL MES</th>\n",
              "      <th>DAP (%)</th>\n",
              "      <th>Nº DE LLAMADAS NO FINALIZADAS POR EL USUARIO</th>\n",
              "      <th>Nº TOTAL DE LLAMADAS ATENDIDAS</th>\n",
              "      <th>CAT (%)</th>\n",
              "      <th>Bajas</th>\n",
              "      <th>Consultas</th>\n",
              "      <th>Altas</th>\n",
              "    </tr>\n",
              "  </thead>\n",
              "  <tbody>\n",
              "    <tr>\n",
              "      <th>0</th>\n",
              "      <td>1</td>\n",
              "      <td>9</td>\n",
              "      <td>15.12</td>\n",
              "      <td>18518.0</td>\n",
              "      <td>0.000817</td>\n",
              "      <td>41584.0</td>\n",
              "      <td>493360.0</td>\n",
              "      <td>0.0843</td>\n",
              "      <td>118385.0</td>\n",
              "      <td>3124089.0</td>\n",
              "      <td>0.0379</td>\n",
              "      <td>0.6217</td>\n",
              "      <td>0.6588</td>\n",
              "      <td>0.7507</td>\n",
              "    </tr>\n",
              "  </tbody>\n",
              "</table>\n",
              "</div>\n",
              "      <button class=\"colab-df-convert\" onclick=\"convertToInteractive('df-7c9d6d61-14a0-44be-af0b-990d5159aa93')\"\n",
              "              title=\"Convert this dataframe to an interactive table.\"\n",
              "              style=\"display:none;\">\n",
              "        \n",
              "  <svg xmlns=\"http://www.w3.org/2000/svg\" height=\"24px\"viewBox=\"0 0 24 24\"\n",
              "       width=\"24px\">\n",
              "    <path d=\"M0 0h24v24H0V0z\" fill=\"none\"/>\n",
              "    <path d=\"M18.56 5.44l.94 2.06.94-2.06 2.06-.94-2.06-.94-.94-2.06-.94 2.06-2.06.94zm-11 1L8.5 8.5l.94-2.06 2.06-.94-2.06-.94L8.5 2.5l-.94 2.06-2.06.94zm10 10l.94 2.06.94-2.06 2.06-.94-2.06-.94-.94-2.06-.94 2.06-2.06.94z\"/><path d=\"M17.41 7.96l-1.37-1.37c-.4-.4-.92-.59-1.43-.59-.52 0-1.04.2-1.43.59L10.3 9.45l-7.72 7.72c-.78.78-.78 2.05 0 2.83L4 21.41c.39.39.9.59 1.41.59.51 0 1.02-.2 1.41-.59l7.78-7.78 2.81-2.81c.8-.78.8-2.07 0-2.86zM5.41 20L4 18.59l7.72-7.72 1.47 1.35L5.41 20z\"/>\n",
              "  </svg>\n",
              "      </button>\n",
              "      \n",
              "  <style>\n",
              "    .colab-df-container {\n",
              "      display:flex;\n",
              "      flex-wrap:wrap;\n",
              "      gap: 12px;\n",
              "    }\n",
              "\n",
              "    .colab-df-convert {\n",
              "      background-color: #E8F0FE;\n",
              "      border: none;\n",
              "      border-radius: 50%;\n",
              "      cursor: pointer;\n",
              "      display: none;\n",
              "      fill: #1967D2;\n",
              "      height: 32px;\n",
              "      padding: 0 0 0 0;\n",
              "      width: 32px;\n",
              "    }\n",
              "\n",
              "    .colab-df-convert:hover {\n",
              "      background-color: #E2EBFA;\n",
              "      box-shadow: 0px 1px 2px rgba(60, 64, 67, 0.3), 0px 1px 3px 1px rgba(60, 64, 67, 0.15);\n",
              "      fill: #174EA6;\n",
              "    }\n",
              "\n",
              "    [theme=dark] .colab-df-convert {\n",
              "      background-color: #3B4455;\n",
              "      fill: #D2E3FC;\n",
              "    }\n",
              "\n",
              "    [theme=dark] .colab-df-convert:hover {\n",
              "      background-color: #434B5C;\n",
              "      box-shadow: 0px 1px 3px 1px rgba(0, 0, 0, 0.15);\n",
              "      filter: drop-shadow(0px 1px 2px rgba(0, 0, 0, 0.3));\n",
              "      fill: #FFFFFF;\n",
              "    }\n",
              "  </style>\n",
              "\n",
              "      <script>\n",
              "        const buttonEl =\n",
              "          document.querySelector('#df-7c9d6d61-14a0-44be-af0b-990d5159aa93 button.colab-df-convert');\n",
              "        buttonEl.style.display =\n",
              "          google.colab.kernel.accessAllowed ? 'block' : 'none';\n",
              "\n",
              "        async function convertToInteractive(key) {\n",
              "          const element = document.querySelector('#df-7c9d6d61-14a0-44be-af0b-990d5159aa93');\n",
              "          const dataTable =\n",
              "            await google.colab.kernel.invokeFunction('convertToInteractive',\n",
              "                                                     [key], {});\n",
              "          if (!dataTable) return;\n",
              "\n",
              "          const docLinkHtml = 'Like what you see? Visit the ' +\n",
              "            '<a target=\"_blank\" href=https://colab.research.google.com/notebooks/data_table.ipynb>data table notebook</a>'\n",
              "            + ' to learn more about interactive tables.';\n",
              "          element.innerHTML = '';\n",
              "          dataTable['output_type'] = 'display_data';\n",
              "          await google.colab.output.renderOutput(dataTable, element);\n",
              "          const docLink = document.createElement('div');\n",
              "          docLink.innerHTML = docLinkHtml;\n",
              "          element.appendChild(docLink);\n",
              "        }\n",
              "      </script>\n",
              "    </div>\n",
              "  </div>\n",
              "  "
            ]
          },
          "metadata": {},
          "execution_count": 37
        }
      ]
    },
    {
      "cell_type": "code",
      "metadata": {
        "colab": {
          "base_uri": "https://localhost:8080/"
        },
        "id": "fzcADmHWE8tS",
        "outputId": "afd869e2-1e8a-46e1-f3a9-ef454d7322f2"
      },
      "source": [
        "Y.head(2)"
      ],
      "execution_count": null,
      "outputs": [
        {
          "output_type": "execute_result",
          "data": {
            "text/plain": [
              "0    4\n",
              "1    4\n",
              "Name: Reclamos-Cat, dtype: category\n",
              "Categories (5, object): ['1' < '2' < '3' < '4' < '5']"
            ]
          },
          "metadata": {},
          "execution_count": 38
        }
      ]
    },
    {
      "cell_type": "code",
      "metadata": {
        "id": "AS1z2HMNE8tT"
      },
      "source": [
        "seed = 7\n",
        "test_size = 0.2\n",
        "X_train, X_test, y_train, y_test = train_test_split(X, Y, test_size=test_size, random_state=seed)"
      ],
      "execution_count": null,
      "outputs": []
    },
    {
      "cell_type": "code",
      "metadata": {
        "colab": {
          "base_uri": "https://localhost:8080/"
        },
        "id": "7ChJfMSdE8tU",
        "outputId": "e5e38b66-7f5d-472f-ca2c-d74ede4a432f"
      },
      "source": [
        "model = XGBClassifier(reg_alpha=1, reg_lambda=1)\n",
        "model.fit(X_train, y_train)"
      ],
      "execution_count": null,
      "outputs": [
        {
          "output_type": "execute_result",
          "data": {
            "text/plain": [
              "XGBClassifier(reg_alpha=1)"
            ]
          },
          "metadata": {},
          "execution_count": 40
        }
      ]
    },
    {
      "cell_type": "code",
      "metadata": {
        "colab": {
          "base_uri": "https://localhost:8080/"
        },
        "id": "SgDC71LlE8tX",
        "outputId": "46b49416-720f-4e44-f68c-f49921bdf96e"
      },
      "source": [
        "from sklearn import metrics\n",
        "from sklearn.metrics import *\n",
        "\n",
        "#Realizo la predicción\n",
        "y_pred = model.predict(X_test)\n",
        "#Verifico la matriz de Confusión\n",
        "matriz = confusion_matrix(y_test, y_pred)\n",
        "#Calculo la precisión del modelo\n",
        "precision = precision_score(y_test, y_pred, average=\"macro\")\n",
        "#Calculo la exactitud del modelo\n",
        "exactitud = accuracy_score(y_test, y_pred)\n",
        "#Calculo la sensibilidad del modelo\n",
        "sensibilidad = recall_score(y_test, y_pred, average=\"macro\")\n",
        "#Calculo el Puntaje F1 del modelo\n",
        "puntajef1 = f1_score(y_test, y_pred, average=\"macro\")\n",
        "#Calculo la curva ROC - AUC del modelo\n",
        "roc_auc = roc_auc_score(y_test, y_pred)\n",
        "\n",
        "print('Matriz de Confusión:')\n",
        "print(matriz)\n",
        "print('Precisión del modelo:', precision)\n",
        "print('Exactitud del modelo:', exactitud)\n",
        "print('Sensibilidad del modelo:', sensibilidad)\n",
        "print('Puntaje F1 del modelo:', puntajef1)\n",
        "print('Curva ROC - AUC del modelo:', roc_auc)"
      ],
      "execution_count": null,
      "outputs": [
        {
          "output_type": "stream",
          "name": "stdout",
          "text": [
            "Matriz de Confusión:\n",
            "[[7 0]\n",
            " [0 2]]\n",
            "Precisión del modelo: 1.0\n",
            "Exactitud del modelo: 1.0\n",
            "Sensibilidad del modelo: 1.0\n",
            "Puntaje F1 del modelo: 1.0\n",
            "Curva ROC - AUC del modelo: 1.0\n"
          ]
        }
      ]
    },
    {
      "cell_type": "markdown",
      "metadata": {
        "id": "vo-QjqbhFg8T"
      },
      "source": [
        "#XGboost - Con RFE"
      ]
    },
    {
      "cell_type": "markdown",
      "metadata": {
        "id": "bnq4a3BCFn6l"
      },
      "source": [
        "##RFE"
      ]
    },
    {
      "cell_type": "code",
      "metadata": {
        "colab": {
          "base_uri": "https://localhost:8080/"
        },
        "id": "QS1HukEQFz-a",
        "outputId": "f8de99b2-2ea6-4ef6-ce91-186d96423bf5"
      },
      "source": [
        "from sklearn import linear_model\n",
        "from time import time\n",
        "import numpy as np\n",
        "import seaborn as sns\n",
        "import statsmodels.api as sm\n",
        "from sklearn.linear_model import LinearRegression\n",
        "from sklearn.feature_selection import RFE\n",
        "\n",
        "df = data.dropna()\n",
        "X = df.drop(['Reclamos-Cat'], axis=1)\n",
        "Y = df['Reclamos-Cat']\n",
        "\n",
        "#######################################\n",
        "#no of features\n",
        "nof_list=np.arange(1,14)            \n",
        "high_score=0\n",
        "#Variable to store the optimum features\n",
        "nof=0           \n",
        "score_list =[]\n",
        "for n in range(len(nof_list)):\n",
        "    X_train, X_test, y_train, y_test = train_test_split(X,Y, test_size = 0.2, random_state = 0)\n",
        "    model = LinearRegression()\n",
        "    rfe = RFE(model,nof_list[n])\n",
        "    X_train_rfe = rfe.fit_transform(X_train,y_train)\n",
        "    X_test_rfe = rfe.transform(X_test)\n",
        "    model.fit(X_train_rfe,y_train)\n",
        "    score = model.score(X_test_rfe,y_test)\n",
        "    score_list.append(score)\n",
        "    if(score>high_score):\n",
        "        high_score = score\n",
        "        nof = nof_list[n]\n",
        "print(\"Optimum number of features: %d\" %nof)\n",
        "print(\"Score with %d features: %f\" % (nof, high_score))\n",
        "#########################################\n",
        "cols = list(X.columns)\n",
        "model = LinearRegression()\n",
        "#Initializing RFE model\n",
        "rfe = RFE(model, 12)             \n",
        "#Transforming data using RFE\n",
        "X_rfe = rfe.fit_transform(X,Y)  \n",
        "#Fitting the data to model\n",
        "model.fit(X_rfe,Y)              \n",
        "temp = pd.Series(rfe.support_,index = cols)\n",
        "selected_features_rfe = temp[temp==True].index\n",
        "print(selected_features_rfe)"
      ],
      "execution_count": null,
      "outputs": [
        {
          "output_type": "stream",
          "name": "stderr",
          "text": [
            "/usr/local/lib/python3.7/dist-packages/statsmodels/tools/_testing.py:19: FutureWarning: pandas.util.testing is deprecated. Use the functions in the public API at pandas.testing instead.\n",
            "  import pandas.util.testing as tm\n",
            "/usr/local/lib/python3.7/dist-packages/sklearn/utils/validation.py:72: FutureWarning: Pass n_features_to_select=1 as keyword args. From version 1.0 (renaming of 0.25) passing these as positional arguments will result in an error\n",
            "  \"will result in an error\", FutureWarning)\n",
            "/usr/local/lib/python3.7/dist-packages/sklearn/utils/validation.py:72: FutureWarning: Pass n_features_to_select=2 as keyword args. From version 1.0 (renaming of 0.25) passing these as positional arguments will result in an error\n",
            "  \"will result in an error\", FutureWarning)\n",
            "/usr/local/lib/python3.7/dist-packages/sklearn/utils/validation.py:72: FutureWarning: Pass n_features_to_select=3 as keyword args. From version 1.0 (renaming of 0.25) passing these as positional arguments will result in an error\n",
            "  \"will result in an error\", FutureWarning)\n",
            "/usr/local/lib/python3.7/dist-packages/sklearn/utils/validation.py:72: FutureWarning: Pass n_features_to_select=4 as keyword args. From version 1.0 (renaming of 0.25) passing these as positional arguments will result in an error\n",
            "  \"will result in an error\", FutureWarning)\n",
            "/usr/local/lib/python3.7/dist-packages/sklearn/utils/validation.py:72: FutureWarning: Pass n_features_to_select=5 as keyword args. From version 1.0 (renaming of 0.25) passing these as positional arguments will result in an error\n",
            "  \"will result in an error\", FutureWarning)\n",
            "/usr/local/lib/python3.7/dist-packages/sklearn/utils/validation.py:72: FutureWarning: Pass n_features_to_select=6 as keyword args. From version 1.0 (renaming of 0.25) passing these as positional arguments will result in an error\n",
            "  \"will result in an error\", FutureWarning)\n",
            "/usr/local/lib/python3.7/dist-packages/sklearn/utils/validation.py:72: FutureWarning: Pass n_features_to_select=7 as keyword args. From version 1.0 (renaming of 0.25) passing these as positional arguments will result in an error\n",
            "  \"will result in an error\", FutureWarning)\n",
            "/usr/local/lib/python3.7/dist-packages/sklearn/utils/validation.py:72: FutureWarning: Pass n_features_to_select=8 as keyword args. From version 1.0 (renaming of 0.25) passing these as positional arguments will result in an error\n",
            "  \"will result in an error\", FutureWarning)\n",
            "/usr/local/lib/python3.7/dist-packages/sklearn/utils/validation.py:72: FutureWarning: Pass n_features_to_select=9 as keyword args. From version 1.0 (renaming of 0.25) passing these as positional arguments will result in an error\n",
            "  \"will result in an error\", FutureWarning)\n",
            "/usr/local/lib/python3.7/dist-packages/sklearn/utils/validation.py:72: FutureWarning: Pass n_features_to_select=10 as keyword args. From version 1.0 (renaming of 0.25) passing these as positional arguments will result in an error\n",
            "  \"will result in an error\", FutureWarning)\n",
            "/usr/local/lib/python3.7/dist-packages/sklearn/utils/validation.py:72: FutureWarning: Pass n_features_to_select=11 as keyword args. From version 1.0 (renaming of 0.25) passing these as positional arguments will result in an error\n",
            "  \"will result in an error\", FutureWarning)\n",
            "/usr/local/lib/python3.7/dist-packages/sklearn/utils/validation.py:72: FutureWarning: Pass n_features_to_select=12 as keyword args. From version 1.0 (renaming of 0.25) passing these as positional arguments will result in an error\n",
            "  \"will result in an error\", FutureWarning)\n"
          ]
        },
        {
          "output_type": "stream",
          "name": "stdout",
          "text": [
            "Optimum number of features: 12\n",
            "Score with 12 features: 0.644091\n",
            "Index(['AÑO', 'Mes', 'N° de horas sin sistema de atención al mes  ',\n",
            "       'N° total de horas de atención al mes', 'CSA%',\n",
            "       'Nº DE USUARIOS QUE DESISTIERON DE LA ATENCIÓN AL MES',\n",
            "       'Nº TOTAL DE USUARIOS ATENDIDOS AL MES', 'DAP (%)', 'CAT (%)', 'Bajas',\n",
            "       'Consultas', 'Altas'],\n",
            "      dtype='object')\n"
          ]
        },
        {
          "output_type": "stream",
          "name": "stderr",
          "text": [
            "/usr/local/lib/python3.7/dist-packages/sklearn/utils/validation.py:72: FutureWarning: Pass n_features_to_select=13 as keyword args. From version 1.0 (renaming of 0.25) passing these as positional arguments will result in an error\n",
            "  \"will result in an error\", FutureWarning)\n",
            "/usr/local/lib/python3.7/dist-packages/sklearn/utils/validation.py:72: FutureWarning: Pass n_features_to_select=12 as keyword args. From version 1.0 (renaming of 0.25) passing these as positional arguments will result in an error\n",
            "  \"will result in an error\", FutureWarning)\n"
          ]
        }
      ]
    },
    {
      "cell_type": "markdown",
      "metadata": {
        "id": "vputlx9eFg8U"
      },
      "source": [
        "##XGBoost - Solo"
      ]
    },
    {
      "cell_type": "code",
      "metadata": {
        "id": "BCQ1yNltFg8U"
      },
      "source": [
        "import pandas as pd\n",
        "from xgboost import XGBClassifier\n",
        "from sklearn.model_selection import train_test_split\n",
        "from sklearn.metrics import accuracy_score"
      ],
      "execution_count": null,
      "outputs": []
    },
    {
      "cell_type": "code",
      "metadata": {
        "id": "K8mHYLoUFg8U"
      },
      "source": [
        "df = data.dropna()"
      ],
      "execution_count": null,
      "outputs": []
    },
    {
      "cell_type": "code",
      "metadata": {
        "id": "7mcukIxqFg8U"
      },
      "source": [
        "X = df[['AÑO', 'Mes', 'N° de horas sin sistema de atención al mes  ',\n",
        "        'N° total de horas de atención al mes',\n",
        "        'CSA%',\n",
        "        'Nº DE USUARIOS QUE DESISTIERON DE LA ATENCIÓN AL MES',\n",
        "        'Nº TOTAL DE USUARIOS ATENDIDOS AL MES',\n",
        "        'DAP (%)',\n",
        "        'CAT (%)',\n",
        "        'Bajas',\n",
        "        'Consultas',\n",
        "        'Altas']]\n",
        "Y = df['Reclamos-Cat']"
      ],
      "execution_count": null,
      "outputs": []
    },
    {
      "cell_type": "code",
      "metadata": {
        "colab": {
          "base_uri": "https://localhost:8080/",
          "height": 159
        },
        "id": "GCXooAxjFg8U",
        "outputId": "c5a2689d-7190-467b-d81e-a8c113176d06"
      },
      "source": [
        "X.head(1)"
      ],
      "execution_count": null,
      "outputs": [
        {
          "output_type": "execute_result",
          "data": {
            "text/plain": [
              "   AÑO  Mes  N° de horas sin sistema de atención al mes    \\\n",
              "0    1    9                                         15.12   \n",
              "\n",
              "   N° total de horas de atención al mes      CSA%  \\\n",
              "0                               18518.0  0.000817   \n",
              "\n",
              "   Nº DE USUARIOS QUE DESISTIERON DE LA ATENCIÓN AL MES  \\\n",
              "0                                            41584.0      \n",
              "\n",
              "   Nº TOTAL DE USUARIOS ATENDIDOS AL MES  DAP (%)  CAT (%)   Bajas  Consultas  \\\n",
              "0                               493360.0   0.0843   0.0379  0.6217     0.6588   \n",
              "\n",
              "    Altas  \n",
              "0  0.7507  "
            ],
            "text/html": [
              "\n",
              "  <div id=\"df-ce1a79b4-c835-4dcb-b95c-2e9617e6a995\">\n",
              "    <div class=\"colab-df-container\">\n",
              "      <div>\n",
              "<style scoped>\n",
              "    .dataframe tbody tr th:only-of-type {\n",
              "        vertical-align: middle;\n",
              "    }\n",
              "\n",
              "    .dataframe tbody tr th {\n",
              "        vertical-align: top;\n",
              "    }\n",
              "\n",
              "    .dataframe thead th {\n",
              "        text-align: right;\n",
              "    }\n",
              "</style>\n",
              "<table border=\"1\" class=\"dataframe\">\n",
              "  <thead>\n",
              "    <tr style=\"text-align: right;\">\n",
              "      <th></th>\n",
              "      <th>AÑO</th>\n",
              "      <th>Mes</th>\n",
              "      <th>N° de horas sin sistema de atención al mes</th>\n",
              "      <th>N° total de horas de atención al mes</th>\n",
              "      <th>CSA%</th>\n",
              "      <th>Nº DE USUARIOS QUE DESISTIERON DE LA ATENCIÓN AL MES</th>\n",
              "      <th>Nº TOTAL DE USUARIOS ATENDIDOS AL MES</th>\n",
              "      <th>DAP (%)</th>\n",
              "      <th>CAT (%)</th>\n",
              "      <th>Bajas</th>\n",
              "      <th>Consultas</th>\n",
              "      <th>Altas</th>\n",
              "    </tr>\n",
              "  </thead>\n",
              "  <tbody>\n",
              "    <tr>\n",
              "      <th>0</th>\n",
              "      <td>1</td>\n",
              "      <td>9</td>\n",
              "      <td>15.12</td>\n",
              "      <td>18518.0</td>\n",
              "      <td>0.000817</td>\n",
              "      <td>41584.0</td>\n",
              "      <td>493360.0</td>\n",
              "      <td>0.0843</td>\n",
              "      <td>0.0379</td>\n",
              "      <td>0.6217</td>\n",
              "      <td>0.6588</td>\n",
              "      <td>0.7507</td>\n",
              "    </tr>\n",
              "  </tbody>\n",
              "</table>\n",
              "</div>\n",
              "      <button class=\"colab-df-convert\" onclick=\"convertToInteractive('df-ce1a79b4-c835-4dcb-b95c-2e9617e6a995')\"\n",
              "              title=\"Convert this dataframe to an interactive table.\"\n",
              "              style=\"display:none;\">\n",
              "        \n",
              "  <svg xmlns=\"http://www.w3.org/2000/svg\" height=\"24px\"viewBox=\"0 0 24 24\"\n",
              "       width=\"24px\">\n",
              "    <path d=\"M0 0h24v24H0V0z\" fill=\"none\"/>\n",
              "    <path d=\"M18.56 5.44l.94 2.06.94-2.06 2.06-.94-2.06-.94-.94-2.06-.94 2.06-2.06.94zm-11 1L8.5 8.5l.94-2.06 2.06-.94-2.06-.94L8.5 2.5l-.94 2.06-2.06.94zm10 10l.94 2.06.94-2.06 2.06-.94-2.06-.94-.94-2.06-.94 2.06-2.06.94z\"/><path d=\"M17.41 7.96l-1.37-1.37c-.4-.4-.92-.59-1.43-.59-.52 0-1.04.2-1.43.59L10.3 9.45l-7.72 7.72c-.78.78-.78 2.05 0 2.83L4 21.41c.39.39.9.59 1.41.59.51 0 1.02-.2 1.41-.59l7.78-7.78 2.81-2.81c.8-.78.8-2.07 0-2.86zM5.41 20L4 18.59l7.72-7.72 1.47 1.35L5.41 20z\"/>\n",
              "  </svg>\n",
              "      </button>\n",
              "      \n",
              "  <style>\n",
              "    .colab-df-container {\n",
              "      display:flex;\n",
              "      flex-wrap:wrap;\n",
              "      gap: 12px;\n",
              "    }\n",
              "\n",
              "    .colab-df-convert {\n",
              "      background-color: #E8F0FE;\n",
              "      border: none;\n",
              "      border-radius: 50%;\n",
              "      cursor: pointer;\n",
              "      display: none;\n",
              "      fill: #1967D2;\n",
              "      height: 32px;\n",
              "      padding: 0 0 0 0;\n",
              "      width: 32px;\n",
              "    }\n",
              "\n",
              "    .colab-df-convert:hover {\n",
              "      background-color: #E2EBFA;\n",
              "      box-shadow: 0px 1px 2px rgba(60, 64, 67, 0.3), 0px 1px 3px 1px rgba(60, 64, 67, 0.15);\n",
              "      fill: #174EA6;\n",
              "    }\n",
              "\n",
              "    [theme=dark] .colab-df-convert {\n",
              "      background-color: #3B4455;\n",
              "      fill: #D2E3FC;\n",
              "    }\n",
              "\n",
              "    [theme=dark] .colab-df-convert:hover {\n",
              "      background-color: #434B5C;\n",
              "      box-shadow: 0px 1px 3px 1px rgba(0, 0, 0, 0.15);\n",
              "      filter: drop-shadow(0px 1px 2px rgba(0, 0, 0, 0.3));\n",
              "      fill: #FFFFFF;\n",
              "    }\n",
              "  </style>\n",
              "\n",
              "      <script>\n",
              "        const buttonEl =\n",
              "          document.querySelector('#df-ce1a79b4-c835-4dcb-b95c-2e9617e6a995 button.colab-df-convert');\n",
              "        buttonEl.style.display =\n",
              "          google.colab.kernel.accessAllowed ? 'block' : 'none';\n",
              "\n",
              "        async function convertToInteractive(key) {\n",
              "          const element = document.querySelector('#df-ce1a79b4-c835-4dcb-b95c-2e9617e6a995');\n",
              "          const dataTable =\n",
              "            await google.colab.kernel.invokeFunction('convertToInteractive',\n",
              "                                                     [key], {});\n",
              "          if (!dataTable) return;\n",
              "\n",
              "          const docLinkHtml = 'Like what you see? Visit the ' +\n",
              "            '<a target=\"_blank\" href=https://colab.research.google.com/notebooks/data_table.ipynb>data table notebook</a>'\n",
              "            + ' to learn more about interactive tables.';\n",
              "          element.innerHTML = '';\n",
              "          dataTable['output_type'] = 'display_data';\n",
              "          await google.colab.output.renderOutput(dataTable, element);\n",
              "          const docLink = document.createElement('div');\n",
              "          docLink.innerHTML = docLinkHtml;\n",
              "          element.appendChild(docLink);\n",
              "        }\n",
              "      </script>\n",
              "    </div>\n",
              "  </div>\n",
              "  "
            ]
          },
          "metadata": {},
          "execution_count": 46
        }
      ]
    },
    {
      "cell_type": "code",
      "metadata": {
        "colab": {
          "base_uri": "https://localhost:8080/"
        },
        "id": "RbxTldXpFg8V",
        "outputId": "d1363550-26d6-4bfc-b2be-d64f971545f3"
      },
      "source": [
        "Y.head(2)"
      ],
      "execution_count": null,
      "outputs": [
        {
          "output_type": "execute_result",
          "data": {
            "text/plain": [
              "0    4\n",
              "1    4\n",
              "Name: Reclamos-Cat, dtype: category\n",
              "Categories (5, object): ['1' < '2' < '3' < '4' < '5']"
            ]
          },
          "metadata": {},
          "execution_count": 47
        }
      ]
    },
    {
      "cell_type": "code",
      "metadata": {
        "id": "x1LusAhgFg8V"
      },
      "source": [
        "seed = 7\n",
        "test_size = 0.2\n",
        "X_train, X_test, y_train, y_test = train_test_split(X, Y, test_size=test_size, random_state=seed)"
      ],
      "execution_count": null,
      "outputs": []
    },
    {
      "cell_type": "code",
      "metadata": {
        "colab": {
          "base_uri": "https://localhost:8080/"
        },
        "id": "wzpelmRCFg8V",
        "outputId": "3e918e11-a669-475b-d063-2b929c337e60"
      },
      "source": [
        "model = XGBClassifier(reg_alpha=0, reg_lambda=0)\n",
        "model.fit(X_train, y_train)"
      ],
      "execution_count": null,
      "outputs": [
        {
          "output_type": "execute_result",
          "data": {
            "text/plain": [
              "XGBClassifier(reg_lambda=0)"
            ]
          },
          "metadata": {},
          "execution_count": 49
        }
      ]
    },
    {
      "cell_type": "code",
      "metadata": {
        "colab": {
          "base_uri": "https://localhost:8080/"
        },
        "id": "NBAWOMFoFg8W",
        "outputId": "ad501d0f-a186-4d27-f558-2158a860be6e"
      },
      "source": [
        "from sklearn import metrics\n",
        "from sklearn.metrics import *\n",
        "\n",
        "#Realizo la predicción\n",
        "y_pred = model.predict(X_test)\n",
        "#Verifico la matriz de Confusión\n",
        "matriz = confusion_matrix(y_test, y_pred)\n",
        "#Calculo la precisión del modelo\n",
        "precision = precision_score(y_test, y_pred, average=\"macro\")\n",
        "#Calculo la exactitud del modelo\n",
        "exactitud = accuracy_score(y_test, y_pred)\n",
        "#Calculo la sensibilidad del modelo\n",
        "sensibilidad = recall_score(y_test, y_pred, average=\"macro\")\n",
        "#Calculo el Puntaje F1 del modelo\n",
        "puntajef1 = f1_score(y_test, y_pred, average=\"macro\")\n",
        "#Calculo la curva ROC - AUC del modelo\n",
        "roc_auc = roc_auc_score(y_test, y_pred)\n",
        "\n",
        "print('Matriz de Confusión:')\n",
        "print(matriz)\n",
        "print('Precisión del modelo:', precision)\n",
        "print('Exactitud del modelo:', exactitud)\n",
        "print('Sensibilidad del modelo:', sensibilidad)\n",
        "print('Puntaje F1 del modelo:', puntajef1)\n",
        "print('Curva ROC - AUC del modelo:', roc_auc)"
      ],
      "execution_count": null,
      "outputs": [
        {
          "output_type": "stream",
          "name": "stdout",
          "text": [
            "Matriz de Confusión:\n",
            "[[7 0]\n",
            " [0 2]]\n",
            "Precisión del modelo: 1.0\n",
            "Exactitud del modelo: 1.0\n",
            "Sensibilidad del modelo: 1.0\n",
            "Puntaje F1 del modelo: 1.0\n",
            "Curva ROC - AUC del modelo: 1.0\n"
          ]
        }
      ]
    },
    {
      "cell_type": "markdown",
      "metadata": {
        "id": "Nph0cwlbFg8W"
      },
      "source": [
        "##XGBoost - Lasso"
      ]
    },
    {
      "cell_type": "code",
      "metadata": {
        "id": "tiSSUrzdFg8W"
      },
      "source": [
        "import pandas as pd\n",
        "from xgboost import XGBClassifier\n",
        "from sklearn.model_selection import train_test_split\n",
        "from sklearn.metrics import accuracy_score"
      ],
      "execution_count": null,
      "outputs": []
    },
    {
      "cell_type": "code",
      "metadata": {
        "id": "sSgWKHd7Fg8W"
      },
      "source": [
        "df = data.dropna()"
      ],
      "execution_count": null,
      "outputs": []
    },
    {
      "cell_type": "code",
      "metadata": {
        "id": "GkK_1FuMFg8X"
      },
      "source": [
        "X = df[['AÑO', 'Mes', 'N° de horas sin sistema de atención al mes  ',\n",
        "        'N° total de horas de atención al mes',\n",
        "        'CSA%',\n",
        "        'Nº DE USUARIOS QUE DESISTIERON DE LA ATENCIÓN AL MES',\n",
        "        'Nº TOTAL DE USUARIOS ATENDIDOS AL MES',\n",
        "        'DAP (%)',\n",
        "        'CAT (%)',\n",
        "        'Bajas',\n",
        "        'Consultas',\n",
        "        'Altas']]\n",
        "Y = df['Reclamos-Cat']"
      ],
      "execution_count": null,
      "outputs": []
    },
    {
      "cell_type": "code",
      "metadata": {
        "colab": {
          "base_uri": "https://localhost:8080/"
        },
        "id": "qOCtHWK8Fg8X",
        "outputId": "8e716516-7e61-4bfd-f580-c28e4ae83ec9"
      },
      "source": [
        "X.head(1)"
      ],
      "execution_count": null,
      "outputs": [
        {
          "output_type": "execute_result",
          "data": {
            "text/plain": [
              "   AÑO  Mes  N° de horas sin sistema de atención al mes    \\\n",
              "0    1    9                                         15.12   \n",
              "\n",
              "   N° total de horas de atención al mes      CSA%  \\\n",
              "0                               18518.0  0.000817   \n",
              "\n",
              "   Nº DE USUARIOS QUE DESISTIERON DE LA ATENCIÓN AL MES  \\\n",
              "0                                            41584.0      \n",
              "\n",
              "   Nº TOTAL DE USUARIOS ATENDIDOS AL MES  DAP (%)  CAT (%)   Bajas  Consultas  \\\n",
              "0                               493360.0   0.0843   0.0379  0.6217     0.6588   \n",
              "\n",
              "    Altas  \n",
              "0  0.7507  "
            ],
            "text/html": [
              "\n",
              "  <div id=\"df-c9e6d276-1a5d-4e51-a67d-a9083a326e0b\">\n",
              "    <div class=\"colab-df-container\">\n",
              "      <div>\n",
              "<style scoped>\n",
              "    .dataframe tbody tr th:only-of-type {\n",
              "        vertical-align: middle;\n",
              "    }\n",
              "\n",
              "    .dataframe tbody tr th {\n",
              "        vertical-align: top;\n",
              "    }\n",
              "\n",
              "    .dataframe thead th {\n",
              "        text-align: right;\n",
              "    }\n",
              "</style>\n",
              "<table border=\"1\" class=\"dataframe\">\n",
              "  <thead>\n",
              "    <tr style=\"text-align: right;\">\n",
              "      <th></th>\n",
              "      <th>AÑO</th>\n",
              "      <th>Mes</th>\n",
              "      <th>N° de horas sin sistema de atención al mes</th>\n",
              "      <th>N° total de horas de atención al mes</th>\n",
              "      <th>CSA%</th>\n",
              "      <th>Nº DE USUARIOS QUE DESISTIERON DE LA ATENCIÓN AL MES</th>\n",
              "      <th>Nº TOTAL DE USUARIOS ATENDIDOS AL MES</th>\n",
              "      <th>DAP (%)</th>\n",
              "      <th>CAT (%)</th>\n",
              "      <th>Bajas</th>\n",
              "      <th>Consultas</th>\n",
              "      <th>Altas</th>\n",
              "    </tr>\n",
              "  </thead>\n",
              "  <tbody>\n",
              "    <tr>\n",
              "      <th>0</th>\n",
              "      <td>1</td>\n",
              "      <td>9</td>\n",
              "      <td>15.12</td>\n",
              "      <td>18518.0</td>\n",
              "      <td>0.000817</td>\n",
              "      <td>41584.0</td>\n",
              "      <td>493360.0</td>\n",
              "      <td>0.0843</td>\n",
              "      <td>0.0379</td>\n",
              "      <td>0.6217</td>\n",
              "      <td>0.6588</td>\n",
              "      <td>0.7507</td>\n",
              "    </tr>\n",
              "  </tbody>\n",
              "</table>\n",
              "</div>\n",
              "      <button class=\"colab-df-convert\" onclick=\"convertToInteractive('df-c9e6d276-1a5d-4e51-a67d-a9083a326e0b')\"\n",
              "              title=\"Convert this dataframe to an interactive table.\"\n",
              "              style=\"display:none;\">\n",
              "        \n",
              "  <svg xmlns=\"http://www.w3.org/2000/svg\" height=\"24px\"viewBox=\"0 0 24 24\"\n",
              "       width=\"24px\">\n",
              "    <path d=\"M0 0h24v24H0V0z\" fill=\"none\"/>\n",
              "    <path d=\"M18.56 5.44l.94 2.06.94-2.06 2.06-.94-2.06-.94-.94-2.06-.94 2.06-2.06.94zm-11 1L8.5 8.5l.94-2.06 2.06-.94-2.06-.94L8.5 2.5l-.94 2.06-2.06.94zm10 10l.94 2.06.94-2.06 2.06-.94-2.06-.94-.94-2.06-.94 2.06-2.06.94z\"/><path d=\"M17.41 7.96l-1.37-1.37c-.4-.4-.92-.59-1.43-.59-.52 0-1.04.2-1.43.59L10.3 9.45l-7.72 7.72c-.78.78-.78 2.05 0 2.83L4 21.41c.39.39.9.59 1.41.59.51 0 1.02-.2 1.41-.59l7.78-7.78 2.81-2.81c.8-.78.8-2.07 0-2.86zM5.41 20L4 18.59l7.72-7.72 1.47 1.35L5.41 20z\"/>\n",
              "  </svg>\n",
              "      </button>\n",
              "      \n",
              "  <style>\n",
              "    .colab-df-container {\n",
              "      display:flex;\n",
              "      flex-wrap:wrap;\n",
              "      gap: 12px;\n",
              "    }\n",
              "\n",
              "    .colab-df-convert {\n",
              "      background-color: #E8F0FE;\n",
              "      border: none;\n",
              "      border-radius: 50%;\n",
              "      cursor: pointer;\n",
              "      display: none;\n",
              "      fill: #1967D2;\n",
              "      height: 32px;\n",
              "      padding: 0 0 0 0;\n",
              "      width: 32px;\n",
              "    }\n",
              "\n",
              "    .colab-df-convert:hover {\n",
              "      background-color: #E2EBFA;\n",
              "      box-shadow: 0px 1px 2px rgba(60, 64, 67, 0.3), 0px 1px 3px 1px rgba(60, 64, 67, 0.15);\n",
              "      fill: #174EA6;\n",
              "    }\n",
              "\n",
              "    [theme=dark] .colab-df-convert {\n",
              "      background-color: #3B4455;\n",
              "      fill: #D2E3FC;\n",
              "    }\n",
              "\n",
              "    [theme=dark] .colab-df-convert:hover {\n",
              "      background-color: #434B5C;\n",
              "      box-shadow: 0px 1px 3px 1px rgba(0, 0, 0, 0.15);\n",
              "      filter: drop-shadow(0px 1px 2px rgba(0, 0, 0, 0.3));\n",
              "      fill: #FFFFFF;\n",
              "    }\n",
              "  </style>\n",
              "\n",
              "      <script>\n",
              "        const buttonEl =\n",
              "          document.querySelector('#df-c9e6d276-1a5d-4e51-a67d-a9083a326e0b button.colab-df-convert');\n",
              "        buttonEl.style.display =\n",
              "          google.colab.kernel.accessAllowed ? 'block' : 'none';\n",
              "\n",
              "        async function convertToInteractive(key) {\n",
              "          const element = document.querySelector('#df-c9e6d276-1a5d-4e51-a67d-a9083a326e0b');\n",
              "          const dataTable =\n",
              "            await google.colab.kernel.invokeFunction('convertToInteractive',\n",
              "                                                     [key], {});\n",
              "          if (!dataTable) return;\n",
              "\n",
              "          const docLinkHtml = 'Like what you see? Visit the ' +\n",
              "            '<a target=\"_blank\" href=https://colab.research.google.com/notebooks/data_table.ipynb>data table notebook</a>'\n",
              "            + ' to learn more about interactive tables.';\n",
              "          element.innerHTML = '';\n",
              "          dataTable['output_type'] = 'display_data';\n",
              "          await google.colab.output.renderOutput(dataTable, element);\n",
              "          const docLink = document.createElement('div');\n",
              "          docLink.innerHTML = docLinkHtml;\n",
              "          element.appendChild(docLink);\n",
              "        }\n",
              "      </script>\n",
              "    </div>\n",
              "  </div>\n",
              "  "
            ]
          },
          "metadata": {},
          "execution_count": 54
        }
      ]
    },
    {
      "cell_type": "code",
      "metadata": {
        "colab": {
          "base_uri": "https://localhost:8080/"
        },
        "id": "6r3-hPm3Fg8X",
        "outputId": "dcfb3b19-43e7-42fe-bd74-5eb2153040c8"
      },
      "source": [
        "Y.head(2)"
      ],
      "execution_count": null,
      "outputs": [
        {
          "output_type": "execute_result",
          "data": {
            "text/plain": [
              "0    4\n",
              "1    4\n",
              "Name: Reclamos-Cat, dtype: category\n",
              "Categories (5, object): ['1' < '2' < '3' < '4' < '5']"
            ]
          },
          "metadata": {},
          "execution_count": 55
        }
      ]
    },
    {
      "cell_type": "code",
      "metadata": {
        "id": "EUO3e1PJFg8X"
      },
      "source": [
        "seed = 7\n",
        "test_size = 0.2\n",
        "X_train, X_test, y_train, y_test = train_test_split(X, Y, test_size=test_size, random_state=seed)"
      ],
      "execution_count": null,
      "outputs": []
    },
    {
      "cell_type": "code",
      "metadata": {
        "colab": {
          "base_uri": "https://localhost:8080/"
        },
        "id": "sIjNKYMpFg8Y",
        "outputId": "5fd61a60-993f-436e-cc97-8c279b65a1c9"
      },
      "source": [
        "model = XGBClassifier(reg_alpha=1, reg_lambda=0)\n",
        "model.fit(X_train, y_train)"
      ],
      "execution_count": null,
      "outputs": [
        {
          "output_type": "execute_result",
          "data": {
            "text/plain": [
              "XGBClassifier(reg_alpha=1, reg_lambda=0)"
            ]
          },
          "metadata": {},
          "execution_count": 57
        }
      ]
    },
    {
      "cell_type": "code",
      "metadata": {
        "colab": {
          "base_uri": "https://localhost:8080/"
        },
        "id": "bGwhvphyFg8Y",
        "outputId": "384aa2cc-82b3-4c2b-e09c-a80ce3179283"
      },
      "source": [
        "from sklearn import metrics\n",
        "from sklearn.metrics import *\n",
        "\n",
        "#Realizo la predicción\n",
        "y_pred = model.predict(X_test)\n",
        "#Verifico la matriz de Confusión\n",
        "matriz = confusion_matrix(y_test, y_pred)\n",
        "#Calculo la precisión del modelo\n",
        "precision = precision_score(y_test, y_pred, average=\"macro\")\n",
        "#Calculo la exactitud del modelo\n",
        "exactitud = accuracy_score(y_test, y_pred)\n",
        "#Calculo la sensibilidad del modelo\n",
        "sensibilidad = recall_score(y_test, y_pred, average=\"macro\")\n",
        "#Calculo el Puntaje F1 del modelo\n",
        "puntajef1 = f1_score(y_test, y_pred, average=\"macro\")\n",
        "#Calculo la curva ROC - AUC del modelo\n",
        "roc_auc = roc_auc_score(y_test, y_pred)\n",
        "\n",
        "print('Matriz de Confusión:')\n",
        "print(matriz)\n",
        "print('Precisión del modelo:', precision)\n",
        "print('Exactitud del modelo:', exactitud)\n",
        "print('Sensibilidad del modelo:', sensibilidad)\n",
        "print('Puntaje F1 del modelo:', puntajef1)\n",
        "print('Curva ROC - AUC del modelo:', roc_auc)"
      ],
      "execution_count": null,
      "outputs": [
        {
          "output_type": "stream",
          "name": "stdout",
          "text": [
            "Matriz de Confusión:\n",
            "[[7 0]\n",
            " [0 2]]\n",
            "Precisión del modelo: 1.0\n",
            "Exactitud del modelo: 1.0\n",
            "Sensibilidad del modelo: 1.0\n",
            "Puntaje F1 del modelo: 1.0\n",
            "Curva ROC - AUC del modelo: 1.0\n"
          ]
        }
      ]
    },
    {
      "cell_type": "markdown",
      "metadata": {
        "id": "sNPVIU9MFg8Y"
      },
      "source": [
        "##XGBoost - Ridge"
      ]
    },
    {
      "cell_type": "code",
      "metadata": {
        "id": "xCwf6tVfFg8Y"
      },
      "source": [
        "import pandas as pd\n",
        "from xgboost import XGBClassifier\n",
        "from sklearn.model_selection import train_test_split\n",
        "from sklearn.metrics import accuracy_score"
      ],
      "execution_count": null,
      "outputs": []
    },
    {
      "cell_type": "code",
      "metadata": {
        "id": "n7dC2u8BFg8Z"
      },
      "source": [
        "df = data.dropna()"
      ],
      "execution_count": null,
      "outputs": []
    },
    {
      "cell_type": "code",
      "metadata": {
        "id": "sRPn6ACiFg8Z"
      },
      "source": [
        "X = df[['AÑO', 'Mes', 'N° de horas sin sistema de atención al mes  ',\n",
        "        'N° total de horas de atención al mes',\n",
        "        'CSA%',\n",
        "        'Nº DE USUARIOS QUE DESISTIERON DE LA ATENCIÓN AL MES',\n",
        "        'Nº TOTAL DE USUARIOS ATENDIDOS AL MES',\n",
        "        'DAP (%)',\n",
        "        'CAT (%)',\n",
        "        'Bajas',\n",
        "        'Consultas',\n",
        "        'Altas']]\n",
        "Y = df['Reclamos-Cat']"
      ],
      "execution_count": null,
      "outputs": []
    },
    {
      "cell_type": "code",
      "metadata": {
        "colab": {
          "base_uri": "https://localhost:8080/",
          "height": 159
        },
        "id": "y_2ymoMRFg8Z",
        "outputId": "ef5d044c-df89-41a5-aded-b4f8b2dc0b27"
      },
      "source": [
        "X.head(1)"
      ],
      "execution_count": null,
      "outputs": [
        {
          "output_type": "execute_result",
          "data": {
            "text/plain": [
              "   AÑO  Mes  N° de horas sin sistema de atención al mes    \\\n",
              "0    1    9                                         15.12   \n",
              "\n",
              "   N° total de horas de atención al mes      CSA%  \\\n",
              "0                               18518.0  0.000817   \n",
              "\n",
              "   Nº DE USUARIOS QUE DESISTIERON DE LA ATENCIÓN AL MES  \\\n",
              "0                                            41584.0      \n",
              "\n",
              "   Nº TOTAL DE USUARIOS ATENDIDOS AL MES  DAP (%)  CAT (%)   Bajas  Consultas  \\\n",
              "0                               493360.0   0.0843   0.0379  0.6217     0.6588   \n",
              "\n",
              "    Altas  \n",
              "0  0.7507  "
            ],
            "text/html": [
              "\n",
              "  <div id=\"df-025223dc-3172-44c2-a3c9-bbaa2091d9ad\">\n",
              "    <div class=\"colab-df-container\">\n",
              "      <div>\n",
              "<style scoped>\n",
              "    .dataframe tbody tr th:only-of-type {\n",
              "        vertical-align: middle;\n",
              "    }\n",
              "\n",
              "    .dataframe tbody tr th {\n",
              "        vertical-align: top;\n",
              "    }\n",
              "\n",
              "    .dataframe thead th {\n",
              "        text-align: right;\n",
              "    }\n",
              "</style>\n",
              "<table border=\"1\" class=\"dataframe\">\n",
              "  <thead>\n",
              "    <tr style=\"text-align: right;\">\n",
              "      <th></th>\n",
              "      <th>AÑO</th>\n",
              "      <th>Mes</th>\n",
              "      <th>N° de horas sin sistema de atención al mes</th>\n",
              "      <th>N° total de horas de atención al mes</th>\n",
              "      <th>CSA%</th>\n",
              "      <th>Nº DE USUARIOS QUE DESISTIERON DE LA ATENCIÓN AL MES</th>\n",
              "      <th>Nº TOTAL DE USUARIOS ATENDIDOS AL MES</th>\n",
              "      <th>DAP (%)</th>\n",
              "      <th>CAT (%)</th>\n",
              "      <th>Bajas</th>\n",
              "      <th>Consultas</th>\n",
              "      <th>Altas</th>\n",
              "    </tr>\n",
              "  </thead>\n",
              "  <tbody>\n",
              "    <tr>\n",
              "      <th>0</th>\n",
              "      <td>1</td>\n",
              "      <td>9</td>\n",
              "      <td>15.12</td>\n",
              "      <td>18518.0</td>\n",
              "      <td>0.000817</td>\n",
              "      <td>41584.0</td>\n",
              "      <td>493360.0</td>\n",
              "      <td>0.0843</td>\n",
              "      <td>0.0379</td>\n",
              "      <td>0.6217</td>\n",
              "      <td>0.6588</td>\n",
              "      <td>0.7507</td>\n",
              "    </tr>\n",
              "  </tbody>\n",
              "</table>\n",
              "</div>\n",
              "      <button class=\"colab-df-convert\" onclick=\"convertToInteractive('df-025223dc-3172-44c2-a3c9-bbaa2091d9ad')\"\n",
              "              title=\"Convert this dataframe to an interactive table.\"\n",
              "              style=\"display:none;\">\n",
              "        \n",
              "  <svg xmlns=\"http://www.w3.org/2000/svg\" height=\"24px\"viewBox=\"0 0 24 24\"\n",
              "       width=\"24px\">\n",
              "    <path d=\"M0 0h24v24H0V0z\" fill=\"none\"/>\n",
              "    <path d=\"M18.56 5.44l.94 2.06.94-2.06 2.06-.94-2.06-.94-.94-2.06-.94 2.06-2.06.94zm-11 1L8.5 8.5l.94-2.06 2.06-.94-2.06-.94L8.5 2.5l-.94 2.06-2.06.94zm10 10l.94 2.06.94-2.06 2.06-.94-2.06-.94-.94-2.06-.94 2.06-2.06.94z\"/><path d=\"M17.41 7.96l-1.37-1.37c-.4-.4-.92-.59-1.43-.59-.52 0-1.04.2-1.43.59L10.3 9.45l-7.72 7.72c-.78.78-.78 2.05 0 2.83L4 21.41c.39.39.9.59 1.41.59.51 0 1.02-.2 1.41-.59l7.78-7.78 2.81-2.81c.8-.78.8-2.07 0-2.86zM5.41 20L4 18.59l7.72-7.72 1.47 1.35L5.41 20z\"/>\n",
              "  </svg>\n",
              "      </button>\n",
              "      \n",
              "  <style>\n",
              "    .colab-df-container {\n",
              "      display:flex;\n",
              "      flex-wrap:wrap;\n",
              "      gap: 12px;\n",
              "    }\n",
              "\n",
              "    .colab-df-convert {\n",
              "      background-color: #E8F0FE;\n",
              "      border: none;\n",
              "      border-radius: 50%;\n",
              "      cursor: pointer;\n",
              "      display: none;\n",
              "      fill: #1967D2;\n",
              "      height: 32px;\n",
              "      padding: 0 0 0 0;\n",
              "      width: 32px;\n",
              "    }\n",
              "\n",
              "    .colab-df-convert:hover {\n",
              "      background-color: #E2EBFA;\n",
              "      box-shadow: 0px 1px 2px rgba(60, 64, 67, 0.3), 0px 1px 3px 1px rgba(60, 64, 67, 0.15);\n",
              "      fill: #174EA6;\n",
              "    }\n",
              "\n",
              "    [theme=dark] .colab-df-convert {\n",
              "      background-color: #3B4455;\n",
              "      fill: #D2E3FC;\n",
              "    }\n",
              "\n",
              "    [theme=dark] .colab-df-convert:hover {\n",
              "      background-color: #434B5C;\n",
              "      box-shadow: 0px 1px 3px 1px rgba(0, 0, 0, 0.15);\n",
              "      filter: drop-shadow(0px 1px 2px rgba(0, 0, 0, 0.3));\n",
              "      fill: #FFFFFF;\n",
              "    }\n",
              "  </style>\n",
              "\n",
              "      <script>\n",
              "        const buttonEl =\n",
              "          document.querySelector('#df-025223dc-3172-44c2-a3c9-bbaa2091d9ad button.colab-df-convert');\n",
              "        buttonEl.style.display =\n",
              "          google.colab.kernel.accessAllowed ? 'block' : 'none';\n",
              "\n",
              "        async function convertToInteractive(key) {\n",
              "          const element = document.querySelector('#df-025223dc-3172-44c2-a3c9-bbaa2091d9ad');\n",
              "          const dataTable =\n",
              "            await google.colab.kernel.invokeFunction('convertToInteractive',\n",
              "                                                     [key], {});\n",
              "          if (!dataTable) return;\n",
              "\n",
              "          const docLinkHtml = 'Like what you see? Visit the ' +\n",
              "            '<a target=\"_blank\" href=https://colab.research.google.com/notebooks/data_table.ipynb>data table notebook</a>'\n",
              "            + ' to learn more about interactive tables.';\n",
              "          element.innerHTML = '';\n",
              "          dataTable['output_type'] = 'display_data';\n",
              "          await google.colab.output.renderOutput(dataTable, element);\n",
              "          const docLink = document.createElement('div');\n",
              "          docLink.innerHTML = docLinkHtml;\n",
              "          element.appendChild(docLink);\n",
              "        }\n",
              "      </script>\n",
              "    </div>\n",
              "  </div>\n",
              "  "
            ]
          },
          "metadata": {},
          "execution_count": 62
        }
      ]
    },
    {
      "cell_type": "code",
      "metadata": {
        "colab": {
          "base_uri": "https://localhost:8080/"
        },
        "id": "gjkHHHcgFg8Z",
        "outputId": "3bdcbe9d-18f1-477a-df3c-1377c8ff6e65"
      },
      "source": [
        "Y.head(2)"
      ],
      "execution_count": null,
      "outputs": [
        {
          "output_type": "execute_result",
          "data": {
            "text/plain": [
              "0    4\n",
              "1    4\n",
              "Name: Reclamos-Cat, dtype: category\n",
              "Categories (5, object): ['1' < '2' < '3' < '4' < '5']"
            ]
          },
          "metadata": {},
          "execution_count": 63
        }
      ]
    },
    {
      "cell_type": "code",
      "metadata": {
        "id": "A0YgvwXWFg8Z"
      },
      "source": [
        "seed = 7\n",
        "test_size = 0.2\n",
        "X_train, X_test, y_train, y_test = train_test_split(X, Y, test_size=test_size, random_state=seed)"
      ],
      "execution_count": null,
      "outputs": []
    },
    {
      "cell_type": "code",
      "metadata": {
        "colab": {
          "base_uri": "https://localhost:8080/"
        },
        "id": "UN3xM6mLFg8a",
        "outputId": "bce1e639-fa01-4a22-f3a7-e4778a953964"
      },
      "source": [
        "model = XGBClassifier(reg_alpha=0, reg_lambda=1)\n",
        "model.fit(X_train, y_train)"
      ],
      "execution_count": null,
      "outputs": [
        {
          "output_type": "execute_result",
          "data": {
            "text/plain": [
              "XGBClassifier()"
            ]
          },
          "metadata": {},
          "execution_count": 65
        }
      ]
    },
    {
      "cell_type": "code",
      "metadata": {
        "colab": {
          "base_uri": "https://localhost:8080/"
        },
        "id": "MxNr7F9YFg8a",
        "outputId": "ecdfa805-8311-42b4-bd19-45a28124e9c1"
      },
      "source": [
        "from sklearn import metrics\n",
        "from sklearn.metrics import *\n",
        "\n",
        "#Realizo la predicción\n",
        "y_pred = model.predict(X_test)\n",
        "#Verifico la matriz de Confusión\n",
        "matriz = confusion_matrix(y_test, y_pred)\n",
        "#Calculo la precisión del modelo\n",
        "precision = precision_score(y_test, y_pred, average=\"macro\")\n",
        "#Calculo la exactitud del modelo\n",
        "exactitud = accuracy_score(y_test, y_pred)\n",
        "#Calculo la sensibilidad del modelo\n",
        "sensibilidad = recall_score(y_test, y_pred, average=\"macro\")\n",
        "#Calculo el Puntaje F1 del modelo\n",
        "puntajef1 = f1_score(y_test, y_pred, average=\"macro\")\n",
        "#Calculo la curva ROC - AUC del modelo\n",
        "roc_auc = roc_auc_score(y_test, y_pred)\n",
        "\n",
        "print('Matriz de Confusión:')\n",
        "print(matriz)\n",
        "print('Precisión del modelo:', precision)\n",
        "print('Exactitud del modelo:', exactitud)\n",
        "print('Sensibilidad del modelo:', sensibilidad)\n",
        "print('Puntaje F1 del modelo:', puntajef1)\n",
        "print('Curva ROC - AUC del modelo:', roc_auc)"
      ],
      "execution_count": null,
      "outputs": [
        {
          "output_type": "stream",
          "name": "stdout",
          "text": [
            "Matriz de Confusión:\n",
            "[[7 0]\n",
            " [0 2]]\n",
            "Precisión del modelo: 1.0\n",
            "Exactitud del modelo: 1.0\n",
            "Sensibilidad del modelo: 1.0\n",
            "Puntaje F1 del modelo: 1.0\n",
            "Curva ROC - AUC del modelo: 1.0\n"
          ]
        }
      ]
    },
    {
      "cell_type": "markdown",
      "metadata": {
        "id": "zTWkQqX9Fg8a"
      },
      "source": [
        "##XGBoost - Elasticnet"
      ]
    },
    {
      "cell_type": "code",
      "metadata": {
        "id": "6f6P0mLfFg8a"
      },
      "source": [
        "import pandas as pd\n",
        "from xgboost import XGBClassifier\n",
        "from sklearn.model_selection import train_test_split\n",
        "from sklearn.metrics import accuracy_score"
      ],
      "execution_count": null,
      "outputs": []
    },
    {
      "cell_type": "code",
      "metadata": {
        "id": "S-y4YeYPFg8b"
      },
      "source": [
        "df = data.dropna()"
      ],
      "execution_count": null,
      "outputs": []
    },
    {
      "cell_type": "code",
      "metadata": {
        "id": "U1M_WAe9Fg8b"
      },
      "source": [
        "X = df[['AÑO', 'Mes', 'N° de horas sin sistema de atención al mes  ',\n",
        "        'N° total de horas de atención al mes',\n",
        "        'CSA%',\n",
        "        'Nº DE USUARIOS QUE DESISTIERON DE LA ATENCIÓN AL MES',\n",
        "        'Nº TOTAL DE USUARIOS ATENDIDOS AL MES',\n",
        "        'DAP (%)',\n",
        "        'CAT (%)',\n",
        "        'Bajas',\n",
        "        'Consultas',\n",
        "        'Altas']]\n",
        "Y = df['Reclamos-Cat']"
      ],
      "execution_count": null,
      "outputs": []
    },
    {
      "cell_type": "code",
      "metadata": {
        "colab": {
          "base_uri": "https://localhost:8080/",
          "height": 159
        },
        "id": "-E9O6IbOFg8b",
        "outputId": "a585f269-f653-411d-93df-7e3e4727dcde"
      },
      "source": [
        "X.head(1)"
      ],
      "execution_count": null,
      "outputs": [
        {
          "output_type": "execute_result",
          "data": {
            "text/plain": [
              "   AÑO  Mes  N° de horas sin sistema de atención al mes    \\\n",
              "0    1    9                                         15.12   \n",
              "\n",
              "   N° total de horas de atención al mes      CSA%  \\\n",
              "0                               18518.0  0.000817   \n",
              "\n",
              "   Nº DE USUARIOS QUE DESISTIERON DE LA ATENCIÓN AL MES  \\\n",
              "0                                            41584.0      \n",
              "\n",
              "   Nº TOTAL DE USUARIOS ATENDIDOS AL MES  DAP (%)  CAT (%)   Bajas  Consultas  \\\n",
              "0                               493360.0   0.0843   0.0379  0.6217     0.6588   \n",
              "\n",
              "    Altas  \n",
              "0  0.7507  "
            ],
            "text/html": [
              "\n",
              "  <div id=\"df-75a995d4-3eb7-476b-bed6-f625b33096e4\">\n",
              "    <div class=\"colab-df-container\">\n",
              "      <div>\n",
              "<style scoped>\n",
              "    .dataframe tbody tr th:only-of-type {\n",
              "        vertical-align: middle;\n",
              "    }\n",
              "\n",
              "    .dataframe tbody tr th {\n",
              "        vertical-align: top;\n",
              "    }\n",
              "\n",
              "    .dataframe thead th {\n",
              "        text-align: right;\n",
              "    }\n",
              "</style>\n",
              "<table border=\"1\" class=\"dataframe\">\n",
              "  <thead>\n",
              "    <tr style=\"text-align: right;\">\n",
              "      <th></th>\n",
              "      <th>AÑO</th>\n",
              "      <th>Mes</th>\n",
              "      <th>N° de horas sin sistema de atención al mes</th>\n",
              "      <th>N° total de horas de atención al mes</th>\n",
              "      <th>CSA%</th>\n",
              "      <th>Nº DE USUARIOS QUE DESISTIERON DE LA ATENCIÓN AL MES</th>\n",
              "      <th>Nº TOTAL DE USUARIOS ATENDIDOS AL MES</th>\n",
              "      <th>DAP (%)</th>\n",
              "      <th>CAT (%)</th>\n",
              "      <th>Bajas</th>\n",
              "      <th>Consultas</th>\n",
              "      <th>Altas</th>\n",
              "    </tr>\n",
              "  </thead>\n",
              "  <tbody>\n",
              "    <tr>\n",
              "      <th>0</th>\n",
              "      <td>1</td>\n",
              "      <td>9</td>\n",
              "      <td>15.12</td>\n",
              "      <td>18518.0</td>\n",
              "      <td>0.000817</td>\n",
              "      <td>41584.0</td>\n",
              "      <td>493360.0</td>\n",
              "      <td>0.0843</td>\n",
              "      <td>0.0379</td>\n",
              "      <td>0.6217</td>\n",
              "      <td>0.6588</td>\n",
              "      <td>0.7507</td>\n",
              "    </tr>\n",
              "  </tbody>\n",
              "</table>\n",
              "</div>\n",
              "      <button class=\"colab-df-convert\" onclick=\"convertToInteractive('df-75a995d4-3eb7-476b-bed6-f625b33096e4')\"\n",
              "              title=\"Convert this dataframe to an interactive table.\"\n",
              "              style=\"display:none;\">\n",
              "        \n",
              "  <svg xmlns=\"http://www.w3.org/2000/svg\" height=\"24px\"viewBox=\"0 0 24 24\"\n",
              "       width=\"24px\">\n",
              "    <path d=\"M0 0h24v24H0V0z\" fill=\"none\"/>\n",
              "    <path d=\"M18.56 5.44l.94 2.06.94-2.06 2.06-.94-2.06-.94-.94-2.06-.94 2.06-2.06.94zm-11 1L8.5 8.5l.94-2.06 2.06-.94-2.06-.94L8.5 2.5l-.94 2.06-2.06.94zm10 10l.94 2.06.94-2.06 2.06-.94-2.06-.94-.94-2.06-.94 2.06-2.06.94z\"/><path d=\"M17.41 7.96l-1.37-1.37c-.4-.4-.92-.59-1.43-.59-.52 0-1.04.2-1.43.59L10.3 9.45l-7.72 7.72c-.78.78-.78 2.05 0 2.83L4 21.41c.39.39.9.59 1.41.59.51 0 1.02-.2 1.41-.59l7.78-7.78 2.81-2.81c.8-.78.8-2.07 0-2.86zM5.41 20L4 18.59l7.72-7.72 1.47 1.35L5.41 20z\"/>\n",
              "  </svg>\n",
              "      </button>\n",
              "      \n",
              "  <style>\n",
              "    .colab-df-container {\n",
              "      display:flex;\n",
              "      flex-wrap:wrap;\n",
              "      gap: 12px;\n",
              "    }\n",
              "\n",
              "    .colab-df-convert {\n",
              "      background-color: #E8F0FE;\n",
              "      border: none;\n",
              "      border-radius: 50%;\n",
              "      cursor: pointer;\n",
              "      display: none;\n",
              "      fill: #1967D2;\n",
              "      height: 32px;\n",
              "      padding: 0 0 0 0;\n",
              "      width: 32px;\n",
              "    }\n",
              "\n",
              "    .colab-df-convert:hover {\n",
              "      background-color: #E2EBFA;\n",
              "      box-shadow: 0px 1px 2px rgba(60, 64, 67, 0.3), 0px 1px 3px 1px rgba(60, 64, 67, 0.15);\n",
              "      fill: #174EA6;\n",
              "    }\n",
              "\n",
              "    [theme=dark] .colab-df-convert {\n",
              "      background-color: #3B4455;\n",
              "      fill: #D2E3FC;\n",
              "    }\n",
              "\n",
              "    [theme=dark] .colab-df-convert:hover {\n",
              "      background-color: #434B5C;\n",
              "      box-shadow: 0px 1px 3px 1px rgba(0, 0, 0, 0.15);\n",
              "      filter: drop-shadow(0px 1px 2px rgba(0, 0, 0, 0.3));\n",
              "      fill: #FFFFFF;\n",
              "    }\n",
              "  </style>\n",
              "\n",
              "      <script>\n",
              "        const buttonEl =\n",
              "          document.querySelector('#df-75a995d4-3eb7-476b-bed6-f625b33096e4 button.colab-df-convert');\n",
              "        buttonEl.style.display =\n",
              "          google.colab.kernel.accessAllowed ? 'block' : 'none';\n",
              "\n",
              "        async function convertToInteractive(key) {\n",
              "          const element = document.querySelector('#df-75a995d4-3eb7-476b-bed6-f625b33096e4');\n",
              "          const dataTable =\n",
              "            await google.colab.kernel.invokeFunction('convertToInteractive',\n",
              "                                                     [key], {});\n",
              "          if (!dataTable) return;\n",
              "\n",
              "          const docLinkHtml = 'Like what you see? Visit the ' +\n",
              "            '<a target=\"_blank\" href=https://colab.research.google.com/notebooks/data_table.ipynb>data table notebook</a>'\n",
              "            + ' to learn more about interactive tables.';\n",
              "          element.innerHTML = '';\n",
              "          dataTable['output_type'] = 'display_data';\n",
              "          await google.colab.output.renderOutput(dataTable, element);\n",
              "          const docLink = document.createElement('div');\n",
              "          docLink.innerHTML = docLinkHtml;\n",
              "          element.appendChild(docLink);\n",
              "        }\n",
              "      </script>\n",
              "    </div>\n",
              "  </div>\n",
              "  "
            ]
          },
          "metadata": {},
          "execution_count": 70
        }
      ]
    },
    {
      "cell_type": "code",
      "metadata": {
        "colab": {
          "base_uri": "https://localhost:8080/"
        },
        "id": "AdkGY3T1Fg8b",
        "outputId": "440010a0-8460-4f14-c0d2-6f224ac496d1"
      },
      "source": [
        "Y.head(2)"
      ],
      "execution_count": null,
      "outputs": [
        {
          "output_type": "execute_result",
          "data": {
            "text/plain": [
              "0    4\n",
              "1    4\n",
              "Name: Reclamos-Cat, dtype: category\n",
              "Categories (5, object): ['1' < '2' < '3' < '4' < '5']"
            ]
          },
          "metadata": {},
          "execution_count": 71
        }
      ]
    },
    {
      "cell_type": "code",
      "metadata": {
        "id": "RPLR9ol-Fg8b"
      },
      "source": [
        "seed = 7\n",
        "test_size = 0.2\n",
        "X_train, X_test, y_train, y_test = train_test_split(X, Y, test_size=test_size, random_state=seed)"
      ],
      "execution_count": null,
      "outputs": []
    },
    {
      "cell_type": "code",
      "metadata": {
        "colab": {
          "base_uri": "https://localhost:8080/"
        },
        "id": "WZzb8Uo5Fg8c",
        "outputId": "58e0e313-b96a-4077-8d98-68eff9b2837f"
      },
      "source": [
        "model = XGBClassifier(reg_alpha=1, reg_lambda=1)\n",
        "model.fit(X_train, y_train)"
      ],
      "execution_count": null,
      "outputs": [
        {
          "output_type": "execute_result",
          "data": {
            "text/plain": [
              "XGBClassifier(reg_alpha=1)"
            ]
          },
          "metadata": {},
          "execution_count": 73
        }
      ]
    },
    {
      "cell_type": "code",
      "metadata": {
        "colab": {
          "base_uri": "https://localhost:8080/"
        },
        "id": "fklNmrm0Fg8c",
        "outputId": "96a87676-dc81-417a-df56-50bcc36c08e9"
      },
      "source": [
        "from sklearn import metrics\n",
        "from sklearn.metrics import *\n",
        "\n",
        "#Realizo la predicción\n",
        "y_pred = model.predict(X_test)\n",
        "#Verifico la matriz de Confusión\n",
        "matriz = confusion_matrix(y_test, y_pred)\n",
        "#Calculo la precisión del modelo\n",
        "precision = precision_score(y_test, y_pred, average=\"macro\")\n",
        "#Calculo la exactitud del modelo\n",
        "exactitud = accuracy_score(y_test, y_pred)\n",
        "#Calculo la sensibilidad del modelo\n",
        "sensibilidad = recall_score(y_test, y_pred, average=\"macro\")\n",
        "#Calculo el Puntaje F1 del modelo\n",
        "puntajef1 = f1_score(y_test, y_pred, average=\"macro\")\n",
        "#Calculo la curva ROC - AUC del modelo\n",
        "roc_auc = roc_auc_score(y_test, y_pred)\n",
        "\n",
        "print('Matriz de Confusión:')\n",
        "print(matriz)\n",
        "print('Precisión del modelo:', precision)\n",
        "print('Exactitud del modelo:', exactitud)\n",
        "print('Sensibilidad del modelo:', sensibilidad)\n",
        "print('Puntaje F1 del modelo:', puntajef1)\n",
        "print('Curva ROC - AUC del modelo:', roc_auc)"
      ],
      "execution_count": null,
      "outputs": [
        {
          "output_type": "stream",
          "name": "stdout",
          "text": [
            "Matriz de Confusión:\n",
            "[[7 0]\n",
            " [0 2]]\n",
            "Precisión del modelo: 1.0\n",
            "Exactitud del modelo: 1.0\n",
            "Sensibilidad del modelo: 1.0\n",
            "Puntaje F1 del modelo: 1.0\n",
            "Curva ROC - AUC del modelo: 1.0\n"
          ]
        }
      ]
    }
  ]
}