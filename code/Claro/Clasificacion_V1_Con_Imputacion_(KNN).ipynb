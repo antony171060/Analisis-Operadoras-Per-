{
  "nbformat": 4,
  "nbformat_minor": 0,
  "metadata": {
    "colab": {
      "provenance": [],
      "collapsed_sections": [
        "VCQqgd03wdTN",
        "hOO4ovtH-XiS",
        "2JiKXgP-_03C",
        "OtLWu_HYEj5R",
        "Ll-kceNLE8tL",
        "6zslIfhgJkPw",
        "qdyM3JqNJZOc",
        "6RYynZy_JZOi",
        "MGT6kKBvJZOn",
        "47J_k2alJZOv",
        "bnq4a3BCFn6l",
        "vputlx9eFg8U",
        "Nph0cwlbFg8W",
        "sNPVIU9MFg8Y",
        "zTWkQqX9Fg8a"
      ]
    },
    "kernelspec": {
      "name": "python3",
      "display_name": "Python 3"
    },
    "language_info": {
      "name": "python"
    }
  },
  "cells": [
    {
      "cell_type": "code",
      "source": [
        "!pip uninstall scikit-learn\n",
        "!pip install scikit-learn==0.24.2"
      ],
      "metadata": {
        "colab": {
          "base_uri": "https://localhost:8080/"
        },
        "id": "GqRxAkJD_-aA",
        "outputId": "e5663339-001f-4861-9226-9b3e94ab6f40"
      },
      "execution_count": null,
      "outputs": [
        {
          "output_type": "stream",
          "name": "stdout",
          "text": [
            "Found existing installation: scikit-learn 1.0.2\n",
            "Uninstalling scikit-learn-1.0.2:\n",
            "  Would remove:\n",
            "    /usr/local/lib/python3.7/dist-packages/scikit_learn-1.0.2.dist-info/*\n",
            "    /usr/local/lib/python3.7/dist-packages/scikit_learn.libs/libgomp-a34b3233.so.1.0.0\n",
            "    /usr/local/lib/python3.7/dist-packages/sklearn/*\n",
            "Proceed (y/n)? y\n",
            "  Successfully uninstalled scikit-learn-1.0.2\n",
            "Looking in indexes: https://pypi.org/simple, https://us-python.pkg.dev/colab-wheels/public/simple/\n",
            "Collecting scikit-learn==0.24.2\n",
            "  Downloading scikit_learn-0.24.2-cp37-cp37m-manylinux2010_x86_64.whl (22.3 MB)\n",
            "\u001b[K     |████████████████████████████████| 22.3 MB 56.3 MB/s \n",
            "\u001b[?25hRequirement already satisfied: numpy>=1.13.3 in /usr/local/lib/python3.7/dist-packages (from scikit-learn==0.24.2) (1.21.6)\n",
            "Requirement already satisfied: joblib>=0.11 in /usr/local/lib/python3.7/dist-packages (from scikit-learn==0.24.2) (1.1.0)\n",
            "Requirement already satisfied: scipy>=0.19.1 in /usr/local/lib/python3.7/dist-packages (from scikit-learn==0.24.2) (1.4.1)\n",
            "Requirement already satisfied: threadpoolctl>=2.0.0 in /usr/local/lib/python3.7/dist-packages (from scikit-learn==0.24.2) (3.1.0)\n",
            "Installing collected packages: scikit-learn\n",
            "\u001b[31mERROR: pip's dependency resolver does not currently take into account all the packages that are installed. This behaviour is the source of the following dependency conflicts.\n",
            "yellowbrick 1.4 requires scikit-learn>=1.0.0, but you have scikit-learn 0.24.2 which is incompatible.\u001b[0m\n",
            "Successfully installed scikit-learn-0.24.2\n"
          ]
        }
      ]
    },
    {
      "cell_type": "markdown",
      "metadata": {
        "id": "0y_d1Z1Crh-9"
      },
      "source": [
        "##Preprocesamiento - Data"
      ]
    },
    {
      "cell_type": "markdown",
      "metadata": {
        "id": "VCQqgd03wdTN"
      },
      "source": [
        "##Data"
      ]
    },
    {
      "cell_type": "code",
      "metadata": {
        "colab": {
          "base_uri": "https://localhost:8080/"
        },
        "id": "dAQRjiJ9Afdo",
        "outputId": "0f891006-f2fb-476e-e7ca-11e0fc802218"
      },
      "source": [
        "#Descargar excel desde link de Drive\n",
        "!gdown --id text"
      ],
      "execution_count": null,
      "outputs": [
        {
          "output_type": "stream",
          "name": "stdout",
          "text": [
            "/usr/local/lib/python3.7/dist-packages/gdown/cli.py:131: FutureWarning: Option `--id` was deprecated in version 4.3.1 and will be removed in 5.0. You don't need to pass it anymore to use a file ID.\n",
            "  category=FutureWarning,\n",
            "Downloading...\n",
            "From: link\n",
            "To: /content/Data-Osiptel.xlsx\n",
            "100% 31.6k/31.6k [00:00<00:00, 21.6MB/s]\n"
          ]
        }
      ]
    },
    {
      "cell_type": "code",
      "metadata": {
        "id": "PZkdY8RHJBVn"
      },
      "source": [
        "import pandas as pd"
      ],
      "execution_count": null,
      "outputs": []
    },
    {
      "cell_type": "code",
      "metadata": {
        "colab": {
          "base_uri": "https://localhost:8080/",
          "height": 320
        },
        "id": "XA3gyFfbJPjO",
        "outputId": "4e01bed6-2630-461a-e35f-46dbce12873a"
      },
      "source": [
        "data = pd.read_excel(\"Data-Osiptel.xlsx\", sheet_name=\"Claro\")\n",
        "data.head(5)"
      ],
      "execution_count": null,
      "outputs": [
        {
          "output_type": "execute_result",
          "data": {
            "text/plain": [
              "   AÑO  Mes  N° de horas sin sistema de atención al mes    \\\n",
              "0    1    9                                         15.12   \n",
              "1    1   10                                         26.37   \n",
              "2    1   11                                          3.58   \n",
              "3    1   12                                          0.62   \n",
              "4    1    1                                          0.83   \n",
              "\n",
              "   N° total de horas de atención al mes      CSA%  \\\n",
              "0                              18518.00  0.000817   \n",
              "1                              18591.50  0.001418   \n",
              "2                              18637.25  0.000192   \n",
              "3                              21049.75  0.000029   \n",
              "4                              19743.50  0.000042   \n",
              "\n",
              "   Nº DE USUARIOS QUE DESISTIERON DE LA ATENCIÓN AL MES  \\\n",
              "0                                            41584.0      \n",
              "1                                            37908.0      \n",
              "2                                            37922.0      \n",
              "3                                            39301.0      \n",
              "4                                            35969.0      \n",
              "\n",
              "   Nº TOTAL DE USUARIOS ATENDIDOS AL MES  DAP (%)  \\\n",
              "0                               493360.0   0.0843   \n",
              "1                               506790.0   0.0748   \n",
              "2                               508222.0   0.0746   \n",
              "3                               518982.0   0.0757   \n",
              "4                               506900.0   0.0710   \n",
              "\n",
              "   Nº DE LLAMADAS NO FINALIZADAS POR EL USUARIO  \\\n",
              "0                                      118385.0   \n",
              "1                                      123382.0   \n",
              "2                                      117383.0   \n",
              "3                                       11756.0   \n",
              "4                                      100277.0   \n",
              "\n",
              "   Nº TOTAL DE LLAMADAS ATENDIDAS  CAT (%)  Reclamos   Bajas  Consultas  \\\n",
              "0                       3124089.0   0.0379    0.6390  0.6217     0.6588   \n",
              "1                       3391270.0   0.0364    0.7334  0.6642     0.6597   \n",
              "2                       3246056.0   0.0362    0.7112  0.6466     0.6270   \n",
              "3                       3382625.0   0.0348    0.7378  0.6847     0.6490   \n",
              "4                       3505628.0   0.0286    0.7641  0.7229     0.7189   \n",
              "\n",
              "    Altas  \n",
              "0  0.7507  \n",
              "1  0.6445  \n",
              "2  0.6292  \n",
              "3  0.6697  \n",
              "4  0.7044  "
            ],
            "text/html": [
              "\n",
              "  <div id=\"df-57120875-06e3-46e9-b306-1f59cbba245c\">\n",
              "    <div class=\"colab-df-container\">\n",
              "      <div>\n",
              "<style scoped>\n",
              "    .dataframe tbody tr th:only-of-type {\n",
              "        vertical-align: middle;\n",
              "    }\n",
              "\n",
              "    .dataframe tbody tr th {\n",
              "        vertical-align: top;\n",
              "    }\n",
              "\n",
              "    .dataframe thead th {\n",
              "        text-align: right;\n",
              "    }\n",
              "</style>\n",
              "<table border=\"1\" class=\"dataframe\">\n",
              "  <thead>\n",
              "    <tr style=\"text-align: right;\">\n",
              "      <th></th>\n",
              "      <th>AÑO</th>\n",
              "      <th>Mes</th>\n",
              "      <th>N° de horas sin sistema de atención al mes</th>\n",
              "      <th>N° total de horas de atención al mes</th>\n",
              "      <th>CSA%</th>\n",
              "      <th>Nº DE USUARIOS QUE DESISTIERON DE LA ATENCIÓN AL MES</th>\n",
              "      <th>Nº TOTAL DE USUARIOS ATENDIDOS AL MES</th>\n",
              "      <th>DAP (%)</th>\n",
              "      <th>Nº DE LLAMADAS NO FINALIZADAS POR EL USUARIO</th>\n",
              "      <th>Nº TOTAL DE LLAMADAS ATENDIDAS</th>\n",
              "      <th>CAT (%)</th>\n",
              "      <th>Reclamos</th>\n",
              "      <th>Bajas</th>\n",
              "      <th>Consultas</th>\n",
              "      <th>Altas</th>\n",
              "    </tr>\n",
              "  </thead>\n",
              "  <tbody>\n",
              "    <tr>\n",
              "      <th>0</th>\n",
              "      <td>1</td>\n",
              "      <td>9</td>\n",
              "      <td>15.12</td>\n",
              "      <td>18518.00</td>\n",
              "      <td>0.000817</td>\n",
              "      <td>41584.0</td>\n",
              "      <td>493360.0</td>\n",
              "      <td>0.0843</td>\n",
              "      <td>118385.0</td>\n",
              "      <td>3124089.0</td>\n",
              "      <td>0.0379</td>\n",
              "      <td>0.6390</td>\n",
              "      <td>0.6217</td>\n",
              "      <td>0.6588</td>\n",
              "      <td>0.7507</td>\n",
              "    </tr>\n",
              "    <tr>\n",
              "      <th>1</th>\n",
              "      <td>1</td>\n",
              "      <td>10</td>\n",
              "      <td>26.37</td>\n",
              "      <td>18591.50</td>\n",
              "      <td>0.001418</td>\n",
              "      <td>37908.0</td>\n",
              "      <td>506790.0</td>\n",
              "      <td>0.0748</td>\n",
              "      <td>123382.0</td>\n",
              "      <td>3391270.0</td>\n",
              "      <td>0.0364</td>\n",
              "      <td>0.7334</td>\n",
              "      <td>0.6642</td>\n",
              "      <td>0.6597</td>\n",
              "      <td>0.6445</td>\n",
              "    </tr>\n",
              "    <tr>\n",
              "      <th>2</th>\n",
              "      <td>1</td>\n",
              "      <td>11</td>\n",
              "      <td>3.58</td>\n",
              "      <td>18637.25</td>\n",
              "      <td>0.000192</td>\n",
              "      <td>37922.0</td>\n",
              "      <td>508222.0</td>\n",
              "      <td>0.0746</td>\n",
              "      <td>117383.0</td>\n",
              "      <td>3246056.0</td>\n",
              "      <td>0.0362</td>\n",
              "      <td>0.7112</td>\n",
              "      <td>0.6466</td>\n",
              "      <td>0.6270</td>\n",
              "      <td>0.6292</td>\n",
              "    </tr>\n",
              "    <tr>\n",
              "      <th>3</th>\n",
              "      <td>1</td>\n",
              "      <td>12</td>\n",
              "      <td>0.62</td>\n",
              "      <td>21049.75</td>\n",
              "      <td>0.000029</td>\n",
              "      <td>39301.0</td>\n",
              "      <td>518982.0</td>\n",
              "      <td>0.0757</td>\n",
              "      <td>11756.0</td>\n",
              "      <td>3382625.0</td>\n",
              "      <td>0.0348</td>\n",
              "      <td>0.7378</td>\n",
              "      <td>0.6847</td>\n",
              "      <td>0.6490</td>\n",
              "      <td>0.6697</td>\n",
              "    </tr>\n",
              "    <tr>\n",
              "      <th>4</th>\n",
              "      <td>1</td>\n",
              "      <td>1</td>\n",
              "      <td>0.83</td>\n",
              "      <td>19743.50</td>\n",
              "      <td>0.000042</td>\n",
              "      <td>35969.0</td>\n",
              "      <td>506900.0</td>\n",
              "      <td>0.0710</td>\n",
              "      <td>100277.0</td>\n",
              "      <td>3505628.0</td>\n",
              "      <td>0.0286</td>\n",
              "      <td>0.7641</td>\n",
              "      <td>0.7229</td>\n",
              "      <td>0.7189</td>\n",
              "      <td>0.7044</td>\n",
              "    </tr>\n",
              "  </tbody>\n",
              "</table>\n",
              "</div>\n",
              "      <button class=\"colab-df-convert\" onclick=\"convertToInteractive('df-57120875-06e3-46e9-b306-1f59cbba245c')\"\n",
              "              title=\"Convert this dataframe to an interactive table.\"\n",
              "              style=\"display:none;\">\n",
              "        \n",
              "  <svg xmlns=\"http://www.w3.org/2000/svg\" height=\"24px\"viewBox=\"0 0 24 24\"\n",
              "       width=\"24px\">\n",
              "    <path d=\"M0 0h24v24H0V0z\" fill=\"none\"/>\n",
              "    <path d=\"M18.56 5.44l.94 2.06.94-2.06 2.06-.94-2.06-.94-.94-2.06-.94 2.06-2.06.94zm-11 1L8.5 8.5l.94-2.06 2.06-.94-2.06-.94L8.5 2.5l-.94 2.06-2.06.94zm10 10l.94 2.06.94-2.06 2.06-.94-2.06-.94-.94-2.06-.94 2.06-2.06.94z\"/><path d=\"M17.41 7.96l-1.37-1.37c-.4-.4-.92-.59-1.43-.59-.52 0-1.04.2-1.43.59L10.3 9.45l-7.72 7.72c-.78.78-.78 2.05 0 2.83L4 21.41c.39.39.9.59 1.41.59.51 0 1.02-.2 1.41-.59l7.78-7.78 2.81-2.81c.8-.78.8-2.07 0-2.86zM5.41 20L4 18.59l7.72-7.72 1.47 1.35L5.41 20z\"/>\n",
              "  </svg>\n",
              "      </button>\n",
              "      \n",
              "  <style>\n",
              "    .colab-df-container {\n",
              "      display:flex;\n",
              "      flex-wrap:wrap;\n",
              "      gap: 12px;\n",
              "    }\n",
              "\n",
              "    .colab-df-convert {\n",
              "      background-color: #E8F0FE;\n",
              "      border: none;\n",
              "      border-radius: 50%;\n",
              "      cursor: pointer;\n",
              "      display: none;\n",
              "      fill: #1967D2;\n",
              "      height: 32px;\n",
              "      padding: 0 0 0 0;\n",
              "      width: 32px;\n",
              "    }\n",
              "\n",
              "    .colab-df-convert:hover {\n",
              "      background-color: #E2EBFA;\n",
              "      box-shadow: 0px 1px 2px rgba(60, 64, 67, 0.3), 0px 1px 3px 1px rgba(60, 64, 67, 0.15);\n",
              "      fill: #174EA6;\n",
              "    }\n",
              "\n",
              "    [theme=dark] .colab-df-convert {\n",
              "      background-color: #3B4455;\n",
              "      fill: #D2E3FC;\n",
              "    }\n",
              "\n",
              "    [theme=dark] .colab-df-convert:hover {\n",
              "      background-color: #434B5C;\n",
              "      box-shadow: 0px 1px 3px 1px rgba(0, 0, 0, 0.15);\n",
              "      filter: drop-shadow(0px 1px 2px rgba(0, 0, 0, 0.3));\n",
              "      fill: #FFFFFF;\n",
              "    }\n",
              "  </style>\n",
              "\n",
              "      <script>\n",
              "        const buttonEl =\n",
              "          document.querySelector('#df-57120875-06e3-46e9-b306-1f59cbba245c button.colab-df-convert');\n",
              "        buttonEl.style.display =\n",
              "          google.colab.kernel.accessAllowed ? 'block' : 'none';\n",
              "\n",
              "        async function convertToInteractive(key) {\n",
              "          const element = document.querySelector('#df-57120875-06e3-46e9-b306-1f59cbba245c');\n",
              "          const dataTable =\n",
              "            await google.colab.kernel.invokeFunction('convertToInteractive',\n",
              "                                                     [key], {});\n",
              "          if (!dataTable) return;\n",
              "\n",
              "          const docLinkHtml = 'Like what you see? Visit the ' +\n",
              "            '<a target=\"_blank\" href=https://colab.research.google.com/notebooks/data_table.ipynb>data table notebook</a>'\n",
              "            + ' to learn more about interactive tables.';\n",
              "          element.innerHTML = '';\n",
              "          dataTable['output_type'] = 'display_data';\n",
              "          await google.colab.output.renderOutput(dataTable, element);\n",
              "          const docLink = document.createElement('div');\n",
              "          docLink.innerHTML = docLinkHtml;\n",
              "          element.appendChild(docLink);\n",
              "        }\n",
              "      </script>\n",
              "    </div>\n",
              "  </div>\n",
              "  "
            ]
          },
          "metadata": {},
          "execution_count": 4
        }
      ]
    },
    {
      "cell_type": "code",
      "metadata": {
        "colab": {
          "base_uri": "https://localhost:8080/",
          "height": 1000
        },
        "id": "eRDK-5E4yjlr",
        "outputId": "106470a7-7d1e-41fa-e0c3-2960ef51978e"
      },
      "source": [
        "#IMPUTACION\n",
        "from sklearn.impute import KNNImputer\n",
        "\n",
        "imputer = KNNImputer(n_neighbors=5)\n",
        "imputed = imputer.fit_transform(data)\n",
        "df_imputed = pd.DataFrame(imputed, columns=data.columns)\n",
        "data = df_imputed\n",
        "data"
      ],
      "execution_count": null,
      "outputs": [
        {
          "output_type": "execute_result",
          "data": {
            "text/plain": [
              "    AÑO   Mes  N° de horas sin sistema de atención al mes    \\\n",
              "0   1.0   9.0                                        15.120   \n",
              "1   1.0  10.0                                        26.370   \n",
              "2   1.0  11.0                                         3.580   \n",
              "3   1.0  12.0                                         0.620   \n",
              "4   1.0   1.0                                         0.830   \n",
              "5   1.0   2.0                                         8.250   \n",
              "6   1.0   3.0                                         1.520   \n",
              "7   1.0   4.0                                         3.700   \n",
              "8   1.0   5.0                                         0.000   \n",
              "9   1.0   6.0                                         5.086   \n",
              "10  1.0   7.0                                         7.180   \n",
              "11  1.0   8.0                                         0.680   \n",
              "12  2.0   9.0                                        13.070   \n",
              "13  2.0  10.0                                         2.650   \n",
              "14  2.0  11.0                                         1.840   \n",
              "15  2.0  12.0                                        11.570   \n",
              "16  2.0   1.0                                         0.170   \n",
              "17  2.0   2.0                                         0.000   \n",
              "18  2.0   3.0                                         4.800   \n",
              "19  2.0   4.0                                         1.100   \n",
              "20  2.0   5.0                                        13.370   \n",
              "21  2.0   6.0                                         1.460   \n",
              "22  2.0   7.0                                         3.420   \n",
              "23  2.0   8.0                                        82.260   \n",
              "24  3.0   9.0                                        16.140   \n",
              "25  3.0  10.0                                         7.900   \n",
              "26  3.0  11.0                                        13.250   \n",
              "27  3.0  12.0                                        29.320   \n",
              "28  3.0   1.0                                        13.540   \n",
              "29  3.0   2.0                                        13.580   \n",
              "30  3.0   3.0                                        15.680   \n",
              "31  3.0   4.0                                        11.170   \n",
              "32  3.0   5.0                                        12.280   \n",
              "33  3.0   6.0                                         2.970   \n",
              "34  3.0   7.0                                         3.600   \n",
              "35  3.0   8.0                                         3.150   \n",
              "36  4.0   9.0                                         1.000   \n",
              "37  4.0  10.0                                         9.530   \n",
              "38  4.0  11.0                                         5.670   \n",
              "39  4.0  12.0                                         5.280   \n",
              "40  4.0   1.0                                         1.200   \n",
              "41  4.0   2.0                                         1.380   \n",
              "42  4.0   3.0                                         2.070   \n",
              "43  4.0   4.0                                         1.570   \n",
              "\n",
              "    N° total de horas de atención al mes      CSA%  \\\n",
              "0                               18518.00  0.000817   \n",
              "1                               18591.50  0.001418   \n",
              "2                               18637.25  0.000192   \n",
              "3                               21049.75  0.000029   \n",
              "4                               19743.50  0.000042   \n",
              "5                               18530.50  0.000445   \n",
              "6                               20930.75  0.000073   \n",
              "7                               19992.25  0.000185   \n",
              "8                               20780.25  0.000000   \n",
              "9                               21319.60  0.000236   \n",
              "10                              20583.75  0.000349   \n",
              "11                              20698.50  0.000033   \n",
              "12                              20791.00  0.000629   \n",
              "13                              20590.25  0.000129   \n",
              "14                              20453.75  0.000090   \n",
              "15                              21970.50  0.000527   \n",
              "16                              20970.50  0.000008   \n",
              "17                              20395.25  0.000000   \n",
              "18                              21421.50  0.000224   \n",
              "19                              21398.50  0.000051   \n",
              "20                              22022.25  0.000607   \n",
              "21                              21349.00  0.000068   \n",
              "22                              21862.75  0.000156   \n",
              "23                              22484.75  0.003658   \n",
              "24                              22370.00  0.000722   \n",
              "25                              22196.00  0.000356   \n",
              "26                              21568.50  0.000614   \n",
              "27                              22253.50  0.001318   \n",
              "28                              22408.50  0.000604   \n",
              "29                              20480.00  0.000663   \n",
              "30                              22764.50  0.000689   \n",
              "31                              20895.00  0.000535   \n",
              "32                              22374.00  0.000549   \n",
              "33                              21577.25  0.000138   \n",
              "34                              21868.50  0.000165   \n",
              "35                              22655.00  0.000139   \n",
              "36                              22135.00  0.000050   \n",
              "37                              22462.25  0.000420   \n",
              "38                              22134.00  0.000260   \n",
              "39                              22413.50  0.000240   \n",
              "40                              22276.00  0.000050   \n",
              "41                              20137.00  0.000070   \n",
              "42                              21792.50  0.000090   \n",
              "43                              21323.00  0.000100   \n",
              "\n",
              "    Nº DE USUARIOS QUE DESISTIERON DE LA ATENCIÓN AL MES  \\\n",
              "0                                             41584.0      \n",
              "1                                             37908.0      \n",
              "2                                             37922.0      \n",
              "3                                             39301.0      \n",
              "4                                             35969.0      \n",
              "5                                             26550.0      \n",
              "6                                             25004.0      \n",
              "7                                             17778.0      \n",
              "8                                             18789.0      \n",
              "9                                             17435.4      \n",
              "10                                            16714.0      \n",
              "11                                            16631.0      \n",
              "12                                            16614.0      \n",
              "13                                            18120.0      \n",
              "14                                            20186.0      \n",
              "15                                            24565.0      \n",
              "16                                            21151.0      \n",
              "17                                            25670.0      \n",
              "18                                            25090.0      \n",
              "19                                            21751.0      \n",
              "20                                            20427.0      \n",
              "21                                            15697.0      \n",
              "22                                            15550.0      \n",
              "23                                            17163.0      \n",
              "24                                            18669.0      \n",
              "25                                            19539.0      \n",
              "26                                            16667.0      \n",
              "27                                            23895.0      \n",
              "28                                            21331.0      \n",
              "29                                            19271.0      \n",
              "30                                            17657.0      \n",
              "31                                            15561.0      \n",
              "32                                            21938.0      \n",
              "33                                            22934.0      \n",
              "34                                            19952.0      \n",
              "35                                            16681.0      \n",
              "36                                            13066.0      \n",
              "37                                            12246.0      \n",
              "38                                            12479.0      \n",
              "39                                            19828.0      \n",
              "40                                            20021.0      \n",
              "41                                            17928.0      \n",
              "42                                            17781.0      \n",
              "43                                            15484.0      \n",
              "\n",
              "    Nº TOTAL DE USUARIOS ATENDIDOS AL MES   DAP (%)  \\\n",
              "0                                493360.0  0.084300   \n",
              "1                                506790.0  0.074800   \n",
              "2                                508222.0  0.074600   \n",
              "3                                518982.0  0.075700   \n",
              "4                                506900.0  0.071000   \n",
              "5                                475277.0  0.055900   \n",
              "6                                488132.0  0.051200   \n",
              "7                                446492.0  0.039800   \n",
              "8                                434213.0  0.043300   \n",
              "9                                468992.4  0.037263   \n",
              "10                               441291.0  0.037900   \n",
              "11                               409005.0  0.040700   \n",
              "12                               447039.0  0.037165   \n",
              "13                               444409.0  0.040773   \n",
              "14                               448584.0  0.044999   \n",
              "15                               487204.0  0.050420   \n",
              "16                               463831.0  0.045601   \n",
              "17                               461846.0  0.055581   \n",
              "18                               475539.0  0.052761   \n",
              "19                               475211.0  0.045771   \n",
              "20                               520146.0  0.039272   \n",
              "21                               482379.0  0.032541   \n",
              "22                               466933.0  0.033302   \n",
              "23                               488156.0  0.035159   \n",
              "24                               649167.0  0.034000   \n",
              "25                               507969.0  0.038500   \n",
              "26                               504509.0  0.033000   \n",
              "27                               518464.0  0.046100   \n",
              "28                               521947.0  0.040900   \n",
              "29                               465185.0  0.041400   \n",
              "30                               544011.0  0.032500   \n",
              "31                               476504.0  0.032700   \n",
              "32                               535544.0  0.041000   \n",
              "33                               471505.0  0.048600   \n",
              "34                               458687.0  0.043500   \n",
              "35                               461356.0  0.036200   \n",
              "36                               451604.0  0.028900   \n",
              "37                               445719.0  0.027500   \n",
              "38                               438504.0  0.028500   \n",
              "39                               444416.0  0.044600   \n",
              "40                               428153.0  0.046800   \n",
              "41                               384087.0  0.046700   \n",
              "42                               411650.0  0.043200   \n",
              "43                               415825.0  0.037200   \n",
              "\n",
              "    Nº DE LLAMADAS NO FINALIZADAS POR EL USUARIO  \\\n",
              "0                                       118385.0   \n",
              "1                                       123382.0   \n",
              "2                                       117383.0   \n",
              "3                                        11756.0   \n",
              "4                                       100277.0   \n",
              "5                                        61818.0   \n",
              "6                                        74489.0   \n",
              "7                                        56881.0   \n",
              "8                                        49189.0   \n",
              "9                                        31394.2   \n",
              "10                                       28800.0   \n",
              "11                                       26790.0   \n",
              "12                                       28200.0   \n",
              "13                                       30046.0   \n",
              "14                                       27794.0   \n",
              "15                                       32331.0   \n",
              "16                                       31975.0   \n",
              "17                                       28301.0   \n",
              "18                                       31074.0   \n",
              "19                                       40603.0   \n",
              "20                                       27667.0   \n",
              "21                                       23314.0   \n",
              "22                                       28001.0   \n",
              "23                                       45691.0   \n",
              "24                                       44135.0   \n",
              "25                                       32328.0   \n",
              "26                                       28163.0   \n",
              "27                                       25228.0   \n",
              "28                                       21419.0   \n",
              "29                                       19006.0   \n",
              "30                                       17873.0   \n",
              "31                                       13984.0   \n",
              "32                                       20078.0   \n",
              "33                                       13129.0   \n",
              "34                                       11814.0   \n",
              "35                                       11236.0   \n",
              "36                                       11106.0   \n",
              "37                                       11093.0   \n",
              "38                                       11550.0   \n",
              "39                                       12860.0   \n",
              "40                                       12344.0   \n",
              "41                                       11576.0   \n",
              "42                                       11564.0   \n",
              "43                                       11036.0   \n",
              "\n",
              "    Nº TOTAL DE LLAMADAS ATENDIDAS   CAT (%)  Reclamos     Bajas  Consultas  \\\n",
              "0                        3124089.0  0.037900  0.639000  0.621700   0.658800   \n",
              "1                        3391270.0  0.036400  0.733400  0.664200   0.659700   \n",
              "2                        3246056.0  0.036200  0.711200  0.646600   0.627000   \n",
              "3                        3382625.0  0.034800  0.737800  0.684700   0.649000   \n",
              "4                        3505628.0  0.028600  0.764100  0.722900   0.718900   \n",
              "5                        3461584.0  0.017900  0.797000  0.756500   0.769300   \n",
              "6                        3694472.0  0.020200  0.787200  0.745900   0.753800   \n",
              "7                        3471795.0  0.016400  0.808400  0.778200   0.795600   \n",
              "8                        3527899.0  0.013900  0.789900  0.773300   0.764100   \n",
              "9                        3097012.6  0.009992  0.805164  0.789083   0.803304   \n",
              "10                       3239626.0  0.008900  0.813900  0.787500   0.801200   \n",
              "11                       3368573.0  0.008000  0.792700  0.775400   0.778900   \n",
              "12                       3274924.0  0.008611  0.836672  0.826782   0.836964   \n",
              "13                       3394403.0  0.008852  0.804647  0.817908   0.800867   \n",
              "14                       3094064.0  0.008983  0.787831  0.786775   0.785283   \n",
              "15                       3188555.0  0.010140  0.762627  0.755562   0.738456   \n",
              "16                       3083228.0  0.010371  0.793281  0.760857   0.768052   \n",
              "17                       2914392.0  0.009711  0.710258  0.713331   0.699163   \n",
              "18                       2962227.0  0.010490  0.731498  0.741151   0.714904   \n",
              "19                       2851686.0  0.014238  0.762041  0.761276   0.733510   \n",
              "20                       2909221.0  0.009510  0.790722  0.772420   0.779957   \n",
              "21                       2866739.0  0.008133  0.834782  0.815070   0.840692   \n",
              "22                       2941578.0  0.009519  0.796516  0.797125   0.830571   \n",
              "23                       3178351.0  0.014376  0.773877  0.777521   0.810283   \n",
              "24                       3057234.0  0.014400  0.763500  0.758200   0.803100   \n",
              "25                       2764541.0  0.011700  0.816100  0.817500   0.837400   \n",
              "26                       2708331.0  0.010400  0.857000  0.852800   0.876700   \n",
              "27                       2666419.0  0.009500  0.798800  0.790900   0.821900   \n",
              "28                       2925380.0  0.007300  0.830000  0.821400   0.855800   \n",
              "29                       2721997.0  0.007000  0.836900  0.827700   0.851700   \n",
              "30                       2831259.0  0.006300  0.873200  0.874100   0.885500   \n",
              "31                       2489875.0  0.005600  0.883900  0.882100   0.896700   \n",
              "32                       2643379.0  0.007600  0.827600  0.834900   0.845900   \n",
              "33                       2638914.0  0.005000  0.806100  0.808200   0.824300   \n",
              "34                       2568330.0  0.004600  0.790200  0.795500   0.789700   \n",
              "35                       2663202.0  0.004200  0.792100  0.800800   0.790200   \n",
              "36                       2576963.0  0.004300  0.827000  0.839800   0.820500   \n",
              "37                       2648754.0  0.004200  0.836100  0.833200   0.840300   \n",
              "38                       2579743.0  0.004500  0.850600  0.854200   0.857600   \n",
              "39                       2597373.0  0.005000  0.775200  0.783900   0.758200   \n",
              "40                       2733556.0  0.004500  0.788100  0.796300   0.782700   \n",
              "41                       2544368.0  0.004500  0.796500  0.803600   0.779200   \n",
              "42                       2551255.0  0.004500  0.785100  0.783800   0.801800   \n",
              "43                       1459441.0  0.004500  0.809200  0.833300   0.836600   \n",
              "\n",
              "       Altas  \n",
              "0   0.750700  \n",
              "1   0.644500  \n",
              "2   0.629200  \n",
              "3   0.669700  \n",
              "4   0.704400  \n",
              "5   0.763000  \n",
              "6   0.760600  \n",
              "7   0.794100  \n",
              "8   0.776400  \n",
              "9   0.797922  \n",
              "10  0.783800  \n",
              "11  0.757400  \n",
              "12  0.846483  \n",
              "13  0.832273  \n",
              "14  0.810680  \n",
              "15  0.767059  \n",
              "16  0.783197  \n",
              "17  0.732027  \n",
              "18  0.748095  \n",
              "19  0.762037  \n",
              "20  0.791650  \n",
              "21  0.829706  \n",
              "22  0.808054  \n",
              "23  0.792835  \n",
              "24  0.778400  \n",
              "25  0.837500  \n",
              "26  0.870600  \n",
              "27  0.798500  \n",
              "28  0.835700  \n",
              "29  0.825400  \n",
              "30  0.879100  \n",
              "31  0.895400  \n",
              "32  0.840500  \n",
              "33  0.831600  \n",
              "34  0.799700  \n",
              "35  0.806600  \n",
              "36  0.844700  \n",
              "37  0.862700  \n",
              "38  0.866300  \n",
              "39  0.766000  \n",
              "40  0.801500  \n",
              "41  0.824600  \n",
              "42  0.833600  \n",
              "43  0.860200  "
            ],
            "text/html": [
              "\n",
              "  <div id=\"df-ee911c93-480f-4337-b50f-b5b12867a9d5\">\n",
              "    <div class=\"colab-df-container\">\n",
              "      <div>\n",
              "<style scoped>\n",
              "    .dataframe tbody tr th:only-of-type {\n",
              "        vertical-align: middle;\n",
              "    }\n",
              "\n",
              "    .dataframe tbody tr th {\n",
              "        vertical-align: top;\n",
              "    }\n",
              "\n",
              "    .dataframe thead th {\n",
              "        text-align: right;\n",
              "    }\n",
              "</style>\n",
              "<table border=\"1\" class=\"dataframe\">\n",
              "  <thead>\n",
              "    <tr style=\"text-align: right;\">\n",
              "      <th></th>\n",
              "      <th>AÑO</th>\n",
              "      <th>Mes</th>\n",
              "      <th>N° de horas sin sistema de atención al mes</th>\n",
              "      <th>N° total de horas de atención al mes</th>\n",
              "      <th>CSA%</th>\n",
              "      <th>Nº DE USUARIOS QUE DESISTIERON DE LA ATENCIÓN AL MES</th>\n",
              "      <th>Nº TOTAL DE USUARIOS ATENDIDOS AL MES</th>\n",
              "      <th>DAP (%)</th>\n",
              "      <th>Nº DE LLAMADAS NO FINALIZADAS POR EL USUARIO</th>\n",
              "      <th>Nº TOTAL DE LLAMADAS ATENDIDAS</th>\n",
              "      <th>CAT (%)</th>\n",
              "      <th>Reclamos</th>\n",
              "      <th>Bajas</th>\n",
              "      <th>Consultas</th>\n",
              "      <th>Altas</th>\n",
              "    </tr>\n",
              "  </thead>\n",
              "  <tbody>\n",
              "    <tr>\n",
              "      <th>0</th>\n",
              "      <td>1.0</td>\n",
              "      <td>9.0</td>\n",
              "      <td>15.120</td>\n",
              "      <td>18518.00</td>\n",
              "      <td>0.000817</td>\n",
              "      <td>41584.0</td>\n",
              "      <td>493360.0</td>\n",
              "      <td>0.084300</td>\n",
              "      <td>118385.0</td>\n",
              "      <td>3124089.0</td>\n",
              "      <td>0.037900</td>\n",
              "      <td>0.639000</td>\n",
              "      <td>0.621700</td>\n",
              "      <td>0.658800</td>\n",
              "      <td>0.750700</td>\n",
              "    </tr>\n",
              "    <tr>\n",
              "      <th>1</th>\n",
              "      <td>1.0</td>\n",
              "      <td>10.0</td>\n",
              "      <td>26.370</td>\n",
              "      <td>18591.50</td>\n",
              "      <td>0.001418</td>\n",
              "      <td>37908.0</td>\n",
              "      <td>506790.0</td>\n",
              "      <td>0.074800</td>\n",
              "      <td>123382.0</td>\n",
              "      <td>3391270.0</td>\n",
              "      <td>0.036400</td>\n",
              "      <td>0.733400</td>\n",
              "      <td>0.664200</td>\n",
              "      <td>0.659700</td>\n",
              "      <td>0.644500</td>\n",
              "    </tr>\n",
              "    <tr>\n",
              "      <th>2</th>\n",
              "      <td>1.0</td>\n",
              "      <td>11.0</td>\n",
              "      <td>3.580</td>\n",
              "      <td>18637.25</td>\n",
              "      <td>0.000192</td>\n",
              "      <td>37922.0</td>\n",
              "      <td>508222.0</td>\n",
              "      <td>0.074600</td>\n",
              "      <td>117383.0</td>\n",
              "      <td>3246056.0</td>\n",
              "      <td>0.036200</td>\n",
              "      <td>0.711200</td>\n",
              "      <td>0.646600</td>\n",
              "      <td>0.627000</td>\n",
              "      <td>0.629200</td>\n",
              "    </tr>\n",
              "    <tr>\n",
              "      <th>3</th>\n",
              "      <td>1.0</td>\n",
              "      <td>12.0</td>\n",
              "      <td>0.620</td>\n",
              "      <td>21049.75</td>\n",
              "      <td>0.000029</td>\n",
              "      <td>39301.0</td>\n",
              "      <td>518982.0</td>\n",
              "      <td>0.075700</td>\n",
              "      <td>11756.0</td>\n",
              "      <td>3382625.0</td>\n",
              "      <td>0.034800</td>\n",
              "      <td>0.737800</td>\n",
              "      <td>0.684700</td>\n",
              "      <td>0.649000</td>\n",
              "      <td>0.669700</td>\n",
              "    </tr>\n",
              "    <tr>\n",
              "      <th>4</th>\n",
              "      <td>1.0</td>\n",
              "      <td>1.0</td>\n",
              "      <td>0.830</td>\n",
              "      <td>19743.50</td>\n",
              "      <td>0.000042</td>\n",
              "      <td>35969.0</td>\n",
              "      <td>506900.0</td>\n",
              "      <td>0.071000</td>\n",
              "      <td>100277.0</td>\n",
              "      <td>3505628.0</td>\n",
              "      <td>0.028600</td>\n",
              "      <td>0.764100</td>\n",
              "      <td>0.722900</td>\n",
              "      <td>0.718900</td>\n",
              "      <td>0.704400</td>\n",
              "    </tr>\n",
              "    <tr>\n",
              "      <th>5</th>\n",
              "      <td>1.0</td>\n",
              "      <td>2.0</td>\n",
              "      <td>8.250</td>\n",
              "      <td>18530.50</td>\n",
              "      <td>0.000445</td>\n",
              "      <td>26550.0</td>\n",
              "      <td>475277.0</td>\n",
              "      <td>0.055900</td>\n",
              "      <td>61818.0</td>\n",
              "      <td>3461584.0</td>\n",
              "      <td>0.017900</td>\n",
              "      <td>0.797000</td>\n",
              "      <td>0.756500</td>\n",
              "      <td>0.769300</td>\n",
              "      <td>0.763000</td>\n",
              "    </tr>\n",
              "    <tr>\n",
              "      <th>6</th>\n",
              "      <td>1.0</td>\n",
              "      <td>3.0</td>\n",
              "      <td>1.520</td>\n",
              "      <td>20930.75</td>\n",
              "      <td>0.000073</td>\n",
              "      <td>25004.0</td>\n",
              "      <td>488132.0</td>\n",
              "      <td>0.051200</td>\n",
              "      <td>74489.0</td>\n",
              "      <td>3694472.0</td>\n",
              "      <td>0.020200</td>\n",
              "      <td>0.787200</td>\n",
              "      <td>0.745900</td>\n",
              "      <td>0.753800</td>\n",
              "      <td>0.760600</td>\n",
              "    </tr>\n",
              "    <tr>\n",
              "      <th>7</th>\n",
              "      <td>1.0</td>\n",
              "      <td>4.0</td>\n",
              "      <td>3.700</td>\n",
              "      <td>19992.25</td>\n",
              "      <td>0.000185</td>\n",
              "      <td>17778.0</td>\n",
              "      <td>446492.0</td>\n",
              "      <td>0.039800</td>\n",
              "      <td>56881.0</td>\n",
              "      <td>3471795.0</td>\n",
              "      <td>0.016400</td>\n",
              "      <td>0.808400</td>\n",
              "      <td>0.778200</td>\n",
              "      <td>0.795600</td>\n",
              "      <td>0.794100</td>\n",
              "    </tr>\n",
              "    <tr>\n",
              "      <th>8</th>\n",
              "      <td>1.0</td>\n",
              "      <td>5.0</td>\n",
              "      <td>0.000</td>\n",
              "      <td>20780.25</td>\n",
              "      <td>0.000000</td>\n",
              "      <td>18789.0</td>\n",
              "      <td>434213.0</td>\n",
              "      <td>0.043300</td>\n",
              "      <td>49189.0</td>\n",
              "      <td>3527899.0</td>\n",
              "      <td>0.013900</td>\n",
              "      <td>0.789900</td>\n",
              "      <td>0.773300</td>\n",
              "      <td>0.764100</td>\n",
              "      <td>0.776400</td>\n",
              "    </tr>\n",
              "    <tr>\n",
              "      <th>9</th>\n",
              "      <td>1.0</td>\n",
              "      <td>6.0</td>\n",
              "      <td>5.086</td>\n",
              "      <td>21319.60</td>\n",
              "      <td>0.000236</td>\n",
              "      <td>17435.4</td>\n",
              "      <td>468992.4</td>\n",
              "      <td>0.037263</td>\n",
              "      <td>31394.2</td>\n",
              "      <td>3097012.6</td>\n",
              "      <td>0.009992</td>\n",
              "      <td>0.805164</td>\n",
              "      <td>0.789083</td>\n",
              "      <td>0.803304</td>\n",
              "      <td>0.797922</td>\n",
              "    </tr>\n",
              "    <tr>\n",
              "      <th>10</th>\n",
              "      <td>1.0</td>\n",
              "      <td>7.0</td>\n",
              "      <td>7.180</td>\n",
              "      <td>20583.75</td>\n",
              "      <td>0.000349</td>\n",
              "      <td>16714.0</td>\n",
              "      <td>441291.0</td>\n",
              "      <td>0.037900</td>\n",
              "      <td>28800.0</td>\n",
              "      <td>3239626.0</td>\n",
              "      <td>0.008900</td>\n",
              "      <td>0.813900</td>\n",
              "      <td>0.787500</td>\n",
              "      <td>0.801200</td>\n",
              "      <td>0.783800</td>\n",
              "    </tr>\n",
              "    <tr>\n",
              "      <th>11</th>\n",
              "      <td>1.0</td>\n",
              "      <td>8.0</td>\n",
              "      <td>0.680</td>\n",
              "      <td>20698.50</td>\n",
              "      <td>0.000033</td>\n",
              "      <td>16631.0</td>\n",
              "      <td>409005.0</td>\n",
              "      <td>0.040700</td>\n",
              "      <td>26790.0</td>\n",
              "      <td>3368573.0</td>\n",
              "      <td>0.008000</td>\n",
              "      <td>0.792700</td>\n",
              "      <td>0.775400</td>\n",
              "      <td>0.778900</td>\n",
              "      <td>0.757400</td>\n",
              "    </tr>\n",
              "    <tr>\n",
              "      <th>12</th>\n",
              "      <td>2.0</td>\n",
              "      <td>9.0</td>\n",
              "      <td>13.070</td>\n",
              "      <td>20791.00</td>\n",
              "      <td>0.000629</td>\n",
              "      <td>16614.0</td>\n",
              "      <td>447039.0</td>\n",
              "      <td>0.037165</td>\n",
              "      <td>28200.0</td>\n",
              "      <td>3274924.0</td>\n",
              "      <td>0.008611</td>\n",
              "      <td>0.836672</td>\n",
              "      <td>0.826782</td>\n",
              "      <td>0.836964</td>\n",
              "      <td>0.846483</td>\n",
              "    </tr>\n",
              "    <tr>\n",
              "      <th>13</th>\n",
              "      <td>2.0</td>\n",
              "      <td>10.0</td>\n",
              "      <td>2.650</td>\n",
              "      <td>20590.25</td>\n",
              "      <td>0.000129</td>\n",
              "      <td>18120.0</td>\n",
              "      <td>444409.0</td>\n",
              "      <td>0.040773</td>\n",
              "      <td>30046.0</td>\n",
              "      <td>3394403.0</td>\n",
              "      <td>0.008852</td>\n",
              "      <td>0.804647</td>\n",
              "      <td>0.817908</td>\n",
              "      <td>0.800867</td>\n",
              "      <td>0.832273</td>\n",
              "    </tr>\n",
              "    <tr>\n",
              "      <th>14</th>\n",
              "      <td>2.0</td>\n",
              "      <td>11.0</td>\n",
              "      <td>1.840</td>\n",
              "      <td>20453.75</td>\n",
              "      <td>0.000090</td>\n",
              "      <td>20186.0</td>\n",
              "      <td>448584.0</td>\n",
              "      <td>0.044999</td>\n",
              "      <td>27794.0</td>\n",
              "      <td>3094064.0</td>\n",
              "      <td>0.008983</td>\n",
              "      <td>0.787831</td>\n",
              "      <td>0.786775</td>\n",
              "      <td>0.785283</td>\n",
              "      <td>0.810680</td>\n",
              "    </tr>\n",
              "    <tr>\n",
              "      <th>15</th>\n",
              "      <td>2.0</td>\n",
              "      <td>12.0</td>\n",
              "      <td>11.570</td>\n",
              "      <td>21970.50</td>\n",
              "      <td>0.000527</td>\n",
              "      <td>24565.0</td>\n",
              "      <td>487204.0</td>\n",
              "      <td>0.050420</td>\n",
              "      <td>32331.0</td>\n",
              "      <td>3188555.0</td>\n",
              "      <td>0.010140</td>\n",
              "      <td>0.762627</td>\n",
              "      <td>0.755562</td>\n",
              "      <td>0.738456</td>\n",
              "      <td>0.767059</td>\n",
              "    </tr>\n",
              "    <tr>\n",
              "      <th>16</th>\n",
              "      <td>2.0</td>\n",
              "      <td>1.0</td>\n",
              "      <td>0.170</td>\n",
              "      <td>20970.50</td>\n",
              "      <td>0.000008</td>\n",
              "      <td>21151.0</td>\n",
              "      <td>463831.0</td>\n",
              "      <td>0.045601</td>\n",
              "      <td>31975.0</td>\n",
              "      <td>3083228.0</td>\n",
              "      <td>0.010371</td>\n",
              "      <td>0.793281</td>\n",
              "      <td>0.760857</td>\n",
              "      <td>0.768052</td>\n",
              "      <td>0.783197</td>\n",
              "    </tr>\n",
              "    <tr>\n",
              "      <th>17</th>\n",
              "      <td>2.0</td>\n",
              "      <td>2.0</td>\n",
              "      <td>0.000</td>\n",
              "      <td>20395.25</td>\n",
              "      <td>0.000000</td>\n",
              "      <td>25670.0</td>\n",
              "      <td>461846.0</td>\n",
              "      <td>0.055581</td>\n",
              "      <td>28301.0</td>\n",
              "      <td>2914392.0</td>\n",
              "      <td>0.009711</td>\n",
              "      <td>0.710258</td>\n",
              "      <td>0.713331</td>\n",
              "      <td>0.699163</td>\n",
              "      <td>0.732027</td>\n",
              "    </tr>\n",
              "    <tr>\n",
              "      <th>18</th>\n",
              "      <td>2.0</td>\n",
              "      <td>3.0</td>\n",
              "      <td>4.800</td>\n",
              "      <td>21421.50</td>\n",
              "      <td>0.000224</td>\n",
              "      <td>25090.0</td>\n",
              "      <td>475539.0</td>\n",
              "      <td>0.052761</td>\n",
              "      <td>31074.0</td>\n",
              "      <td>2962227.0</td>\n",
              "      <td>0.010490</td>\n",
              "      <td>0.731498</td>\n",
              "      <td>0.741151</td>\n",
              "      <td>0.714904</td>\n",
              "      <td>0.748095</td>\n",
              "    </tr>\n",
              "    <tr>\n",
              "      <th>19</th>\n",
              "      <td>2.0</td>\n",
              "      <td>4.0</td>\n",
              "      <td>1.100</td>\n",
              "      <td>21398.50</td>\n",
              "      <td>0.000051</td>\n",
              "      <td>21751.0</td>\n",
              "      <td>475211.0</td>\n",
              "      <td>0.045771</td>\n",
              "      <td>40603.0</td>\n",
              "      <td>2851686.0</td>\n",
              "      <td>0.014238</td>\n",
              "      <td>0.762041</td>\n",
              "      <td>0.761276</td>\n",
              "      <td>0.733510</td>\n",
              "      <td>0.762037</td>\n",
              "    </tr>\n",
              "    <tr>\n",
              "      <th>20</th>\n",
              "      <td>2.0</td>\n",
              "      <td>5.0</td>\n",
              "      <td>13.370</td>\n",
              "      <td>22022.25</td>\n",
              "      <td>0.000607</td>\n",
              "      <td>20427.0</td>\n",
              "      <td>520146.0</td>\n",
              "      <td>0.039272</td>\n",
              "      <td>27667.0</td>\n",
              "      <td>2909221.0</td>\n",
              "      <td>0.009510</td>\n",
              "      <td>0.790722</td>\n",
              "      <td>0.772420</td>\n",
              "      <td>0.779957</td>\n",
              "      <td>0.791650</td>\n",
              "    </tr>\n",
              "    <tr>\n",
              "      <th>21</th>\n",
              "      <td>2.0</td>\n",
              "      <td>6.0</td>\n",
              "      <td>1.460</td>\n",
              "      <td>21349.00</td>\n",
              "      <td>0.000068</td>\n",
              "      <td>15697.0</td>\n",
              "      <td>482379.0</td>\n",
              "      <td>0.032541</td>\n",
              "      <td>23314.0</td>\n",
              "      <td>2866739.0</td>\n",
              "      <td>0.008133</td>\n",
              "      <td>0.834782</td>\n",
              "      <td>0.815070</td>\n",
              "      <td>0.840692</td>\n",
              "      <td>0.829706</td>\n",
              "    </tr>\n",
              "    <tr>\n",
              "      <th>22</th>\n",
              "      <td>2.0</td>\n",
              "      <td>7.0</td>\n",
              "      <td>3.420</td>\n",
              "      <td>21862.75</td>\n",
              "      <td>0.000156</td>\n",
              "      <td>15550.0</td>\n",
              "      <td>466933.0</td>\n",
              "      <td>0.033302</td>\n",
              "      <td>28001.0</td>\n",
              "      <td>2941578.0</td>\n",
              "      <td>0.009519</td>\n",
              "      <td>0.796516</td>\n",
              "      <td>0.797125</td>\n",
              "      <td>0.830571</td>\n",
              "      <td>0.808054</td>\n",
              "    </tr>\n",
              "    <tr>\n",
              "      <th>23</th>\n",
              "      <td>2.0</td>\n",
              "      <td>8.0</td>\n",
              "      <td>82.260</td>\n",
              "      <td>22484.75</td>\n",
              "      <td>0.003658</td>\n",
              "      <td>17163.0</td>\n",
              "      <td>488156.0</td>\n",
              "      <td>0.035159</td>\n",
              "      <td>45691.0</td>\n",
              "      <td>3178351.0</td>\n",
              "      <td>0.014376</td>\n",
              "      <td>0.773877</td>\n",
              "      <td>0.777521</td>\n",
              "      <td>0.810283</td>\n",
              "      <td>0.792835</td>\n",
              "    </tr>\n",
              "    <tr>\n",
              "      <th>24</th>\n",
              "      <td>3.0</td>\n",
              "      <td>9.0</td>\n",
              "      <td>16.140</td>\n",
              "      <td>22370.00</td>\n",
              "      <td>0.000722</td>\n",
              "      <td>18669.0</td>\n",
              "      <td>649167.0</td>\n",
              "      <td>0.034000</td>\n",
              "      <td>44135.0</td>\n",
              "      <td>3057234.0</td>\n",
              "      <td>0.014400</td>\n",
              "      <td>0.763500</td>\n",
              "      <td>0.758200</td>\n",
              "      <td>0.803100</td>\n",
              "      <td>0.778400</td>\n",
              "    </tr>\n",
              "    <tr>\n",
              "      <th>25</th>\n",
              "      <td>3.0</td>\n",
              "      <td>10.0</td>\n",
              "      <td>7.900</td>\n",
              "      <td>22196.00</td>\n",
              "      <td>0.000356</td>\n",
              "      <td>19539.0</td>\n",
              "      <td>507969.0</td>\n",
              "      <td>0.038500</td>\n",
              "      <td>32328.0</td>\n",
              "      <td>2764541.0</td>\n",
              "      <td>0.011700</td>\n",
              "      <td>0.816100</td>\n",
              "      <td>0.817500</td>\n",
              "      <td>0.837400</td>\n",
              "      <td>0.837500</td>\n",
              "    </tr>\n",
              "    <tr>\n",
              "      <th>26</th>\n",
              "      <td>3.0</td>\n",
              "      <td>11.0</td>\n",
              "      <td>13.250</td>\n",
              "      <td>21568.50</td>\n",
              "      <td>0.000614</td>\n",
              "      <td>16667.0</td>\n",
              "      <td>504509.0</td>\n",
              "      <td>0.033000</td>\n",
              "      <td>28163.0</td>\n",
              "      <td>2708331.0</td>\n",
              "      <td>0.010400</td>\n",
              "      <td>0.857000</td>\n",
              "      <td>0.852800</td>\n",
              "      <td>0.876700</td>\n",
              "      <td>0.870600</td>\n",
              "    </tr>\n",
              "    <tr>\n",
              "      <th>27</th>\n",
              "      <td>3.0</td>\n",
              "      <td>12.0</td>\n",
              "      <td>29.320</td>\n",
              "      <td>22253.50</td>\n",
              "      <td>0.001318</td>\n",
              "      <td>23895.0</td>\n",
              "      <td>518464.0</td>\n",
              "      <td>0.046100</td>\n",
              "      <td>25228.0</td>\n",
              "      <td>2666419.0</td>\n",
              "      <td>0.009500</td>\n",
              "      <td>0.798800</td>\n",
              "      <td>0.790900</td>\n",
              "      <td>0.821900</td>\n",
              "      <td>0.798500</td>\n",
              "    </tr>\n",
              "    <tr>\n",
              "      <th>28</th>\n",
              "      <td>3.0</td>\n",
              "      <td>1.0</td>\n",
              "      <td>13.540</td>\n",
              "      <td>22408.50</td>\n",
              "      <td>0.000604</td>\n",
              "      <td>21331.0</td>\n",
              "      <td>521947.0</td>\n",
              "      <td>0.040900</td>\n",
              "      <td>21419.0</td>\n",
              "      <td>2925380.0</td>\n",
              "      <td>0.007300</td>\n",
              "      <td>0.830000</td>\n",
              "      <td>0.821400</td>\n",
              "      <td>0.855800</td>\n",
              "      <td>0.835700</td>\n",
              "    </tr>\n",
              "    <tr>\n",
              "      <th>29</th>\n",
              "      <td>3.0</td>\n",
              "      <td>2.0</td>\n",
              "      <td>13.580</td>\n",
              "      <td>20480.00</td>\n",
              "      <td>0.000663</td>\n",
              "      <td>19271.0</td>\n",
              "      <td>465185.0</td>\n",
              "      <td>0.041400</td>\n",
              "      <td>19006.0</td>\n",
              "      <td>2721997.0</td>\n",
              "      <td>0.007000</td>\n",
              "      <td>0.836900</td>\n",
              "      <td>0.827700</td>\n",
              "      <td>0.851700</td>\n",
              "      <td>0.825400</td>\n",
              "    </tr>\n",
              "    <tr>\n",
              "      <th>30</th>\n",
              "      <td>3.0</td>\n",
              "      <td>3.0</td>\n",
              "      <td>15.680</td>\n",
              "      <td>22764.50</td>\n",
              "      <td>0.000689</td>\n",
              "      <td>17657.0</td>\n",
              "      <td>544011.0</td>\n",
              "      <td>0.032500</td>\n",
              "      <td>17873.0</td>\n",
              "      <td>2831259.0</td>\n",
              "      <td>0.006300</td>\n",
              "      <td>0.873200</td>\n",
              "      <td>0.874100</td>\n",
              "      <td>0.885500</td>\n",
              "      <td>0.879100</td>\n",
              "    </tr>\n",
              "    <tr>\n",
              "      <th>31</th>\n",
              "      <td>3.0</td>\n",
              "      <td>4.0</td>\n",
              "      <td>11.170</td>\n",
              "      <td>20895.00</td>\n",
              "      <td>0.000535</td>\n",
              "      <td>15561.0</td>\n",
              "      <td>476504.0</td>\n",
              "      <td>0.032700</td>\n",
              "      <td>13984.0</td>\n",
              "      <td>2489875.0</td>\n",
              "      <td>0.005600</td>\n",
              "      <td>0.883900</td>\n",
              "      <td>0.882100</td>\n",
              "      <td>0.896700</td>\n",
              "      <td>0.895400</td>\n",
              "    </tr>\n",
              "    <tr>\n",
              "      <th>32</th>\n",
              "      <td>3.0</td>\n",
              "      <td>5.0</td>\n",
              "      <td>12.280</td>\n",
              "      <td>22374.00</td>\n",
              "      <td>0.000549</td>\n",
              "      <td>21938.0</td>\n",
              "      <td>535544.0</td>\n",
              "      <td>0.041000</td>\n",
              "      <td>20078.0</td>\n",
              "      <td>2643379.0</td>\n",
              "      <td>0.007600</td>\n",
              "      <td>0.827600</td>\n",
              "      <td>0.834900</td>\n",
              "      <td>0.845900</td>\n",
              "      <td>0.840500</td>\n",
              "    </tr>\n",
              "    <tr>\n",
              "      <th>33</th>\n",
              "      <td>3.0</td>\n",
              "      <td>6.0</td>\n",
              "      <td>2.970</td>\n",
              "      <td>21577.25</td>\n",
              "      <td>0.000138</td>\n",
              "      <td>22934.0</td>\n",
              "      <td>471505.0</td>\n",
              "      <td>0.048600</td>\n",
              "      <td>13129.0</td>\n",
              "      <td>2638914.0</td>\n",
              "      <td>0.005000</td>\n",
              "      <td>0.806100</td>\n",
              "      <td>0.808200</td>\n",
              "      <td>0.824300</td>\n",
              "      <td>0.831600</td>\n",
              "    </tr>\n",
              "    <tr>\n",
              "      <th>34</th>\n",
              "      <td>3.0</td>\n",
              "      <td>7.0</td>\n",
              "      <td>3.600</td>\n",
              "      <td>21868.50</td>\n",
              "      <td>0.000165</td>\n",
              "      <td>19952.0</td>\n",
              "      <td>458687.0</td>\n",
              "      <td>0.043500</td>\n",
              "      <td>11814.0</td>\n",
              "      <td>2568330.0</td>\n",
              "      <td>0.004600</td>\n",
              "      <td>0.790200</td>\n",
              "      <td>0.795500</td>\n",
              "      <td>0.789700</td>\n",
              "      <td>0.799700</td>\n",
              "    </tr>\n",
              "    <tr>\n",
              "      <th>35</th>\n",
              "      <td>3.0</td>\n",
              "      <td>8.0</td>\n",
              "      <td>3.150</td>\n",
              "      <td>22655.00</td>\n",
              "      <td>0.000139</td>\n",
              "      <td>16681.0</td>\n",
              "      <td>461356.0</td>\n",
              "      <td>0.036200</td>\n",
              "      <td>11236.0</td>\n",
              "      <td>2663202.0</td>\n",
              "      <td>0.004200</td>\n",
              "      <td>0.792100</td>\n",
              "      <td>0.800800</td>\n",
              "      <td>0.790200</td>\n",
              "      <td>0.806600</td>\n",
              "    </tr>\n",
              "    <tr>\n",
              "      <th>36</th>\n",
              "      <td>4.0</td>\n",
              "      <td>9.0</td>\n",
              "      <td>1.000</td>\n",
              "      <td>22135.00</td>\n",
              "      <td>0.000050</td>\n",
              "      <td>13066.0</td>\n",
              "      <td>451604.0</td>\n",
              "      <td>0.028900</td>\n",
              "      <td>11106.0</td>\n",
              "      <td>2576963.0</td>\n",
              "      <td>0.004300</td>\n",
              "      <td>0.827000</td>\n",
              "      <td>0.839800</td>\n",
              "      <td>0.820500</td>\n",
              "      <td>0.844700</td>\n",
              "    </tr>\n",
              "    <tr>\n",
              "      <th>37</th>\n",
              "      <td>4.0</td>\n",
              "      <td>10.0</td>\n",
              "      <td>9.530</td>\n",
              "      <td>22462.25</td>\n",
              "      <td>0.000420</td>\n",
              "      <td>12246.0</td>\n",
              "      <td>445719.0</td>\n",
              "      <td>0.027500</td>\n",
              "      <td>11093.0</td>\n",
              "      <td>2648754.0</td>\n",
              "      <td>0.004200</td>\n",
              "      <td>0.836100</td>\n",
              "      <td>0.833200</td>\n",
              "      <td>0.840300</td>\n",
              "      <td>0.862700</td>\n",
              "    </tr>\n",
              "    <tr>\n",
              "      <th>38</th>\n",
              "      <td>4.0</td>\n",
              "      <td>11.0</td>\n",
              "      <td>5.670</td>\n",
              "      <td>22134.00</td>\n",
              "      <td>0.000260</td>\n",
              "      <td>12479.0</td>\n",
              "      <td>438504.0</td>\n",
              "      <td>0.028500</td>\n",
              "      <td>11550.0</td>\n",
              "      <td>2579743.0</td>\n",
              "      <td>0.004500</td>\n",
              "      <td>0.850600</td>\n",
              "      <td>0.854200</td>\n",
              "      <td>0.857600</td>\n",
              "      <td>0.866300</td>\n",
              "    </tr>\n",
              "    <tr>\n",
              "      <th>39</th>\n",
              "      <td>4.0</td>\n",
              "      <td>12.0</td>\n",
              "      <td>5.280</td>\n",
              "      <td>22413.50</td>\n",
              "      <td>0.000240</td>\n",
              "      <td>19828.0</td>\n",
              "      <td>444416.0</td>\n",
              "      <td>0.044600</td>\n",
              "      <td>12860.0</td>\n",
              "      <td>2597373.0</td>\n",
              "      <td>0.005000</td>\n",
              "      <td>0.775200</td>\n",
              "      <td>0.783900</td>\n",
              "      <td>0.758200</td>\n",
              "      <td>0.766000</td>\n",
              "    </tr>\n",
              "    <tr>\n",
              "      <th>40</th>\n",
              "      <td>4.0</td>\n",
              "      <td>1.0</td>\n",
              "      <td>1.200</td>\n",
              "      <td>22276.00</td>\n",
              "      <td>0.000050</td>\n",
              "      <td>20021.0</td>\n",
              "      <td>428153.0</td>\n",
              "      <td>0.046800</td>\n",
              "      <td>12344.0</td>\n",
              "      <td>2733556.0</td>\n",
              "      <td>0.004500</td>\n",
              "      <td>0.788100</td>\n",
              "      <td>0.796300</td>\n",
              "      <td>0.782700</td>\n",
              "      <td>0.801500</td>\n",
              "    </tr>\n",
              "    <tr>\n",
              "      <th>41</th>\n",
              "      <td>4.0</td>\n",
              "      <td>2.0</td>\n",
              "      <td>1.380</td>\n",
              "      <td>20137.00</td>\n",
              "      <td>0.000070</td>\n",
              "      <td>17928.0</td>\n",
              "      <td>384087.0</td>\n",
              "      <td>0.046700</td>\n",
              "      <td>11576.0</td>\n",
              "      <td>2544368.0</td>\n",
              "      <td>0.004500</td>\n",
              "      <td>0.796500</td>\n",
              "      <td>0.803600</td>\n",
              "      <td>0.779200</td>\n",
              "      <td>0.824600</td>\n",
              "    </tr>\n",
              "    <tr>\n",
              "      <th>42</th>\n",
              "      <td>4.0</td>\n",
              "      <td>3.0</td>\n",
              "      <td>2.070</td>\n",
              "      <td>21792.50</td>\n",
              "      <td>0.000090</td>\n",
              "      <td>17781.0</td>\n",
              "      <td>411650.0</td>\n",
              "      <td>0.043200</td>\n",
              "      <td>11564.0</td>\n",
              "      <td>2551255.0</td>\n",
              "      <td>0.004500</td>\n",
              "      <td>0.785100</td>\n",
              "      <td>0.783800</td>\n",
              "      <td>0.801800</td>\n",
              "      <td>0.833600</td>\n",
              "    </tr>\n",
              "    <tr>\n",
              "      <th>43</th>\n",
              "      <td>4.0</td>\n",
              "      <td>4.0</td>\n",
              "      <td>1.570</td>\n",
              "      <td>21323.00</td>\n",
              "      <td>0.000100</td>\n",
              "      <td>15484.0</td>\n",
              "      <td>415825.0</td>\n",
              "      <td>0.037200</td>\n",
              "      <td>11036.0</td>\n",
              "      <td>1459441.0</td>\n",
              "      <td>0.004500</td>\n",
              "      <td>0.809200</td>\n",
              "      <td>0.833300</td>\n",
              "      <td>0.836600</td>\n",
              "      <td>0.860200</td>\n",
              "    </tr>\n",
              "  </tbody>\n",
              "</table>\n",
              "</div>\n",
              "      <button class=\"colab-df-convert\" onclick=\"convertToInteractive('df-ee911c93-480f-4337-b50f-b5b12867a9d5')\"\n",
              "              title=\"Convert this dataframe to an interactive table.\"\n",
              "              style=\"display:none;\">\n",
              "        \n",
              "  <svg xmlns=\"http://www.w3.org/2000/svg\" height=\"24px\"viewBox=\"0 0 24 24\"\n",
              "       width=\"24px\">\n",
              "    <path d=\"M0 0h24v24H0V0z\" fill=\"none\"/>\n",
              "    <path d=\"M18.56 5.44l.94 2.06.94-2.06 2.06-.94-2.06-.94-.94-2.06-.94 2.06-2.06.94zm-11 1L8.5 8.5l.94-2.06 2.06-.94-2.06-.94L8.5 2.5l-.94 2.06-2.06.94zm10 10l.94 2.06.94-2.06 2.06-.94-2.06-.94-.94-2.06-.94 2.06-2.06.94z\"/><path d=\"M17.41 7.96l-1.37-1.37c-.4-.4-.92-.59-1.43-.59-.52 0-1.04.2-1.43.59L10.3 9.45l-7.72 7.72c-.78.78-.78 2.05 0 2.83L4 21.41c.39.39.9.59 1.41.59.51 0 1.02-.2 1.41-.59l7.78-7.78 2.81-2.81c.8-.78.8-2.07 0-2.86zM5.41 20L4 18.59l7.72-7.72 1.47 1.35L5.41 20z\"/>\n",
              "  </svg>\n",
              "      </button>\n",
              "      \n",
              "  <style>\n",
              "    .colab-df-container {\n",
              "      display:flex;\n",
              "      flex-wrap:wrap;\n",
              "      gap: 12px;\n",
              "    }\n",
              "\n",
              "    .colab-df-convert {\n",
              "      background-color: #E8F0FE;\n",
              "      border: none;\n",
              "      border-radius: 50%;\n",
              "      cursor: pointer;\n",
              "      display: none;\n",
              "      fill: #1967D2;\n",
              "      height: 32px;\n",
              "      padding: 0 0 0 0;\n",
              "      width: 32px;\n",
              "    }\n",
              "\n",
              "    .colab-df-convert:hover {\n",
              "      background-color: #E2EBFA;\n",
              "      box-shadow: 0px 1px 2px rgba(60, 64, 67, 0.3), 0px 1px 3px 1px rgba(60, 64, 67, 0.15);\n",
              "      fill: #174EA6;\n",
              "    }\n",
              "\n",
              "    [theme=dark] .colab-df-convert {\n",
              "      background-color: #3B4455;\n",
              "      fill: #D2E3FC;\n",
              "    }\n",
              "\n",
              "    [theme=dark] .colab-df-convert:hover {\n",
              "      background-color: #434B5C;\n",
              "      box-shadow: 0px 1px 3px 1px rgba(0, 0, 0, 0.15);\n",
              "      filter: drop-shadow(0px 1px 2px rgba(0, 0, 0, 0.3));\n",
              "      fill: #FFFFFF;\n",
              "    }\n",
              "  </style>\n",
              "\n",
              "      <script>\n",
              "        const buttonEl =\n",
              "          document.querySelector('#df-ee911c93-480f-4337-b50f-b5b12867a9d5 button.colab-df-convert');\n",
              "        buttonEl.style.display =\n",
              "          google.colab.kernel.accessAllowed ? 'block' : 'none';\n",
              "\n",
              "        async function convertToInteractive(key) {\n",
              "          const element = document.querySelector('#df-ee911c93-480f-4337-b50f-b5b12867a9d5');\n",
              "          const dataTable =\n",
              "            await google.colab.kernel.invokeFunction('convertToInteractive',\n",
              "                                                     [key], {});\n",
              "          if (!dataTable) return;\n",
              "\n",
              "          const docLinkHtml = 'Like what you see? Visit the ' +\n",
              "            '<a target=\"_blank\" href=https://colab.research.google.com/notebooks/data_table.ipynb>data table notebook</a>'\n",
              "            + ' to learn more about interactive tables.';\n",
              "          element.innerHTML = '';\n",
              "          dataTable['output_type'] = 'display_data';\n",
              "          await google.colab.output.renderOutput(dataTable, element);\n",
              "          const docLink = document.createElement('div');\n",
              "          docLink.innerHTML = docLinkHtml;\n",
              "          element.appendChild(docLink);\n",
              "        }\n",
              "      </script>\n",
              "    </div>\n",
              "  </div>\n",
              "  "
            ]
          },
          "metadata": {},
          "execution_count": 5
        }
      ]
    },
    {
      "cell_type": "code",
      "metadata": {
        "colab": {
          "base_uri": "https://localhost:8080/"
        },
        "id": "A4ZsQuCvLqUX",
        "outputId": "ee3587a7-3e81-4ab9-9a82-739e9d3c37cd"
      },
      "source": [
        "data[\"Reclamos\"]"
      ],
      "execution_count": null,
      "outputs": [
        {
          "output_type": "execute_result",
          "data": {
            "text/plain": [
              "0     0.639000\n",
              "1     0.733400\n",
              "2     0.711200\n",
              "3     0.737800\n",
              "4     0.764100\n",
              "5     0.797000\n",
              "6     0.787200\n",
              "7     0.808400\n",
              "8     0.789900\n",
              "9     0.805164\n",
              "10    0.813900\n",
              "11    0.792700\n",
              "12    0.836672\n",
              "13    0.804647\n",
              "14    0.787831\n",
              "15    0.762627\n",
              "16    0.793281\n",
              "17    0.710258\n",
              "18    0.731498\n",
              "19    0.762041\n",
              "20    0.790722\n",
              "21    0.834782\n",
              "22    0.796516\n",
              "23    0.773877\n",
              "24    0.763500\n",
              "25    0.816100\n",
              "26    0.857000\n",
              "27    0.798800\n",
              "28    0.830000\n",
              "29    0.836900\n",
              "30    0.873200\n",
              "31    0.883900\n",
              "32    0.827600\n",
              "33    0.806100\n",
              "34    0.790200\n",
              "35    0.792100\n",
              "36    0.827000\n",
              "37    0.836100\n",
              "38    0.850600\n",
              "39    0.775200\n",
              "40    0.788100\n",
              "41    0.796500\n",
              "42    0.785100\n",
              "43    0.809200\n",
              "Name: Reclamos, dtype: float64"
            ]
          },
          "metadata": {},
          "execution_count": 6
        }
      ]
    },
    {
      "cell_type": "code",
      "metadata": {
        "id": "rmPPG7AaLhJG"
      },
      "source": [
        "bins = [0.00, 0.20, 0.40, 0.60, 0.80, 1.0]\n",
        "names = [\"1\", \"2\", \"3\", \"4\", \"5\"]"
      ],
      "execution_count": null,
      "outputs": []
    },
    {
      "cell_type": "code",
      "metadata": {
        "colab": {
          "base_uri": "https://localhost:8080/",
          "height": 206
        },
        "id": "rkO18PphLjAQ",
        "outputId": "552ab9bc-9732-42dd-dac1-c1e3a6f298c2"
      },
      "source": [
        "data[\"Reclamos-Cat\"] = pd.cut(data[\"Reclamos\"], bins, labels = names)\n",
        "data[[\"Reclamos\", \"Reclamos-Cat\"]].head(5)"
      ],
      "execution_count": null,
      "outputs": [
        {
          "output_type": "execute_result",
          "data": {
            "text/plain": [
              "   Reclamos Reclamos-Cat\n",
              "0    0.6390            4\n",
              "1    0.7334            4\n",
              "2    0.7112            4\n",
              "3    0.7378            4\n",
              "4    0.7641            4"
            ],
            "text/html": [
              "\n",
              "  <div id=\"df-5cc23aa9-ad14-4813-92ab-4ec275e913a1\">\n",
              "    <div class=\"colab-df-container\">\n",
              "      <div>\n",
              "<style scoped>\n",
              "    .dataframe tbody tr th:only-of-type {\n",
              "        vertical-align: middle;\n",
              "    }\n",
              "\n",
              "    .dataframe tbody tr th {\n",
              "        vertical-align: top;\n",
              "    }\n",
              "\n",
              "    .dataframe thead th {\n",
              "        text-align: right;\n",
              "    }\n",
              "</style>\n",
              "<table border=\"1\" class=\"dataframe\">\n",
              "  <thead>\n",
              "    <tr style=\"text-align: right;\">\n",
              "      <th></th>\n",
              "      <th>Reclamos</th>\n",
              "      <th>Reclamos-Cat</th>\n",
              "    </tr>\n",
              "  </thead>\n",
              "  <tbody>\n",
              "    <tr>\n",
              "      <th>0</th>\n",
              "      <td>0.6390</td>\n",
              "      <td>4</td>\n",
              "    </tr>\n",
              "    <tr>\n",
              "      <th>1</th>\n",
              "      <td>0.7334</td>\n",
              "      <td>4</td>\n",
              "    </tr>\n",
              "    <tr>\n",
              "      <th>2</th>\n",
              "      <td>0.7112</td>\n",
              "      <td>4</td>\n",
              "    </tr>\n",
              "    <tr>\n",
              "      <th>3</th>\n",
              "      <td>0.7378</td>\n",
              "      <td>4</td>\n",
              "    </tr>\n",
              "    <tr>\n",
              "      <th>4</th>\n",
              "      <td>0.7641</td>\n",
              "      <td>4</td>\n",
              "    </tr>\n",
              "  </tbody>\n",
              "</table>\n",
              "</div>\n",
              "      <button class=\"colab-df-convert\" onclick=\"convertToInteractive('df-5cc23aa9-ad14-4813-92ab-4ec275e913a1')\"\n",
              "              title=\"Convert this dataframe to an interactive table.\"\n",
              "              style=\"display:none;\">\n",
              "        \n",
              "  <svg xmlns=\"http://www.w3.org/2000/svg\" height=\"24px\"viewBox=\"0 0 24 24\"\n",
              "       width=\"24px\">\n",
              "    <path d=\"M0 0h24v24H0V0z\" fill=\"none\"/>\n",
              "    <path d=\"M18.56 5.44l.94 2.06.94-2.06 2.06-.94-2.06-.94-.94-2.06-.94 2.06-2.06.94zm-11 1L8.5 8.5l.94-2.06 2.06-.94-2.06-.94L8.5 2.5l-.94 2.06-2.06.94zm10 10l.94 2.06.94-2.06 2.06-.94-2.06-.94-.94-2.06-.94 2.06-2.06.94z\"/><path d=\"M17.41 7.96l-1.37-1.37c-.4-.4-.92-.59-1.43-.59-.52 0-1.04.2-1.43.59L10.3 9.45l-7.72 7.72c-.78.78-.78 2.05 0 2.83L4 21.41c.39.39.9.59 1.41.59.51 0 1.02-.2 1.41-.59l7.78-7.78 2.81-2.81c.8-.78.8-2.07 0-2.86zM5.41 20L4 18.59l7.72-7.72 1.47 1.35L5.41 20z\"/>\n",
              "  </svg>\n",
              "      </button>\n",
              "      \n",
              "  <style>\n",
              "    .colab-df-container {\n",
              "      display:flex;\n",
              "      flex-wrap:wrap;\n",
              "      gap: 12px;\n",
              "    }\n",
              "\n",
              "    .colab-df-convert {\n",
              "      background-color: #E8F0FE;\n",
              "      border: none;\n",
              "      border-radius: 50%;\n",
              "      cursor: pointer;\n",
              "      display: none;\n",
              "      fill: #1967D2;\n",
              "      height: 32px;\n",
              "      padding: 0 0 0 0;\n",
              "      width: 32px;\n",
              "    }\n",
              "\n",
              "    .colab-df-convert:hover {\n",
              "      background-color: #E2EBFA;\n",
              "      box-shadow: 0px 1px 2px rgba(60, 64, 67, 0.3), 0px 1px 3px 1px rgba(60, 64, 67, 0.15);\n",
              "      fill: #174EA6;\n",
              "    }\n",
              "\n",
              "    [theme=dark] .colab-df-convert {\n",
              "      background-color: #3B4455;\n",
              "      fill: #D2E3FC;\n",
              "    }\n",
              "\n",
              "    [theme=dark] .colab-df-convert:hover {\n",
              "      background-color: #434B5C;\n",
              "      box-shadow: 0px 1px 3px 1px rgba(0, 0, 0, 0.15);\n",
              "      filter: drop-shadow(0px 1px 2px rgba(0, 0, 0, 0.3));\n",
              "      fill: #FFFFFF;\n",
              "    }\n",
              "  </style>\n",
              "\n",
              "      <script>\n",
              "        const buttonEl =\n",
              "          document.querySelector('#df-5cc23aa9-ad14-4813-92ab-4ec275e913a1 button.colab-df-convert');\n",
              "        buttonEl.style.display =\n",
              "          google.colab.kernel.accessAllowed ? 'block' : 'none';\n",
              "\n",
              "        async function convertToInteractive(key) {\n",
              "          const element = document.querySelector('#df-5cc23aa9-ad14-4813-92ab-4ec275e913a1');\n",
              "          const dataTable =\n",
              "            await google.colab.kernel.invokeFunction('convertToInteractive',\n",
              "                                                     [key], {});\n",
              "          if (!dataTable) return;\n",
              "\n",
              "          const docLinkHtml = 'Like what you see? Visit the ' +\n",
              "            '<a target=\"_blank\" href=https://colab.research.google.com/notebooks/data_table.ipynb>data table notebook</a>'\n",
              "            + ' to learn more about interactive tables.';\n",
              "          element.innerHTML = '';\n",
              "          dataTable['output_type'] = 'display_data';\n",
              "          await google.colab.output.renderOutput(dataTable, element);\n",
              "          const docLink = document.createElement('div');\n",
              "          docLink.innerHTML = docLinkHtml;\n",
              "          element.appendChild(docLink);\n",
              "        }\n",
              "      </script>\n",
              "    </div>\n",
              "  </div>\n",
              "  "
            ]
          },
          "metadata": {},
          "execution_count": 8
        }
      ]
    },
    {
      "cell_type": "code",
      "metadata": {
        "colab": {
          "base_uri": "https://localhost:8080/",
          "height": 337
        },
        "id": "rKxdKTO-rt2s",
        "outputId": "ce98eed7-12e3-4291-ab56-8ce6965a7f09"
      },
      "source": [
        "data = data.drop(['Reclamos'], axis=1)\n",
        "data.head(5)"
      ],
      "execution_count": null,
      "outputs": [
        {
          "output_type": "execute_result",
          "data": {
            "text/plain": [
              "   AÑO   Mes  N° de horas sin sistema de atención al mes    \\\n",
              "0  1.0   9.0                                         15.12   \n",
              "1  1.0  10.0                                         26.37   \n",
              "2  1.0  11.0                                          3.58   \n",
              "3  1.0  12.0                                          0.62   \n",
              "4  1.0   1.0                                          0.83   \n",
              "\n",
              "   N° total de horas de atención al mes      CSA%  \\\n",
              "0                              18518.00  0.000817   \n",
              "1                              18591.50  0.001418   \n",
              "2                              18637.25  0.000192   \n",
              "3                              21049.75  0.000029   \n",
              "4                              19743.50  0.000042   \n",
              "\n",
              "   Nº DE USUARIOS QUE DESISTIERON DE LA ATENCIÓN AL MES  \\\n",
              "0                                            41584.0      \n",
              "1                                            37908.0      \n",
              "2                                            37922.0      \n",
              "3                                            39301.0      \n",
              "4                                            35969.0      \n",
              "\n",
              "   Nº TOTAL DE USUARIOS ATENDIDOS AL MES  DAP (%)  \\\n",
              "0                               493360.0   0.0843   \n",
              "1                               506790.0   0.0748   \n",
              "2                               508222.0   0.0746   \n",
              "3                               518982.0   0.0757   \n",
              "4                               506900.0   0.0710   \n",
              "\n",
              "   Nº DE LLAMADAS NO FINALIZADAS POR EL USUARIO  \\\n",
              "0                                      118385.0   \n",
              "1                                      123382.0   \n",
              "2                                      117383.0   \n",
              "3                                       11756.0   \n",
              "4                                      100277.0   \n",
              "\n",
              "   Nº TOTAL DE LLAMADAS ATENDIDAS  CAT (%)   Bajas  Consultas   Altas  \\\n",
              "0                       3124089.0   0.0379  0.6217     0.6588  0.7507   \n",
              "1                       3391270.0   0.0364  0.6642     0.6597  0.6445   \n",
              "2                       3246056.0   0.0362  0.6466     0.6270  0.6292   \n",
              "3                       3382625.0   0.0348  0.6847     0.6490  0.6697   \n",
              "4                       3505628.0   0.0286  0.7229     0.7189  0.7044   \n",
              "\n",
              "  Reclamos-Cat  \n",
              "0            4  \n",
              "1            4  \n",
              "2            4  \n",
              "3            4  \n",
              "4            4  "
            ],
            "text/html": [
              "\n",
              "  <div id=\"df-d381163a-1321-4e2d-a747-456eaf2e5d13\">\n",
              "    <div class=\"colab-df-container\">\n",
              "      <div>\n",
              "<style scoped>\n",
              "    .dataframe tbody tr th:only-of-type {\n",
              "        vertical-align: middle;\n",
              "    }\n",
              "\n",
              "    .dataframe tbody tr th {\n",
              "        vertical-align: top;\n",
              "    }\n",
              "\n",
              "    .dataframe thead th {\n",
              "        text-align: right;\n",
              "    }\n",
              "</style>\n",
              "<table border=\"1\" class=\"dataframe\">\n",
              "  <thead>\n",
              "    <tr style=\"text-align: right;\">\n",
              "      <th></th>\n",
              "      <th>AÑO</th>\n",
              "      <th>Mes</th>\n",
              "      <th>N° de horas sin sistema de atención al mes</th>\n",
              "      <th>N° total de horas de atención al mes</th>\n",
              "      <th>CSA%</th>\n",
              "      <th>Nº DE USUARIOS QUE DESISTIERON DE LA ATENCIÓN AL MES</th>\n",
              "      <th>Nº TOTAL DE USUARIOS ATENDIDOS AL MES</th>\n",
              "      <th>DAP (%)</th>\n",
              "      <th>Nº DE LLAMADAS NO FINALIZADAS POR EL USUARIO</th>\n",
              "      <th>Nº TOTAL DE LLAMADAS ATENDIDAS</th>\n",
              "      <th>CAT (%)</th>\n",
              "      <th>Bajas</th>\n",
              "      <th>Consultas</th>\n",
              "      <th>Altas</th>\n",
              "      <th>Reclamos-Cat</th>\n",
              "    </tr>\n",
              "  </thead>\n",
              "  <tbody>\n",
              "    <tr>\n",
              "      <th>0</th>\n",
              "      <td>1.0</td>\n",
              "      <td>9.0</td>\n",
              "      <td>15.12</td>\n",
              "      <td>18518.00</td>\n",
              "      <td>0.000817</td>\n",
              "      <td>41584.0</td>\n",
              "      <td>493360.0</td>\n",
              "      <td>0.0843</td>\n",
              "      <td>118385.0</td>\n",
              "      <td>3124089.0</td>\n",
              "      <td>0.0379</td>\n",
              "      <td>0.6217</td>\n",
              "      <td>0.6588</td>\n",
              "      <td>0.7507</td>\n",
              "      <td>4</td>\n",
              "    </tr>\n",
              "    <tr>\n",
              "      <th>1</th>\n",
              "      <td>1.0</td>\n",
              "      <td>10.0</td>\n",
              "      <td>26.37</td>\n",
              "      <td>18591.50</td>\n",
              "      <td>0.001418</td>\n",
              "      <td>37908.0</td>\n",
              "      <td>506790.0</td>\n",
              "      <td>0.0748</td>\n",
              "      <td>123382.0</td>\n",
              "      <td>3391270.0</td>\n",
              "      <td>0.0364</td>\n",
              "      <td>0.6642</td>\n",
              "      <td>0.6597</td>\n",
              "      <td>0.6445</td>\n",
              "      <td>4</td>\n",
              "    </tr>\n",
              "    <tr>\n",
              "      <th>2</th>\n",
              "      <td>1.0</td>\n",
              "      <td>11.0</td>\n",
              "      <td>3.58</td>\n",
              "      <td>18637.25</td>\n",
              "      <td>0.000192</td>\n",
              "      <td>37922.0</td>\n",
              "      <td>508222.0</td>\n",
              "      <td>0.0746</td>\n",
              "      <td>117383.0</td>\n",
              "      <td>3246056.0</td>\n",
              "      <td>0.0362</td>\n",
              "      <td>0.6466</td>\n",
              "      <td>0.6270</td>\n",
              "      <td>0.6292</td>\n",
              "      <td>4</td>\n",
              "    </tr>\n",
              "    <tr>\n",
              "      <th>3</th>\n",
              "      <td>1.0</td>\n",
              "      <td>12.0</td>\n",
              "      <td>0.62</td>\n",
              "      <td>21049.75</td>\n",
              "      <td>0.000029</td>\n",
              "      <td>39301.0</td>\n",
              "      <td>518982.0</td>\n",
              "      <td>0.0757</td>\n",
              "      <td>11756.0</td>\n",
              "      <td>3382625.0</td>\n",
              "      <td>0.0348</td>\n",
              "      <td>0.6847</td>\n",
              "      <td>0.6490</td>\n",
              "      <td>0.6697</td>\n",
              "      <td>4</td>\n",
              "    </tr>\n",
              "    <tr>\n",
              "      <th>4</th>\n",
              "      <td>1.0</td>\n",
              "      <td>1.0</td>\n",
              "      <td>0.83</td>\n",
              "      <td>19743.50</td>\n",
              "      <td>0.000042</td>\n",
              "      <td>35969.0</td>\n",
              "      <td>506900.0</td>\n",
              "      <td>0.0710</td>\n",
              "      <td>100277.0</td>\n",
              "      <td>3505628.0</td>\n",
              "      <td>0.0286</td>\n",
              "      <td>0.7229</td>\n",
              "      <td>0.7189</td>\n",
              "      <td>0.7044</td>\n",
              "      <td>4</td>\n",
              "    </tr>\n",
              "  </tbody>\n",
              "</table>\n",
              "</div>\n",
              "      <button class=\"colab-df-convert\" onclick=\"convertToInteractive('df-d381163a-1321-4e2d-a747-456eaf2e5d13')\"\n",
              "              title=\"Convert this dataframe to an interactive table.\"\n",
              "              style=\"display:none;\">\n",
              "        \n",
              "  <svg xmlns=\"http://www.w3.org/2000/svg\" height=\"24px\"viewBox=\"0 0 24 24\"\n",
              "       width=\"24px\">\n",
              "    <path d=\"M0 0h24v24H0V0z\" fill=\"none\"/>\n",
              "    <path d=\"M18.56 5.44l.94 2.06.94-2.06 2.06-.94-2.06-.94-.94-2.06-.94 2.06-2.06.94zm-11 1L8.5 8.5l.94-2.06 2.06-.94-2.06-.94L8.5 2.5l-.94 2.06-2.06.94zm10 10l.94 2.06.94-2.06 2.06-.94-2.06-.94-.94-2.06-.94 2.06-2.06.94z\"/><path d=\"M17.41 7.96l-1.37-1.37c-.4-.4-.92-.59-1.43-.59-.52 0-1.04.2-1.43.59L10.3 9.45l-7.72 7.72c-.78.78-.78 2.05 0 2.83L4 21.41c.39.39.9.59 1.41.59.51 0 1.02-.2 1.41-.59l7.78-7.78 2.81-2.81c.8-.78.8-2.07 0-2.86zM5.41 20L4 18.59l7.72-7.72 1.47 1.35L5.41 20z\"/>\n",
              "  </svg>\n",
              "      </button>\n",
              "      \n",
              "  <style>\n",
              "    .colab-df-container {\n",
              "      display:flex;\n",
              "      flex-wrap:wrap;\n",
              "      gap: 12px;\n",
              "    }\n",
              "\n",
              "    .colab-df-convert {\n",
              "      background-color: #E8F0FE;\n",
              "      border: none;\n",
              "      border-radius: 50%;\n",
              "      cursor: pointer;\n",
              "      display: none;\n",
              "      fill: #1967D2;\n",
              "      height: 32px;\n",
              "      padding: 0 0 0 0;\n",
              "      width: 32px;\n",
              "    }\n",
              "\n",
              "    .colab-df-convert:hover {\n",
              "      background-color: #E2EBFA;\n",
              "      box-shadow: 0px 1px 2px rgba(60, 64, 67, 0.3), 0px 1px 3px 1px rgba(60, 64, 67, 0.15);\n",
              "      fill: #174EA6;\n",
              "    }\n",
              "\n",
              "    [theme=dark] .colab-df-convert {\n",
              "      background-color: #3B4455;\n",
              "      fill: #D2E3FC;\n",
              "    }\n",
              "\n",
              "    [theme=dark] .colab-df-convert:hover {\n",
              "      background-color: #434B5C;\n",
              "      box-shadow: 0px 1px 3px 1px rgba(0, 0, 0, 0.15);\n",
              "      filter: drop-shadow(0px 1px 2px rgba(0, 0, 0, 0.3));\n",
              "      fill: #FFFFFF;\n",
              "    }\n",
              "  </style>\n",
              "\n",
              "      <script>\n",
              "        const buttonEl =\n",
              "          document.querySelector('#df-d381163a-1321-4e2d-a747-456eaf2e5d13 button.colab-df-convert');\n",
              "        buttonEl.style.display =\n",
              "          google.colab.kernel.accessAllowed ? 'block' : 'none';\n",
              "\n",
              "        async function convertToInteractive(key) {\n",
              "          const element = document.querySelector('#df-d381163a-1321-4e2d-a747-456eaf2e5d13');\n",
              "          const dataTable =\n",
              "            await google.colab.kernel.invokeFunction('convertToInteractive',\n",
              "                                                     [key], {});\n",
              "          if (!dataTable) return;\n",
              "\n",
              "          const docLinkHtml = 'Like what you see? Visit the ' +\n",
              "            '<a target=\"_blank\" href=https://colab.research.google.com/notebooks/data_table.ipynb>data table notebook</a>'\n",
              "            + ' to learn more about interactive tables.';\n",
              "          element.innerHTML = '';\n",
              "          dataTable['output_type'] = 'display_data';\n",
              "          await google.colab.output.renderOutput(dataTable, element);\n",
              "          const docLink = document.createElement('div');\n",
              "          docLink.innerHTML = docLinkHtml;\n",
              "          element.appendChild(docLink);\n",
              "        }\n",
              "      </script>\n",
              "    </div>\n",
              "  </div>\n",
              "  "
            ]
          },
          "metadata": {},
          "execution_count": 9
        }
      ]
    },
    {
      "cell_type": "code",
      "metadata": {
        "colab": {
          "base_uri": "https://localhost:8080/"
        },
        "id": "DrQmV2zI4lsS",
        "outputId": "8cce6f6b-e518-4800-bdee-b57efd1508e6"
      },
      "source": [
        "data[\"Reclamos-Cat\"].value_counts().sort_index()"
      ],
      "execution_count": null,
      "outputs": [
        {
          "output_type": "execute_result",
          "data": {
            "text/plain": [
              "1     0\n",
              "2     0\n",
              "3     0\n",
              "4    26\n",
              "5    18\n",
              "Name: Reclamos-Cat, dtype: int64"
            ]
          },
          "metadata": {},
          "execution_count": 10
        }
      ]
    },
    {
      "cell_type": "markdown",
      "metadata": {
        "id": "dOpdvU-BrmaX"
      },
      "source": [
        "#XGboost - Shrinkage (alpha - lambda)"
      ]
    },
    {
      "cell_type": "markdown",
      "metadata": {
        "id": "hOO4ovtH-XiS"
      },
      "source": [
        "##XGBoost - Solo"
      ]
    },
    {
      "cell_type": "code",
      "metadata": {
        "id": "PGsBB2N_tR9S"
      },
      "source": [
        "import pandas as pd\n",
        "from xgboost import XGBClassifier\n",
        "from sklearn.model_selection import train_test_split\n",
        "from sklearn.metrics import accuracy_score"
      ],
      "execution_count": null,
      "outputs": []
    },
    {
      "cell_type": "code",
      "metadata": {
        "id": "Xgq0P-YYzzjd"
      },
      "source": [
        "df = data.dropna()"
      ],
      "execution_count": null,
      "outputs": []
    },
    {
      "cell_type": "code",
      "metadata": {
        "id": "vePPx37Atnrn"
      },
      "source": [
        "X = df.drop(['Reclamos-Cat'], axis=1)\n",
        "Y = df['Reclamos-Cat']"
      ],
      "execution_count": null,
      "outputs": []
    },
    {
      "cell_type": "code",
      "metadata": {
        "colab": {
          "base_uri": "https://localhost:8080/",
          "height": 177
        },
        "id": "DwXI1oOFwr3F",
        "outputId": "2f0a3db7-ac79-4472-e60d-1029ce7666ab"
      },
      "source": [
        "X.head(1)"
      ],
      "execution_count": null,
      "outputs": [
        {
          "output_type": "execute_result",
          "data": {
            "text/plain": [
              "   AÑO  Mes  N° de horas sin sistema de atención al mes    \\\n",
              "0  1.0  9.0                                         15.12   \n",
              "\n",
              "   N° total de horas de atención al mes      CSA%  \\\n",
              "0                               18518.0  0.000817   \n",
              "\n",
              "   Nº DE USUARIOS QUE DESISTIERON DE LA ATENCIÓN AL MES  \\\n",
              "0                                            41584.0      \n",
              "\n",
              "   Nº TOTAL DE USUARIOS ATENDIDOS AL MES  DAP (%)  \\\n",
              "0                               493360.0   0.0843   \n",
              "\n",
              "   Nº DE LLAMADAS NO FINALIZADAS POR EL USUARIO  \\\n",
              "0                                      118385.0   \n",
              "\n",
              "   Nº TOTAL DE LLAMADAS ATENDIDAS  CAT (%)   Bajas  Consultas   Altas  \n",
              "0                       3124089.0   0.0379  0.6217     0.6588  0.7507  "
            ],
            "text/html": [
              "\n",
              "  <div id=\"df-4f12c321-95dc-4ee7-8563-642bd5fa1e65\">\n",
              "    <div class=\"colab-df-container\">\n",
              "      <div>\n",
              "<style scoped>\n",
              "    .dataframe tbody tr th:only-of-type {\n",
              "        vertical-align: middle;\n",
              "    }\n",
              "\n",
              "    .dataframe tbody tr th {\n",
              "        vertical-align: top;\n",
              "    }\n",
              "\n",
              "    .dataframe thead th {\n",
              "        text-align: right;\n",
              "    }\n",
              "</style>\n",
              "<table border=\"1\" class=\"dataframe\">\n",
              "  <thead>\n",
              "    <tr style=\"text-align: right;\">\n",
              "      <th></th>\n",
              "      <th>AÑO</th>\n",
              "      <th>Mes</th>\n",
              "      <th>N° de horas sin sistema de atención al mes</th>\n",
              "      <th>N° total de horas de atención al mes</th>\n",
              "      <th>CSA%</th>\n",
              "      <th>Nº DE USUARIOS QUE DESISTIERON DE LA ATENCIÓN AL MES</th>\n",
              "      <th>Nº TOTAL DE USUARIOS ATENDIDOS AL MES</th>\n",
              "      <th>DAP (%)</th>\n",
              "      <th>Nº DE LLAMADAS NO FINALIZADAS POR EL USUARIO</th>\n",
              "      <th>Nº TOTAL DE LLAMADAS ATENDIDAS</th>\n",
              "      <th>CAT (%)</th>\n",
              "      <th>Bajas</th>\n",
              "      <th>Consultas</th>\n",
              "      <th>Altas</th>\n",
              "    </tr>\n",
              "  </thead>\n",
              "  <tbody>\n",
              "    <tr>\n",
              "      <th>0</th>\n",
              "      <td>1.0</td>\n",
              "      <td>9.0</td>\n",
              "      <td>15.12</td>\n",
              "      <td>18518.0</td>\n",
              "      <td>0.000817</td>\n",
              "      <td>41584.0</td>\n",
              "      <td>493360.0</td>\n",
              "      <td>0.0843</td>\n",
              "      <td>118385.0</td>\n",
              "      <td>3124089.0</td>\n",
              "      <td>0.0379</td>\n",
              "      <td>0.6217</td>\n",
              "      <td>0.6588</td>\n",
              "      <td>0.7507</td>\n",
              "    </tr>\n",
              "  </tbody>\n",
              "</table>\n",
              "</div>\n",
              "      <button class=\"colab-df-convert\" onclick=\"convertToInteractive('df-4f12c321-95dc-4ee7-8563-642bd5fa1e65')\"\n",
              "              title=\"Convert this dataframe to an interactive table.\"\n",
              "              style=\"display:none;\">\n",
              "        \n",
              "  <svg xmlns=\"http://www.w3.org/2000/svg\" height=\"24px\"viewBox=\"0 0 24 24\"\n",
              "       width=\"24px\">\n",
              "    <path d=\"M0 0h24v24H0V0z\" fill=\"none\"/>\n",
              "    <path d=\"M18.56 5.44l.94 2.06.94-2.06 2.06-.94-2.06-.94-.94-2.06-.94 2.06-2.06.94zm-11 1L8.5 8.5l.94-2.06 2.06-.94-2.06-.94L8.5 2.5l-.94 2.06-2.06.94zm10 10l.94 2.06.94-2.06 2.06-.94-2.06-.94-.94-2.06-.94 2.06-2.06.94z\"/><path d=\"M17.41 7.96l-1.37-1.37c-.4-.4-.92-.59-1.43-.59-.52 0-1.04.2-1.43.59L10.3 9.45l-7.72 7.72c-.78.78-.78 2.05 0 2.83L4 21.41c.39.39.9.59 1.41.59.51 0 1.02-.2 1.41-.59l7.78-7.78 2.81-2.81c.8-.78.8-2.07 0-2.86zM5.41 20L4 18.59l7.72-7.72 1.47 1.35L5.41 20z\"/>\n",
              "  </svg>\n",
              "      </button>\n",
              "      \n",
              "  <style>\n",
              "    .colab-df-container {\n",
              "      display:flex;\n",
              "      flex-wrap:wrap;\n",
              "      gap: 12px;\n",
              "    }\n",
              "\n",
              "    .colab-df-convert {\n",
              "      background-color: #E8F0FE;\n",
              "      border: none;\n",
              "      border-radius: 50%;\n",
              "      cursor: pointer;\n",
              "      display: none;\n",
              "      fill: #1967D2;\n",
              "      height: 32px;\n",
              "      padding: 0 0 0 0;\n",
              "      width: 32px;\n",
              "    }\n",
              "\n",
              "    .colab-df-convert:hover {\n",
              "      background-color: #E2EBFA;\n",
              "      box-shadow: 0px 1px 2px rgba(60, 64, 67, 0.3), 0px 1px 3px 1px rgba(60, 64, 67, 0.15);\n",
              "      fill: #174EA6;\n",
              "    }\n",
              "\n",
              "    [theme=dark] .colab-df-convert {\n",
              "      background-color: #3B4455;\n",
              "      fill: #D2E3FC;\n",
              "    }\n",
              "\n",
              "    [theme=dark] .colab-df-convert:hover {\n",
              "      background-color: #434B5C;\n",
              "      box-shadow: 0px 1px 3px 1px rgba(0, 0, 0, 0.15);\n",
              "      filter: drop-shadow(0px 1px 2px rgba(0, 0, 0, 0.3));\n",
              "      fill: #FFFFFF;\n",
              "    }\n",
              "  </style>\n",
              "\n",
              "      <script>\n",
              "        const buttonEl =\n",
              "          document.querySelector('#df-4f12c321-95dc-4ee7-8563-642bd5fa1e65 button.colab-df-convert');\n",
              "        buttonEl.style.display =\n",
              "          google.colab.kernel.accessAllowed ? 'block' : 'none';\n",
              "\n",
              "        async function convertToInteractive(key) {\n",
              "          const element = document.querySelector('#df-4f12c321-95dc-4ee7-8563-642bd5fa1e65');\n",
              "          const dataTable =\n",
              "            await google.colab.kernel.invokeFunction('convertToInteractive',\n",
              "                                                     [key], {});\n",
              "          if (!dataTable) return;\n",
              "\n",
              "          const docLinkHtml = 'Like what you see? Visit the ' +\n",
              "            '<a target=\"_blank\" href=https://colab.research.google.com/notebooks/data_table.ipynb>data table notebook</a>'\n",
              "            + ' to learn more about interactive tables.';\n",
              "          element.innerHTML = '';\n",
              "          dataTable['output_type'] = 'display_data';\n",
              "          await google.colab.output.renderOutput(dataTable, element);\n",
              "          const docLink = document.createElement('div');\n",
              "          docLink.innerHTML = docLinkHtml;\n",
              "          element.appendChild(docLink);\n",
              "        }\n",
              "      </script>\n",
              "    </div>\n",
              "  </div>\n",
              "  "
            ]
          },
          "metadata": {},
          "execution_count": 14
        }
      ]
    },
    {
      "cell_type": "code",
      "metadata": {
        "colab": {
          "base_uri": "https://localhost:8080/"
        },
        "id": "6ZhDfcYpwwm2",
        "outputId": "4ea1a674-7f3c-403a-8e81-4e4df55d38d5"
      },
      "source": [
        "Y.head(2)"
      ],
      "execution_count": null,
      "outputs": [
        {
          "output_type": "execute_result",
          "data": {
            "text/plain": [
              "0    4\n",
              "1    4\n",
              "Name: Reclamos-Cat, dtype: category\n",
              "Categories (5, object): ['1' < '2' < '3' < '4' < '5']"
            ]
          },
          "metadata": {},
          "execution_count": 15
        }
      ]
    },
    {
      "cell_type": "code",
      "metadata": {
        "id": "ztLkvsyIw4LB"
      },
      "source": [
        "seed = 7\n",
        "test_size = 0.2\n",
        "X_train, X_test, y_train, y_test = train_test_split(X, Y, test_size=test_size, random_state=seed)"
      ],
      "execution_count": null,
      "outputs": []
    },
    {
      "cell_type": "code",
      "metadata": {
        "colab": {
          "base_uri": "https://localhost:8080/"
        },
        "id": "BkVA34gnw-om",
        "outputId": "7f69e03b-4a5f-49f3-bd4c-fffdc7b906cd"
      },
      "source": [
        "model = XGBClassifier(reg_alpha=0, reg_lambda=0)\n",
        "model.fit(X_train, y_train)"
      ],
      "execution_count": null,
      "outputs": [
        {
          "output_type": "execute_result",
          "data": {
            "text/plain": [
              "XGBClassifier(reg_lambda=0)"
            ]
          },
          "metadata": {},
          "execution_count": 17
        }
      ]
    },
    {
      "cell_type": "code",
      "metadata": {
        "colab": {
          "base_uri": "https://localhost:8080/"
        },
        "id": "xCp7gGCE5jpP",
        "outputId": "5017876e-a791-445f-849d-0a19db560310"
      },
      "source": [
        "from sklearn import metrics\n",
        "from sklearn.metrics import *\n",
        "\n",
        "#Realizo la predicción\n",
        "y_pred = model.predict(X_test)\n",
        "#Verifico la matriz de Confusión\n",
        "matriz = confusion_matrix(y_test, y_pred)\n",
        "#Calculo la precisión del modelo\n",
        "precision = precision_score(y_test, y_pred, average=\"macro\")\n",
        "#Calculo la exactitud del modelo\n",
        "exactitud = accuracy_score(y_test, y_pred)\n",
        "#Calculo la sensibilidad del modelo\n",
        "sensibilidad = recall_score(y_test, y_pred, average=\"macro\")\n",
        "#Calculo el Puntaje F1 del modelo\n",
        "puntajef1 = f1_score(y_test, y_pred, average=\"macro\")\n",
        "#Calculo la curva ROC - AUC del modelo\n",
        "roc_auc = roc_auc_score(y_test, y_pred)\n",
        "\n",
        "print('Matriz de Confusión:')\n",
        "print(matriz)\n",
        "print('Precisión del modelo:', precision)\n",
        "print('Exactitud del modelo:', exactitud)\n",
        "print('Sensibilidad del modelo:', sensibilidad)\n",
        "print('Puntaje F1 del modelo:', puntajef1)\n",
        "print('Curva ROC - AUC del modelo:', roc_auc)"
      ],
      "execution_count": null,
      "outputs": [
        {
          "output_type": "stream",
          "name": "stdout",
          "text": [
            "Matriz de Confusión:\n",
            "[[6 0]\n",
            " [1 2]]\n",
            "Precisión del modelo: 0.9285714285714286\n",
            "Exactitud del modelo: 0.8888888888888888\n",
            "Sensibilidad del modelo: 0.8333333333333333\n",
            "Puntaje F1 del modelo: 0.8615384615384616\n",
            "Curva ROC - AUC del modelo: 0.8333333333333333\n"
          ]
        }
      ]
    },
    {
      "cell_type": "markdown",
      "metadata": {
        "id": "2JiKXgP-_03C"
      },
      "source": [
        "##XGBoost - Lasso"
      ]
    },
    {
      "cell_type": "code",
      "metadata": {
        "id": "AapHNZHP_03C"
      },
      "source": [
        "import pandas as pd\n",
        "from xgboost import XGBClassifier\n",
        "from sklearn.model_selection import train_test_split\n",
        "from sklearn.metrics import accuracy_score"
      ],
      "execution_count": null,
      "outputs": []
    },
    {
      "cell_type": "code",
      "metadata": {
        "id": "HnsE2bvR_03E"
      },
      "source": [
        "df = data.dropna()"
      ],
      "execution_count": null,
      "outputs": []
    },
    {
      "cell_type": "code",
      "metadata": {
        "id": "w09tMT2I_03E"
      },
      "source": [
        "X = df.drop(['Reclamos-Cat'], axis=1)\n",
        "Y = df['Reclamos-Cat']"
      ],
      "execution_count": null,
      "outputs": []
    },
    {
      "cell_type": "code",
      "metadata": {
        "colab": {
          "base_uri": "https://localhost:8080/"
        },
        "id": "QZeCl_GA_03F",
        "outputId": "a0d29622-4f1b-41fa-a87c-1724c3f6ab52"
      },
      "source": [
        "X.head(1)"
      ],
      "execution_count": null,
      "outputs": [
        {
          "output_type": "execute_result",
          "data": {
            "text/plain": [
              "   AÑO  Mes  N° de horas sin sistema de atención al mes    \\\n",
              "0  1.0  9.0                                         15.12   \n",
              "\n",
              "   N° total de horas de atención al mes      CSA%  \\\n",
              "0                               18518.0  0.000817   \n",
              "\n",
              "   Nº DE USUARIOS QUE DESISTIERON DE LA ATENCIÓN AL MES  \\\n",
              "0                                            41584.0      \n",
              "\n",
              "   Nº TOTAL DE USUARIOS ATENDIDOS AL MES  DAP (%)  \\\n",
              "0                               493360.0   0.0843   \n",
              "\n",
              "   Nº DE LLAMADAS NO FINALIZADAS POR EL USUARIO  \\\n",
              "0                                      118385.0   \n",
              "\n",
              "   Nº TOTAL DE LLAMADAS ATENDIDAS  CAT (%)   Bajas  Consultas   Altas  \n",
              "0                       3124089.0   0.0379  0.6217     0.6588  0.7507  "
            ],
            "text/html": [
              "\n",
              "  <div id=\"df-a8bd0876-be1f-40d7-840a-227f96e2c9f3\">\n",
              "    <div class=\"colab-df-container\">\n",
              "      <div>\n",
              "<style scoped>\n",
              "    .dataframe tbody tr th:only-of-type {\n",
              "        vertical-align: middle;\n",
              "    }\n",
              "\n",
              "    .dataframe tbody tr th {\n",
              "        vertical-align: top;\n",
              "    }\n",
              "\n",
              "    .dataframe thead th {\n",
              "        text-align: right;\n",
              "    }\n",
              "</style>\n",
              "<table border=\"1\" class=\"dataframe\">\n",
              "  <thead>\n",
              "    <tr style=\"text-align: right;\">\n",
              "      <th></th>\n",
              "      <th>AÑO</th>\n",
              "      <th>Mes</th>\n",
              "      <th>N° de horas sin sistema de atención al mes</th>\n",
              "      <th>N° total de horas de atención al mes</th>\n",
              "      <th>CSA%</th>\n",
              "      <th>Nº DE USUARIOS QUE DESISTIERON DE LA ATENCIÓN AL MES</th>\n",
              "      <th>Nº TOTAL DE USUARIOS ATENDIDOS AL MES</th>\n",
              "      <th>DAP (%)</th>\n",
              "      <th>Nº DE LLAMADAS NO FINALIZADAS POR EL USUARIO</th>\n",
              "      <th>Nº TOTAL DE LLAMADAS ATENDIDAS</th>\n",
              "      <th>CAT (%)</th>\n",
              "      <th>Bajas</th>\n",
              "      <th>Consultas</th>\n",
              "      <th>Altas</th>\n",
              "    </tr>\n",
              "  </thead>\n",
              "  <tbody>\n",
              "    <tr>\n",
              "      <th>0</th>\n",
              "      <td>1.0</td>\n",
              "      <td>9.0</td>\n",
              "      <td>15.12</td>\n",
              "      <td>18518.0</td>\n",
              "      <td>0.000817</td>\n",
              "      <td>41584.0</td>\n",
              "      <td>493360.0</td>\n",
              "      <td>0.0843</td>\n",
              "      <td>118385.0</td>\n",
              "      <td>3124089.0</td>\n",
              "      <td>0.0379</td>\n",
              "      <td>0.6217</td>\n",
              "      <td>0.6588</td>\n",
              "      <td>0.7507</td>\n",
              "    </tr>\n",
              "  </tbody>\n",
              "</table>\n",
              "</div>\n",
              "      <button class=\"colab-df-convert\" onclick=\"convertToInteractive('df-a8bd0876-be1f-40d7-840a-227f96e2c9f3')\"\n",
              "              title=\"Convert this dataframe to an interactive table.\"\n",
              "              style=\"display:none;\">\n",
              "        \n",
              "  <svg xmlns=\"http://www.w3.org/2000/svg\" height=\"24px\"viewBox=\"0 0 24 24\"\n",
              "       width=\"24px\">\n",
              "    <path d=\"M0 0h24v24H0V0z\" fill=\"none\"/>\n",
              "    <path d=\"M18.56 5.44l.94 2.06.94-2.06 2.06-.94-2.06-.94-.94-2.06-.94 2.06-2.06.94zm-11 1L8.5 8.5l.94-2.06 2.06-.94-2.06-.94L8.5 2.5l-.94 2.06-2.06.94zm10 10l.94 2.06.94-2.06 2.06-.94-2.06-.94-.94-2.06-.94 2.06-2.06.94z\"/><path d=\"M17.41 7.96l-1.37-1.37c-.4-.4-.92-.59-1.43-.59-.52 0-1.04.2-1.43.59L10.3 9.45l-7.72 7.72c-.78.78-.78 2.05 0 2.83L4 21.41c.39.39.9.59 1.41.59.51 0 1.02-.2 1.41-.59l7.78-7.78 2.81-2.81c.8-.78.8-2.07 0-2.86zM5.41 20L4 18.59l7.72-7.72 1.47 1.35L5.41 20z\"/>\n",
              "  </svg>\n",
              "      </button>\n",
              "      \n",
              "  <style>\n",
              "    .colab-df-container {\n",
              "      display:flex;\n",
              "      flex-wrap:wrap;\n",
              "      gap: 12px;\n",
              "    }\n",
              "\n",
              "    .colab-df-convert {\n",
              "      background-color: #E8F0FE;\n",
              "      border: none;\n",
              "      border-radius: 50%;\n",
              "      cursor: pointer;\n",
              "      display: none;\n",
              "      fill: #1967D2;\n",
              "      height: 32px;\n",
              "      padding: 0 0 0 0;\n",
              "      width: 32px;\n",
              "    }\n",
              "\n",
              "    .colab-df-convert:hover {\n",
              "      background-color: #E2EBFA;\n",
              "      box-shadow: 0px 1px 2px rgba(60, 64, 67, 0.3), 0px 1px 3px 1px rgba(60, 64, 67, 0.15);\n",
              "      fill: #174EA6;\n",
              "    }\n",
              "\n",
              "    [theme=dark] .colab-df-convert {\n",
              "      background-color: #3B4455;\n",
              "      fill: #D2E3FC;\n",
              "    }\n",
              "\n",
              "    [theme=dark] .colab-df-convert:hover {\n",
              "      background-color: #434B5C;\n",
              "      box-shadow: 0px 1px 3px 1px rgba(0, 0, 0, 0.15);\n",
              "      filter: drop-shadow(0px 1px 2px rgba(0, 0, 0, 0.3));\n",
              "      fill: #FFFFFF;\n",
              "    }\n",
              "  </style>\n",
              "\n",
              "      <script>\n",
              "        const buttonEl =\n",
              "          document.querySelector('#df-a8bd0876-be1f-40d7-840a-227f96e2c9f3 button.colab-df-convert');\n",
              "        buttonEl.style.display =\n",
              "          google.colab.kernel.accessAllowed ? 'block' : 'none';\n",
              "\n",
              "        async function convertToInteractive(key) {\n",
              "          const element = document.querySelector('#df-a8bd0876-be1f-40d7-840a-227f96e2c9f3');\n",
              "          const dataTable =\n",
              "            await google.colab.kernel.invokeFunction('convertToInteractive',\n",
              "                                                     [key], {});\n",
              "          if (!dataTable) return;\n",
              "\n",
              "          const docLinkHtml = 'Like what you see? Visit the ' +\n",
              "            '<a target=\"_blank\" href=https://colab.research.google.com/notebooks/data_table.ipynb>data table notebook</a>'\n",
              "            + ' to learn more about interactive tables.';\n",
              "          element.innerHTML = '';\n",
              "          dataTable['output_type'] = 'display_data';\n",
              "          await google.colab.output.renderOutput(dataTable, element);\n",
              "          const docLink = document.createElement('div');\n",
              "          docLink.innerHTML = docLinkHtml;\n",
              "          element.appendChild(docLink);\n",
              "        }\n",
              "      </script>\n",
              "    </div>\n",
              "  </div>\n",
              "  "
            ]
          },
          "metadata": {},
          "execution_count": 22
        }
      ]
    },
    {
      "cell_type": "code",
      "metadata": {
        "colab": {
          "base_uri": "https://localhost:8080/"
        },
        "id": "_LVGdD7n_03G",
        "outputId": "b5a80edf-f8e8-49f8-9430-00664c6fc1c1"
      },
      "source": [
        "Y.head(2)"
      ],
      "execution_count": null,
      "outputs": [
        {
          "output_type": "execute_result",
          "data": {
            "text/plain": [
              "0    4\n",
              "1    4\n",
              "Name: Reclamos-Cat, dtype: category\n",
              "Categories (5, object): ['1' < '2' < '3' < '4' < '5']"
            ]
          },
          "metadata": {},
          "execution_count": 23
        }
      ]
    },
    {
      "cell_type": "code",
      "metadata": {
        "id": "4E07X7uc_03G"
      },
      "source": [
        "seed = 7\n",
        "test_size = 0.2\n",
        "X_train, X_test, y_train, y_test = train_test_split(X, Y, test_size=test_size, random_state=seed)"
      ],
      "execution_count": null,
      "outputs": []
    },
    {
      "cell_type": "code",
      "metadata": {
        "colab": {
          "base_uri": "https://localhost:8080/"
        },
        "id": "nD6MjqVg_03H",
        "outputId": "18491e03-60a6-4aa6-e5e5-529bd4bd6165"
      },
      "source": [
        "model = XGBClassifier(reg_alpha=1, reg_lambda=0)\n",
        "model.fit(X_train, y_train)"
      ],
      "execution_count": null,
      "outputs": [
        {
          "output_type": "execute_result",
          "data": {
            "text/plain": [
              "XGBClassifier(reg_alpha=1, reg_lambda=0)"
            ]
          },
          "metadata": {},
          "execution_count": 25
        }
      ]
    },
    {
      "cell_type": "code",
      "metadata": {
        "colab": {
          "base_uri": "https://localhost:8080/"
        },
        "id": "eW6nFB4N_03I",
        "outputId": "a859ff98-2738-4cda-a34f-6e99e16ae501"
      },
      "source": [
        "from sklearn import metrics\n",
        "from sklearn.metrics import *\n",
        "\n",
        "#Realizo la predicción\n",
        "y_pred = model.predict(X_test)\n",
        "#Verifico la matriz de Confusión\n",
        "matriz = confusion_matrix(y_test, y_pred)\n",
        "#Calculo la precisión del modelo\n",
        "precision = precision_score(y_test, y_pred, average=\"macro\")\n",
        "#Calculo la exactitud del modelo\n",
        "exactitud = accuracy_score(y_test, y_pred)\n",
        "#Calculo la sensibilidad del modelo\n",
        "sensibilidad = recall_score(y_test, y_pred, average=\"macro\")\n",
        "#Calculo el Puntaje F1 del modelo\n",
        "puntajef1 = f1_score(y_test, y_pred, average=\"macro\")\n",
        "#Calculo la curva ROC - AUC del modelo\n",
        "roc_auc = roc_auc_score(y_test, y_pred)\n",
        "\n",
        "print('Matriz de Confusión:')\n",
        "print(matriz)\n",
        "print('Precisión del modelo:', precision)\n",
        "print('Exactitud del modelo:', exactitud)\n",
        "print('Sensibilidad del modelo:', sensibilidad)\n",
        "print('Puntaje F1 del modelo:', puntajef1)\n",
        "print('Curva ROC - AUC del modelo:', roc_auc)"
      ],
      "execution_count": null,
      "outputs": [
        {
          "output_type": "stream",
          "name": "stdout",
          "text": [
            "Matriz de Confusión:\n",
            "[[6 0]\n",
            " [0 3]]\n",
            "Precisión del modelo: 1.0\n",
            "Exactitud del modelo: 1.0\n",
            "Sensibilidad del modelo: 1.0\n",
            "Puntaje F1 del modelo: 1.0\n",
            "Curva ROC - AUC del modelo: 1.0\n"
          ]
        }
      ]
    },
    {
      "cell_type": "markdown",
      "metadata": {
        "id": "OtLWu_HYEj5R"
      },
      "source": [
        "##XGBoost - Ridge"
      ]
    },
    {
      "cell_type": "code",
      "metadata": {
        "id": "bvQN8X6cEj5S"
      },
      "source": [
        "import pandas as pd\n",
        "from xgboost import XGBClassifier\n",
        "from sklearn.model_selection import train_test_split\n",
        "from sklearn.metrics import accuracy_score"
      ],
      "execution_count": null,
      "outputs": []
    },
    {
      "cell_type": "code",
      "metadata": {
        "id": "DKfJJQ-CEj5T"
      },
      "source": [
        "df = data.dropna()"
      ],
      "execution_count": null,
      "outputs": []
    },
    {
      "cell_type": "code",
      "metadata": {
        "id": "JT4ZRcFFEj5U"
      },
      "source": [
        "X = df.drop(['Reclamos-Cat'], axis=1)\n",
        "Y = df['Reclamos-Cat']"
      ],
      "execution_count": null,
      "outputs": []
    },
    {
      "cell_type": "code",
      "metadata": {
        "colab": {
          "base_uri": "https://localhost:8080/"
        },
        "id": "p1jl5gwUEj5U",
        "outputId": "0bdba724-351c-4346-a86a-2fc56213d6f0"
      },
      "source": [
        "X.head(1)"
      ],
      "execution_count": null,
      "outputs": [
        {
          "output_type": "execute_result",
          "data": {
            "text/plain": [
              "   AÑO  Mes  N° de horas sin sistema de atención al mes    \\\n",
              "0  1.0  9.0                                         15.12   \n",
              "\n",
              "   N° total de horas de atención al mes      CSA%  \\\n",
              "0                               18518.0  0.000817   \n",
              "\n",
              "   Nº DE USUARIOS QUE DESISTIERON DE LA ATENCIÓN AL MES  \\\n",
              "0                                            41584.0      \n",
              "\n",
              "   Nº TOTAL DE USUARIOS ATENDIDOS AL MES  DAP (%)  \\\n",
              "0                               493360.0   0.0843   \n",
              "\n",
              "   Nº DE LLAMADAS NO FINALIZADAS POR EL USUARIO  \\\n",
              "0                                      118385.0   \n",
              "\n",
              "   Nº TOTAL DE LLAMADAS ATENDIDAS  CAT (%)   Bajas  Consultas   Altas  \n",
              "0                       3124089.0   0.0379  0.6217     0.6588  0.7507  "
            ],
            "text/html": [
              "\n",
              "  <div id=\"df-fdd6552f-fe4e-4e24-ba71-b8ef21ff2aae\">\n",
              "    <div class=\"colab-df-container\">\n",
              "      <div>\n",
              "<style scoped>\n",
              "    .dataframe tbody tr th:only-of-type {\n",
              "        vertical-align: middle;\n",
              "    }\n",
              "\n",
              "    .dataframe tbody tr th {\n",
              "        vertical-align: top;\n",
              "    }\n",
              "\n",
              "    .dataframe thead th {\n",
              "        text-align: right;\n",
              "    }\n",
              "</style>\n",
              "<table border=\"1\" class=\"dataframe\">\n",
              "  <thead>\n",
              "    <tr style=\"text-align: right;\">\n",
              "      <th></th>\n",
              "      <th>AÑO</th>\n",
              "      <th>Mes</th>\n",
              "      <th>N° de horas sin sistema de atención al mes</th>\n",
              "      <th>N° total de horas de atención al mes</th>\n",
              "      <th>CSA%</th>\n",
              "      <th>Nº DE USUARIOS QUE DESISTIERON DE LA ATENCIÓN AL MES</th>\n",
              "      <th>Nº TOTAL DE USUARIOS ATENDIDOS AL MES</th>\n",
              "      <th>DAP (%)</th>\n",
              "      <th>Nº DE LLAMADAS NO FINALIZADAS POR EL USUARIO</th>\n",
              "      <th>Nº TOTAL DE LLAMADAS ATENDIDAS</th>\n",
              "      <th>CAT (%)</th>\n",
              "      <th>Bajas</th>\n",
              "      <th>Consultas</th>\n",
              "      <th>Altas</th>\n",
              "    </tr>\n",
              "  </thead>\n",
              "  <tbody>\n",
              "    <tr>\n",
              "      <th>0</th>\n",
              "      <td>1.0</td>\n",
              "      <td>9.0</td>\n",
              "      <td>15.12</td>\n",
              "      <td>18518.0</td>\n",
              "      <td>0.000817</td>\n",
              "      <td>41584.0</td>\n",
              "      <td>493360.0</td>\n",
              "      <td>0.0843</td>\n",
              "      <td>118385.0</td>\n",
              "      <td>3124089.0</td>\n",
              "      <td>0.0379</td>\n",
              "      <td>0.6217</td>\n",
              "      <td>0.6588</td>\n",
              "      <td>0.7507</td>\n",
              "    </tr>\n",
              "  </tbody>\n",
              "</table>\n",
              "</div>\n",
              "      <button class=\"colab-df-convert\" onclick=\"convertToInteractive('df-fdd6552f-fe4e-4e24-ba71-b8ef21ff2aae')\"\n",
              "              title=\"Convert this dataframe to an interactive table.\"\n",
              "              style=\"display:none;\">\n",
              "        \n",
              "  <svg xmlns=\"http://www.w3.org/2000/svg\" height=\"24px\"viewBox=\"0 0 24 24\"\n",
              "       width=\"24px\">\n",
              "    <path d=\"M0 0h24v24H0V0z\" fill=\"none\"/>\n",
              "    <path d=\"M18.56 5.44l.94 2.06.94-2.06 2.06-.94-2.06-.94-.94-2.06-.94 2.06-2.06.94zm-11 1L8.5 8.5l.94-2.06 2.06-.94-2.06-.94L8.5 2.5l-.94 2.06-2.06.94zm10 10l.94 2.06.94-2.06 2.06-.94-2.06-.94-.94-2.06-.94 2.06-2.06.94z\"/><path d=\"M17.41 7.96l-1.37-1.37c-.4-.4-.92-.59-1.43-.59-.52 0-1.04.2-1.43.59L10.3 9.45l-7.72 7.72c-.78.78-.78 2.05 0 2.83L4 21.41c.39.39.9.59 1.41.59.51 0 1.02-.2 1.41-.59l7.78-7.78 2.81-2.81c.8-.78.8-2.07 0-2.86zM5.41 20L4 18.59l7.72-7.72 1.47 1.35L5.41 20z\"/>\n",
              "  </svg>\n",
              "      </button>\n",
              "      \n",
              "  <style>\n",
              "    .colab-df-container {\n",
              "      display:flex;\n",
              "      flex-wrap:wrap;\n",
              "      gap: 12px;\n",
              "    }\n",
              "\n",
              "    .colab-df-convert {\n",
              "      background-color: #E8F0FE;\n",
              "      border: none;\n",
              "      border-radius: 50%;\n",
              "      cursor: pointer;\n",
              "      display: none;\n",
              "      fill: #1967D2;\n",
              "      height: 32px;\n",
              "      padding: 0 0 0 0;\n",
              "      width: 32px;\n",
              "    }\n",
              "\n",
              "    .colab-df-convert:hover {\n",
              "      background-color: #E2EBFA;\n",
              "      box-shadow: 0px 1px 2px rgba(60, 64, 67, 0.3), 0px 1px 3px 1px rgba(60, 64, 67, 0.15);\n",
              "      fill: #174EA6;\n",
              "    }\n",
              "\n",
              "    [theme=dark] .colab-df-convert {\n",
              "      background-color: #3B4455;\n",
              "      fill: #D2E3FC;\n",
              "    }\n",
              "\n",
              "    [theme=dark] .colab-df-convert:hover {\n",
              "      background-color: #434B5C;\n",
              "      box-shadow: 0px 1px 3px 1px rgba(0, 0, 0, 0.15);\n",
              "      filter: drop-shadow(0px 1px 2px rgba(0, 0, 0, 0.3));\n",
              "      fill: #FFFFFF;\n",
              "    }\n",
              "  </style>\n",
              "\n",
              "      <script>\n",
              "        const buttonEl =\n",
              "          document.querySelector('#df-fdd6552f-fe4e-4e24-ba71-b8ef21ff2aae button.colab-df-convert');\n",
              "        buttonEl.style.display =\n",
              "          google.colab.kernel.accessAllowed ? 'block' : 'none';\n",
              "\n",
              "        async function convertToInteractive(key) {\n",
              "          const element = document.querySelector('#df-fdd6552f-fe4e-4e24-ba71-b8ef21ff2aae');\n",
              "          const dataTable =\n",
              "            await google.colab.kernel.invokeFunction('convertToInteractive',\n",
              "                                                     [key], {});\n",
              "          if (!dataTable) return;\n",
              "\n",
              "          const docLinkHtml = 'Like what you see? Visit the ' +\n",
              "            '<a target=\"_blank\" href=https://colab.research.google.com/notebooks/data_table.ipynb>data table notebook</a>'\n",
              "            + ' to learn more about interactive tables.';\n",
              "          element.innerHTML = '';\n",
              "          dataTable['output_type'] = 'display_data';\n",
              "          await google.colab.output.renderOutput(dataTable, element);\n",
              "          const docLink = document.createElement('div');\n",
              "          docLink.innerHTML = docLinkHtml;\n",
              "          element.appendChild(docLink);\n",
              "        }\n",
              "      </script>\n",
              "    </div>\n",
              "  </div>\n",
              "  "
            ]
          },
          "metadata": {},
          "execution_count": 30
        }
      ]
    },
    {
      "cell_type": "code",
      "metadata": {
        "colab": {
          "base_uri": "https://localhost:8080/"
        },
        "id": "UcEi_nEMEj5W",
        "outputId": "314b69e9-6f08-40c9-d205-ffddebcad92f"
      },
      "source": [
        "Y.head(2)"
      ],
      "execution_count": null,
      "outputs": [
        {
          "output_type": "execute_result",
          "data": {
            "text/plain": [
              "0    4\n",
              "1    4\n",
              "Name: Reclamos-Cat, dtype: category\n",
              "Categories (5, object): ['1' < '2' < '3' < '4' < '5']"
            ]
          },
          "metadata": {},
          "execution_count": 31
        }
      ]
    },
    {
      "cell_type": "code",
      "metadata": {
        "id": "mxMP_bsmEj5X"
      },
      "source": [
        "seed = 7\n",
        "test_size = 0.2\n",
        "X_train, X_test, y_train, y_test = train_test_split(X, Y, test_size=test_size, random_state=seed)"
      ],
      "execution_count": null,
      "outputs": []
    },
    {
      "cell_type": "code",
      "metadata": {
        "colab": {
          "base_uri": "https://localhost:8080/"
        },
        "id": "yD0wQK0sEj5Y",
        "outputId": "a299ea00-0eb1-4bd3-bae7-4b0e92be69c2"
      },
      "source": [
        "model = XGBClassifier(reg_alpha=0, reg_lambda=1)\n",
        "model.fit(X_train, y_train)"
      ],
      "execution_count": null,
      "outputs": [
        {
          "output_type": "execute_result",
          "data": {
            "text/plain": [
              "XGBClassifier()"
            ]
          },
          "metadata": {},
          "execution_count": 33
        }
      ]
    },
    {
      "cell_type": "code",
      "metadata": {
        "colab": {
          "base_uri": "https://localhost:8080/"
        },
        "id": "ichiRTkeEj5Z",
        "outputId": "2202fb1f-e2e5-486f-d35e-1cd401bd9ed8"
      },
      "source": [
        "from sklearn import metrics\n",
        "from sklearn.metrics import *\n",
        "\n",
        "#Realizo la predicción\n",
        "y_pred = model.predict(X_test)\n",
        "#Verifico la matriz de Confusión\n",
        "matriz = confusion_matrix(y_test, y_pred)\n",
        "#Calculo la precisión del modelo\n",
        "precision = precision_score(y_test, y_pred, average=\"macro\")\n",
        "#Calculo la exactitud del modelo\n",
        "exactitud = accuracy_score(y_test, y_pred)\n",
        "#Calculo la sensibilidad del modelo\n",
        "sensibilidad = recall_score(y_test, y_pred, average=\"macro\")\n",
        "#Calculo el Puntaje F1 del modelo\n",
        "puntajef1 = f1_score(y_test, y_pred, average=\"macro\")\n",
        "#Calculo la curva ROC - AUC del modelo\n",
        "roc_auc = roc_auc_score(y_test, y_pred)\n",
        "\n",
        "print('Matriz de Confusión:')\n",
        "print(matriz)\n",
        "print('Precisión del modelo:', precision)\n",
        "print('Exactitud del modelo:', exactitud)\n",
        "print('Sensibilidad del modelo:', sensibilidad)\n",
        "print('Puntaje F1 del modelo:', puntajef1)\n",
        "print('Curva ROC - AUC del modelo:', roc_auc)"
      ],
      "execution_count": null,
      "outputs": [
        {
          "output_type": "stream",
          "name": "stdout",
          "text": [
            "Matriz de Confusión:\n",
            "[[6 0]\n",
            " [1 2]]\n",
            "Precisión del modelo: 0.9285714285714286\n",
            "Exactitud del modelo: 0.8888888888888888\n",
            "Sensibilidad del modelo: 0.8333333333333333\n",
            "Puntaje F1 del modelo: 0.8615384615384616\n",
            "Curva ROC - AUC del modelo: 0.8333333333333333\n"
          ]
        }
      ]
    },
    {
      "cell_type": "markdown",
      "metadata": {
        "id": "Ll-kceNLE8tL"
      },
      "source": [
        "##XGBoost - Elasticnet"
      ]
    },
    {
      "cell_type": "code",
      "metadata": {
        "id": "ms0yuc2-E8tN"
      },
      "source": [
        "import pandas as pd\n",
        "from xgboost import XGBClassifier\n",
        "from sklearn.model_selection import train_test_split\n",
        "from sklearn.metrics import accuracy_score"
      ],
      "execution_count": null,
      "outputs": []
    },
    {
      "cell_type": "code",
      "metadata": {
        "id": "hFMDEsSyE8tO"
      },
      "source": [
        "df = data.dropna()"
      ],
      "execution_count": null,
      "outputs": []
    },
    {
      "cell_type": "code",
      "metadata": {
        "id": "5tGy562YE8tP"
      },
      "source": [
        "X = df.drop(['Reclamos-Cat'], axis=1)\n",
        "Y = df['Reclamos-Cat']"
      ],
      "execution_count": null,
      "outputs": []
    },
    {
      "cell_type": "code",
      "metadata": {
        "colab": {
          "base_uri": "https://localhost:8080/"
        },
        "id": "YK9GeY6pE8tQ",
        "outputId": "bf0f175c-e7e3-4e97-ea73-96186744d135"
      },
      "source": [
        "X.head(1)"
      ],
      "execution_count": null,
      "outputs": [
        {
          "output_type": "execute_result",
          "data": {
            "text/plain": [
              "   AÑO  Mes  N° de horas sin sistema de atención al mes    \\\n",
              "0  1.0  9.0                                         15.12   \n",
              "\n",
              "   N° total de horas de atención al mes      CSA%  \\\n",
              "0                               18518.0  0.000817   \n",
              "\n",
              "   Nº DE USUARIOS QUE DESISTIERON DE LA ATENCIÓN AL MES  \\\n",
              "0                                            41584.0      \n",
              "\n",
              "   Nº TOTAL DE USUARIOS ATENDIDOS AL MES  DAP (%)  \\\n",
              "0                               493360.0   0.0843   \n",
              "\n",
              "   Nº DE LLAMADAS NO FINALIZADAS POR EL USUARIO  \\\n",
              "0                                      118385.0   \n",
              "\n",
              "   Nº TOTAL DE LLAMADAS ATENDIDAS  CAT (%)   Bajas  Consultas   Altas  \n",
              "0                       3124089.0   0.0379  0.6217     0.6588  0.7507  "
            ],
            "text/html": [
              "\n",
              "  <div id=\"df-c143a6f4-c72a-4fe2-aa8a-8722d7e79649\">\n",
              "    <div class=\"colab-df-container\">\n",
              "      <div>\n",
              "<style scoped>\n",
              "    .dataframe tbody tr th:only-of-type {\n",
              "        vertical-align: middle;\n",
              "    }\n",
              "\n",
              "    .dataframe tbody tr th {\n",
              "        vertical-align: top;\n",
              "    }\n",
              "\n",
              "    .dataframe thead th {\n",
              "        text-align: right;\n",
              "    }\n",
              "</style>\n",
              "<table border=\"1\" class=\"dataframe\">\n",
              "  <thead>\n",
              "    <tr style=\"text-align: right;\">\n",
              "      <th></th>\n",
              "      <th>AÑO</th>\n",
              "      <th>Mes</th>\n",
              "      <th>N° de horas sin sistema de atención al mes</th>\n",
              "      <th>N° total de horas de atención al mes</th>\n",
              "      <th>CSA%</th>\n",
              "      <th>Nº DE USUARIOS QUE DESISTIERON DE LA ATENCIÓN AL MES</th>\n",
              "      <th>Nº TOTAL DE USUARIOS ATENDIDOS AL MES</th>\n",
              "      <th>DAP (%)</th>\n",
              "      <th>Nº DE LLAMADAS NO FINALIZADAS POR EL USUARIO</th>\n",
              "      <th>Nº TOTAL DE LLAMADAS ATENDIDAS</th>\n",
              "      <th>CAT (%)</th>\n",
              "      <th>Bajas</th>\n",
              "      <th>Consultas</th>\n",
              "      <th>Altas</th>\n",
              "    </tr>\n",
              "  </thead>\n",
              "  <tbody>\n",
              "    <tr>\n",
              "      <th>0</th>\n",
              "      <td>1.0</td>\n",
              "      <td>9.0</td>\n",
              "      <td>15.12</td>\n",
              "      <td>18518.0</td>\n",
              "      <td>0.000817</td>\n",
              "      <td>41584.0</td>\n",
              "      <td>493360.0</td>\n",
              "      <td>0.0843</td>\n",
              "      <td>118385.0</td>\n",
              "      <td>3124089.0</td>\n",
              "      <td>0.0379</td>\n",
              "      <td>0.6217</td>\n",
              "      <td>0.6588</td>\n",
              "      <td>0.7507</td>\n",
              "    </tr>\n",
              "  </tbody>\n",
              "</table>\n",
              "</div>\n",
              "      <button class=\"colab-df-convert\" onclick=\"convertToInteractive('df-c143a6f4-c72a-4fe2-aa8a-8722d7e79649')\"\n",
              "              title=\"Convert this dataframe to an interactive table.\"\n",
              "              style=\"display:none;\">\n",
              "        \n",
              "  <svg xmlns=\"http://www.w3.org/2000/svg\" height=\"24px\"viewBox=\"0 0 24 24\"\n",
              "       width=\"24px\">\n",
              "    <path d=\"M0 0h24v24H0V0z\" fill=\"none\"/>\n",
              "    <path d=\"M18.56 5.44l.94 2.06.94-2.06 2.06-.94-2.06-.94-.94-2.06-.94 2.06-2.06.94zm-11 1L8.5 8.5l.94-2.06 2.06-.94-2.06-.94L8.5 2.5l-.94 2.06-2.06.94zm10 10l.94 2.06.94-2.06 2.06-.94-2.06-.94-.94-2.06-.94 2.06-2.06.94z\"/><path d=\"M17.41 7.96l-1.37-1.37c-.4-.4-.92-.59-1.43-.59-.52 0-1.04.2-1.43.59L10.3 9.45l-7.72 7.72c-.78.78-.78 2.05 0 2.83L4 21.41c.39.39.9.59 1.41.59.51 0 1.02-.2 1.41-.59l7.78-7.78 2.81-2.81c.8-.78.8-2.07 0-2.86zM5.41 20L4 18.59l7.72-7.72 1.47 1.35L5.41 20z\"/>\n",
              "  </svg>\n",
              "      </button>\n",
              "      \n",
              "  <style>\n",
              "    .colab-df-container {\n",
              "      display:flex;\n",
              "      flex-wrap:wrap;\n",
              "      gap: 12px;\n",
              "    }\n",
              "\n",
              "    .colab-df-convert {\n",
              "      background-color: #E8F0FE;\n",
              "      border: none;\n",
              "      border-radius: 50%;\n",
              "      cursor: pointer;\n",
              "      display: none;\n",
              "      fill: #1967D2;\n",
              "      height: 32px;\n",
              "      padding: 0 0 0 0;\n",
              "      width: 32px;\n",
              "    }\n",
              "\n",
              "    .colab-df-convert:hover {\n",
              "      background-color: #E2EBFA;\n",
              "      box-shadow: 0px 1px 2px rgba(60, 64, 67, 0.3), 0px 1px 3px 1px rgba(60, 64, 67, 0.15);\n",
              "      fill: #174EA6;\n",
              "    }\n",
              "\n",
              "    [theme=dark] .colab-df-convert {\n",
              "      background-color: #3B4455;\n",
              "      fill: #D2E3FC;\n",
              "    }\n",
              "\n",
              "    [theme=dark] .colab-df-convert:hover {\n",
              "      background-color: #434B5C;\n",
              "      box-shadow: 0px 1px 3px 1px rgba(0, 0, 0, 0.15);\n",
              "      filter: drop-shadow(0px 1px 2px rgba(0, 0, 0, 0.3));\n",
              "      fill: #FFFFFF;\n",
              "    }\n",
              "  </style>\n",
              "\n",
              "      <script>\n",
              "        const buttonEl =\n",
              "          document.querySelector('#df-c143a6f4-c72a-4fe2-aa8a-8722d7e79649 button.colab-df-convert');\n",
              "        buttonEl.style.display =\n",
              "          google.colab.kernel.accessAllowed ? 'block' : 'none';\n",
              "\n",
              "        async function convertToInteractive(key) {\n",
              "          const element = document.querySelector('#df-c143a6f4-c72a-4fe2-aa8a-8722d7e79649');\n",
              "          const dataTable =\n",
              "            await google.colab.kernel.invokeFunction('convertToInteractive',\n",
              "                                                     [key], {});\n",
              "          if (!dataTable) return;\n",
              "\n",
              "          const docLinkHtml = 'Like what you see? Visit the ' +\n",
              "            '<a target=\"_blank\" href=https://colab.research.google.com/notebooks/data_table.ipynb>data table notebook</a>'\n",
              "            + ' to learn more about interactive tables.';\n",
              "          element.innerHTML = '';\n",
              "          dataTable['output_type'] = 'display_data';\n",
              "          await google.colab.output.renderOutput(dataTable, element);\n",
              "          const docLink = document.createElement('div');\n",
              "          docLink.innerHTML = docLinkHtml;\n",
              "          element.appendChild(docLink);\n",
              "        }\n",
              "      </script>\n",
              "    </div>\n",
              "  </div>\n",
              "  "
            ]
          },
          "metadata": {},
          "execution_count": 38
        }
      ]
    },
    {
      "cell_type": "code",
      "metadata": {
        "colab": {
          "base_uri": "https://localhost:8080/"
        },
        "id": "fzcADmHWE8tS",
        "outputId": "4ebe151d-eb3f-4916-b887-dde331ce8e45"
      },
      "source": [
        "Y.head(2)"
      ],
      "execution_count": null,
      "outputs": [
        {
          "output_type": "execute_result",
          "data": {
            "text/plain": [
              "0    4\n",
              "1    4\n",
              "Name: Reclamos-Cat, dtype: category\n",
              "Categories (5, object): ['1' < '2' < '3' < '4' < '5']"
            ]
          },
          "metadata": {},
          "execution_count": 39
        }
      ]
    },
    {
      "cell_type": "code",
      "metadata": {
        "id": "AS1z2HMNE8tT"
      },
      "source": [
        "seed = 7\n",
        "test_size = 0.2\n",
        "X_train, X_test, y_train, y_test = train_test_split(X, Y, test_size=test_size, random_state=seed)"
      ],
      "execution_count": null,
      "outputs": []
    },
    {
      "cell_type": "code",
      "metadata": {
        "colab": {
          "base_uri": "https://localhost:8080/"
        },
        "id": "7ChJfMSdE8tU",
        "outputId": "7dafa046-89d7-4586-82c1-4ce055de6592"
      },
      "source": [
        "model = XGBClassifier(reg_alpha=1, reg_lambda=1)\n",
        "model.fit(X_train, y_train)"
      ],
      "execution_count": null,
      "outputs": [
        {
          "output_type": "execute_result",
          "data": {
            "text/plain": [
              "XGBClassifier(reg_alpha=1)"
            ]
          },
          "metadata": {},
          "execution_count": 41
        }
      ]
    },
    {
      "cell_type": "code",
      "metadata": {
        "colab": {
          "base_uri": "https://localhost:8080/"
        },
        "id": "SgDC71LlE8tX",
        "outputId": "94d496b0-27ff-48a9-9589-d632a072e49e"
      },
      "source": [
        "from sklearn import metrics\n",
        "from sklearn.metrics import *\n",
        "\n",
        "#Realizo la predicción\n",
        "y_pred = model.predict(X_test)\n",
        "#Verifico la matriz de Confusión\n",
        "matriz = confusion_matrix(y_test, y_pred)\n",
        "#Calculo la precisión del modelo\n",
        "precision = precision_score(y_test, y_pred, average=\"macro\")\n",
        "#Calculo la exactitud del modelo\n",
        "exactitud = accuracy_score(y_test, y_pred)\n",
        "#Calculo la sensibilidad del modelo\n",
        "sensibilidad = recall_score(y_test, y_pred, average=\"macro\")\n",
        "#Calculo el Puntaje F1 del modelo\n",
        "puntajef1 = f1_score(y_test, y_pred, average=\"macro\")\n",
        "#Calculo la curva ROC - AUC del modelo\n",
        "roc_auc = roc_auc_score(y_test, y_pred)\n",
        "\n",
        "print('Matriz de Confusión:')\n",
        "print(matriz)\n",
        "print('Precisión del modelo:', precision)\n",
        "print('Exactitud del modelo:', exactitud)\n",
        "print('Sensibilidad del modelo:', sensibilidad)\n",
        "print('Puntaje F1 del modelo:', puntajef1)\n",
        "print('Curva ROC - AUC del modelo:', roc_auc)"
      ],
      "execution_count": null,
      "outputs": [
        {
          "output_type": "stream",
          "name": "stdout",
          "text": [
            "Matriz de Confusión:\n",
            "[[6 0]\n",
            " [0 3]]\n",
            "Precisión del modelo: 1.0\n",
            "Exactitud del modelo: 1.0\n",
            "Sensibilidad del modelo: 1.0\n",
            "Puntaje F1 del modelo: 1.0\n",
            "Curva ROC - AUC del modelo: 1.0\n"
          ]
        }
      ]
    },
    {
      "cell_type": "markdown",
      "metadata": {
        "id": "QodWPxajJZOP"
      },
      "source": [
        "#XGboost - Shrinkage (Lasso - L1)"
      ]
    },
    {
      "cell_type": "markdown",
      "metadata": {
        "id": "6zslIfhgJkPw"
      },
      "source": [
        "##Lasso Regularizacion"
      ]
    },
    {
      "cell_type": "code",
      "metadata": {
        "colab": {
          "base_uri": "https://localhost:8080/"
        },
        "id": "hCKGgvudJjdi",
        "outputId": "a6311f79-486b-4282-dc77-381c25ffd1ab"
      },
      "source": [
        "import numpy as np\n",
        "import pandas as pd\n",
        "from sklearn import linear_model\n",
        "import matplotlib.pyplot as plt\n",
        "from sklearn.model_selection import train_test_split\n",
        "from sklearn import metrics\n",
        "from datetime import datetime\n",
        "\n",
        "df = data.dropna()\n",
        "\n",
        "X = df.drop(['Reclamos-Cat'], axis=1)\n",
        "Y = df['Reclamos-Cat']\n",
        "\n",
        "porcentaje = 0.20\n",
        "semilla = 10\n",
        "X_train, X_test, y_train, y_test = train_test_split(X, Y, test_size=porcentaje, random_state=semilla)\n",
        "\n",
        "regr = linear_model.Lasso()\n",
        "inicial = datetime.now()\n",
        "regr.fit(X_train, y_train)\n",
        "final = datetime.now()\n",
        "fit_tiempo = final - inicial\n",
        "\n",
        "pred_inicial = datetime.now()\n",
        "Y_pred_time = regr.predict(X_test)\n",
        "pred_final = datetime.now()\n",
        "pred_tiempo = pred_final - pred_inicial\n",
        "\n",
        "y_pred_cuadra = regr.predict(X_test)\n",
        "r_cuadra = metrics.mean_absolute_error(y_test, y_pred_cuadra)\n",
        "r2_cuadra = np.sqrt(metrics.mean_squared_error(y_test, y_pred_cuadra))\n",
        "modelo_r2_cuadra = metrics.r2_score(y_test, y_pred_cuadra)\n",
        "modelo_r2_ajustada_cuadra =1-(1-modelo_r2_cuadra)*(len(Y)-1)/(len(Y)-X.shape[1]-1)\n",
        "\n",
        "print(\"#Metricas - OLS#\")\n",
        "print('Precisión del modelo (Score):', regr.score(X_train, y_train))\n",
        "print('Error absoluto medio:', r_cuadra)\n",
        "print('Error cuadratico medio:', r2_cuadra)\n",
        "print('Coeficiente de determinacion:', modelo_r2_cuadra)\n",
        "print('Coeficiente de determinacion ajustado:', modelo_r2_ajustada_cuadra)\n",
        "print(\"El tiempo de entrenamiento es: \", fit_tiempo)\n",
        "print(\"El tiempo de test es: \", pred_tiempo)\n",
        "print('Valor de las pendientes o coeficientes \"a\":', regr.coef_)\n",
        "print('Valor de la intersección o coeficiente \"b\":', regr.intercept_)"
      ],
      "execution_count": null,
      "outputs": [
        {
          "output_type": "stream",
          "name": "stdout",
          "text": [
            "#Metricas - OLS#\n",
            "Precisión del modelo (Score): 0.3196961994587517\n",
            "Error absoluto medio: 0.38379787949578176\n",
            "Error cuadratico medio: 0.43968678836981007\n",
            "Coeficiente de determinacion: 0.21703588893881942\n",
            "Coeficiente de determinacion ajustado: -0.16094678536657825\n",
            "El tiempo de entrenamiento es:  0:00:00.002562\n",
            "El tiempo de test es:  0:00:00.001550\n",
            "Valor de las pendientes o coeficientes \"a\": [ 0.00000000e+00  0.00000000e+00 -0.00000000e+00 -1.33038976e-04\n",
            " -0.00000000e+00 -5.06597215e-05  3.39585380e-06 -0.00000000e+00\n",
            "  1.38952453e-06 -4.01112987e-07 -0.00000000e+00  0.00000000e+00\n",
            "  0.00000000e+00  0.00000000e+00]\n",
            "Valor de la intersección o coeficiente \"b\": 7.7849574159819355\n"
          ]
        }
      ]
    },
    {
      "cell_type": "code",
      "metadata": {
        "colab": {
          "base_uri": "https://localhost:8080/"
        },
        "id": "5KQqD-EzKkGo",
        "outputId": "809340ed-dc02-41d6-d2d5-a9358a47f75b"
      },
      "source": [
        "\"\"\"\n",
        "0.00000000e+00  AÑO\n",
        "0.00000000e+00  Mes\n",
        "0.00000000e+00  N° de horas sin sistema de atención al mes\n",
        "-6.08847931e-05 N° total de horas de atención al mes\n",
        "0.00000000e+00  CSA%\n",
        "-7.44438514e-05 Nº DE USUARIOS QUE DESISTIERON DE LA ATENCIÓN AL MES\n",
        "8.40579944e-06  Nº TOTAL DE USUARIOS ATENDIDOS AL MES\n",
        "0.00000000e+00  DAP (%)\n",
        "1.60737186e-05  Nº DE LLAMADAS NO FINALIZADAS POR EL USUARIO\n",
        "-1.14408698e-06 Nº TOTAL DE LLAMADAS ATENDIDAS\n",
        "-0.00000000e+00 CAT (%)\n",
        "0.00000000e+00  Bajas\n",
        "0.00000000e+00  Consultas\n",
        "-0.00000000e+00 Altas\n",
        "\"\"\""
      ],
      "execution_count": null,
      "outputs": [
        {
          "output_type": "execute_result",
          "data": {
            "text/plain": [
              "'\\n0.00000000e+00  AÑO\\n0.00000000e+00  Mes\\n0.00000000e+00  N° de horas sin sistema de atención al mes\\n-6.08847931e-05 N° total de horas de atención al mes\\n0.00000000e+00  CSA%\\n-7.44438514e-05 Nº DE USUARIOS QUE DESISTIERON DE LA ATENCIÓN AL MES\\n8.40579944e-06  Nº TOTAL DE USUARIOS ATENDIDOS AL MES\\n0.00000000e+00  DAP (%)\\n1.60737186e-05  Nº DE LLAMADAS NO FINALIZADAS POR EL USUARIO\\n-1.14408698e-06 Nº TOTAL DE LLAMADAS ATENDIDAS\\n-0.00000000e+00 CAT (%)\\n0.00000000e+00  Bajas\\n0.00000000e+00  Consultas\\n-0.00000000e+00 Altas\\n'"
            ],
            "application/vnd.google.colaboratory.intrinsic+json": {
              "type": "string"
            }
          },
          "metadata": {},
          "execution_count": 44
        }
      ]
    },
    {
      "cell_type": "code",
      "metadata": {
        "colab": {
          "base_uri": "https://localhost:8080/"
        },
        "id": "GiA6qQAcLMBy",
        "outputId": "ead37415-6651-43b9-8453-e3f6af572401"
      },
      "source": [
        "\"\"\"\n",
        "-6.08847931e-05 N° total de horas de atención al mes\n",
        "-7.44438514e-05 Nº DE USUARIOS QUE DESISTIERON DE LA ATENCIÓN AL MES\n",
        "8.40579944e-06  Nº TOTAL DE USUARIOS ATENDIDOS AL MES\n",
        "1.60737186e-05  Nº DE LLAMADAS NO FINALIZADAS POR EL USUARIO\n",
        "-1.14408698e-06 Nº TOTAL DE LLAMADAS ATENDIDAS\n",
        "\"\"\""
      ],
      "execution_count": null,
      "outputs": [
        {
          "output_type": "execute_result",
          "data": {
            "text/plain": [
              "'\\n-6.08847931e-05 N° total de horas de atención al mes\\n-7.44438514e-05 Nº DE USUARIOS QUE DESISTIERON DE LA ATENCIÓN AL MES\\n8.40579944e-06  Nº TOTAL DE USUARIOS ATENDIDOS AL MES\\n1.60737186e-05  Nº DE LLAMADAS NO FINALIZADAS POR EL USUARIO\\n-1.14408698e-06 Nº TOTAL DE LLAMADAS ATENDIDAS\\n'"
            ],
            "application/vnd.google.colaboratory.intrinsic+json": {
              "type": "string"
            }
          },
          "metadata": {},
          "execution_count": 45
        }
      ]
    },
    {
      "cell_type": "markdown",
      "metadata": {
        "id": "qdyM3JqNJZOc"
      },
      "source": [
        "##XGBoost - Solo"
      ]
    },
    {
      "cell_type": "code",
      "metadata": {
        "id": "001rG4oYJZOc"
      },
      "source": [
        "import pandas as pd\n",
        "from xgboost import XGBClassifier\n",
        "from sklearn.model_selection import train_test_split\n",
        "from sklearn.metrics import accuracy_score"
      ],
      "execution_count": null,
      "outputs": []
    },
    {
      "cell_type": "code",
      "metadata": {
        "id": "6IpmHn4RJZOd"
      },
      "source": [
        "df = data.dropna()"
      ],
      "execution_count": null,
      "outputs": []
    },
    {
      "cell_type": "code",
      "metadata": {
        "id": "CZ8210TnJZOe"
      },
      "source": [
        "X = df[['N° total de horas de atención al mes',\n",
        "        'Nº DE USUARIOS QUE DESISTIERON DE LA ATENCIÓN AL MES',\n",
        "        'Nº TOTAL DE USUARIOS ATENDIDOS AL MES',\n",
        "        'Nº DE LLAMADAS NO FINALIZADAS POR EL USUARIO',\n",
        "        'Nº TOTAL DE LLAMADAS ATENDIDAS']]\n",
        "Y = df['Reclamos-Cat']"
      ],
      "execution_count": null,
      "outputs": []
    },
    {
      "cell_type": "code",
      "metadata": {
        "colab": {
          "base_uri": "https://localhost:8080/"
        },
        "id": "PDv8fTArJZOe",
        "outputId": "e9053886-a904-4ca7-b4bc-2dfd5ee056d5"
      },
      "source": [
        "X.head(1)"
      ],
      "execution_count": null,
      "outputs": [
        {
          "output_type": "execute_result",
          "data": {
            "text/plain": [
              "   N° total de horas de atención al mes  \\\n",
              "0                               18518.0   \n",
              "\n",
              "   Nº DE USUARIOS QUE DESISTIERON DE LA ATENCIÓN AL MES  \\\n",
              "0                                            41584.0      \n",
              "\n",
              "   Nº TOTAL DE USUARIOS ATENDIDOS AL MES  \\\n",
              "0                               493360.0   \n",
              "\n",
              "   Nº DE LLAMADAS NO FINALIZADAS POR EL USUARIO  \\\n",
              "0                                      118385.0   \n",
              "\n",
              "   Nº TOTAL DE LLAMADAS ATENDIDAS  \n",
              "0                       3124089.0  "
            ],
            "text/html": [
              "\n",
              "  <div id=\"df-f8356f96-87d3-4641-9324-d9616645d583\">\n",
              "    <div class=\"colab-df-container\">\n",
              "      <div>\n",
              "<style scoped>\n",
              "    .dataframe tbody tr th:only-of-type {\n",
              "        vertical-align: middle;\n",
              "    }\n",
              "\n",
              "    .dataframe tbody tr th {\n",
              "        vertical-align: top;\n",
              "    }\n",
              "\n",
              "    .dataframe thead th {\n",
              "        text-align: right;\n",
              "    }\n",
              "</style>\n",
              "<table border=\"1\" class=\"dataframe\">\n",
              "  <thead>\n",
              "    <tr style=\"text-align: right;\">\n",
              "      <th></th>\n",
              "      <th>N° total de horas de atención al mes</th>\n",
              "      <th>Nº DE USUARIOS QUE DESISTIERON DE LA ATENCIÓN AL MES</th>\n",
              "      <th>Nº TOTAL DE USUARIOS ATENDIDOS AL MES</th>\n",
              "      <th>Nº DE LLAMADAS NO FINALIZADAS POR EL USUARIO</th>\n",
              "      <th>Nº TOTAL DE LLAMADAS ATENDIDAS</th>\n",
              "    </tr>\n",
              "  </thead>\n",
              "  <tbody>\n",
              "    <tr>\n",
              "      <th>0</th>\n",
              "      <td>18518.0</td>\n",
              "      <td>41584.0</td>\n",
              "      <td>493360.0</td>\n",
              "      <td>118385.0</td>\n",
              "      <td>3124089.0</td>\n",
              "    </tr>\n",
              "  </tbody>\n",
              "</table>\n",
              "</div>\n",
              "      <button class=\"colab-df-convert\" onclick=\"convertToInteractive('df-f8356f96-87d3-4641-9324-d9616645d583')\"\n",
              "              title=\"Convert this dataframe to an interactive table.\"\n",
              "              style=\"display:none;\">\n",
              "        \n",
              "  <svg xmlns=\"http://www.w3.org/2000/svg\" height=\"24px\"viewBox=\"0 0 24 24\"\n",
              "       width=\"24px\">\n",
              "    <path d=\"M0 0h24v24H0V0z\" fill=\"none\"/>\n",
              "    <path d=\"M18.56 5.44l.94 2.06.94-2.06 2.06-.94-2.06-.94-.94-2.06-.94 2.06-2.06.94zm-11 1L8.5 8.5l.94-2.06 2.06-.94-2.06-.94L8.5 2.5l-.94 2.06-2.06.94zm10 10l.94 2.06.94-2.06 2.06-.94-2.06-.94-.94-2.06-.94 2.06-2.06.94z\"/><path d=\"M17.41 7.96l-1.37-1.37c-.4-.4-.92-.59-1.43-.59-.52 0-1.04.2-1.43.59L10.3 9.45l-7.72 7.72c-.78.78-.78 2.05 0 2.83L4 21.41c.39.39.9.59 1.41.59.51 0 1.02-.2 1.41-.59l7.78-7.78 2.81-2.81c.8-.78.8-2.07 0-2.86zM5.41 20L4 18.59l7.72-7.72 1.47 1.35L5.41 20z\"/>\n",
              "  </svg>\n",
              "      </button>\n",
              "      \n",
              "  <style>\n",
              "    .colab-df-container {\n",
              "      display:flex;\n",
              "      flex-wrap:wrap;\n",
              "      gap: 12px;\n",
              "    }\n",
              "\n",
              "    .colab-df-convert {\n",
              "      background-color: #E8F0FE;\n",
              "      border: none;\n",
              "      border-radius: 50%;\n",
              "      cursor: pointer;\n",
              "      display: none;\n",
              "      fill: #1967D2;\n",
              "      height: 32px;\n",
              "      padding: 0 0 0 0;\n",
              "      width: 32px;\n",
              "    }\n",
              "\n",
              "    .colab-df-convert:hover {\n",
              "      background-color: #E2EBFA;\n",
              "      box-shadow: 0px 1px 2px rgba(60, 64, 67, 0.3), 0px 1px 3px 1px rgba(60, 64, 67, 0.15);\n",
              "      fill: #174EA6;\n",
              "    }\n",
              "\n",
              "    [theme=dark] .colab-df-convert {\n",
              "      background-color: #3B4455;\n",
              "      fill: #D2E3FC;\n",
              "    }\n",
              "\n",
              "    [theme=dark] .colab-df-convert:hover {\n",
              "      background-color: #434B5C;\n",
              "      box-shadow: 0px 1px 3px 1px rgba(0, 0, 0, 0.15);\n",
              "      filter: drop-shadow(0px 1px 2px rgba(0, 0, 0, 0.3));\n",
              "      fill: #FFFFFF;\n",
              "    }\n",
              "  </style>\n",
              "\n",
              "      <script>\n",
              "        const buttonEl =\n",
              "          document.querySelector('#df-f8356f96-87d3-4641-9324-d9616645d583 button.colab-df-convert');\n",
              "        buttonEl.style.display =\n",
              "          google.colab.kernel.accessAllowed ? 'block' : 'none';\n",
              "\n",
              "        async function convertToInteractive(key) {\n",
              "          const element = document.querySelector('#df-f8356f96-87d3-4641-9324-d9616645d583');\n",
              "          const dataTable =\n",
              "            await google.colab.kernel.invokeFunction('convertToInteractive',\n",
              "                                                     [key], {});\n",
              "          if (!dataTable) return;\n",
              "\n",
              "          const docLinkHtml = 'Like what you see? Visit the ' +\n",
              "            '<a target=\"_blank\" href=https://colab.research.google.com/notebooks/data_table.ipynb>data table notebook</a>'\n",
              "            + ' to learn more about interactive tables.';\n",
              "          element.innerHTML = '';\n",
              "          dataTable['output_type'] = 'display_data';\n",
              "          await google.colab.output.renderOutput(dataTable, element);\n",
              "          const docLink = document.createElement('div');\n",
              "          docLink.innerHTML = docLinkHtml;\n",
              "          element.appendChild(docLink);\n",
              "        }\n",
              "      </script>\n",
              "    </div>\n",
              "  </div>\n",
              "  "
            ]
          },
          "metadata": {},
          "execution_count": 49
        }
      ]
    },
    {
      "cell_type": "code",
      "metadata": {
        "colab": {
          "base_uri": "https://localhost:8080/"
        },
        "id": "efNWZSdpJZOf",
        "outputId": "35e0d395-cc15-49ea-d295-c26300fe5fe1"
      },
      "source": [
        "Y.head(2)"
      ],
      "execution_count": null,
      "outputs": [
        {
          "output_type": "execute_result",
          "data": {
            "text/plain": [
              "0    4\n",
              "1    4\n",
              "Name: Reclamos-Cat, dtype: category\n",
              "Categories (5, object): ['1' < '2' < '3' < '4' < '5']"
            ]
          },
          "metadata": {},
          "execution_count": 50
        }
      ]
    },
    {
      "cell_type": "code",
      "metadata": {
        "id": "KX1wX9O2JZOg"
      },
      "source": [
        "seed = 7\n",
        "test_size = 0.2\n",
        "X_train, X_test, y_train, y_test = train_test_split(X, Y, test_size=test_size, random_state=seed)"
      ],
      "execution_count": null,
      "outputs": []
    },
    {
      "cell_type": "code",
      "metadata": {
        "colab": {
          "base_uri": "https://localhost:8080/"
        },
        "id": "QCBsNTQnJZOg",
        "outputId": "a28bf0ff-36d8-47b4-ef72-dab9ce83c3f5"
      },
      "source": [
        "model = XGBClassifier(reg_alpha=0, reg_lambda=0)\n",
        "model.fit(X_train, y_train)"
      ],
      "execution_count": null,
      "outputs": [
        {
          "output_type": "execute_result",
          "data": {
            "text/plain": [
              "XGBClassifier(reg_lambda=0)"
            ]
          },
          "metadata": {},
          "execution_count": 52
        }
      ]
    },
    {
      "cell_type": "code",
      "metadata": {
        "colab": {
          "base_uri": "https://localhost:8080/"
        },
        "id": "4e7wnnUJJZOh",
        "outputId": "db970dde-f82b-43cd-9907-13e5d20de731"
      },
      "source": [
        "from sklearn import metrics\n",
        "from sklearn.metrics import *\n",
        "\n",
        "#Realizo la predicción\n",
        "y_pred = model.predict(X_test)\n",
        "#Verifico la matriz de Confusión\n",
        "matriz = confusion_matrix(y_test, y_pred)\n",
        "#Calculo la precisión del modelo\n",
        "precision = precision_score(y_test, y_pred, average=\"macro\")\n",
        "#Calculo la exactitud del modelo\n",
        "exactitud = accuracy_score(y_test, y_pred)\n",
        "#Calculo la sensibilidad del modelo\n",
        "sensibilidad = recall_score(y_test, y_pred, average=\"macro\")\n",
        "#Calculo el Puntaje F1 del modelo\n",
        "puntajef1 = f1_score(y_test, y_pred, average=\"macro\")\n",
        "#Calculo la curva ROC - AUC del modelo\n",
        "roc_auc = roc_auc_score(y_test, y_pred)\n",
        "\n",
        "print('Matriz de Confusión:')\n",
        "print(matriz)\n",
        "print('Precisión del modelo:', precision)\n",
        "print('Exactitud del modelo:', exactitud)\n",
        "print('Sensibilidad del modelo:', sensibilidad)\n",
        "print('Puntaje F1 del modelo:', puntajef1)\n",
        "print('Curva ROC - AUC del modelo:', roc_auc)"
      ],
      "execution_count": null,
      "outputs": [
        {
          "output_type": "stream",
          "name": "stdout",
          "text": [
            "Matriz de Confusión:\n",
            "[[6 0]\n",
            " [2 1]]\n",
            "Precisión del modelo: 0.875\n",
            "Exactitud del modelo: 0.7777777777777778\n",
            "Sensibilidad del modelo: 0.6666666666666666\n",
            "Puntaje F1 del modelo: 0.6785714285714286\n",
            "Curva ROC - AUC del modelo: 0.6666666666666666\n"
          ]
        }
      ]
    },
    {
      "cell_type": "markdown",
      "metadata": {
        "id": "6RYynZy_JZOi"
      },
      "source": [
        "##XGBoost - Lasso"
      ]
    },
    {
      "cell_type": "code",
      "metadata": {
        "id": "AuJLRcdTJZOj"
      },
      "source": [
        "import pandas as pd\n",
        "from xgboost import XGBClassifier\n",
        "from sklearn.model_selection import train_test_split\n",
        "from sklearn.metrics import accuracy_score"
      ],
      "execution_count": null,
      "outputs": []
    },
    {
      "cell_type": "code",
      "metadata": {
        "id": "W72_XWB2JZOj"
      },
      "source": [
        "df = data.dropna()"
      ],
      "execution_count": null,
      "outputs": []
    },
    {
      "cell_type": "code",
      "metadata": {
        "id": "2PnkP9WDJZOj"
      },
      "source": [
        "X = df.drop(['Reclamos-Cat'], axis=1)\n",
        "Y = df['Reclamos-Cat']"
      ],
      "execution_count": null,
      "outputs": []
    },
    {
      "cell_type": "code",
      "metadata": {
        "colab": {
          "base_uri": "https://localhost:8080/"
        },
        "id": "ABLKuzwnJZOk",
        "outputId": "1655b73e-8b54-4864-de47-8dec6ce7a25c"
      },
      "source": [
        "X.head(1)"
      ],
      "execution_count": null,
      "outputs": [
        {
          "output_type": "execute_result",
          "data": {
            "text/plain": [
              "   AÑO  Mes  N° de horas sin sistema de atención al mes    \\\n",
              "0  1.0  9.0                                         15.12   \n",
              "\n",
              "   N° total de horas de atención al mes      CSA%  \\\n",
              "0                               18518.0  0.000817   \n",
              "\n",
              "   Nº DE USUARIOS QUE DESISTIERON DE LA ATENCIÓN AL MES  \\\n",
              "0                                            41584.0      \n",
              "\n",
              "   Nº TOTAL DE USUARIOS ATENDIDOS AL MES  DAP (%)  \\\n",
              "0                               493360.0   0.0843   \n",
              "\n",
              "   Nº DE LLAMADAS NO FINALIZADAS POR EL USUARIO  \\\n",
              "0                                      118385.0   \n",
              "\n",
              "   Nº TOTAL DE LLAMADAS ATENDIDAS  CAT (%)   Bajas  Consultas   Altas  \n",
              "0                       3124089.0   0.0379  0.6217     0.6588  0.7507  "
            ],
            "text/html": [
              "\n",
              "  <div id=\"df-8b15bd2d-212e-49c8-a37f-4cc6dfab65ad\">\n",
              "    <div class=\"colab-df-container\">\n",
              "      <div>\n",
              "<style scoped>\n",
              "    .dataframe tbody tr th:only-of-type {\n",
              "        vertical-align: middle;\n",
              "    }\n",
              "\n",
              "    .dataframe tbody tr th {\n",
              "        vertical-align: top;\n",
              "    }\n",
              "\n",
              "    .dataframe thead th {\n",
              "        text-align: right;\n",
              "    }\n",
              "</style>\n",
              "<table border=\"1\" class=\"dataframe\">\n",
              "  <thead>\n",
              "    <tr style=\"text-align: right;\">\n",
              "      <th></th>\n",
              "      <th>AÑO</th>\n",
              "      <th>Mes</th>\n",
              "      <th>N° de horas sin sistema de atención al mes</th>\n",
              "      <th>N° total de horas de atención al mes</th>\n",
              "      <th>CSA%</th>\n",
              "      <th>Nº DE USUARIOS QUE DESISTIERON DE LA ATENCIÓN AL MES</th>\n",
              "      <th>Nº TOTAL DE USUARIOS ATENDIDOS AL MES</th>\n",
              "      <th>DAP (%)</th>\n",
              "      <th>Nº DE LLAMADAS NO FINALIZADAS POR EL USUARIO</th>\n",
              "      <th>Nº TOTAL DE LLAMADAS ATENDIDAS</th>\n",
              "      <th>CAT (%)</th>\n",
              "      <th>Bajas</th>\n",
              "      <th>Consultas</th>\n",
              "      <th>Altas</th>\n",
              "    </tr>\n",
              "  </thead>\n",
              "  <tbody>\n",
              "    <tr>\n",
              "      <th>0</th>\n",
              "      <td>1.0</td>\n",
              "      <td>9.0</td>\n",
              "      <td>15.12</td>\n",
              "      <td>18518.0</td>\n",
              "      <td>0.000817</td>\n",
              "      <td>41584.0</td>\n",
              "      <td>493360.0</td>\n",
              "      <td>0.0843</td>\n",
              "      <td>118385.0</td>\n",
              "      <td>3124089.0</td>\n",
              "      <td>0.0379</td>\n",
              "      <td>0.6217</td>\n",
              "      <td>0.6588</td>\n",
              "      <td>0.7507</td>\n",
              "    </tr>\n",
              "  </tbody>\n",
              "</table>\n",
              "</div>\n",
              "      <button class=\"colab-df-convert\" onclick=\"convertToInteractive('df-8b15bd2d-212e-49c8-a37f-4cc6dfab65ad')\"\n",
              "              title=\"Convert this dataframe to an interactive table.\"\n",
              "              style=\"display:none;\">\n",
              "        \n",
              "  <svg xmlns=\"http://www.w3.org/2000/svg\" height=\"24px\"viewBox=\"0 0 24 24\"\n",
              "       width=\"24px\">\n",
              "    <path d=\"M0 0h24v24H0V0z\" fill=\"none\"/>\n",
              "    <path d=\"M18.56 5.44l.94 2.06.94-2.06 2.06-.94-2.06-.94-.94-2.06-.94 2.06-2.06.94zm-11 1L8.5 8.5l.94-2.06 2.06-.94-2.06-.94L8.5 2.5l-.94 2.06-2.06.94zm10 10l.94 2.06.94-2.06 2.06-.94-2.06-.94-.94-2.06-.94 2.06-2.06.94z\"/><path d=\"M17.41 7.96l-1.37-1.37c-.4-.4-.92-.59-1.43-.59-.52 0-1.04.2-1.43.59L10.3 9.45l-7.72 7.72c-.78.78-.78 2.05 0 2.83L4 21.41c.39.39.9.59 1.41.59.51 0 1.02-.2 1.41-.59l7.78-7.78 2.81-2.81c.8-.78.8-2.07 0-2.86zM5.41 20L4 18.59l7.72-7.72 1.47 1.35L5.41 20z\"/>\n",
              "  </svg>\n",
              "      </button>\n",
              "      \n",
              "  <style>\n",
              "    .colab-df-container {\n",
              "      display:flex;\n",
              "      flex-wrap:wrap;\n",
              "      gap: 12px;\n",
              "    }\n",
              "\n",
              "    .colab-df-convert {\n",
              "      background-color: #E8F0FE;\n",
              "      border: none;\n",
              "      border-radius: 50%;\n",
              "      cursor: pointer;\n",
              "      display: none;\n",
              "      fill: #1967D2;\n",
              "      height: 32px;\n",
              "      padding: 0 0 0 0;\n",
              "      width: 32px;\n",
              "    }\n",
              "\n",
              "    .colab-df-convert:hover {\n",
              "      background-color: #E2EBFA;\n",
              "      box-shadow: 0px 1px 2px rgba(60, 64, 67, 0.3), 0px 1px 3px 1px rgba(60, 64, 67, 0.15);\n",
              "      fill: #174EA6;\n",
              "    }\n",
              "\n",
              "    [theme=dark] .colab-df-convert {\n",
              "      background-color: #3B4455;\n",
              "      fill: #D2E3FC;\n",
              "    }\n",
              "\n",
              "    [theme=dark] .colab-df-convert:hover {\n",
              "      background-color: #434B5C;\n",
              "      box-shadow: 0px 1px 3px 1px rgba(0, 0, 0, 0.15);\n",
              "      filter: drop-shadow(0px 1px 2px rgba(0, 0, 0, 0.3));\n",
              "      fill: #FFFFFF;\n",
              "    }\n",
              "  </style>\n",
              "\n",
              "      <script>\n",
              "        const buttonEl =\n",
              "          document.querySelector('#df-8b15bd2d-212e-49c8-a37f-4cc6dfab65ad button.colab-df-convert');\n",
              "        buttonEl.style.display =\n",
              "          google.colab.kernel.accessAllowed ? 'block' : 'none';\n",
              "\n",
              "        async function convertToInteractive(key) {\n",
              "          const element = document.querySelector('#df-8b15bd2d-212e-49c8-a37f-4cc6dfab65ad');\n",
              "          const dataTable =\n",
              "            await google.colab.kernel.invokeFunction('convertToInteractive',\n",
              "                                                     [key], {});\n",
              "          if (!dataTable) return;\n",
              "\n",
              "          const docLinkHtml = 'Like what you see? Visit the ' +\n",
              "            '<a target=\"_blank\" href=https://colab.research.google.com/notebooks/data_table.ipynb>data table notebook</a>'\n",
              "            + ' to learn more about interactive tables.';\n",
              "          element.innerHTML = '';\n",
              "          dataTable['output_type'] = 'display_data';\n",
              "          await google.colab.output.renderOutput(dataTable, element);\n",
              "          const docLink = document.createElement('div');\n",
              "          docLink.innerHTML = docLinkHtml;\n",
              "          element.appendChild(docLink);\n",
              "        }\n",
              "      </script>\n",
              "    </div>\n",
              "  </div>\n",
              "  "
            ]
          },
          "metadata": {},
          "execution_count": 57
        }
      ]
    },
    {
      "cell_type": "code",
      "metadata": {
        "colab": {
          "base_uri": "https://localhost:8080/"
        },
        "id": "eRJLpoNcJZOl",
        "outputId": "f3415a75-fd62-45b3-9c9c-1231c24788a0"
      },
      "source": [
        "Y.head(2)"
      ],
      "execution_count": null,
      "outputs": [
        {
          "output_type": "execute_result",
          "data": {
            "text/plain": [
              "0    4\n",
              "1    4\n",
              "Name: Reclamos-Cat, dtype: category\n",
              "Categories (5, object): ['1' < '2' < '3' < '4' < '5']"
            ]
          },
          "metadata": {},
          "execution_count": 58
        }
      ]
    },
    {
      "cell_type": "code",
      "metadata": {
        "id": "m288hcP4JZOl"
      },
      "source": [
        "seed = 7\n",
        "test_size = 0.2\n",
        "X_train, X_test, y_train, y_test = train_test_split(X, Y, test_size=test_size, random_state=seed)"
      ],
      "execution_count": null,
      "outputs": []
    },
    {
      "cell_type": "code",
      "metadata": {
        "colab": {
          "base_uri": "https://localhost:8080/"
        },
        "id": "hXjIpEQ6JZOl",
        "outputId": "993b6eef-9b85-4454-8e3a-824a826e50d6"
      },
      "source": [
        "model = XGBClassifier(reg_alpha=1, reg_lambda=0)\n",
        "model.fit(X_train, y_train)"
      ],
      "execution_count": null,
      "outputs": [
        {
          "output_type": "execute_result",
          "data": {
            "text/plain": [
              "XGBClassifier(reg_alpha=1, reg_lambda=0)"
            ]
          },
          "metadata": {},
          "execution_count": 60
        }
      ]
    },
    {
      "cell_type": "code",
      "metadata": {
        "colab": {
          "base_uri": "https://localhost:8080/"
        },
        "id": "E_7xihh_JZOm",
        "outputId": "792a48e9-8bcd-4f9a-b904-6c337cfb1eee"
      },
      "source": [
        "from sklearn import metrics\n",
        "from sklearn.metrics import *\n",
        "\n",
        "#Realizo la predicción\n",
        "y_pred = model.predict(X_test)\n",
        "#Verifico la matriz de Confusión\n",
        "matriz = confusion_matrix(y_test, y_pred)\n",
        "#Calculo la precisión del modelo\n",
        "precision = precision_score(y_test, y_pred, average=\"macro\")\n",
        "#Calculo la exactitud del modelo\n",
        "exactitud = accuracy_score(y_test, y_pred)\n",
        "#Calculo la sensibilidad del modelo\n",
        "sensibilidad = recall_score(y_test, y_pred, average=\"macro\")\n",
        "#Calculo el Puntaje F1 del modelo\n",
        "puntajef1 = f1_score(y_test, y_pred, average=\"macro\")\n",
        "#Calculo la curva ROC - AUC del modelo\n",
        "roc_auc = roc_auc_score(y_test, y_pred)\n",
        "\n",
        "print('Matriz de Confusión:')\n",
        "print(matriz)\n",
        "print('Precisión del modelo:', precision)\n",
        "print('Exactitud del modelo:', exactitud)\n",
        "print('Sensibilidad del modelo:', sensibilidad)\n",
        "print('Puntaje F1 del modelo:', puntajef1)\n",
        "print('Curva ROC - AUC del modelo:', roc_auc)"
      ],
      "execution_count": null,
      "outputs": [
        {
          "output_type": "stream",
          "name": "stdout",
          "text": [
            "Matriz de Confusión:\n",
            "[[6 0]\n",
            " [0 3]]\n",
            "Precisión del modelo: 1.0\n",
            "Exactitud del modelo: 1.0\n",
            "Sensibilidad del modelo: 1.0\n",
            "Puntaje F1 del modelo: 1.0\n",
            "Curva ROC - AUC del modelo: 1.0\n"
          ]
        }
      ]
    },
    {
      "cell_type": "markdown",
      "metadata": {
        "id": "MGT6kKBvJZOn"
      },
      "source": [
        "##XGBoost - Ridge"
      ]
    },
    {
      "cell_type": "code",
      "metadata": {
        "id": "UIaY1K-2JZOn"
      },
      "source": [
        "import pandas as pd\n",
        "from xgboost import XGBClassifier\n",
        "from sklearn.model_selection import train_test_split\n",
        "from sklearn.metrics import accuracy_score"
      ],
      "execution_count": null,
      "outputs": []
    },
    {
      "cell_type": "code",
      "metadata": {
        "id": "6gTSVxLTJZOo"
      },
      "source": [
        "df = data.dropna()"
      ],
      "execution_count": null,
      "outputs": []
    },
    {
      "cell_type": "code",
      "metadata": {
        "id": "g2Ubi1e1JZOo"
      },
      "source": [
        "X = df.drop(['Reclamos-Cat'], axis=1)\n",
        "Y = df['Reclamos-Cat']"
      ],
      "execution_count": null,
      "outputs": []
    },
    {
      "cell_type": "code",
      "metadata": {
        "colab": {
          "base_uri": "https://localhost:8080/"
        },
        "id": "h81m4AFiJZOp",
        "outputId": "3c2b9399-6b88-4312-c22d-4d31dab4d0e3"
      },
      "source": [
        "X.head(1)"
      ],
      "execution_count": null,
      "outputs": [
        {
          "output_type": "execute_result",
          "data": {
            "text/plain": [
              "   AÑO  Mes  N° de horas sin sistema de atención al mes    \\\n",
              "0  1.0  9.0                                         15.12   \n",
              "\n",
              "   N° total de horas de atención al mes      CSA%  \\\n",
              "0                               18518.0  0.000817   \n",
              "\n",
              "   Nº DE USUARIOS QUE DESISTIERON DE LA ATENCIÓN AL MES  \\\n",
              "0                                            41584.0      \n",
              "\n",
              "   Nº TOTAL DE USUARIOS ATENDIDOS AL MES  DAP (%)  \\\n",
              "0                               493360.0   0.0843   \n",
              "\n",
              "   Nº DE LLAMADAS NO FINALIZADAS POR EL USUARIO  \\\n",
              "0                                      118385.0   \n",
              "\n",
              "   Nº TOTAL DE LLAMADAS ATENDIDAS  CAT (%)   Bajas  Consultas   Altas  \n",
              "0                       3124089.0   0.0379  0.6217     0.6588  0.7507  "
            ],
            "text/html": [
              "\n",
              "  <div id=\"df-7817425d-18fb-4abc-b00a-e2f732275457\">\n",
              "    <div class=\"colab-df-container\">\n",
              "      <div>\n",
              "<style scoped>\n",
              "    .dataframe tbody tr th:only-of-type {\n",
              "        vertical-align: middle;\n",
              "    }\n",
              "\n",
              "    .dataframe tbody tr th {\n",
              "        vertical-align: top;\n",
              "    }\n",
              "\n",
              "    .dataframe thead th {\n",
              "        text-align: right;\n",
              "    }\n",
              "</style>\n",
              "<table border=\"1\" class=\"dataframe\">\n",
              "  <thead>\n",
              "    <tr style=\"text-align: right;\">\n",
              "      <th></th>\n",
              "      <th>AÑO</th>\n",
              "      <th>Mes</th>\n",
              "      <th>N° de horas sin sistema de atención al mes</th>\n",
              "      <th>N° total de horas de atención al mes</th>\n",
              "      <th>CSA%</th>\n",
              "      <th>Nº DE USUARIOS QUE DESISTIERON DE LA ATENCIÓN AL MES</th>\n",
              "      <th>Nº TOTAL DE USUARIOS ATENDIDOS AL MES</th>\n",
              "      <th>DAP (%)</th>\n",
              "      <th>Nº DE LLAMADAS NO FINALIZADAS POR EL USUARIO</th>\n",
              "      <th>Nº TOTAL DE LLAMADAS ATENDIDAS</th>\n",
              "      <th>CAT (%)</th>\n",
              "      <th>Bajas</th>\n",
              "      <th>Consultas</th>\n",
              "      <th>Altas</th>\n",
              "    </tr>\n",
              "  </thead>\n",
              "  <tbody>\n",
              "    <tr>\n",
              "      <th>0</th>\n",
              "      <td>1.0</td>\n",
              "      <td>9.0</td>\n",
              "      <td>15.12</td>\n",
              "      <td>18518.0</td>\n",
              "      <td>0.000817</td>\n",
              "      <td>41584.0</td>\n",
              "      <td>493360.0</td>\n",
              "      <td>0.0843</td>\n",
              "      <td>118385.0</td>\n",
              "      <td>3124089.0</td>\n",
              "      <td>0.0379</td>\n",
              "      <td>0.6217</td>\n",
              "      <td>0.6588</td>\n",
              "      <td>0.7507</td>\n",
              "    </tr>\n",
              "  </tbody>\n",
              "</table>\n",
              "</div>\n",
              "      <button class=\"colab-df-convert\" onclick=\"convertToInteractive('df-7817425d-18fb-4abc-b00a-e2f732275457')\"\n",
              "              title=\"Convert this dataframe to an interactive table.\"\n",
              "              style=\"display:none;\">\n",
              "        \n",
              "  <svg xmlns=\"http://www.w3.org/2000/svg\" height=\"24px\"viewBox=\"0 0 24 24\"\n",
              "       width=\"24px\">\n",
              "    <path d=\"M0 0h24v24H0V0z\" fill=\"none\"/>\n",
              "    <path d=\"M18.56 5.44l.94 2.06.94-2.06 2.06-.94-2.06-.94-.94-2.06-.94 2.06-2.06.94zm-11 1L8.5 8.5l.94-2.06 2.06-.94-2.06-.94L8.5 2.5l-.94 2.06-2.06.94zm10 10l.94 2.06.94-2.06 2.06-.94-2.06-.94-.94-2.06-.94 2.06-2.06.94z\"/><path d=\"M17.41 7.96l-1.37-1.37c-.4-.4-.92-.59-1.43-.59-.52 0-1.04.2-1.43.59L10.3 9.45l-7.72 7.72c-.78.78-.78 2.05 0 2.83L4 21.41c.39.39.9.59 1.41.59.51 0 1.02-.2 1.41-.59l7.78-7.78 2.81-2.81c.8-.78.8-2.07 0-2.86zM5.41 20L4 18.59l7.72-7.72 1.47 1.35L5.41 20z\"/>\n",
              "  </svg>\n",
              "      </button>\n",
              "      \n",
              "  <style>\n",
              "    .colab-df-container {\n",
              "      display:flex;\n",
              "      flex-wrap:wrap;\n",
              "      gap: 12px;\n",
              "    }\n",
              "\n",
              "    .colab-df-convert {\n",
              "      background-color: #E8F0FE;\n",
              "      border: none;\n",
              "      border-radius: 50%;\n",
              "      cursor: pointer;\n",
              "      display: none;\n",
              "      fill: #1967D2;\n",
              "      height: 32px;\n",
              "      padding: 0 0 0 0;\n",
              "      width: 32px;\n",
              "    }\n",
              "\n",
              "    .colab-df-convert:hover {\n",
              "      background-color: #E2EBFA;\n",
              "      box-shadow: 0px 1px 2px rgba(60, 64, 67, 0.3), 0px 1px 3px 1px rgba(60, 64, 67, 0.15);\n",
              "      fill: #174EA6;\n",
              "    }\n",
              "\n",
              "    [theme=dark] .colab-df-convert {\n",
              "      background-color: #3B4455;\n",
              "      fill: #D2E3FC;\n",
              "    }\n",
              "\n",
              "    [theme=dark] .colab-df-convert:hover {\n",
              "      background-color: #434B5C;\n",
              "      box-shadow: 0px 1px 3px 1px rgba(0, 0, 0, 0.15);\n",
              "      filter: drop-shadow(0px 1px 2px rgba(0, 0, 0, 0.3));\n",
              "      fill: #FFFFFF;\n",
              "    }\n",
              "  </style>\n",
              "\n",
              "      <script>\n",
              "        const buttonEl =\n",
              "          document.querySelector('#df-7817425d-18fb-4abc-b00a-e2f732275457 button.colab-df-convert');\n",
              "        buttonEl.style.display =\n",
              "          google.colab.kernel.accessAllowed ? 'block' : 'none';\n",
              "\n",
              "        async function convertToInteractive(key) {\n",
              "          const element = document.querySelector('#df-7817425d-18fb-4abc-b00a-e2f732275457');\n",
              "          const dataTable =\n",
              "            await google.colab.kernel.invokeFunction('convertToInteractive',\n",
              "                                                     [key], {});\n",
              "          if (!dataTable) return;\n",
              "\n",
              "          const docLinkHtml = 'Like what you see? Visit the ' +\n",
              "            '<a target=\"_blank\" href=https://colab.research.google.com/notebooks/data_table.ipynb>data table notebook</a>'\n",
              "            + ' to learn more about interactive tables.';\n",
              "          element.innerHTML = '';\n",
              "          dataTable['output_type'] = 'display_data';\n",
              "          await google.colab.output.renderOutput(dataTable, element);\n",
              "          const docLink = document.createElement('div');\n",
              "          docLink.innerHTML = docLinkHtml;\n",
              "          element.appendChild(docLink);\n",
              "        }\n",
              "      </script>\n",
              "    </div>\n",
              "  </div>\n",
              "  "
            ]
          },
          "metadata": {},
          "execution_count": 65
        }
      ]
    },
    {
      "cell_type": "code",
      "metadata": {
        "colab": {
          "base_uri": "https://localhost:8080/"
        },
        "id": "saesIMPLJZOp",
        "outputId": "5e270a00-fc2f-4b17-b9f2-672985766f2a"
      },
      "source": [
        "Y.head(2)"
      ],
      "execution_count": null,
      "outputs": [
        {
          "output_type": "execute_result",
          "data": {
            "text/plain": [
              "0    4\n",
              "1    4\n",
              "Name: Reclamos-Cat, dtype: category\n",
              "Categories (5, object): ['1' < '2' < '3' < '4' < '5']"
            ]
          },
          "metadata": {},
          "execution_count": 66
        }
      ]
    },
    {
      "cell_type": "code",
      "metadata": {
        "id": "7burFq91JZOq"
      },
      "source": [
        "seed = 7\n",
        "test_size = 0.2\n",
        "X_train, X_test, y_train, y_test = train_test_split(X, Y, test_size=test_size, random_state=seed)"
      ],
      "execution_count": null,
      "outputs": []
    },
    {
      "cell_type": "code",
      "metadata": {
        "colab": {
          "base_uri": "https://localhost:8080/"
        },
        "id": "In67IG_lJZOq",
        "outputId": "2be10056-a917-4eae-d2c8-f939a62360b0"
      },
      "source": [
        "model = XGBClassifier(reg_alpha=0, reg_lambda=1)\n",
        "model.fit(X_train, y_train)"
      ],
      "execution_count": null,
      "outputs": [
        {
          "output_type": "execute_result",
          "data": {
            "text/plain": [
              "XGBClassifier()"
            ]
          },
          "metadata": {},
          "execution_count": 68
        }
      ]
    },
    {
      "cell_type": "code",
      "metadata": {
        "colab": {
          "base_uri": "https://localhost:8080/"
        },
        "id": "gKJGFBhfJZOq",
        "outputId": "985a2210-6b1e-4e31-a015-fba05adac07f"
      },
      "source": [
        "from sklearn import metrics\n",
        "from sklearn.metrics import *\n",
        "\n",
        "#Realizo la predicción\n",
        "y_pred = model.predict(X_test)\n",
        "#Verifico la matriz de Confusión\n",
        "matriz = confusion_matrix(y_test, y_pred)\n",
        "#Calculo la precisión del modelo\n",
        "precision = precision_score(y_test, y_pred, average=\"macro\")\n",
        "#Calculo la exactitud del modelo\n",
        "exactitud = accuracy_score(y_test, y_pred)\n",
        "#Calculo la sensibilidad del modelo\n",
        "sensibilidad = recall_score(y_test, y_pred, average=\"macro\")\n",
        "#Calculo el Puntaje F1 del modelo\n",
        "puntajef1 = f1_score(y_test, y_pred, average=\"macro\")\n",
        "#Calculo la curva ROC - AUC del modelo\n",
        "roc_auc = roc_auc_score(y_test, y_pred)\n",
        "\n",
        "print('Matriz de Confusión:')\n",
        "print(matriz)\n",
        "print('Precisión del modelo:', precision)\n",
        "print('Exactitud del modelo:', exactitud)\n",
        "print('Sensibilidad del modelo:', sensibilidad)\n",
        "print('Puntaje F1 del modelo:', puntajef1)\n",
        "print('Curva ROC - AUC del modelo:', roc_auc)"
      ],
      "execution_count": null,
      "outputs": [
        {
          "output_type": "stream",
          "name": "stdout",
          "text": [
            "Matriz de Confusión:\n",
            "[[6 0]\n",
            " [1 2]]\n",
            "Precisión del modelo: 0.9285714285714286\n",
            "Exactitud del modelo: 0.8888888888888888\n",
            "Sensibilidad del modelo: 0.8333333333333333\n",
            "Puntaje F1 del modelo: 0.8615384615384616\n",
            "Curva ROC - AUC del modelo: 0.8333333333333333\n"
          ]
        }
      ]
    },
    {
      "cell_type": "markdown",
      "metadata": {
        "id": "47J_k2alJZOv"
      },
      "source": [
        "##XGBoost - Elasticnet"
      ]
    },
    {
      "cell_type": "code",
      "metadata": {
        "id": "KOJgQYWtJZOw"
      },
      "source": [
        "import pandas as pd\n",
        "from xgboost import XGBClassifier\n",
        "from sklearn.model_selection import train_test_split\n",
        "from sklearn.metrics import accuracy_score"
      ],
      "execution_count": null,
      "outputs": []
    },
    {
      "cell_type": "code",
      "metadata": {
        "id": "eNVylm7GJZOw"
      },
      "source": [
        "df = data.dropna()"
      ],
      "execution_count": null,
      "outputs": []
    },
    {
      "cell_type": "code",
      "metadata": {
        "id": "M9iaePJ8JZOw"
      },
      "source": [
        "X = df.drop(['Reclamos-Cat'], axis=1)\n",
        "Y = df['Reclamos-Cat']"
      ],
      "execution_count": null,
      "outputs": []
    },
    {
      "cell_type": "code",
      "metadata": {
        "colab": {
          "base_uri": "https://localhost:8080/"
        },
        "id": "u-G-NkcMJZOx",
        "outputId": "a29f0051-9cd8-4bfe-c95c-fd314a68dc88"
      },
      "source": [
        "X.head(1)"
      ],
      "execution_count": null,
      "outputs": [
        {
          "output_type": "execute_result",
          "data": {
            "text/plain": [
              "   AÑO  Mes  N° de horas sin sistema de atención al mes    \\\n",
              "0  1.0  9.0                                         15.12   \n",
              "\n",
              "   N° total de horas de atención al mes      CSA%  \\\n",
              "0                               18518.0  0.000817   \n",
              "\n",
              "   Nº DE USUARIOS QUE DESISTIERON DE LA ATENCIÓN AL MES  \\\n",
              "0                                            41584.0      \n",
              "\n",
              "   Nº TOTAL DE USUARIOS ATENDIDOS AL MES  DAP (%)  \\\n",
              "0                               493360.0   0.0843   \n",
              "\n",
              "   Nº DE LLAMADAS NO FINALIZADAS POR EL USUARIO  \\\n",
              "0                                      118385.0   \n",
              "\n",
              "   Nº TOTAL DE LLAMADAS ATENDIDAS  CAT (%)   Bajas  Consultas   Altas  \n",
              "0                       3124089.0   0.0379  0.6217     0.6588  0.7507  "
            ],
            "text/html": [
              "\n",
              "  <div id=\"df-17714d94-0e58-42ac-bacc-593960d2bf1a\">\n",
              "    <div class=\"colab-df-container\">\n",
              "      <div>\n",
              "<style scoped>\n",
              "    .dataframe tbody tr th:only-of-type {\n",
              "        vertical-align: middle;\n",
              "    }\n",
              "\n",
              "    .dataframe tbody tr th {\n",
              "        vertical-align: top;\n",
              "    }\n",
              "\n",
              "    .dataframe thead th {\n",
              "        text-align: right;\n",
              "    }\n",
              "</style>\n",
              "<table border=\"1\" class=\"dataframe\">\n",
              "  <thead>\n",
              "    <tr style=\"text-align: right;\">\n",
              "      <th></th>\n",
              "      <th>AÑO</th>\n",
              "      <th>Mes</th>\n",
              "      <th>N° de horas sin sistema de atención al mes</th>\n",
              "      <th>N° total de horas de atención al mes</th>\n",
              "      <th>CSA%</th>\n",
              "      <th>Nº DE USUARIOS QUE DESISTIERON DE LA ATENCIÓN AL MES</th>\n",
              "      <th>Nº TOTAL DE USUARIOS ATENDIDOS AL MES</th>\n",
              "      <th>DAP (%)</th>\n",
              "      <th>Nº DE LLAMADAS NO FINALIZADAS POR EL USUARIO</th>\n",
              "      <th>Nº TOTAL DE LLAMADAS ATENDIDAS</th>\n",
              "      <th>CAT (%)</th>\n",
              "      <th>Bajas</th>\n",
              "      <th>Consultas</th>\n",
              "      <th>Altas</th>\n",
              "    </tr>\n",
              "  </thead>\n",
              "  <tbody>\n",
              "    <tr>\n",
              "      <th>0</th>\n",
              "      <td>1.0</td>\n",
              "      <td>9.0</td>\n",
              "      <td>15.12</td>\n",
              "      <td>18518.0</td>\n",
              "      <td>0.000817</td>\n",
              "      <td>41584.0</td>\n",
              "      <td>493360.0</td>\n",
              "      <td>0.0843</td>\n",
              "      <td>118385.0</td>\n",
              "      <td>3124089.0</td>\n",
              "      <td>0.0379</td>\n",
              "      <td>0.6217</td>\n",
              "      <td>0.6588</td>\n",
              "      <td>0.7507</td>\n",
              "    </tr>\n",
              "  </tbody>\n",
              "</table>\n",
              "</div>\n",
              "      <button class=\"colab-df-convert\" onclick=\"convertToInteractive('df-17714d94-0e58-42ac-bacc-593960d2bf1a')\"\n",
              "              title=\"Convert this dataframe to an interactive table.\"\n",
              "              style=\"display:none;\">\n",
              "        \n",
              "  <svg xmlns=\"http://www.w3.org/2000/svg\" height=\"24px\"viewBox=\"0 0 24 24\"\n",
              "       width=\"24px\">\n",
              "    <path d=\"M0 0h24v24H0V0z\" fill=\"none\"/>\n",
              "    <path d=\"M18.56 5.44l.94 2.06.94-2.06 2.06-.94-2.06-.94-.94-2.06-.94 2.06-2.06.94zm-11 1L8.5 8.5l.94-2.06 2.06-.94-2.06-.94L8.5 2.5l-.94 2.06-2.06.94zm10 10l.94 2.06.94-2.06 2.06-.94-2.06-.94-.94-2.06-.94 2.06-2.06.94z\"/><path d=\"M17.41 7.96l-1.37-1.37c-.4-.4-.92-.59-1.43-.59-.52 0-1.04.2-1.43.59L10.3 9.45l-7.72 7.72c-.78.78-.78 2.05 0 2.83L4 21.41c.39.39.9.59 1.41.59.51 0 1.02-.2 1.41-.59l7.78-7.78 2.81-2.81c.8-.78.8-2.07 0-2.86zM5.41 20L4 18.59l7.72-7.72 1.47 1.35L5.41 20z\"/>\n",
              "  </svg>\n",
              "      </button>\n",
              "      \n",
              "  <style>\n",
              "    .colab-df-container {\n",
              "      display:flex;\n",
              "      flex-wrap:wrap;\n",
              "      gap: 12px;\n",
              "    }\n",
              "\n",
              "    .colab-df-convert {\n",
              "      background-color: #E8F0FE;\n",
              "      border: none;\n",
              "      border-radius: 50%;\n",
              "      cursor: pointer;\n",
              "      display: none;\n",
              "      fill: #1967D2;\n",
              "      height: 32px;\n",
              "      padding: 0 0 0 0;\n",
              "      width: 32px;\n",
              "    }\n",
              "\n",
              "    .colab-df-convert:hover {\n",
              "      background-color: #E2EBFA;\n",
              "      box-shadow: 0px 1px 2px rgba(60, 64, 67, 0.3), 0px 1px 3px 1px rgba(60, 64, 67, 0.15);\n",
              "      fill: #174EA6;\n",
              "    }\n",
              "\n",
              "    [theme=dark] .colab-df-convert {\n",
              "      background-color: #3B4455;\n",
              "      fill: #D2E3FC;\n",
              "    }\n",
              "\n",
              "    [theme=dark] .colab-df-convert:hover {\n",
              "      background-color: #434B5C;\n",
              "      box-shadow: 0px 1px 3px 1px rgba(0, 0, 0, 0.15);\n",
              "      filter: drop-shadow(0px 1px 2px rgba(0, 0, 0, 0.3));\n",
              "      fill: #FFFFFF;\n",
              "    }\n",
              "  </style>\n",
              "\n",
              "      <script>\n",
              "        const buttonEl =\n",
              "          document.querySelector('#df-17714d94-0e58-42ac-bacc-593960d2bf1a button.colab-df-convert');\n",
              "        buttonEl.style.display =\n",
              "          google.colab.kernel.accessAllowed ? 'block' : 'none';\n",
              "\n",
              "        async function convertToInteractive(key) {\n",
              "          const element = document.querySelector('#df-17714d94-0e58-42ac-bacc-593960d2bf1a');\n",
              "          const dataTable =\n",
              "            await google.colab.kernel.invokeFunction('convertToInteractive',\n",
              "                                                     [key], {});\n",
              "          if (!dataTable) return;\n",
              "\n",
              "          const docLinkHtml = 'Like what you see? Visit the ' +\n",
              "            '<a target=\"_blank\" href=https://colab.research.google.com/notebooks/data_table.ipynb>data table notebook</a>'\n",
              "            + ' to learn more about interactive tables.';\n",
              "          element.innerHTML = '';\n",
              "          dataTable['output_type'] = 'display_data';\n",
              "          await google.colab.output.renderOutput(dataTable, element);\n",
              "          const docLink = document.createElement('div');\n",
              "          docLink.innerHTML = docLinkHtml;\n",
              "          element.appendChild(docLink);\n",
              "        }\n",
              "      </script>\n",
              "    </div>\n",
              "  </div>\n",
              "  "
            ]
          },
          "metadata": {},
          "execution_count": 73
        }
      ]
    },
    {
      "cell_type": "code",
      "metadata": {
        "colab": {
          "base_uri": "https://localhost:8080/"
        },
        "id": "OB_9ngVdJZOy",
        "outputId": "255dd62c-5c38-42cd-81bb-573b787395c9"
      },
      "source": [
        "Y.head(2)"
      ],
      "execution_count": null,
      "outputs": [
        {
          "output_type": "execute_result",
          "data": {
            "text/plain": [
              "0    4\n",
              "1    4\n",
              "Name: Reclamos-Cat, dtype: category\n",
              "Categories (5, object): ['1' < '2' < '3' < '4' < '5']"
            ]
          },
          "metadata": {},
          "execution_count": 74
        }
      ]
    },
    {
      "cell_type": "code",
      "metadata": {
        "id": "S7FG8c95JZOy"
      },
      "source": [
        "seed = 7\n",
        "test_size = 0.2\n",
        "X_train, X_test, y_train, y_test = train_test_split(X, Y, test_size=test_size, random_state=seed)"
      ],
      "execution_count": null,
      "outputs": []
    },
    {
      "cell_type": "code",
      "metadata": {
        "colab": {
          "base_uri": "https://localhost:8080/"
        },
        "id": "NSKW2-ZeJZOy",
        "outputId": "588d63e6-e187-4358-c62d-4cd826b6e5c0"
      },
      "source": [
        "model = XGBClassifier(reg_alpha=1, reg_lambda=1)\n",
        "model.fit(X_train, y_train)"
      ],
      "execution_count": null,
      "outputs": [
        {
          "output_type": "execute_result",
          "data": {
            "text/plain": [
              "XGBClassifier(reg_alpha=1)"
            ]
          },
          "metadata": {},
          "execution_count": 76
        }
      ]
    },
    {
      "cell_type": "code",
      "metadata": {
        "colab": {
          "base_uri": "https://localhost:8080/"
        },
        "id": "prjFPlMyJZOz",
        "outputId": "b5fa5a93-5ad1-479c-e880-409b46a87c35"
      },
      "source": [
        "from sklearn import metrics\n",
        "from sklearn.metrics import *\n",
        "\n",
        "#Realizo la predicción\n",
        "y_pred = model.predict(X_test)\n",
        "#Verifico la matriz de Confusión\n",
        "matriz = confusion_matrix(y_test, y_pred)\n",
        "#Calculo la precisión del modelo\n",
        "precision = precision_score(y_test, y_pred, average=\"macro\")\n",
        "#Calculo la exactitud del modelo\n",
        "exactitud = accuracy_score(y_test, y_pred)\n",
        "#Calculo la sensibilidad del modelo\n",
        "sensibilidad = recall_score(y_test, y_pred, average=\"macro\")\n",
        "#Calculo el Puntaje F1 del modelo\n",
        "puntajef1 = f1_score(y_test, y_pred, average=\"macro\")\n",
        "#Calculo la curva ROC - AUC del modelo\n",
        "roc_auc = roc_auc_score(y_test, y_pred)\n",
        "\n",
        "print('Matriz de Confusión:')\n",
        "print(matriz)\n",
        "print('Precisión del modelo:', precision)\n",
        "print('Exactitud del modelo:', exactitud)\n",
        "print('Sensibilidad del modelo:', sensibilidad)\n",
        "print('Puntaje F1 del modelo:', puntajef1)\n",
        "print('Curva ROC - AUC del modelo:', roc_auc)"
      ],
      "execution_count": null,
      "outputs": [
        {
          "output_type": "stream",
          "name": "stdout",
          "text": [
            "Matriz de Confusión:\n",
            "[[6 0]\n",
            " [0 3]]\n",
            "Precisión del modelo: 1.0\n",
            "Exactitud del modelo: 1.0\n",
            "Sensibilidad del modelo: 1.0\n",
            "Puntaje F1 del modelo: 1.0\n",
            "Curva ROC - AUC del modelo: 1.0\n"
          ]
        }
      ]
    },
    {
      "cell_type": "markdown",
      "metadata": {
        "id": "vo-QjqbhFg8T"
      },
      "source": [
        "#XGboost - Con RFE"
      ]
    },
    {
      "cell_type": "markdown",
      "metadata": {
        "id": "bnq4a3BCFn6l"
      },
      "source": [
        "##RFE"
      ]
    },
    {
      "cell_type": "code",
      "metadata": {
        "colab": {
          "base_uri": "https://localhost:8080/"
        },
        "id": "QS1HukEQFz-a",
        "outputId": "a14bb183-e721-467f-cfe7-e9f61040c985"
      },
      "source": [
        "from sklearn import linear_model\n",
        "from time import time\n",
        "import numpy as np\n",
        "import seaborn as sns\n",
        "import statsmodels.api as sm\n",
        "from sklearn.linear_model import LinearRegression\n",
        "from sklearn.feature_selection import RFE\n",
        "\n",
        "df = data.dropna()\n",
        "X = df.drop(['Reclamos-Cat'], axis=1)\n",
        "Y = df['Reclamos-Cat']\n",
        "\n",
        "#######################################\n",
        "#no of features\n",
        "nof_list=np.arange(1,14)            \n",
        "high_score=0\n",
        "#Variable to store the optimum features\n",
        "nof=0           \n",
        "score_list =[]\n",
        "for n in range(len(nof_list)):\n",
        "    X_train, X_test, y_train, y_test = train_test_split(X,Y, test_size = 0.2, random_state = 0)\n",
        "    model = LinearRegression()\n",
        "    rfe = RFE(model,nof_list[n])\n",
        "    X_train_rfe = rfe.fit_transform(X_train,y_train)\n",
        "    X_test_rfe = rfe.transform(X_test)\n",
        "    model.fit(X_train_rfe,y_train)\n",
        "    score = model.score(X_test_rfe,y_test)\n",
        "    score_list.append(score)\n",
        "    if(score>high_score):\n",
        "        high_score = score\n",
        "        nof = nof_list[n]\n",
        "print(\"Optimum number of features: %d\" %nof)\n",
        "print(\"Score with %d features: %f\" % (nof, high_score))\n",
        "#########################################\n",
        "cols = list(X.columns)\n",
        "model = LinearRegression()\n",
        "#Initializing RFE model\n",
        "rfe = RFE(model, 13)             \n",
        "#Transforming data using RFE\n",
        "X_rfe = rfe.fit_transform(X,Y)  \n",
        "#Fitting the data to model\n",
        "model.fit(X_rfe,Y)              \n",
        "temp = pd.Series(rfe.support_,index = cols)\n",
        "selected_features_rfe = temp[temp==True].index\n",
        "print(selected_features_rfe)"
      ],
      "execution_count": null,
      "outputs": [
        {
          "output_type": "stream",
          "name": "stderr",
          "text": [
            "/usr/local/lib/python3.7/dist-packages/statsmodels/tools/_testing.py:19: FutureWarning: pandas.util.testing is deprecated. Use the functions in the public API at pandas.testing instead.\n",
            "  import pandas.util.testing as tm\n",
            "/usr/local/lib/python3.7/dist-packages/sklearn/utils/validation.py:72: FutureWarning: Pass n_features_to_select=1 as keyword args. From version 1.0 (renaming of 0.25) passing these as positional arguments will result in an error\n",
            "  \"will result in an error\", FutureWarning)\n",
            "/usr/local/lib/python3.7/dist-packages/sklearn/utils/validation.py:72: FutureWarning: Pass n_features_to_select=2 as keyword args. From version 1.0 (renaming of 0.25) passing these as positional arguments will result in an error\n",
            "  \"will result in an error\", FutureWarning)\n",
            "/usr/local/lib/python3.7/dist-packages/sklearn/utils/validation.py:72: FutureWarning: Pass n_features_to_select=3 as keyword args. From version 1.0 (renaming of 0.25) passing these as positional arguments will result in an error\n",
            "  \"will result in an error\", FutureWarning)\n",
            "/usr/local/lib/python3.7/dist-packages/sklearn/utils/validation.py:72: FutureWarning: Pass n_features_to_select=4 as keyword args. From version 1.0 (renaming of 0.25) passing these as positional arguments will result in an error\n",
            "  \"will result in an error\", FutureWarning)\n",
            "/usr/local/lib/python3.7/dist-packages/sklearn/utils/validation.py:72: FutureWarning: Pass n_features_to_select=5 as keyword args. From version 1.0 (renaming of 0.25) passing these as positional arguments will result in an error\n",
            "  \"will result in an error\", FutureWarning)\n",
            "/usr/local/lib/python3.7/dist-packages/sklearn/utils/validation.py:72: FutureWarning: Pass n_features_to_select=6 as keyword args. From version 1.0 (renaming of 0.25) passing these as positional arguments will result in an error\n",
            "  \"will result in an error\", FutureWarning)\n",
            "/usr/local/lib/python3.7/dist-packages/sklearn/utils/validation.py:72: FutureWarning: Pass n_features_to_select=7 as keyword args. From version 1.0 (renaming of 0.25) passing these as positional arguments will result in an error\n",
            "  \"will result in an error\", FutureWarning)\n",
            "/usr/local/lib/python3.7/dist-packages/sklearn/utils/validation.py:72: FutureWarning: Pass n_features_to_select=8 as keyword args. From version 1.0 (renaming of 0.25) passing these as positional arguments will result in an error\n",
            "  \"will result in an error\", FutureWarning)\n"
          ]
        },
        {
          "output_type": "stream",
          "name": "stdout",
          "text": [
            "Optimum number of features: 13\n",
            "Score with 13 features: 0.569831\n",
            "Index(['AÑO', 'Mes', 'N° de horas sin sistema de atención al mes  ',\n",
            "       'N° total de horas de atención al mes', 'CSA%',\n",
            "       'Nº DE USUARIOS QUE DESISTIERON DE LA ATENCIÓN AL MES',\n",
            "       'Nº TOTAL DE USUARIOS ATENDIDOS AL MES', 'DAP (%)',\n",
            "       'Nº DE LLAMADAS NO FINALIZADAS POR EL USUARIO', 'CAT (%)', 'Bajas',\n",
            "       'Consultas', 'Altas'],\n",
            "      dtype='object')\n"
          ]
        },
        {
          "output_type": "stream",
          "name": "stderr",
          "text": [
            "/usr/local/lib/python3.7/dist-packages/sklearn/utils/validation.py:72: FutureWarning: Pass n_features_to_select=9 as keyword args. From version 1.0 (renaming of 0.25) passing these as positional arguments will result in an error\n",
            "  \"will result in an error\", FutureWarning)\n",
            "/usr/local/lib/python3.7/dist-packages/sklearn/utils/validation.py:72: FutureWarning: Pass n_features_to_select=10 as keyword args. From version 1.0 (renaming of 0.25) passing these as positional arguments will result in an error\n",
            "  \"will result in an error\", FutureWarning)\n",
            "/usr/local/lib/python3.7/dist-packages/sklearn/utils/validation.py:72: FutureWarning: Pass n_features_to_select=11 as keyword args. From version 1.0 (renaming of 0.25) passing these as positional arguments will result in an error\n",
            "  \"will result in an error\", FutureWarning)\n",
            "/usr/local/lib/python3.7/dist-packages/sklearn/utils/validation.py:72: FutureWarning: Pass n_features_to_select=12 as keyword args. From version 1.0 (renaming of 0.25) passing these as positional arguments will result in an error\n",
            "  \"will result in an error\", FutureWarning)\n",
            "/usr/local/lib/python3.7/dist-packages/sklearn/utils/validation.py:72: FutureWarning: Pass n_features_to_select=13 as keyword args. From version 1.0 (renaming of 0.25) passing these as positional arguments will result in an error\n",
            "  \"will result in an error\", FutureWarning)\n",
            "/usr/local/lib/python3.7/dist-packages/sklearn/utils/validation.py:72: FutureWarning: Pass n_features_to_select=13 as keyword args. From version 1.0 (renaming of 0.25) passing these as positional arguments will result in an error\n",
            "  \"will result in an error\", FutureWarning)\n"
          ]
        }
      ]
    },
    {
      "cell_type": "markdown",
      "metadata": {
        "id": "vputlx9eFg8U"
      },
      "source": [
        "##XGBoost - Solo"
      ]
    },
    {
      "cell_type": "code",
      "metadata": {
        "id": "BCQ1yNltFg8U"
      },
      "source": [
        "import pandas as pd\n",
        "from xgboost import XGBClassifier\n",
        "from sklearn.model_selection import train_test_split\n",
        "from sklearn.metrics import accuracy_score"
      ],
      "execution_count": null,
      "outputs": []
    },
    {
      "cell_type": "code",
      "metadata": {
        "id": "K8mHYLoUFg8U"
      },
      "source": [
        "df = data.dropna()"
      ],
      "execution_count": null,
      "outputs": []
    },
    {
      "cell_type": "code",
      "metadata": {
        "id": "7mcukIxqFg8U"
      },
      "source": [
        "X = df[['AÑO', 'Mes', 'N° de horas sin sistema de atención al mes  ',\n",
        "        'N° total de horas de atención al mes', 'CSA%',\n",
        "        'Nº DE USUARIOS QUE DESISTIERON DE LA ATENCIÓN AL MES',\n",
        "        'Nº TOTAL DE USUARIOS ATENDIDOS AL MES',\n",
        "        'DAP (%)',\n",
        "        'Nº DE LLAMADAS NO FINALIZADAS POR EL USUARIO',\n",
        "        'CAT (%)',\n",
        "        'Bajas',\n",
        "        'Consultas',\n",
        "        'Altas']]\n",
        "Y = df['Reclamos-Cat']"
      ],
      "execution_count": null,
      "outputs": []
    },
    {
      "cell_type": "code",
      "metadata": {
        "colab": {
          "base_uri": "https://localhost:8080/"
        },
        "id": "GCXooAxjFg8U",
        "outputId": "fb14b0a3-37d5-49c1-fcea-f26a7bd4514b"
      },
      "source": [
        "X.head(1)"
      ],
      "execution_count": null,
      "outputs": [
        {
          "output_type": "execute_result",
          "data": {
            "text/plain": [
              "   AÑO  Mes  N° de horas sin sistema de atención al mes    \\\n",
              "0  1.0  9.0                                         15.12   \n",
              "\n",
              "   N° total de horas de atención al mes      CSA%  \\\n",
              "0                               18518.0  0.000817   \n",
              "\n",
              "   Nº DE USUARIOS QUE DESISTIERON DE LA ATENCIÓN AL MES  \\\n",
              "0                                            41584.0      \n",
              "\n",
              "   Nº TOTAL DE USUARIOS ATENDIDOS AL MES  DAP (%)  \\\n",
              "0                               493360.0   0.0843   \n",
              "\n",
              "   Nº DE LLAMADAS NO FINALIZADAS POR EL USUARIO  CAT (%)   Bajas  Consultas  \\\n",
              "0                                      118385.0   0.0379  0.6217     0.6588   \n",
              "\n",
              "    Altas  \n",
              "0  0.7507  "
            ],
            "text/html": [
              "\n",
              "  <div id=\"df-139a8f33-b6e5-4e9c-8db0-bdd7cc32a7ac\">\n",
              "    <div class=\"colab-df-container\">\n",
              "      <div>\n",
              "<style scoped>\n",
              "    .dataframe tbody tr th:only-of-type {\n",
              "        vertical-align: middle;\n",
              "    }\n",
              "\n",
              "    .dataframe tbody tr th {\n",
              "        vertical-align: top;\n",
              "    }\n",
              "\n",
              "    .dataframe thead th {\n",
              "        text-align: right;\n",
              "    }\n",
              "</style>\n",
              "<table border=\"1\" class=\"dataframe\">\n",
              "  <thead>\n",
              "    <tr style=\"text-align: right;\">\n",
              "      <th></th>\n",
              "      <th>AÑO</th>\n",
              "      <th>Mes</th>\n",
              "      <th>N° de horas sin sistema de atención al mes</th>\n",
              "      <th>N° total de horas de atención al mes</th>\n",
              "      <th>CSA%</th>\n",
              "      <th>Nº DE USUARIOS QUE DESISTIERON DE LA ATENCIÓN AL MES</th>\n",
              "      <th>Nº TOTAL DE USUARIOS ATENDIDOS AL MES</th>\n",
              "      <th>DAP (%)</th>\n",
              "      <th>Nº DE LLAMADAS NO FINALIZADAS POR EL USUARIO</th>\n",
              "      <th>CAT (%)</th>\n",
              "      <th>Bajas</th>\n",
              "      <th>Consultas</th>\n",
              "      <th>Altas</th>\n",
              "    </tr>\n",
              "  </thead>\n",
              "  <tbody>\n",
              "    <tr>\n",
              "      <th>0</th>\n",
              "      <td>1.0</td>\n",
              "      <td>9.0</td>\n",
              "      <td>15.12</td>\n",
              "      <td>18518.0</td>\n",
              "      <td>0.000817</td>\n",
              "      <td>41584.0</td>\n",
              "      <td>493360.0</td>\n",
              "      <td>0.0843</td>\n",
              "      <td>118385.0</td>\n",
              "      <td>0.0379</td>\n",
              "      <td>0.6217</td>\n",
              "      <td>0.6588</td>\n",
              "      <td>0.7507</td>\n",
              "    </tr>\n",
              "  </tbody>\n",
              "</table>\n",
              "</div>\n",
              "      <button class=\"colab-df-convert\" onclick=\"convertToInteractive('df-139a8f33-b6e5-4e9c-8db0-bdd7cc32a7ac')\"\n",
              "              title=\"Convert this dataframe to an interactive table.\"\n",
              "              style=\"display:none;\">\n",
              "        \n",
              "  <svg xmlns=\"http://www.w3.org/2000/svg\" height=\"24px\"viewBox=\"0 0 24 24\"\n",
              "       width=\"24px\">\n",
              "    <path d=\"M0 0h24v24H0V0z\" fill=\"none\"/>\n",
              "    <path d=\"M18.56 5.44l.94 2.06.94-2.06 2.06-.94-2.06-.94-.94-2.06-.94 2.06-2.06.94zm-11 1L8.5 8.5l.94-2.06 2.06-.94-2.06-.94L8.5 2.5l-.94 2.06-2.06.94zm10 10l.94 2.06.94-2.06 2.06-.94-2.06-.94-.94-2.06-.94 2.06-2.06.94z\"/><path d=\"M17.41 7.96l-1.37-1.37c-.4-.4-.92-.59-1.43-.59-.52 0-1.04.2-1.43.59L10.3 9.45l-7.72 7.72c-.78.78-.78 2.05 0 2.83L4 21.41c.39.39.9.59 1.41.59.51 0 1.02-.2 1.41-.59l7.78-7.78 2.81-2.81c.8-.78.8-2.07 0-2.86zM5.41 20L4 18.59l7.72-7.72 1.47 1.35L5.41 20z\"/>\n",
              "  </svg>\n",
              "      </button>\n",
              "      \n",
              "  <style>\n",
              "    .colab-df-container {\n",
              "      display:flex;\n",
              "      flex-wrap:wrap;\n",
              "      gap: 12px;\n",
              "    }\n",
              "\n",
              "    .colab-df-convert {\n",
              "      background-color: #E8F0FE;\n",
              "      border: none;\n",
              "      border-radius: 50%;\n",
              "      cursor: pointer;\n",
              "      display: none;\n",
              "      fill: #1967D2;\n",
              "      height: 32px;\n",
              "      padding: 0 0 0 0;\n",
              "      width: 32px;\n",
              "    }\n",
              "\n",
              "    .colab-df-convert:hover {\n",
              "      background-color: #E2EBFA;\n",
              "      box-shadow: 0px 1px 2px rgba(60, 64, 67, 0.3), 0px 1px 3px 1px rgba(60, 64, 67, 0.15);\n",
              "      fill: #174EA6;\n",
              "    }\n",
              "\n",
              "    [theme=dark] .colab-df-convert {\n",
              "      background-color: #3B4455;\n",
              "      fill: #D2E3FC;\n",
              "    }\n",
              "\n",
              "    [theme=dark] .colab-df-convert:hover {\n",
              "      background-color: #434B5C;\n",
              "      box-shadow: 0px 1px 3px 1px rgba(0, 0, 0, 0.15);\n",
              "      filter: drop-shadow(0px 1px 2px rgba(0, 0, 0, 0.3));\n",
              "      fill: #FFFFFF;\n",
              "    }\n",
              "  </style>\n",
              "\n",
              "      <script>\n",
              "        const buttonEl =\n",
              "          document.querySelector('#df-139a8f33-b6e5-4e9c-8db0-bdd7cc32a7ac button.colab-df-convert');\n",
              "        buttonEl.style.display =\n",
              "          google.colab.kernel.accessAllowed ? 'block' : 'none';\n",
              "\n",
              "        async function convertToInteractive(key) {\n",
              "          const element = document.querySelector('#df-139a8f33-b6e5-4e9c-8db0-bdd7cc32a7ac');\n",
              "          const dataTable =\n",
              "            await google.colab.kernel.invokeFunction('convertToInteractive',\n",
              "                                                     [key], {});\n",
              "          if (!dataTable) return;\n",
              "\n",
              "          const docLinkHtml = 'Like what you see? Visit the ' +\n",
              "            '<a target=\"_blank\" href=https://colab.research.google.com/notebooks/data_table.ipynb>data table notebook</a>'\n",
              "            + ' to learn more about interactive tables.';\n",
              "          element.innerHTML = '';\n",
              "          dataTable['output_type'] = 'display_data';\n",
              "          await google.colab.output.renderOutput(dataTable, element);\n",
              "          const docLink = document.createElement('div');\n",
              "          docLink.innerHTML = docLinkHtml;\n",
              "          element.appendChild(docLink);\n",
              "        }\n",
              "      </script>\n",
              "    </div>\n",
              "  </div>\n",
              "  "
            ]
          },
          "metadata": {},
          "execution_count": 82
        }
      ]
    },
    {
      "cell_type": "code",
      "metadata": {
        "colab": {
          "base_uri": "https://localhost:8080/"
        },
        "id": "RbxTldXpFg8V",
        "outputId": "52364c9c-442e-472b-cb66-cbbbade16b14"
      },
      "source": [
        "Y.head(2)"
      ],
      "execution_count": null,
      "outputs": [
        {
          "output_type": "execute_result",
          "data": {
            "text/plain": [
              "0    4\n",
              "1    4\n",
              "Name: Reclamos-Cat, dtype: category\n",
              "Categories (5, object): ['1' < '2' < '3' < '4' < '5']"
            ]
          },
          "metadata": {},
          "execution_count": 83
        }
      ]
    },
    {
      "cell_type": "code",
      "metadata": {
        "id": "x1LusAhgFg8V"
      },
      "source": [
        "seed = 7\n",
        "test_size = 0.2\n",
        "X_train, X_test, y_train, y_test = train_test_split(X, Y, test_size=test_size, random_state=seed)"
      ],
      "execution_count": null,
      "outputs": []
    },
    {
      "cell_type": "code",
      "metadata": {
        "colab": {
          "base_uri": "https://localhost:8080/"
        },
        "id": "wzpelmRCFg8V",
        "outputId": "9663cedb-c540-4ec0-cc9f-29638a1ecc5b"
      },
      "source": [
        "model = XGBClassifier(reg_alpha=0, reg_lambda=0)\n",
        "model.fit(X_train, y_train)"
      ],
      "execution_count": null,
      "outputs": [
        {
          "output_type": "execute_result",
          "data": {
            "text/plain": [
              "XGBClassifier(reg_lambda=0)"
            ]
          },
          "metadata": {},
          "execution_count": 85
        }
      ]
    },
    {
      "cell_type": "code",
      "metadata": {
        "colab": {
          "base_uri": "https://localhost:8080/"
        },
        "id": "NBAWOMFoFg8W",
        "outputId": "692c0a18-33e9-4ae0-fde8-2575db0908c4"
      },
      "source": [
        "from sklearn import metrics\n",
        "from sklearn.metrics import *\n",
        "\n",
        "#Realizo la predicción\n",
        "y_pred = model.predict(X_test)\n",
        "#Verifico la matriz de Confusión\n",
        "matriz = confusion_matrix(y_test, y_pred)\n",
        "#Calculo la precisión del modelo\n",
        "precision = precision_score(y_test, y_pred, average=\"macro\")\n",
        "#Calculo la exactitud del modelo\n",
        "exactitud = accuracy_score(y_test, y_pred)\n",
        "#Calculo la sensibilidad del modelo\n",
        "sensibilidad = recall_score(y_test, y_pred, average=\"macro\")\n",
        "#Calculo el Puntaje F1 del modelo\n",
        "puntajef1 = f1_score(y_test, y_pred, average=\"macro\")\n",
        "#Calculo la curva ROC - AUC del modelo\n",
        "roc_auc = roc_auc_score(y_test, y_pred)\n",
        "\n",
        "print('Matriz de Confusión:')\n",
        "print(matriz)\n",
        "print('Precisión del modelo:', precision)\n",
        "print('Exactitud del modelo:', exactitud)\n",
        "print('Sensibilidad del modelo:', sensibilidad)\n",
        "print('Puntaje F1 del modelo:', puntajef1)\n",
        "print('Curva ROC - AUC del modelo:', roc_auc)"
      ],
      "execution_count": null,
      "outputs": [
        {
          "output_type": "stream",
          "name": "stdout",
          "text": [
            "Matriz de Confusión:\n",
            "[[6 0]\n",
            " [1 2]]\n",
            "Precisión del modelo: 0.9285714285714286\n",
            "Exactitud del modelo: 0.8888888888888888\n",
            "Sensibilidad del modelo: 0.8333333333333333\n",
            "Puntaje F1 del modelo: 0.8615384615384616\n",
            "Curva ROC - AUC del modelo: 0.8333333333333333\n"
          ]
        }
      ]
    },
    {
      "cell_type": "markdown",
      "metadata": {
        "id": "Nph0cwlbFg8W"
      },
      "source": [
        "##XGBoost - Lasso"
      ]
    },
    {
      "cell_type": "code",
      "metadata": {
        "id": "tiSSUrzdFg8W"
      },
      "source": [
        "import pandas as pd\n",
        "from xgboost import XGBClassifier\n",
        "from sklearn.model_selection import train_test_split\n",
        "from sklearn.metrics import accuracy_score"
      ],
      "execution_count": null,
      "outputs": []
    },
    {
      "cell_type": "code",
      "metadata": {
        "id": "sSgWKHd7Fg8W"
      },
      "source": [
        "df = data.dropna()"
      ],
      "execution_count": null,
      "outputs": []
    },
    {
      "cell_type": "code",
      "metadata": {
        "id": "GkK_1FuMFg8X"
      },
      "source": [
        "X = df[['AÑO', 'Mes', 'N° de horas sin sistema de atención al mes  ',\n",
        "        'N° total de horas de atención al mes', 'CSA%',\n",
        "        'Nº DE USUARIOS QUE DESISTIERON DE LA ATENCIÓN AL MES',\n",
        "        'Nº TOTAL DE USUARIOS ATENDIDOS AL MES',\n",
        "        'DAP (%)',\n",
        "        'Nº DE LLAMADAS NO FINALIZADAS POR EL USUARIO',\n",
        "        'CAT (%)',\n",
        "        'Bajas',\n",
        "        'Consultas',\n",
        "        'Altas']]\n",
        "Y = df['Reclamos-Cat']"
      ],
      "execution_count": null,
      "outputs": []
    },
    {
      "cell_type": "code",
      "metadata": {
        "colab": {
          "base_uri": "https://localhost:8080/"
        },
        "id": "qOCtHWK8Fg8X",
        "outputId": "0b2d861d-ad3a-4d10-e2d8-6a18e50ded7e"
      },
      "source": [
        "X.head(1)"
      ],
      "execution_count": null,
      "outputs": [
        {
          "output_type": "execute_result",
          "data": {
            "text/plain": [
              "   AÑO  Mes  N° de horas sin sistema de atención al mes    \\\n",
              "0  1.0  9.0                                         15.12   \n",
              "\n",
              "   N° total de horas de atención al mes      CSA%  \\\n",
              "0                               18518.0  0.000817   \n",
              "\n",
              "   Nº DE USUARIOS QUE DESISTIERON DE LA ATENCIÓN AL MES  \\\n",
              "0                                            41584.0      \n",
              "\n",
              "   Nº TOTAL DE USUARIOS ATENDIDOS AL MES  DAP (%)  \\\n",
              "0                               493360.0   0.0843   \n",
              "\n",
              "   Nº DE LLAMADAS NO FINALIZADAS POR EL USUARIO  CAT (%)   Bajas  Consultas  \\\n",
              "0                                      118385.0   0.0379  0.6217     0.6588   \n",
              "\n",
              "    Altas  \n",
              "0  0.7507  "
            ],
            "text/html": [
              "\n",
              "  <div id=\"df-24dde79c-7bc6-4220-8f38-4dee45182f22\">\n",
              "    <div class=\"colab-df-container\">\n",
              "      <div>\n",
              "<style scoped>\n",
              "    .dataframe tbody tr th:only-of-type {\n",
              "        vertical-align: middle;\n",
              "    }\n",
              "\n",
              "    .dataframe tbody tr th {\n",
              "        vertical-align: top;\n",
              "    }\n",
              "\n",
              "    .dataframe thead th {\n",
              "        text-align: right;\n",
              "    }\n",
              "</style>\n",
              "<table border=\"1\" class=\"dataframe\">\n",
              "  <thead>\n",
              "    <tr style=\"text-align: right;\">\n",
              "      <th></th>\n",
              "      <th>AÑO</th>\n",
              "      <th>Mes</th>\n",
              "      <th>N° de horas sin sistema de atención al mes</th>\n",
              "      <th>N° total de horas de atención al mes</th>\n",
              "      <th>CSA%</th>\n",
              "      <th>Nº DE USUARIOS QUE DESISTIERON DE LA ATENCIÓN AL MES</th>\n",
              "      <th>Nº TOTAL DE USUARIOS ATENDIDOS AL MES</th>\n",
              "      <th>DAP (%)</th>\n",
              "      <th>Nº DE LLAMADAS NO FINALIZADAS POR EL USUARIO</th>\n",
              "      <th>CAT (%)</th>\n",
              "      <th>Bajas</th>\n",
              "      <th>Consultas</th>\n",
              "      <th>Altas</th>\n",
              "    </tr>\n",
              "  </thead>\n",
              "  <tbody>\n",
              "    <tr>\n",
              "      <th>0</th>\n",
              "      <td>1.0</td>\n",
              "      <td>9.0</td>\n",
              "      <td>15.12</td>\n",
              "      <td>18518.0</td>\n",
              "      <td>0.000817</td>\n",
              "      <td>41584.0</td>\n",
              "      <td>493360.0</td>\n",
              "      <td>0.0843</td>\n",
              "      <td>118385.0</td>\n",
              "      <td>0.0379</td>\n",
              "      <td>0.6217</td>\n",
              "      <td>0.6588</td>\n",
              "      <td>0.7507</td>\n",
              "    </tr>\n",
              "  </tbody>\n",
              "</table>\n",
              "</div>\n",
              "      <button class=\"colab-df-convert\" onclick=\"convertToInteractive('df-24dde79c-7bc6-4220-8f38-4dee45182f22')\"\n",
              "              title=\"Convert this dataframe to an interactive table.\"\n",
              "              style=\"display:none;\">\n",
              "        \n",
              "  <svg xmlns=\"http://www.w3.org/2000/svg\" height=\"24px\"viewBox=\"0 0 24 24\"\n",
              "       width=\"24px\">\n",
              "    <path d=\"M0 0h24v24H0V0z\" fill=\"none\"/>\n",
              "    <path d=\"M18.56 5.44l.94 2.06.94-2.06 2.06-.94-2.06-.94-.94-2.06-.94 2.06-2.06.94zm-11 1L8.5 8.5l.94-2.06 2.06-.94-2.06-.94L8.5 2.5l-.94 2.06-2.06.94zm10 10l.94 2.06.94-2.06 2.06-.94-2.06-.94-.94-2.06-.94 2.06-2.06.94z\"/><path d=\"M17.41 7.96l-1.37-1.37c-.4-.4-.92-.59-1.43-.59-.52 0-1.04.2-1.43.59L10.3 9.45l-7.72 7.72c-.78.78-.78 2.05 0 2.83L4 21.41c.39.39.9.59 1.41.59.51 0 1.02-.2 1.41-.59l7.78-7.78 2.81-2.81c.8-.78.8-2.07 0-2.86zM5.41 20L4 18.59l7.72-7.72 1.47 1.35L5.41 20z\"/>\n",
              "  </svg>\n",
              "      </button>\n",
              "      \n",
              "  <style>\n",
              "    .colab-df-container {\n",
              "      display:flex;\n",
              "      flex-wrap:wrap;\n",
              "      gap: 12px;\n",
              "    }\n",
              "\n",
              "    .colab-df-convert {\n",
              "      background-color: #E8F0FE;\n",
              "      border: none;\n",
              "      border-radius: 50%;\n",
              "      cursor: pointer;\n",
              "      display: none;\n",
              "      fill: #1967D2;\n",
              "      height: 32px;\n",
              "      padding: 0 0 0 0;\n",
              "      width: 32px;\n",
              "    }\n",
              "\n",
              "    .colab-df-convert:hover {\n",
              "      background-color: #E2EBFA;\n",
              "      box-shadow: 0px 1px 2px rgba(60, 64, 67, 0.3), 0px 1px 3px 1px rgba(60, 64, 67, 0.15);\n",
              "      fill: #174EA6;\n",
              "    }\n",
              "\n",
              "    [theme=dark] .colab-df-convert {\n",
              "      background-color: #3B4455;\n",
              "      fill: #D2E3FC;\n",
              "    }\n",
              "\n",
              "    [theme=dark] .colab-df-convert:hover {\n",
              "      background-color: #434B5C;\n",
              "      box-shadow: 0px 1px 3px 1px rgba(0, 0, 0, 0.15);\n",
              "      filter: drop-shadow(0px 1px 2px rgba(0, 0, 0, 0.3));\n",
              "      fill: #FFFFFF;\n",
              "    }\n",
              "  </style>\n",
              "\n",
              "      <script>\n",
              "        const buttonEl =\n",
              "          document.querySelector('#df-24dde79c-7bc6-4220-8f38-4dee45182f22 button.colab-df-convert');\n",
              "        buttonEl.style.display =\n",
              "          google.colab.kernel.accessAllowed ? 'block' : 'none';\n",
              "\n",
              "        async function convertToInteractive(key) {\n",
              "          const element = document.querySelector('#df-24dde79c-7bc6-4220-8f38-4dee45182f22');\n",
              "          const dataTable =\n",
              "            await google.colab.kernel.invokeFunction('convertToInteractive',\n",
              "                                                     [key], {});\n",
              "          if (!dataTable) return;\n",
              "\n",
              "          const docLinkHtml = 'Like what you see? Visit the ' +\n",
              "            '<a target=\"_blank\" href=https://colab.research.google.com/notebooks/data_table.ipynb>data table notebook</a>'\n",
              "            + ' to learn more about interactive tables.';\n",
              "          element.innerHTML = '';\n",
              "          dataTable['output_type'] = 'display_data';\n",
              "          await google.colab.output.renderOutput(dataTable, element);\n",
              "          const docLink = document.createElement('div');\n",
              "          docLink.innerHTML = docLinkHtml;\n",
              "          element.appendChild(docLink);\n",
              "        }\n",
              "      </script>\n",
              "    </div>\n",
              "  </div>\n",
              "  "
            ]
          },
          "metadata": {},
          "execution_count": 90
        }
      ]
    },
    {
      "cell_type": "code",
      "metadata": {
        "colab": {
          "base_uri": "https://localhost:8080/"
        },
        "id": "6r3-hPm3Fg8X",
        "outputId": "2b2fd205-b137-4178-c869-85ba7dd98cce"
      },
      "source": [
        "Y.head(2)"
      ],
      "execution_count": null,
      "outputs": [
        {
          "output_type": "execute_result",
          "data": {
            "text/plain": [
              "0    4\n",
              "1    4\n",
              "Name: Reclamos-Cat, dtype: category\n",
              "Categories (5, object): ['1' < '2' < '3' < '4' < '5']"
            ]
          },
          "metadata": {},
          "execution_count": 91
        }
      ]
    },
    {
      "cell_type": "code",
      "metadata": {
        "id": "EUO3e1PJFg8X"
      },
      "source": [
        "seed = 7\n",
        "test_size = 0.2\n",
        "X_train, X_test, y_train, y_test = train_test_split(X, Y, test_size=test_size, random_state=seed)"
      ],
      "execution_count": null,
      "outputs": []
    },
    {
      "cell_type": "code",
      "metadata": {
        "colab": {
          "base_uri": "https://localhost:8080/"
        },
        "id": "sIjNKYMpFg8Y",
        "outputId": "67665e41-249d-4d73-c308-021ea2984538"
      },
      "source": [
        "model = XGBClassifier(reg_alpha=1, reg_lambda=0)\n",
        "model.fit(X_train, y_train)"
      ],
      "execution_count": null,
      "outputs": [
        {
          "output_type": "execute_result",
          "data": {
            "text/plain": [
              "XGBClassifier(reg_alpha=1, reg_lambda=0)"
            ]
          },
          "metadata": {},
          "execution_count": 93
        }
      ]
    },
    {
      "cell_type": "code",
      "metadata": {
        "colab": {
          "base_uri": "https://localhost:8080/"
        },
        "id": "bGwhvphyFg8Y",
        "outputId": "a77020a1-e60c-4727-8d0d-244083b2ad02"
      },
      "source": [
        "from sklearn import metrics\n",
        "from sklearn.metrics import *\n",
        "\n",
        "#Realizo la predicción\n",
        "y_pred = model.predict(X_test)\n",
        "#Verifico la matriz de Confusión\n",
        "matriz = confusion_matrix(y_test, y_pred)\n",
        "#Calculo la precisión del modelo\n",
        "precision = precision_score(y_test, y_pred, average=\"macro\")\n",
        "#Calculo la exactitud del modelo\n",
        "exactitud = accuracy_score(y_test, y_pred)\n",
        "#Calculo la sensibilidad del modelo\n",
        "sensibilidad = recall_score(y_test, y_pred, average=\"macro\")\n",
        "#Calculo el Puntaje F1 del modelo\n",
        "puntajef1 = f1_score(y_test, y_pred, average=\"macro\")\n",
        "#Calculo la curva ROC - AUC del modelo\n",
        "roc_auc = roc_auc_score(y_test, y_pred)\n",
        "\n",
        "print('Matriz de Confusión:')\n",
        "print(matriz)\n",
        "print('Precisión del modelo:', precision)\n",
        "print('Exactitud del modelo:', exactitud)\n",
        "print('Sensibilidad del modelo:', sensibilidad)\n",
        "print('Puntaje F1 del modelo:', puntajef1)\n",
        "print('Curva ROC - AUC del modelo:', roc_auc)"
      ],
      "execution_count": null,
      "outputs": [
        {
          "output_type": "stream",
          "name": "stdout",
          "text": [
            "Matriz de Confusión:\n",
            "[[6 0]\n",
            " [0 3]]\n",
            "Precisión del modelo: 1.0\n",
            "Exactitud del modelo: 1.0\n",
            "Sensibilidad del modelo: 1.0\n",
            "Puntaje F1 del modelo: 1.0\n",
            "Curva ROC - AUC del modelo: 1.0\n"
          ]
        }
      ]
    },
    {
      "cell_type": "markdown",
      "metadata": {
        "id": "sNPVIU9MFg8Y"
      },
      "source": [
        "##XGBoost - Ridge"
      ]
    },
    {
      "cell_type": "code",
      "metadata": {
        "id": "xCwf6tVfFg8Y"
      },
      "source": [
        "import pandas as pd\n",
        "from xgboost import XGBClassifier\n",
        "from sklearn.model_selection import train_test_split\n",
        "from sklearn.metrics import accuracy_score"
      ],
      "execution_count": null,
      "outputs": []
    },
    {
      "cell_type": "code",
      "metadata": {
        "id": "n7dC2u8BFg8Z"
      },
      "source": [
        "df = data.dropna()"
      ],
      "execution_count": null,
      "outputs": []
    },
    {
      "cell_type": "code",
      "metadata": {
        "id": "sRPn6ACiFg8Z"
      },
      "source": [
        "X = df[['AÑO', 'Mes', 'N° de horas sin sistema de atención al mes  ',\n",
        "        'N° total de horas de atención al mes', 'CSA%',\n",
        "        'Nº DE USUARIOS QUE DESISTIERON DE LA ATENCIÓN AL MES',\n",
        "        'Nº TOTAL DE USUARIOS ATENDIDOS AL MES',\n",
        "        'DAP (%)',\n",
        "        'Nº DE LLAMADAS NO FINALIZADAS POR EL USUARIO',\n",
        "        'CAT (%)',\n",
        "        'Bajas',\n",
        "        'Consultas',\n",
        "        'Altas']]\n",
        "Y = df['Reclamos-Cat']"
      ],
      "execution_count": null,
      "outputs": []
    },
    {
      "cell_type": "code",
      "metadata": {
        "colab": {
          "base_uri": "https://localhost:8080/"
        },
        "id": "y_2ymoMRFg8Z",
        "outputId": "30adc660-3292-4c22-d8b7-661f80d3d562"
      },
      "source": [
        "X.head(1)"
      ],
      "execution_count": null,
      "outputs": [
        {
          "output_type": "execute_result",
          "data": {
            "text/plain": [
              "   AÑO  Mes  N° de horas sin sistema de atención al mes    \\\n",
              "0  1.0  9.0                                         15.12   \n",
              "\n",
              "   N° total de horas de atención al mes      CSA%  \\\n",
              "0                               18518.0  0.000817   \n",
              "\n",
              "   Nº DE USUARIOS QUE DESISTIERON DE LA ATENCIÓN AL MES  \\\n",
              "0                                            41584.0      \n",
              "\n",
              "   Nº TOTAL DE USUARIOS ATENDIDOS AL MES  DAP (%)  \\\n",
              "0                               493360.0   0.0843   \n",
              "\n",
              "   Nº DE LLAMADAS NO FINALIZADAS POR EL USUARIO  CAT (%)   Bajas  Consultas  \\\n",
              "0                                      118385.0   0.0379  0.6217     0.6588   \n",
              "\n",
              "    Altas  \n",
              "0  0.7507  "
            ],
            "text/html": [
              "\n",
              "  <div id=\"df-67fa1443-6804-4267-93f9-fc351fea4105\">\n",
              "    <div class=\"colab-df-container\">\n",
              "      <div>\n",
              "<style scoped>\n",
              "    .dataframe tbody tr th:only-of-type {\n",
              "        vertical-align: middle;\n",
              "    }\n",
              "\n",
              "    .dataframe tbody tr th {\n",
              "        vertical-align: top;\n",
              "    }\n",
              "\n",
              "    .dataframe thead th {\n",
              "        text-align: right;\n",
              "    }\n",
              "</style>\n",
              "<table border=\"1\" class=\"dataframe\">\n",
              "  <thead>\n",
              "    <tr style=\"text-align: right;\">\n",
              "      <th></th>\n",
              "      <th>AÑO</th>\n",
              "      <th>Mes</th>\n",
              "      <th>N° de horas sin sistema de atención al mes</th>\n",
              "      <th>N° total de horas de atención al mes</th>\n",
              "      <th>CSA%</th>\n",
              "      <th>Nº DE USUARIOS QUE DESISTIERON DE LA ATENCIÓN AL MES</th>\n",
              "      <th>Nº TOTAL DE USUARIOS ATENDIDOS AL MES</th>\n",
              "      <th>DAP (%)</th>\n",
              "      <th>Nº DE LLAMADAS NO FINALIZADAS POR EL USUARIO</th>\n",
              "      <th>CAT (%)</th>\n",
              "      <th>Bajas</th>\n",
              "      <th>Consultas</th>\n",
              "      <th>Altas</th>\n",
              "    </tr>\n",
              "  </thead>\n",
              "  <tbody>\n",
              "    <tr>\n",
              "      <th>0</th>\n",
              "      <td>1.0</td>\n",
              "      <td>9.0</td>\n",
              "      <td>15.12</td>\n",
              "      <td>18518.0</td>\n",
              "      <td>0.000817</td>\n",
              "      <td>41584.0</td>\n",
              "      <td>493360.0</td>\n",
              "      <td>0.0843</td>\n",
              "      <td>118385.0</td>\n",
              "      <td>0.0379</td>\n",
              "      <td>0.6217</td>\n",
              "      <td>0.6588</td>\n",
              "      <td>0.7507</td>\n",
              "    </tr>\n",
              "  </tbody>\n",
              "</table>\n",
              "</div>\n",
              "      <button class=\"colab-df-convert\" onclick=\"convertToInteractive('df-67fa1443-6804-4267-93f9-fc351fea4105')\"\n",
              "              title=\"Convert this dataframe to an interactive table.\"\n",
              "              style=\"display:none;\">\n",
              "        \n",
              "  <svg xmlns=\"http://www.w3.org/2000/svg\" height=\"24px\"viewBox=\"0 0 24 24\"\n",
              "       width=\"24px\">\n",
              "    <path d=\"M0 0h24v24H0V0z\" fill=\"none\"/>\n",
              "    <path d=\"M18.56 5.44l.94 2.06.94-2.06 2.06-.94-2.06-.94-.94-2.06-.94 2.06-2.06.94zm-11 1L8.5 8.5l.94-2.06 2.06-.94-2.06-.94L8.5 2.5l-.94 2.06-2.06.94zm10 10l.94 2.06.94-2.06 2.06-.94-2.06-.94-.94-2.06-.94 2.06-2.06.94z\"/><path d=\"M17.41 7.96l-1.37-1.37c-.4-.4-.92-.59-1.43-.59-.52 0-1.04.2-1.43.59L10.3 9.45l-7.72 7.72c-.78.78-.78 2.05 0 2.83L4 21.41c.39.39.9.59 1.41.59.51 0 1.02-.2 1.41-.59l7.78-7.78 2.81-2.81c.8-.78.8-2.07 0-2.86zM5.41 20L4 18.59l7.72-7.72 1.47 1.35L5.41 20z\"/>\n",
              "  </svg>\n",
              "      </button>\n",
              "      \n",
              "  <style>\n",
              "    .colab-df-container {\n",
              "      display:flex;\n",
              "      flex-wrap:wrap;\n",
              "      gap: 12px;\n",
              "    }\n",
              "\n",
              "    .colab-df-convert {\n",
              "      background-color: #E8F0FE;\n",
              "      border: none;\n",
              "      border-radius: 50%;\n",
              "      cursor: pointer;\n",
              "      display: none;\n",
              "      fill: #1967D2;\n",
              "      height: 32px;\n",
              "      padding: 0 0 0 0;\n",
              "      width: 32px;\n",
              "    }\n",
              "\n",
              "    .colab-df-convert:hover {\n",
              "      background-color: #E2EBFA;\n",
              "      box-shadow: 0px 1px 2px rgba(60, 64, 67, 0.3), 0px 1px 3px 1px rgba(60, 64, 67, 0.15);\n",
              "      fill: #174EA6;\n",
              "    }\n",
              "\n",
              "    [theme=dark] .colab-df-convert {\n",
              "      background-color: #3B4455;\n",
              "      fill: #D2E3FC;\n",
              "    }\n",
              "\n",
              "    [theme=dark] .colab-df-convert:hover {\n",
              "      background-color: #434B5C;\n",
              "      box-shadow: 0px 1px 3px 1px rgba(0, 0, 0, 0.15);\n",
              "      filter: drop-shadow(0px 1px 2px rgba(0, 0, 0, 0.3));\n",
              "      fill: #FFFFFF;\n",
              "    }\n",
              "  </style>\n",
              "\n",
              "      <script>\n",
              "        const buttonEl =\n",
              "          document.querySelector('#df-67fa1443-6804-4267-93f9-fc351fea4105 button.colab-df-convert');\n",
              "        buttonEl.style.display =\n",
              "          google.colab.kernel.accessAllowed ? 'block' : 'none';\n",
              "\n",
              "        async function convertToInteractive(key) {\n",
              "          const element = document.querySelector('#df-67fa1443-6804-4267-93f9-fc351fea4105');\n",
              "          const dataTable =\n",
              "            await google.colab.kernel.invokeFunction('convertToInteractive',\n",
              "                                                     [key], {});\n",
              "          if (!dataTable) return;\n",
              "\n",
              "          const docLinkHtml = 'Like what you see? Visit the ' +\n",
              "            '<a target=\"_blank\" href=https://colab.research.google.com/notebooks/data_table.ipynb>data table notebook</a>'\n",
              "            + ' to learn more about interactive tables.';\n",
              "          element.innerHTML = '';\n",
              "          dataTable['output_type'] = 'display_data';\n",
              "          await google.colab.output.renderOutput(dataTable, element);\n",
              "          const docLink = document.createElement('div');\n",
              "          docLink.innerHTML = docLinkHtml;\n",
              "          element.appendChild(docLink);\n",
              "        }\n",
              "      </script>\n",
              "    </div>\n",
              "  </div>\n",
              "  "
            ]
          },
          "metadata": {},
          "execution_count": 98
        }
      ]
    },
    {
      "cell_type": "code",
      "metadata": {
        "colab": {
          "base_uri": "https://localhost:8080/"
        },
        "id": "gjkHHHcgFg8Z",
        "outputId": "6d8da454-65ce-4de8-b2a5-f0452b8cb520"
      },
      "source": [
        "Y.head(2)"
      ],
      "execution_count": null,
      "outputs": [
        {
          "output_type": "execute_result",
          "data": {
            "text/plain": [
              "0    4\n",
              "1    4\n",
              "Name: Reclamos-Cat, dtype: category\n",
              "Categories (5, object): ['1' < '2' < '3' < '4' < '5']"
            ]
          },
          "metadata": {},
          "execution_count": 99
        }
      ]
    },
    {
      "cell_type": "code",
      "metadata": {
        "id": "A0YgvwXWFg8Z"
      },
      "source": [
        "seed = 7\n",
        "test_size = 0.2\n",
        "X_train, X_test, y_train, y_test = train_test_split(X, Y, test_size=test_size, random_state=seed)"
      ],
      "execution_count": null,
      "outputs": []
    },
    {
      "cell_type": "code",
      "metadata": {
        "colab": {
          "base_uri": "https://localhost:8080/"
        },
        "id": "UN3xM6mLFg8a",
        "outputId": "70d0eb42-5fae-4c8d-8335-c82ac61a1e2b"
      },
      "source": [
        "model = XGBClassifier(reg_alpha=0, reg_lambda=1)\n",
        "model.fit(X_train, y_train)"
      ],
      "execution_count": null,
      "outputs": [
        {
          "output_type": "execute_result",
          "data": {
            "text/plain": [
              "XGBClassifier()"
            ]
          },
          "metadata": {},
          "execution_count": 101
        }
      ]
    },
    {
      "cell_type": "code",
      "metadata": {
        "colab": {
          "base_uri": "https://localhost:8080/"
        },
        "id": "MxNr7F9YFg8a",
        "outputId": "5e0e8ff3-a0a7-4ab9-fa88-f01078310f73"
      },
      "source": [
        "from sklearn import metrics\n",
        "from sklearn.metrics import *\n",
        "\n",
        "#Realizo la predicción\n",
        "y_pred = model.predict(X_test)\n",
        "#Verifico la matriz de Confusión\n",
        "matriz = confusion_matrix(y_test, y_pred)\n",
        "#Calculo la precisión del modelo\n",
        "precision = precision_score(y_test, y_pred, average=\"macro\")\n",
        "#Calculo la exactitud del modelo\n",
        "exactitud = accuracy_score(y_test, y_pred)\n",
        "#Calculo la sensibilidad del modelo\n",
        "sensibilidad = recall_score(y_test, y_pred, average=\"macro\")\n",
        "#Calculo el Puntaje F1 del modelo\n",
        "puntajef1 = f1_score(y_test, y_pred, average=\"macro\")\n",
        "#Calculo la curva ROC - AUC del modelo\n",
        "roc_auc = roc_auc_score(y_test, y_pred)\n",
        "\n",
        "print('Matriz de Confusión:')\n",
        "print(matriz)\n",
        "print('Precisión del modelo:', precision)\n",
        "print('Exactitud del modelo:', exactitud)\n",
        "print('Sensibilidad del modelo:', sensibilidad)\n",
        "print('Puntaje F1 del modelo:', puntajef1)\n",
        "print('Curva ROC - AUC del modelo:', roc_auc)"
      ],
      "execution_count": null,
      "outputs": [
        {
          "output_type": "stream",
          "name": "stdout",
          "text": [
            "Matriz de Confusión:\n",
            "[[6 0]\n",
            " [1 2]]\n",
            "Precisión del modelo: 0.9285714285714286\n",
            "Exactitud del modelo: 0.8888888888888888\n",
            "Sensibilidad del modelo: 0.8333333333333333\n",
            "Puntaje F1 del modelo: 0.8615384615384616\n",
            "Curva ROC - AUC del modelo: 0.8333333333333333\n"
          ]
        }
      ]
    },
    {
      "cell_type": "markdown",
      "metadata": {
        "id": "zTWkQqX9Fg8a"
      },
      "source": [
        "##XGBoost - Elasticnet"
      ]
    },
    {
      "cell_type": "code",
      "metadata": {
        "id": "6f6P0mLfFg8a"
      },
      "source": [
        "import pandas as pd\n",
        "from xgboost import XGBClassifier\n",
        "from sklearn.model_selection import train_test_split\n",
        "from sklearn.metrics import accuracy_score"
      ],
      "execution_count": null,
      "outputs": []
    },
    {
      "cell_type": "code",
      "metadata": {
        "id": "S-y4YeYPFg8b"
      },
      "source": [
        "df = data.dropna()"
      ],
      "execution_count": null,
      "outputs": []
    },
    {
      "cell_type": "code",
      "metadata": {
        "id": "U1M_WAe9Fg8b"
      },
      "source": [
        "X = df[['AÑO', 'Mes', 'N° de horas sin sistema de atención al mes  ',\n",
        "        'N° total de horas de atención al mes', 'CSA%',\n",
        "        'Nº DE USUARIOS QUE DESISTIERON DE LA ATENCIÓN AL MES',\n",
        "        'Nº TOTAL DE USUARIOS ATENDIDOS AL MES',\n",
        "        'DAP (%)',\n",
        "        'Nº DE LLAMADAS NO FINALIZADAS POR EL USUARIO',\n",
        "        'CAT (%)',\n",
        "        'Bajas',\n",
        "        'Consultas',\n",
        "        'Altas']]\n",
        "Y = df['Reclamos-Cat']"
      ],
      "execution_count": null,
      "outputs": []
    },
    {
      "cell_type": "code",
      "metadata": {
        "colab": {
          "base_uri": "https://localhost:8080/",
          "height": 177
        },
        "id": "-E9O6IbOFg8b",
        "outputId": "67164103-76d8-4255-bfa2-50f5f63fa307"
      },
      "source": [
        "X.head(1)"
      ],
      "execution_count": null,
      "outputs": [
        {
          "output_type": "execute_result",
          "data": {
            "text/plain": [
              "   AÑO  Mes  N° de horas sin sistema de atención al mes    \\\n",
              "0  1.0  9.0                                         15.12   \n",
              "\n",
              "   N° total de horas de atención al mes      CSA%  \\\n",
              "0                               18518.0  0.000817   \n",
              "\n",
              "   Nº DE USUARIOS QUE DESISTIERON DE LA ATENCIÓN AL MES  \\\n",
              "0                                            41584.0      \n",
              "\n",
              "   Nº TOTAL DE USUARIOS ATENDIDOS AL MES  DAP (%)  \\\n",
              "0                               493360.0   0.0843   \n",
              "\n",
              "   Nº DE LLAMADAS NO FINALIZADAS POR EL USUARIO  CAT (%)   Bajas  Consultas  \\\n",
              "0                                      118385.0   0.0379  0.6217     0.6588   \n",
              "\n",
              "    Altas  \n",
              "0  0.7507  "
            ],
            "text/html": [
              "\n",
              "  <div id=\"df-4bb846a5-8c9d-4cdf-b8e5-5567ffe1c133\">\n",
              "    <div class=\"colab-df-container\">\n",
              "      <div>\n",
              "<style scoped>\n",
              "    .dataframe tbody tr th:only-of-type {\n",
              "        vertical-align: middle;\n",
              "    }\n",
              "\n",
              "    .dataframe tbody tr th {\n",
              "        vertical-align: top;\n",
              "    }\n",
              "\n",
              "    .dataframe thead th {\n",
              "        text-align: right;\n",
              "    }\n",
              "</style>\n",
              "<table border=\"1\" class=\"dataframe\">\n",
              "  <thead>\n",
              "    <tr style=\"text-align: right;\">\n",
              "      <th></th>\n",
              "      <th>AÑO</th>\n",
              "      <th>Mes</th>\n",
              "      <th>N° de horas sin sistema de atención al mes</th>\n",
              "      <th>N° total de horas de atención al mes</th>\n",
              "      <th>CSA%</th>\n",
              "      <th>Nº DE USUARIOS QUE DESISTIERON DE LA ATENCIÓN AL MES</th>\n",
              "      <th>Nº TOTAL DE USUARIOS ATENDIDOS AL MES</th>\n",
              "      <th>DAP (%)</th>\n",
              "      <th>Nº DE LLAMADAS NO FINALIZADAS POR EL USUARIO</th>\n",
              "      <th>CAT (%)</th>\n",
              "      <th>Bajas</th>\n",
              "      <th>Consultas</th>\n",
              "      <th>Altas</th>\n",
              "    </tr>\n",
              "  </thead>\n",
              "  <tbody>\n",
              "    <tr>\n",
              "      <th>0</th>\n",
              "      <td>1.0</td>\n",
              "      <td>9.0</td>\n",
              "      <td>15.12</td>\n",
              "      <td>18518.0</td>\n",
              "      <td>0.000817</td>\n",
              "      <td>41584.0</td>\n",
              "      <td>493360.0</td>\n",
              "      <td>0.0843</td>\n",
              "      <td>118385.0</td>\n",
              "      <td>0.0379</td>\n",
              "      <td>0.6217</td>\n",
              "      <td>0.6588</td>\n",
              "      <td>0.7507</td>\n",
              "    </tr>\n",
              "  </tbody>\n",
              "</table>\n",
              "</div>\n",
              "      <button class=\"colab-df-convert\" onclick=\"convertToInteractive('df-4bb846a5-8c9d-4cdf-b8e5-5567ffe1c133')\"\n",
              "              title=\"Convert this dataframe to an interactive table.\"\n",
              "              style=\"display:none;\">\n",
              "        \n",
              "  <svg xmlns=\"http://www.w3.org/2000/svg\" height=\"24px\"viewBox=\"0 0 24 24\"\n",
              "       width=\"24px\">\n",
              "    <path d=\"M0 0h24v24H0V0z\" fill=\"none\"/>\n",
              "    <path d=\"M18.56 5.44l.94 2.06.94-2.06 2.06-.94-2.06-.94-.94-2.06-.94 2.06-2.06.94zm-11 1L8.5 8.5l.94-2.06 2.06-.94-2.06-.94L8.5 2.5l-.94 2.06-2.06.94zm10 10l.94 2.06.94-2.06 2.06-.94-2.06-.94-.94-2.06-.94 2.06-2.06.94z\"/><path d=\"M17.41 7.96l-1.37-1.37c-.4-.4-.92-.59-1.43-.59-.52 0-1.04.2-1.43.59L10.3 9.45l-7.72 7.72c-.78.78-.78 2.05 0 2.83L4 21.41c.39.39.9.59 1.41.59.51 0 1.02-.2 1.41-.59l7.78-7.78 2.81-2.81c.8-.78.8-2.07 0-2.86zM5.41 20L4 18.59l7.72-7.72 1.47 1.35L5.41 20z\"/>\n",
              "  </svg>\n",
              "      </button>\n",
              "      \n",
              "  <style>\n",
              "    .colab-df-container {\n",
              "      display:flex;\n",
              "      flex-wrap:wrap;\n",
              "      gap: 12px;\n",
              "    }\n",
              "\n",
              "    .colab-df-convert {\n",
              "      background-color: #E8F0FE;\n",
              "      border: none;\n",
              "      border-radius: 50%;\n",
              "      cursor: pointer;\n",
              "      display: none;\n",
              "      fill: #1967D2;\n",
              "      height: 32px;\n",
              "      padding: 0 0 0 0;\n",
              "      width: 32px;\n",
              "    }\n",
              "\n",
              "    .colab-df-convert:hover {\n",
              "      background-color: #E2EBFA;\n",
              "      box-shadow: 0px 1px 2px rgba(60, 64, 67, 0.3), 0px 1px 3px 1px rgba(60, 64, 67, 0.15);\n",
              "      fill: #174EA6;\n",
              "    }\n",
              "\n",
              "    [theme=dark] .colab-df-convert {\n",
              "      background-color: #3B4455;\n",
              "      fill: #D2E3FC;\n",
              "    }\n",
              "\n",
              "    [theme=dark] .colab-df-convert:hover {\n",
              "      background-color: #434B5C;\n",
              "      box-shadow: 0px 1px 3px 1px rgba(0, 0, 0, 0.15);\n",
              "      filter: drop-shadow(0px 1px 2px rgba(0, 0, 0, 0.3));\n",
              "      fill: #FFFFFF;\n",
              "    }\n",
              "  </style>\n",
              "\n",
              "      <script>\n",
              "        const buttonEl =\n",
              "          document.querySelector('#df-4bb846a5-8c9d-4cdf-b8e5-5567ffe1c133 button.colab-df-convert');\n",
              "        buttonEl.style.display =\n",
              "          google.colab.kernel.accessAllowed ? 'block' : 'none';\n",
              "\n",
              "        async function convertToInteractive(key) {\n",
              "          const element = document.querySelector('#df-4bb846a5-8c9d-4cdf-b8e5-5567ffe1c133');\n",
              "          const dataTable =\n",
              "            await google.colab.kernel.invokeFunction('convertToInteractive',\n",
              "                                                     [key], {});\n",
              "          if (!dataTable) return;\n",
              "\n",
              "          const docLinkHtml = 'Like what you see? Visit the ' +\n",
              "            '<a target=\"_blank\" href=https://colab.research.google.com/notebooks/data_table.ipynb>data table notebook</a>'\n",
              "            + ' to learn more about interactive tables.';\n",
              "          element.innerHTML = '';\n",
              "          dataTable['output_type'] = 'display_data';\n",
              "          await google.colab.output.renderOutput(dataTable, element);\n",
              "          const docLink = document.createElement('div');\n",
              "          docLink.innerHTML = docLinkHtml;\n",
              "          element.appendChild(docLink);\n",
              "        }\n",
              "      </script>\n",
              "    </div>\n",
              "  </div>\n",
              "  "
            ]
          },
          "metadata": {},
          "execution_count": 106
        }
      ]
    },
    {
      "cell_type": "code",
      "metadata": {
        "colab": {
          "base_uri": "https://localhost:8080/"
        },
        "id": "AdkGY3T1Fg8b",
        "outputId": "b8803dbc-27b3-4cfa-e607-ea4cf056b42f"
      },
      "source": [
        "Y.head(2)"
      ],
      "execution_count": null,
      "outputs": [
        {
          "output_type": "execute_result",
          "data": {
            "text/plain": [
              "0    4\n",
              "1    4\n",
              "Name: Reclamos-Cat, dtype: category\n",
              "Categories (5, object): ['1' < '2' < '3' < '4' < '5']"
            ]
          },
          "metadata": {},
          "execution_count": 107
        }
      ]
    },
    {
      "cell_type": "code",
      "metadata": {
        "id": "RPLR9ol-Fg8b"
      },
      "source": [
        "seed = 7\n",
        "test_size = 0.2\n",
        "X_train, X_test, y_train, y_test = train_test_split(X, Y, test_size=test_size, random_state=seed)"
      ],
      "execution_count": null,
      "outputs": []
    },
    {
      "cell_type": "code",
      "metadata": {
        "colab": {
          "base_uri": "https://localhost:8080/"
        },
        "id": "WZzb8Uo5Fg8c",
        "outputId": "163344db-6049-481b-c6d7-97977ecfd25c"
      },
      "source": [
        "model = XGBClassifier(reg_alpha=1, reg_lambda=1)\n",
        "model.fit(X_train, y_train)"
      ],
      "execution_count": null,
      "outputs": [
        {
          "output_type": "execute_result",
          "data": {
            "text/plain": [
              "XGBClassifier(reg_alpha=1)"
            ]
          },
          "metadata": {},
          "execution_count": 109
        }
      ]
    },
    {
      "cell_type": "code",
      "metadata": {
        "colab": {
          "base_uri": "https://localhost:8080/"
        },
        "id": "fklNmrm0Fg8c",
        "outputId": "2f1b6930-57f6-4768-dae2-3435f502255a"
      },
      "source": [
        "from sklearn import metrics\n",
        "from sklearn.metrics import *\n",
        "\n",
        "#Realizo la predicción\n",
        "y_pred = model.predict(X_test)\n",
        "#Verifico la matriz de Confusión\n",
        "matriz = confusion_matrix(y_test, y_pred)\n",
        "#Calculo la precisión del modelo\n",
        "precision = precision_score(y_test, y_pred, average=\"macro\")\n",
        "#Calculo la exactitud del modelo\n",
        "exactitud = accuracy_score(y_test, y_pred)\n",
        "#Calculo la sensibilidad del modelo\n",
        "sensibilidad = recall_score(y_test, y_pred, average=\"macro\")\n",
        "#Calculo el Puntaje F1 del modelo\n",
        "puntajef1 = f1_score(y_test, y_pred, average=\"macro\")\n",
        "#Calculo la curva ROC - AUC del modelo\n",
        "roc_auc = roc_auc_score(y_test, y_pred)\n",
        "\n",
        "print('Matriz de Confusión:')\n",
        "print(matriz)\n",
        "print('Precisión del modelo:', precision)\n",
        "print('Exactitud del modelo:', exactitud)\n",
        "print('Sensibilidad del modelo:', sensibilidad)\n",
        "print('Puntaje F1 del modelo:', puntajef1)\n",
        "print('Curva ROC - AUC del modelo:', roc_auc)"
      ],
      "execution_count": null,
      "outputs": [
        {
          "output_type": "stream",
          "name": "stdout",
          "text": [
            "Matriz de Confusión:\n",
            "[[6 0]\n",
            " [0 3]]\n",
            "Precisión del modelo: 1.0\n",
            "Exactitud del modelo: 1.0\n",
            "Sensibilidad del modelo: 1.0\n",
            "Puntaje F1 del modelo: 1.0\n",
            "Curva ROC - AUC del modelo: 1.0\n"
          ]
        }
      ]
    }
  ]
}
